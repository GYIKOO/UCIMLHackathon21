{
  "nbformat": 4,
  "nbformat_minor": 0,
  "metadata": {
    "colab": {
      "name": "Copy of Classification.ipynb",
      "provenance": [],
      "collapsed_sections": [],
      "include_colab_link": true
    },
    "kernelspec": {
      "name": "python3",
      "display_name": "Python 3"
    },
    "language_info": {
      "name": "python"
    },
    "accelerator": "GPU"
  },
  "cells": [
    {
      "cell_type": "markdown",
      "metadata": {
        "id": "view-in-github",
        "colab_type": "text"
      },
      "source": [
        "<a href=\"https://colab.research.google.com/github/GYIKOO/UCIMLHackathon21/blob/main/Classification.ipynb\" target=\"_parent\"><img src=\"https://colab.research.google.com/assets/colab-badge.svg\" alt=\"Open In Colab\"/></a>"
      ]
    },
    {
      "cell_type": "code",
      "metadata": {
        "id": "lQZJ89zPlDeG"
      },
      "source": [
        "!pip install transformers"
      ],
      "execution_count": null,
      "outputs": []
    },
    {
      "cell_type": "code",
      "metadata": {
        "id": "iyTGqaxwk6Ei"
      },
      "source": [
        "from transformers import BertTokenizer, BertForSequenceClassification, AdamW, BertConfig\n",
        "import torch\n",
        "from torch.utils.data import TensorDataset, DataLoader, RandomSampler, SequentialSampler\n",
        "import pandas as pd\n",
        "import numpy as np\n",
        "\n",
        "from transformers import get_linear_schedule_with_warmup\n",
        "import time\n",
        "import datetime\n",
        "import random\n",
        "from keras.preprocessing.sequence import pad_sequences\n",
        "from pathlib import Path\n",
        "import matplotlib.pyplot as plt"
      ],
      "execution_count": 2,
      "outputs": []
    },
    {
      "cell_type": "code",
      "metadata": {
        "id": "zBE8VlH69QXd"
      },
      "source": [
        "# Config\n",
        "save_model = Path('bertmodel.h5')\n",
        "\n",
        "seed_val = 1 # random seed for training\n",
        "\n",
        "MAX_LEN = 32\n",
        "batch_size = 64\n",
        "\n",
        "epochs = 10\n",
        "checkpoint = 2\n",
        "\n",
        "n_classes = 2 # num of labels"
      ],
      "execution_count": 3,
      "outputs": []
    },
    {
      "cell_type": "code",
      "metadata": {
        "id": "FogmKgM0VrVR"
      },
      "source": [
        "!pip install -U -q PyDrive\n",
        "from pydrive.auth import GoogleAuth\n",
        "from pydrive.drive import GoogleDrive\n",
        "from google.colab import auth\n",
        "from oauth2client.client import GoogleCredentials\n",
        "# Authenticate and create the PyDrive client.\n",
        "auth.authenticate_user()\n",
        "gauth = GoogleAuth()\n",
        "gauth.credentials = GoogleCredentials.get_application_default()\n",
        "drive = GoogleDrive(gauth)"
      ],
      "execution_count": 4,
      "outputs": []
    },
    {
      "cell_type": "code",
      "metadata": {
        "id": "qeGWsK8-WSAs"
      },
      "source": [
        "file_id = \"1sDoHyJuEGe4R3rkgWp9r0R1zHWXAYGbNjwuuckQDthg\"\n",
        "downloaded = drive.CreateFile({'id': file_id})\n",
        "downloaded.GetContentFile('covid_lies.csv', mimetype='text/csv')"
      ],
      "execution_count": 5,
      "outputs": []
    },
    {
      "cell_type": "code",
      "metadata": {
        "id": "lkllF9eFk9KC",
        "colab": {
          "base_uri": "https://localhost:8080/",
          "height": 204
        },
        "outputId": "133aba26-96bb-49b5-c669-cba6a2f5581c"
      },
      "source": [
        "df = pd.read_csv('covid_lies.csv')\n",
        "df = df.assign(related=[1]*len(df))\n",
        "df.head()"
      ],
      "execution_count": 6,
      "outputs": [
        {
          "output_type": "execute_result",
          "data": {
            "text/html": [
              "<div>\n",
              "<style scoped>\n",
              "    .dataframe tbody tr th:only-of-type {\n",
              "        vertical-align: middle;\n",
              "    }\n",
              "\n",
              "    .dataframe tbody tr th {\n",
              "        vertical-align: top;\n",
              "    }\n",
              "\n",
              "    .dataframe thead th {\n",
              "        text-align: right;\n",
              "    }\n",
              "</style>\n",
              "<table border=\"1\" class=\"dataframe\">\n",
              "  <thead>\n",
              "    <tr style=\"text-align: right;\">\n",
              "      <th></th>\n",
              "      <th>misconception_id</th>\n",
              "      <th>misconception</th>\n",
              "      <th>tweet</th>\n",
              "      <th>tweet_id</th>\n",
              "      <th>label</th>\n",
              "      <th>related</th>\n",
              "    </tr>\n",
              "  </thead>\n",
              "  <tbody>\n",
              "    <tr>\n",
              "      <th>0</th>\n",
              "      <td>3</td>\n",
              "      <td>Coronavirus is genetically engineered.</td>\n",
              "      <td>How the COVID-19 outbreak is changing global p...</td>\n",
              "      <td>1.233965e+18</td>\n",
              "      <td>na</td>\n",
              "      <td>1</td>\n",
              "    </tr>\n",
              "    <tr>\n",
              "      <th>1</th>\n",
              "      <td>30</td>\n",
              "      <td>Blowing conch shells destroys coronavirus pote...</td>\n",
              "      <td>Getting coronavirus and then coughing on peopl...</td>\n",
              "      <td>1.233908e+18</td>\n",
              "      <td>na</td>\n",
              "      <td>1</td>\n",
              "    </tr>\n",
              "    <tr>\n",
              "      <th>2</th>\n",
              "      <td>57</td>\n",
              "      <td>Swans and dolphins swimming in Venice canals f...</td>\n",
              "      <td>Disturbing letter about life in COVID-19 ward ...</td>\n",
              "      <td>1.233910e+18</td>\n",
              "      <td>na</td>\n",
              "      <td>1</td>\n",
              "    </tr>\n",
              "    <tr>\n",
              "      <th>3</th>\n",
              "      <td>22</td>\n",
              "      <td>Cocaine cures coronavirus.</td>\n",
              "      <td>How to prevent corona virus?🤔 Use cowdung cake...</td>\n",
              "      <td>1.233948e+18</td>\n",
              "      <td>na</td>\n",
              "      <td>1</td>\n",
              "    </tr>\n",
              "    <tr>\n",
              "      <th>4</th>\n",
              "      <td>32</td>\n",
              "      <td>Observing janata curfew will result in the red...</td>\n",
              "      <td>This is concerning - They must self-insure for...</td>\n",
              "      <td>1.233937e+18</td>\n",
              "      <td>na</td>\n",
              "      <td>1</td>\n",
              "    </tr>\n",
              "  </tbody>\n",
              "</table>\n",
              "</div>"
            ],
            "text/plain": [
              "   misconception_id  ... related\n",
              "0                 3  ...       1\n",
              "1                30  ...       1\n",
              "2                57  ...       1\n",
              "3                22  ...       1\n",
              "4                32  ...       1\n",
              "\n",
              "[5 rows x 6 columns]"
            ]
          },
          "metadata": {
            "tags": []
          },
          "execution_count": 6
        }
      ]
    },
    {
      "cell_type": "markdown",
      "metadata": {
        "id": "-dFi0fLqCNti"
      },
      "source": [
        "# Sample"
      ]
    },
    {
      "cell_type": "markdown",
      "metadata": {
        "id": "tcG1nJPrXyED"
      },
      "source": [
        "The table of first 20 misconceptions."
      ]
    },
    {
      "cell_type": "code",
      "metadata": {
        "colab": {
          "base_uri": "https://localhost:8080/",
          "height": 419
        },
        "id": "sd7dvQaO88VS",
        "outputId": "68ec6932-7157-4102-a33f-bbb864c1e772"
      },
      "source": [
        "miscon_df = df[['misconception_id','misconception']].drop_duplicates(subset='misconception_id').sort_values(by='misconception_id').reset_index(drop=True)\n",
        "mini_mdf = miscon_df[:30].reset_index(drop=True)\n",
        "mini_mdf = miscon_df\n",
        "mini_mdf"
      ],
      "execution_count": 7,
      "outputs": [
        {
          "output_type": "execute_result",
          "data": {
            "text/html": [
              "<div>\n",
              "<style scoped>\n",
              "    .dataframe tbody tr th:only-of-type {\n",
              "        vertical-align: middle;\n",
              "    }\n",
              "\n",
              "    .dataframe tbody tr th {\n",
              "        vertical-align: top;\n",
              "    }\n",
              "\n",
              "    .dataframe thead th {\n",
              "        text-align: right;\n",
              "    }\n",
              "</style>\n",
              "<table border=\"1\" class=\"dataframe\">\n",
              "  <thead>\n",
              "    <tr style=\"text-align: right;\">\n",
              "      <th></th>\n",
              "      <th>misconception_id</th>\n",
              "      <th>misconception</th>\n",
              "    </tr>\n",
              "  </thead>\n",
              "  <tbody>\n",
              "    <tr>\n",
              "      <th>0</th>\n",
              "      <td>1</td>\n",
              "      <td>A person can tell if they have coronavirus or ...</td>\n",
              "    </tr>\n",
              "    <tr>\n",
              "      <th>1</th>\n",
              "      <td>2</td>\n",
              "      <td>Drinking large amounts of water will protect a...</td>\n",
              "    </tr>\n",
              "    <tr>\n",
              "      <th>2</th>\n",
              "      <td>3</td>\n",
              "      <td>Coronavirus is genetically engineered.</td>\n",
              "    </tr>\n",
              "    <tr>\n",
              "      <th>3</th>\n",
              "      <td>4</td>\n",
              "      <td>Dean Koontz predicted the pandemic in his 1981...</td>\n",
              "    </tr>\n",
              "    <tr>\n",
              "      <th>4</th>\n",
              "      <td>5</td>\n",
              "      <td>The first person infected is a researcher name...</td>\n",
              "    </tr>\n",
              "    <tr>\n",
              "      <th>...</th>\n",
              "      <td>...</td>\n",
              "      <td>...</td>\n",
              "    </tr>\n",
              "    <tr>\n",
              "      <th>57</th>\n",
              "      <td>58</td>\n",
              "      <td>Water polution decreased in Venice canals foll...</td>\n",
              "    </tr>\n",
              "    <tr>\n",
              "      <th>58</th>\n",
              "      <td>59</td>\n",
              "      <td>A Malabar civet was spotted walking the street...</td>\n",
              "    </tr>\n",
              "    <tr>\n",
              "      <th>59</th>\n",
              "      <td>60</td>\n",
              "      <td>A pod of humpback whales returned to the Arabi...</td>\n",
              "    </tr>\n",
              "    <tr>\n",
              "      <th>60</th>\n",
              "      <td>61</td>\n",
              "      <td>Lions were freed to keep people off the street...</td>\n",
              "    </tr>\n",
              "    <tr>\n",
              "      <th>61</th>\n",
              "      <td>62</td>\n",
              "      <td>Bank of England £20 banknotes contain a pictur...</td>\n",
              "    </tr>\n",
              "  </tbody>\n",
              "</table>\n",
              "<p>62 rows × 2 columns</p>\n",
              "</div>"
            ],
            "text/plain": [
              "    misconception_id                                      misconception\n",
              "0                  1  A person can tell if they have coronavirus or ...\n",
              "1                  2  Drinking large amounts of water will protect a...\n",
              "2                  3             Coronavirus is genetically engineered.\n",
              "3                  4  Dean Koontz predicted the pandemic in his 1981...\n",
              "4                  5  The first person infected is a researcher name...\n",
              "..               ...                                                ...\n",
              "57                58  Water polution decreased in Venice canals foll...\n",
              "58                59  A Malabar civet was spotted walking the street...\n",
              "59                60  A pod of humpback whales returned to the Arabi...\n",
              "60                61  Lions were freed to keep people off the street...\n",
              "61                62  Bank of England £20 banknotes contain a pictur...\n",
              "\n",
              "[62 rows x 2 columns]"
            ]
          },
          "metadata": {
            "tags": []
          },
          "execution_count": 7
        }
      ]
    },
    {
      "cell_type": "markdown",
      "metadata": {
        "id": "_V7quvzyX5kk"
      },
      "source": [
        "The table of first 15 tweets."
      ]
    },
    {
      "cell_type": "code",
      "metadata": {
        "colab": {
          "base_uri": "https://localhost:8080/",
          "height": 419
        },
        "id": "-tq1MACe90ee",
        "outputId": "f4db8696-696f-41fd-a004-84c46c300216"
      },
      "source": [
        "tweets_df = df[['tweet_id','tweet']].drop_duplicates(subset='tweet').sort_values(by='tweet_id')\n",
        "mini_tdf = tweets_df[:30].reset_index(drop=True)\n",
        "mini_tdf = tweets_df\n",
        "mini_tdf = mini_tdf.assign(tweet_index = [i for i in range(1,len(mini_tdf)+1)])\n",
        "mini_tdf"
      ],
      "execution_count": 8,
      "outputs": [
        {
          "output_type": "execute_result",
          "data": {
            "text/html": [
              "<div>\n",
              "<style scoped>\n",
              "    .dataframe tbody tr th:only-of-type {\n",
              "        vertical-align: middle;\n",
              "    }\n",
              "\n",
              "    .dataframe tbody tr th {\n",
              "        vertical-align: top;\n",
              "    }\n",
              "\n",
              "    .dataframe thead th {\n",
              "        text-align: right;\n",
              "    }\n",
              "</style>\n",
              "<table border=\"1\" class=\"dataframe\">\n",
              "  <thead>\n",
              "    <tr style=\"text-align: right;\">\n",
              "      <th></th>\n",
              "      <th>tweet_id</th>\n",
              "      <th>tweet</th>\n",
              "      <th>tweet_index</th>\n",
              "    </tr>\n",
              "  </thead>\n",
              "  <tbody>\n",
              "    <tr>\n",
              "      <th>3212</th>\n",
              "      <td>1.230000e+18</td>\n",
              "      <td>How long does the new coronavirus remain activ...</td>\n",
              "      <td>1</td>\n",
              "    </tr>\n",
              "    <tr>\n",
              "      <th>3827</th>\n",
              "      <td>1.230000e+18</td>\n",
              "      <td>Millimetre wave technology will kill an indivi...</td>\n",
              "      <td>2</td>\n",
              "    </tr>\n",
              "    <tr>\n",
              "      <th>1146</th>\n",
              "      <td>1.230000e+18</td>\n",
              "      <td>How do we strengthen our immune systems to fig...</td>\n",
              "      <td>3</td>\n",
              "    </tr>\n",
              "    <tr>\n",
              "      <th>5497</th>\n",
              "      <td>1.233905e+18</td>\n",
              "      <td>When it comes to coronavirus, who is the most ...</td>\n",
              "      <td>4</td>\n",
              "    </tr>\n",
              "    <tr>\n",
              "      <th>1624</th>\n",
              "      <td>1.233905e+18</td>\n",
              "      <td>#Coronavirus and China's Tax Response\\n\\n@USER...</td>\n",
              "      <td>5</td>\n",
              "    </tr>\n",
              "    <tr>\n",
              "      <th>...</th>\n",
              "      <td>...</td>\n",
              "      <td>...</td>\n",
              "      <td>...</td>\n",
              "    </tr>\n",
              "    <tr>\n",
              "      <th>2262</th>\n",
              "      <td>1.233998e+18</td>\n",
              "      <td>Forget the mask. Here's how to protect yoursel...</td>\n",
              "      <td>4342</td>\n",
              "    </tr>\n",
              "    <tr>\n",
              "      <th>3303</th>\n",
              "      <td>1.233998e+18</td>\n",
              "      <td>Man Who Returned From Malaysia, Dies In Kerala...</td>\n",
              "      <td>4343</td>\n",
              "    </tr>\n",
              "    <tr>\n",
              "      <th>4058</th>\n",
              "      <td>1.233998e+18</td>\n",
              "      <td>.@miafarrow Dug up this report on exquisite ki...</td>\n",
              "      <td>4344</td>\n",
              "    </tr>\n",
              "    <tr>\n",
              "      <th>4385</th>\n",
              "      <td>1.233998e+18</td>\n",
              "      <td>Washington state health officials are investig...</td>\n",
              "      <td>4345</td>\n",
              "    </tr>\n",
              "    <tr>\n",
              "      <th>3577</th>\n",
              "      <td>1.233998e+18</td>\n",
              "      <td>MAGA hats made in China may be infected with t...</td>\n",
              "      <td>4346</td>\n",
              "    </tr>\n",
              "  </tbody>\n",
              "</table>\n",
              "<p>4346 rows × 3 columns</p>\n",
              "</div>"
            ],
            "text/plain": [
              "          tweet_id  ... tweet_index\n",
              "3212  1.230000e+18  ...           1\n",
              "3827  1.230000e+18  ...           2\n",
              "1146  1.230000e+18  ...           3\n",
              "5497  1.233905e+18  ...           4\n",
              "1624  1.233905e+18  ...           5\n",
              "...            ...  ...         ...\n",
              "2262  1.233998e+18  ...        4342\n",
              "3303  1.233998e+18  ...        4343\n",
              "4058  1.233998e+18  ...        4344\n",
              "4385  1.233998e+18  ...        4345\n",
              "3577  1.233998e+18  ...        4346\n",
              "\n",
              "[4346 rows x 3 columns]"
            ]
          },
          "metadata": {
            "tags": []
          },
          "execution_count": 8
        }
      ]
    },
    {
      "cell_type": "markdown",
      "metadata": {
        "id": "_bCJn0JKX-rg"
      },
      "source": [
        "Connect all pairs of elements in the two tables. Mark existed relationships between misconception and tweet in original dataset as 'related'."
      ]
    },
    {
      "cell_type": "code",
      "metadata": {
        "id": "xIHlyMBiXFS9"
      },
      "source": [
        "def merge_tweet_misconception(tdf, mdf, df):\n",
        "    tdf = tdf.assign(tweet_index = [i for i in range(1,len(tdf)+1)])\n",
        "    temp1 = tdf.loc[tdf.index.repeat(len(mdf))].reset_index(drop=True)\n",
        "\n",
        "    full_table = temp1.assign(misconception_id = mdf.misconception_id.values.tolist()*len(tdf),\n",
        "                  misconception = mdf.misconception.values.tolist()*len(tdf))\n",
        "\n",
        "    sample = pd.merge(full_table, df,\n",
        "         how = 'left',\n",
        "         left_on = ['tweet_id','tweet','misconception_id','misconception'],\n",
        "         right_on = ['tweet_id','tweet','misconception_id','misconception']\n",
        "        ).drop(columns='label').fillna(0)\n",
        "    sample.related = sample.related.astype('int64')\n",
        "    sample.head()\n",
        "    return sample"
      ],
      "execution_count": 9,
      "outputs": []
    },
    {
      "cell_type": "markdown",
      "metadata": {
        "id": "_Ej9WB4ECc7N"
      },
      "source": [
        "# Words Embedding"
      ]
    },
    {
      "cell_type": "code",
      "metadata": {
        "id": "bbeWLtTfCepz"
      },
      "source": [
        "def vectorize(text,MAX_LEN=MAX_LEN):\n",
        "    tokenizer = BertTokenizer.from_pretrained('bert-base-uncased', do_lower_case=True)\n",
        "\n",
        "    input_ids = []\n",
        "    for t in text:\n",
        "        # so basically encode tokenizing , mapping sentences to thier token ids after adding special tokens.\n",
        "        encoded_sent = tokenizer.encode(\n",
        "            t,  # Sentence which are encoding.\n",
        "            add_special_tokens=True,  # Adding special tokens '[CLS]' and '[SEP]'\n",
        "        )\n",
        "        input_ids.append(encoded_sent)\n",
        "\n",
        "    input_ids = pad_sequences(input_ids, maxlen=MAX_LEN , truncating=\"post\", padding=\"post\")\n",
        "\n",
        "    attention_masks = []\n",
        "    for sent in input_ids:\n",
        "        # Generating attention mask for sentences.\n",
        "        #   - when there is 0 present as token id we are going to set mask as 0.\n",
        "        #   - we are going to set mask 1 for all non-zero positive input id.\n",
        "        att_mask = [int(token_id > 0) for token_id in sent]\n",
        "\n",
        "        attention_masks.append(att_mask)\n",
        "\n",
        "    return attention_masks, input_ids"
      ],
      "execution_count": 10,
      "outputs": []
    },
    {
      "cell_type": "code",
      "metadata": {
        "id": "cvT6F6fCD3I3"
      },
      "source": [
        "m_text = miscon_df.misconception.values\n",
        "m_attention_mask, m_input_id = vectorize(m_text)\n",
        "\n",
        "t_text = tweets_df.tweet.values\n",
        "t_attention_mask, t_input_id = vectorize(t_text,64)"
      ],
      "execution_count": null,
      "outputs": []
    },
    {
      "cell_type": "code",
      "metadata": {
        "id": "X9Q43zw0MTUY"
      },
      "source": [
        "def get_X_inputs_masks(sample, t_attention_mask, t_input_id, m_attention_mask, m_input_id):\n",
        "    X_inputs = []\n",
        "    X_masks = []\n",
        "\n",
        "    for i in range(0,len(sample)):\n",
        "        t_index = sample.tweet_index[i]-1\n",
        "        inputs_temp = t_input_id[t_index].tolist().copy()\n",
        "        masks_temp = t_attention_mask[t_index].copy()\n",
        "\n",
        "        m_index = sample.misconception_id[i]-1\n",
        "        inputs_temp.extend(m_input_id[m_index].tolist())\n",
        "        masks_temp.extend(m_attention_mask[m_index])\n",
        "\n",
        "        X_inputs.append(inputs_temp)\n",
        "        X_masks.append(masks_temp)\n",
        "    \n",
        "    X_inputs = np.array(X_inputs)\n",
        "    return X_inputs, X_masks"
      ],
      "execution_count": 12,
      "outputs": []
    },
    {
      "cell_type": "markdown",
      "metadata": {
        "id": "kSPwcTAcHA5d"
      },
      "source": [
        "# Split Data"
      ]
    },
    {
      "cell_type": "code",
      "metadata": {
        "id": "szNGSyUvRAUN"
      },
      "source": [
        "!pip install imbalanced-learn"
      ],
      "execution_count": null,
      "outputs": []
    },
    {
      "cell_type": "code",
      "metadata": {
        "id": "FLYSojbzRLCN"
      },
      "source": [
        "from sklearn.model_selection import train_test_split\n",
        "\n",
        "# oversampling data to reduce the impact of data imbalance\n",
        "sample = merge_tweet_misconception(mini_tdf, mini_mdf, df)\n",
        "labels = sample.related.values\n",
        "input_ids, _ = get_X_inputs_masks(sample, t_attention_mask, t_input_id, m_attention_mask, m_input_id)"
      ],
      "execution_count": 14,
      "outputs": []
    },
    {
      "cell_type": "code",
      "metadata": {
        "id": "gKTon4k-RiLV",
        "colab": {
          "base_uri": "https://localhost:8080/"
        },
        "outputId": "e0d8c6ac-c27f-4ebd-fc01-344ff00f0be9"
      },
      "source": [
        "np.bincount(labels)"
      ],
      "execution_count": 15,
      "outputs": [
        {
          "output_type": "execute_result",
          "data": {
            "text/plain": [
              "array([262900,   6552])"
            ]
          },
          "metadata": {
            "tags": []
          },
          "execution_count": 15
        }
      ]
    },
    {
      "cell_type": "code",
      "metadata": {
        "id": "GhjBTq4IR7BE"
      },
      "source": [
        "from imblearn.over_sampling import SMOTE\n",
        "from imblearn.under_sampling import RandomUnderSampler\n",
        "from imblearn.pipeline import Pipeline\n",
        "over = SMOTE(sampling_strategy=0.1)\n",
        "under = RandomUnderSampler(sampling_strategy=0.3)\n",
        "resample = [('over',over),('under',under)]\n",
        "pipeline = Pipeline(steps=resample)"
      ],
      "execution_count": null,
      "outputs": []
    },
    {
      "cell_type": "code",
      "metadata": {
        "id": "_BO99nw4RNMj"
      },
      "source": [
        "inputs, labels = pipeline.fit_resample(input_ids, labels)\n",
        "np.bincount(labels)"
      ],
      "execution_count": null,
      "outputs": []
    },
    {
      "cell_type": "markdown",
      "metadata": {
        "id": "so24p9-QZOri"
      },
      "source": [
        "## Class Weight"
      ]
    },
    {
      "cell_type": "code",
      "metadata": {
        "colab": {
          "base_uri": "https://localhost:8080/"
        },
        "id": "oQ7Xwu1KaM-3",
        "outputId": "e3ac3e73-72ea-498c-e3fa-234111d2005f"
      },
      "source": [
        "neg, pos = np.bincount(labels)\n",
        "total = neg + pos\n",
        "\n",
        "weight_for_0 = (1 / neg) * (total / 2.0)\n",
        "weight_for_1 = (1 / pos) * (total / 2.0)\n",
        "\n",
        "class_weight = {0: weight_for_0, 1: weight_for_1}\n",
        "\n",
        "print('Weight for class 0: {:.2f}'.format(weight_for_0))\n",
        "print('Weight for class 1: {:.2f}'.format(weight_for_1))"
      ],
      "execution_count": 18,
      "outputs": [
        {
          "output_type": "stream",
          "text": [
            "Weight for class 0: 0.65\n",
            "Weight for class 1: 2.17\n"
          ],
          "name": "stdout"
        }
      ]
    },
    {
      "cell_type": "markdown",
      "metadata": {
        "id": "7GWTty9QCP0r"
      },
      "source": [
        "# Single Classifier"
      ]
    },
    {
      "cell_type": "code",
      "metadata": {
        "id": "l_kYrw94Uf79"
      },
      "source": [
        "from sklearn.metrics import confusion_matrix, f1_score, balanced_accuracy_score, roc_auc_score\n",
        "\n",
        "def binary_eval(label, prediction):\n",
        "    acc = balanced_accuracy_score(label, prediction)\n",
        "    print('f1',f1_score(label, prediction, average='weighted'))\n",
        "    c_matrix = confusion_matrix(label, prediction)\n",
        "    print('confusion matrix', c_matrix)\n",
        "    sensitivity = c_matrix[1][1]/(c_matrix[1][1]+c_matrix[1][0])\n",
        "    specificity = c_matrix[0][0]/(c_matrix[0][0]+c_matrix[0][1])\n",
        "    print('')\n",
        "    return acc, sensitivity, specificity\n",
        "\n",
        "def clf_predict(X_val, model_name):\n",
        "    '''\n",
        "    comparing the return result with the Y_val\n",
        "    e.g.\n",
        "    from sklearn.metrics import accuracy_score\n",
        "    accuracy_score(Y_val, forest_prediction)\n",
        "    '''\n",
        "    clf = load(model_name)\n",
        "    pred = clf.predict(X_val)\n",
        "    return pred"
      ],
      "execution_count": 19,
      "outputs": []
    },
    {
      "cell_type": "markdown",
      "metadata": {
        "id": "sPNYz02-xurB"
      },
      "source": [
        "## KFold"
      ]
    },
    {
      "cell_type": "code",
      "metadata": {
        "id": "GpC5Wm0RaWap"
      },
      "source": [
        "from sklearn.model_selection import KFold\n",
        "def cv_split(X, Y, n_split=5):\n",
        "    kf = KFold(n_splits=n_split,shuffle=True,random_state=84735)\n",
        "\n",
        "    X_trains = []\n",
        "    X_tests = []\n",
        "    for train,test in kf.split(X):\n",
        "        X_train = []\n",
        "        X_test = []\n",
        "        for i in train:\n",
        "            X_train.append(X[i])\n",
        "        for i in test:\n",
        "            X_test.append(X[i])\n",
        "        X_trains.append(X_train)\n",
        "        X_tests.append(X_test)\n",
        "\n",
        "    Y_trains = []\n",
        "    Y_tests = []\n",
        "    for train, test in kf.split(Y):\n",
        "        Y_train = []\n",
        "        Y_test = []\n",
        "        for i in train:\n",
        "            Y_train.append(Y[i])\n",
        "        for i in test:\n",
        "            Y_test.append(Y[i])\n",
        "        Y_trains.append(Y_train)\n",
        "        Y_tests.append(Y_test)\n",
        "\n",
        "    return X_trains, X_tests, Y_trains, Y_tests"
      ],
      "execution_count": 20,
      "outputs": []
    },
    {
      "cell_type": "code",
      "metadata": {
        "id": "aLDIGq5QgzMG"
      },
      "source": [
        "X_trains, X_tests, Y_trains, Y_tests = cv_split(inputs, labels)"
      ],
      "execution_count": 21,
      "outputs": []
    },
    {
      "cell_type": "markdown",
      "metadata": {
        "id": "2Jr5bP950pRR"
      },
      "source": [
        "## Random Forest"
      ]
    },
    {
      "cell_type": "code",
      "metadata": {
        "id": "1t4yX8eBWjjL"
      },
      "source": [
        "from sklearn.ensemble import RandomForestClassifier\n",
        "from joblib import dump, load\n",
        "\n",
        "def foresttrain(X_train, Y_train, model_name):\n",
        "    '''\n",
        "    Train the random forest classifier and save to local.\n",
        "    :param X_train:\n",
        "    :param Y_train:\n",
        "    '''\n",
        "    forest = RandomForestClassifier(n_estimators=100, oob_score=True, n_jobs=3, class_weight = class_weight) #n_job is n of CPU cores assigned\n",
        "    forest.fit(X_train, Y_train)\n",
        "    dump(forest, model_name)"
      ],
      "execution_count": 22,
      "outputs": []
    },
    {
      "cell_type": "code",
      "metadata": {
        "id": "DMmCedcKcp49",
        "colab": {
          "base_uri": "https://localhost:8080/"
        },
        "outputId": "7c4b2a97-3db0-4ec6-8aee-a85fce8cf545"
      },
      "source": [
        "forest_train_preds = []\n",
        "forest_preds = []\n",
        "forest_cv_result = {'scores':[],'sensitivity':[],'specificity':[]}\n",
        "\n",
        "for i in range(5):\n",
        "  X_train = X_trains[i]\n",
        "  X_test = X_tests[i]\n",
        "  Y_train = Y_trains[i]\n",
        "  Y_test = Y_tests[i]\n",
        "\n",
        "  foresttrain(X_train, Y_train, 'forest.joblib')\n",
        "  forest_train_preds.append(clf_predict(X_train,'forest.joblib'))\n",
        "  pred = clf_predict(X_test,'forest.joblib')\n",
        "  forest_preds.append(pred)\n",
        "\n",
        "  acc, sen, spe = binary_eval(Y_test, pred)\n",
        "  forest_cv_result['scores'].append(acc)\n",
        "  forest_cv_result['sensitivity'].append(sen)\n",
        "  forest_cv_result['specificity'].append(spe)"
      ],
      "execution_count": 23,
      "outputs": [
        {
          "output_type": "stream",
          "text": [
            "f1 0.9419293582012044\n",
            "confusion matrix [[17381    81]\n",
            " [ 1188  4135]]\n",
            "\n",
            "f1 0.9448398215402742\n",
            "confusion matrix [[17551    79]\n",
            " [ 1127  4028]]\n",
            "\n",
            "f1 0.94392378459827\n",
            "confusion matrix [[17445    73]\n",
            " [ 1153  4114]]\n",
            "\n",
            "f1 0.9441096820519554\n",
            "confusion matrix [[17413    90]\n",
            " [ 1134  4147]]\n",
            "\n",
            "f1 0.9427530180126334\n",
            "confusion matrix [[17410   110]\n",
            " [ 1144  4120]]\n",
            "\n"
          ],
          "name": "stdout"
        }
      ]
    },
    {
      "cell_type": "code",
      "metadata": {
        "id": "T1NQVlsdd8XH",
        "colab": {
          "base_uri": "https://localhost:8080/"
        },
        "outputId": "0514d291-15db-4f01-9174-44dc40a8f552"
      },
      "source": [
        "from statistics import mean\n",
        "\n",
        "print('Avg Scores:', mean(forest_cv_result['scores']), '\\n',\n",
        "   'Avg Sensitivity:', mean(forest_cv_result['sensitivity']), '\\n',\n",
        "   'Avg Sepcificity:', mean(forest_cv_result['specificity']))"
      ],
      "execution_count": 24,
      "outputs": [
        {
          "output_type": "stream",
          "text": [
            "Avg Scores: 0.8882520106762024 \n",
            " Avg Sensitivity: 0.7814454811629652 \n",
            " Avg Sepcificity: 0.9950585401894397\n"
          ],
          "name": "stdout"
        }
      ]
    },
    {
      "cell_type": "markdown",
      "metadata": {
        "id": "lRFF8CCEhSSK"
      },
      "source": [
        "## Ada Boost"
      ]
    },
    {
      "cell_type": "code",
      "metadata": {
        "id": "YI6P66qHhXP-"
      },
      "source": [
        "from sklearn.ensemble import AdaBoostClassifier\n",
        "\n",
        "def adatrain(X_train, Y_train, model_name):\n",
        "    '''\n",
        "    Train the random forest classifier and save to local.\n",
        "    :param X_train:\n",
        "    :param Y_train:\n",
        "    '''\n",
        "    ada = AdaBoostClassifier(n_estimators=100)\n",
        "    ada.fit(X_train, Y_train)\n",
        "    dump(ada, model_name)"
      ],
      "execution_count": 25,
      "outputs": []
    },
    {
      "cell_type": "code",
      "metadata": {
        "colab": {
          "base_uri": "https://localhost:8080/"
        },
        "id": "KDRh7cLxhR1Z",
        "outputId": "3420fdbc-10fc-49c6-ce89-6f43f516869f"
      },
      "source": [
        "ada_train_preds = []\n",
        "ada_preds = []\n",
        "ada_cv_result = {'scores':[],'sensitivity':[],'specificity':[]}\n",
        "\n",
        "for i in range(5):\n",
        "  X_train = X_trains[i]\n",
        "  X_test = X_tests[i]\n",
        "  Y_train = Y_trains[i]\n",
        "  Y_test = Y_tests[i]\n",
        "\n",
        "  adatrain(X_train, Y_train, 'ada.joblib')\n",
        "  ada_train_preds.append(clf_predict(X_train,'ada.joblib'))\n",
        "  pred = clf_predict(X_test,'ada.joblib')\n",
        "  ada_preds.append(pred)\n",
        "\n",
        "  acc, sen, spe = binary_eval(Y_test, pred)\n",
        "  ada_cv_result['scores'].append(acc)\n",
        "  ada_cv_result['sensitivity'].append(sen)\n",
        "  ada_cv_result['specificity'].append(spe)"
      ],
      "execution_count": 26,
      "outputs": [
        {
          "output_type": "stream",
          "text": [
            "f1 0.8284235377459604\n",
            "confusion matrix [[17393    69]\n",
            " [ 3265  2058]]\n",
            "\n",
            "f1 0.8374646972418349\n",
            "confusion matrix [[17561    69]\n",
            " [ 3100  2055]]\n",
            "\n",
            "f1 0.8316895741151427\n",
            "confusion matrix [[17436    82]\n",
            " [ 3198  2069]]\n",
            "\n",
            "f1 0.8346465663270274\n",
            "confusion matrix [[17434    69]\n",
            " [ 3161  2120]]\n",
            "\n",
            "f1 0.8332467427173254\n",
            "confusion matrix [[17427    93]\n",
            " [ 3166  2098]]\n",
            "\n"
          ],
          "name": "stdout"
        }
      ]
    },
    {
      "cell_type": "code",
      "metadata": {
        "colab": {
          "base_uri": "https://localhost:8080/"
        },
        "id": "Y4keb8Bqh6V0",
        "outputId": "36c16541-586a-43fe-c465-884f48951635"
      },
      "source": [
        "from statistics import mean\n",
        "\n",
        "print('Avg Scores:', mean(ada_cv_result['scores']), '\\n',\n",
        "   'Avg Sensitivity:', mean(ada_cv_result['sensitivity']), '\\n',\n",
        "   'Avg Sepcificity:', mean(ada_cv_result['specificity']))"
      ],
      "execution_count": 27,
      "outputs": [
        {
          "output_type": "stream",
          "text": [
            "Avg Scores: 0.695628824973816 \n",
            " Avg Sensitivity: 0.3956169541266965 \n",
            " Avg Sepcificity: 0.9956406958209355\n"
          ],
          "name": "stdout"
        }
      ]
    },
    {
      "cell_type": "markdown",
      "metadata": {
        "id": "JHE-uvGi39AN"
      },
      "source": [
        "## Logistic Regression"
      ]
    },
    {
      "cell_type": "code",
      "metadata": {
        "id": "4f_NXv2Q3_gH"
      },
      "source": [
        "from sklearn.linear_model import LogisticRegression\n",
        "\n",
        "def lrtrain(X_train, Y_train, model_name):\n",
        "    lr = LogisticRegression(solver='liblinear',class_weight=class_weight)\n",
        "    lr.fit(X_train, Y_train)\n",
        "    dump(lr,model_name)"
      ],
      "execution_count": 39,
      "outputs": []
    },
    {
      "cell_type": "code",
      "metadata": {
        "id": "Pgtafh8q4PqD",
        "colab": {
          "base_uri": "https://localhost:8080/"
        },
        "outputId": "16e24e80-2dde-4664-d4a7-961dd8c67ace"
      },
      "source": [
        "lr_train_preds = []\n",
        "lr_preds = []\n",
        "lr_cv_result = {'scores':[],'sensitivity':[],'specificity':[]}\n",
        "\n",
        "for i in range(5):\n",
        "  X_train = X_trains[i]\n",
        "  X_test = X_tests[i]\n",
        "  Y_train = Y_trains[i]\n",
        "  Y_test = Y_tests[i]\n",
        "\n",
        "  lrtrain(X_train, Y_train, 'lr.joblib')\n",
        "  lr_train_preds.append(clf_predict(X_train,'lr.joblib'))\n",
        "  pred = clf_predict(X_test,'lr.joblib')\n",
        "  lr_preds.append(pred)\n",
        "\n",
        "  acc, sen, spe = binary_eval(Y_test, pred)\n",
        "  lr_cv_result['scores'].append(acc)\n",
        "  lr_cv_result['sensitivity'].append(sen)\n",
        "  lr_cv_result['specificity'].append(spe)"
      ],
      "execution_count": 40,
      "outputs": [
        {
          "output_type": "stream",
          "text": [
            "f1 0.5864792516973046\n",
            "confusion matrix [[9783 7679]\n",
            " [2524 2799]]\n",
            "\n",
            "f1 0.5830157463637223\n",
            "confusion matrix [[9574 8056]\n",
            " [2289 2866]]\n",
            "\n",
            "f1 0.5894143708356253\n",
            "confusion matrix [[9805 7713]\n",
            " [2436 2831]]\n",
            "\n",
            "f1 0.5865929013009554\n",
            "confusion matrix [[9820 7683]\n",
            " [2529 2752]]\n",
            "\n",
            "f1 0.5923845821088038\n",
            "confusion matrix [[9875 7645]\n",
            " [2430 2834]]\n",
            "\n"
          ],
          "name": "stdout"
        }
      ]
    },
    {
      "cell_type": "code",
      "metadata": {
        "id": "1HLRP4Pgmqvu",
        "colab": {
          "base_uri": "https://localhost:8080/"
        },
        "outputId": "7f4b1b12-64ac-42d2-d873-6517013def35"
      },
      "source": [
        "from statistics import mean\n",
        "\n",
        "print('Avg Scores:', mean(lr_cv_result['scores']), '\\n',\n",
        "   'Avg Sensitivity:', mean(lr_cv_result['sensitivity']), '\\n',\n",
        "   'Avg Sepcificity:', mean(lr_cv_result['specificity']))"
      ],
      "execution_count": 41,
      "outputs": [
        {
          "output_type": "stream",
          "text": [
            "Avg Scores: 0.5466476255985473 \n",
            " Avg Sensitivity: 0.5357562585973658 \n",
            " Avg Sepcificity: 0.5575389925997288\n"
          ],
          "name": "stdout"
        }
      ]
    },
    {
      "cell_type": "markdown",
      "metadata": {
        "id": "c_sZGHJddxev"
      },
      "source": [
        "## Naive Baye"
      ]
    },
    {
      "cell_type": "code",
      "metadata": {
        "id": "BaTWJRdheAFa"
      },
      "source": [
        "from sklearn.naive_bayes import BernoulliNB\n",
        "\n",
        "def nbtrain(X_train, Y_train, model_name):\n",
        "    nb = BernoulliNB()\n",
        "    nb.fit(X_train, Y_train)\n",
        "    dump(nb,model_name)"
      ],
      "execution_count": 31,
      "outputs": []
    },
    {
      "cell_type": "code",
      "metadata": {
        "colab": {
          "base_uri": "https://localhost:8080/"
        },
        "id": "zpgixR_ZeOYN",
        "outputId": "1b269a31-1212-4dba-bee4-69c15824f329"
      },
      "source": [
        "nb_train_preds = []\n",
        "nb_preds = []\n",
        "nb_cv_result = {'scores':[],'sensitivity':[],'specificity':[]}\n",
        "\n",
        "for i in range(5):\n",
        "  X_train = X_trains[i]\n",
        "  X_test = X_tests[i]\n",
        "  Y_train = Y_trains[i]\n",
        "  Y_test = Y_tests[i]\n",
        "\n",
        "  nbtrain(X_train, Y_train, 'nb.joblib')\n",
        "  nb_train_preds.append(clf_predict(X_train,'nb.joblib'))\n",
        "  pred = clf_predict(X_test,'nb.joblib')\n",
        "  nb_preds.append(pred)\n",
        "\n",
        "  acc, sen, spe = binary_eval(Y_test, pred)\n",
        "  nb_cv_result['scores'].append(acc)\n",
        "  nb_cv_result['sensitivity'].append(sen)\n",
        "  nb_cv_result['specificity'].append(spe)"
      ],
      "execution_count": 32,
      "outputs": [
        {
          "output_type": "stream",
          "text": [
            "f1 0.5839490686122168\n",
            "confusion matrix [[9889 7573]\n",
            " [2686 2637]]\n",
            "\n",
            "f1 0.5858687661207506\n",
            "confusion matrix [[9963 7667]\n",
            " [2599 2556]]\n",
            "\n",
            "f1 0.5849047232874467\n",
            "confusion matrix [[9940 7578]\n",
            " [2674 2593]]\n",
            "\n",
            "f1 0.5907964149735518\n",
            "confusion matrix [[10048  7455]\n",
            " [ 2644  2637]]\n",
            "\n",
            "f1 0.5870747429617945\n",
            "confusion matrix [[9981 7539]\n",
            " [2659 2605]]\n",
            "\n"
          ],
          "name": "stdout"
        }
      ]
    },
    {
      "cell_type": "code",
      "metadata": {
        "colab": {
          "base_uri": "https://localhost:8080/"
        },
        "id": "o8Y55wB9fUoQ",
        "outputId": "2c07fd3e-641e-4f2c-d841-b7fcbe3b9354"
      },
      "source": [
        "from statistics import mean\n",
        "\n",
        "print('Avg Scores:', mean(nb_cv_result['scores']), '\\n',\n",
        "   'Avg Sensitivity:', mean(nb_cv_result['sensitivity']), '\\n',\n",
        "   'Avg Sepcificity:', mean(nb_cv_result['specificity']))"
      ],
      "execution_count": 33,
      "outputs": [
        {
          "output_type": "stream",
          "text": [
            "Avg Scores: 0.5320358180399606 \n",
            " Avg Sensitivity: 0.49554906098710955 \n",
            " Avg Sepcificity: 0.5685225750928117\n"
          ],
          "name": "stdout"
        }
      ]
    },
    {
      "cell_type": "markdown",
      "metadata": {
        "id": "1rudq0iC3jjX"
      },
      "source": [
        "# Voting Emsemble"
      ]
    },
    {
      "cell_type": "code",
      "metadata": {
        "id": "IgQOjfAO5tnP"
      },
      "source": [
        "from random import randrange\n",
        "def WMVEpredict(weight, preds, use_softmax=False):\n",
        "    softmax = torch.nn.Softmax()\n",
        "    result = []\n",
        "    forest_pre = preds['forest'].values\n",
        "    ada_pre = preds['ada'].values\n",
        "    lr_pre = preds['lr'].values\n",
        "    nb_pre = preds['nb'].values\n",
        "\n",
        "    for i in range(0, len(ada_pre)):\n",
        "        labels = torch.FloatTensor([0,0])\n",
        "        labels[forest_pre[i]] += weight[0]\n",
        "        labels[ada_pre[i]] += weight[1]\n",
        "        labels[lr_pre[i]] += weight[2]\n",
        "        labels[nb_pre[i]] += weight[3]\n",
        "\n",
        "        if use_softmax:\n",
        "            votes = softmax(labels)\n",
        "        else:\n",
        "            votes = labels\n",
        "\n",
        "        if votes[0] > votes[1]:\n",
        "            result.append(0)\n",
        "        elif votes[0] < votes[1]:\n",
        "            result.append(1)\n",
        "        else:\n",
        "            result.append(randrange(2))\n",
        "    return result"
      ],
      "execution_count": 42,
      "outputs": []
    },
    {
      "cell_type": "code",
      "metadata": {
        "id": "_BNlfh1qaguk",
        "colab": {
          "base_uri": "https://localhost:8080/"
        },
        "outputId": "372af114-85bd-43d7-e401-f6dd4eec0e9b"
      },
      "source": [
        "voting_preds = []\n",
        "voting_cv_result = {'scores':[],'sensitivity':[],'specificity':[]}\n",
        "for i in range(5):\n",
        "  X_train = X_trains[i]\n",
        "  X_test = X_tests[i]\n",
        "  Y_train = Y_trains[i]\n",
        "  Y_test = Y_tests[i]\n",
        "\n",
        "  classfiers_train_pred = pd.DataFrame({'forest': forest_train_preds[i], 'ada': ada_train_preds[i], 'lr': lr_train_preds[i], 'nb':nb_train_preds[i]})\n",
        "  classfiers_val_pred = pd.DataFrame({'forest': forest_preds[i], 'ada': ada_preds[i], 'lr': lr_preds[i], 'nb': nb_preds[i]})\n",
        "\n",
        "  weight = [0.5, 0.4, 0.2, 0.1]  \n",
        "\n",
        "  pred = WMVEpredict(weight, classfiers_val_pred, use_softmax=True)\n",
        "  voting_preds.append(pred)\n",
        "\n",
        "  acc, sen, spe = binary_eval(Y_test, pred)\n",
        "  voting_cv_result['scores'].append(acc)\n",
        "  voting_cv_result['sensitivity'].append(sen)\n",
        "  voting_cv_result['specificity'].append(spe)"
      ],
      "execution_count": 43,
      "outputs": [
        {
          "output_type": "stream",
          "text": [
            "/usr/local/lib/python3.7/dist-packages/ipykernel_launcher.py:18: UserWarning: Implicit dimension choice for softmax has been deprecated. Change the call to include dim=X as an argument.\n"
          ],
          "name": "stderr"
        },
        {
          "output_type": "stream",
          "text": [
            "f1 0.8990053004731288\n",
            "confusion matrix [[17380    82]\n",
            " [ 2037  3286]]\n",
            "\n",
            "f1 0.9080123239058154\n",
            "confusion matrix [[17540    90]\n",
            " [ 1852  3303]]\n",
            "\n",
            "f1 0.9037960208326158\n",
            "confusion matrix [[17424    94]\n",
            " [ 1934  3333]]\n",
            "\n",
            "f1 0.9014338049323016\n",
            "confusion matrix [[17396   107]\n",
            " [ 1969  3312]]\n",
            "\n",
            "f1 0.9012749965619468\n",
            "confusion matrix [[17394   126]\n",
            " [ 1956  3308]]\n",
            "\n"
          ],
          "name": "stdout"
        }
      ]
    },
    {
      "cell_type": "code",
      "metadata": {
        "id": "tFtNdBO0q0Zt",
        "colab": {
          "base_uri": "https://localhost:8080/"
        },
        "outputId": "bb7d911a-7236-4baf-c262-d51d9acc4168"
      },
      "source": [
        "from statistics import mean\n",
        "\n",
        "print('Avg Scores:', mean(voting_cv_result['scores']), '\\n',\n",
        "   'Avg Sensitivity:', mean(voting_cv_result['sensitivity']), '\\n',\n",
        "   'Avg Sepcificity:', mean(voting_cv_result['specificity']))"
      ],
      "execution_count": 44,
      "outputs": [
        {
          "output_type": "stream",
          "text": [
            "Avg Scores: 0.8117967885284786 \n",
            " Avg Sensitivity: 0.6292879318158662 \n",
            " Avg Sepcificity: 0.994305645241091\n"
          ],
          "name": "stdout"
        }
      ]
    },
    {
      "cell_type": "markdown",
      "metadata": {
        "id": "iQS49g6_r2uA"
      },
      "source": [
        "# Result Visualization"
      ]
    },
    {
      "cell_type": "code",
      "metadata": {
        "id": "IYz7N81ar2SF"
      },
      "source": [
        "import seaborn as sns\n",
        "import matplotlib.pyplot as plt\n",
        "from matplotlib.ticker import MaxNLocator\n",
        "sns.set(font_scale=1.4)\n",
        "\n",
        "clf = ['Random Forest']*5 + ['Ada']*5 + ['NB']*5 + ['LR']*5 + ['Voting']*5\n",
        "\n",
        "sen = forest_cv_result['sensitivity']+ada_cv_result['sensitivity']+nb_cv_result['sensitivity']+lr_cv_result['sensitivity']+voting_cv_result['sensitivity']\n",
        "spe = forest_cv_result['specificity']+ada_cv_result['specificity']+nb_cv_result['specificity']+lr_cv_result['specificity']+voting_cv_result['specificity']\n",
        "scores = forest_cv_result['scores'] + ada_cv_result['scores'] + nb_cv_result['scores'] + lr_cv_result['scores'] + voting_cv_result['scores']\n",
        "\n",
        "df = pd.DataFrame({'Classifier':clf,\n",
        "                   'Accuracy Score':scores,\n",
        "                   'Sensitivity':sen,\n",
        "                   'Specificity':spe,\n",
        "                   'CV':[1,2,3,4,5]*5})"
      ],
      "execution_count": 56,
      "outputs": []
    },
    {
      "cell_type": "code",
      "metadata": {
        "id": "fMgMiykOtI6A",
        "colab": {
          "base_uri": "https://localhost:8080/",
          "height": 570
        },
        "outputId": "40b44b1b-16e6-431b-c846-76af6b8a2dde"
      },
      "source": [
        "f, a = plt.subplots(1,1,figsize=(13,8))\n",
        "f = sns.lineplot(x='CV',y='Accuracy Score',hue='Classifier',data=df)\n",
        "a.xaxis.set_major_locator(MaxNLocator(integer=True))\n",
        "plt.suptitle('Balanced Accuracy Scores in Cross Validation', fontsize=20)\n",
        "plt.ylabel('Balanced Accuracy Score')\n",
        "plt.xlabel('Index of Fold')\n",
        "plt.legend()\n",
        "plt.show()"
      ],
      "execution_count": 68,
      "outputs": [
        {
          "output_type": "display_data",
          "data": {
            "image/png": "[encoded data removed]",
            "text/plain": [
              "<Figure size 936x576 with 1 Axes>"
            ]
          },
          "metadata": {
            "tags": []
          }
        }
      ]
    },
    {
      "cell_type": "code",
      "metadata": {
        "id": "NuAOrVUzuu_n",
        "colab": {
          "base_uri": "https://localhost:8080/",
          "height": 508
        },
        "outputId": "f54c308c-ab90-4dd7-af2a-6825451f2068"
      },
      "source": [
        "f, a = plt.subplots(1,1,figsize=(12,7))\n",
        "f = sns.lineplot(x='CV',y='Sensitivity',hue='Classifier',data=df)\n",
        "a.xaxis.set_major_locator(MaxNLocator(integer=True))\n",
        "plt.suptitle('Sensitivities in Cross Validation', fontsize=20)\n",
        "plt.ylabel('Sensitivity')\n",
        "plt.xlabel('Index of Fold')\n",
        "plt.legend()\n",
        "plt.show()"
      ],
      "execution_count": 69,
      "outputs": [
        {
          "output_type": "display_data",
          "data": {
            "image/png": "[encoded data removed]",
            "text/plain": [
              "<Figure size 864x504 with 1 Axes>"
            ]
          },
          "metadata": {
            "tags": []
          }
        }
      ]
    },
    {
      "cell_type": "markdown",
      "metadata": {
        "id": "DBP4d8Xu3n3f"
      },
      "source": [
        "# Deep Learning Method"
      ]
    },
    {
      "cell_type": "markdown",
      "metadata": {
        "id": "ZjwKQ8GIZHSp"
      },
      "source": [
        "This part is under constructing and not currently in use."
      ]
    },
    {
      "cell_type": "code",
      "metadata": {
        "id": "7LhhcfiJHu1W"
      },
      "source": [
        "# changing the numpy arrays into tensors for working on GPU.\n",
        "train_inputs = torch.tensor(train_inputs)\n",
        "validation_inputs = torch.tensor(validation_inputs)\n",
        "\n",
        "train_labels = torch.tensor(train_labels)\n",
        "validation_labels = torch.tensor(validation_labels)\n",
        "\n",
        "train_masks = torch.tensor(train_masks)\n",
        "validation_masks = torch.tensor(validation_masks)\n",
        "\n",
        "# DataLoader for our training set.\n",
        "train_data = TensorDataset(train_inputs, train_masks, train_labels)\n",
        "train_sampler = RandomSampler(train_data)\n",
        "train_dataloader = DataLoader(train_data, sampler=train_sampler, batch_size=batch_size)\n",
        "\n",
        "# DataLoader for our validation(test) set.\n",
        "validation_data = TensorDataset(validation_inputs, validation_masks, validation_labels)\n",
        "validation_sampler = SequentialSampler(validation_data)\n",
        "validation_dataloader = DataLoader(validation_data, sampler=validation_sampler, batch_size=batch_size)\n",
        "\n",
        "class_weight = torch.FloatTensor([weight_for_0,weight_for_1])"
      ],
      "execution_count": null,
      "outputs": []
    },
    {
      "cell_type": "markdown",
      "metadata": {
        "id": "Fy1U2n12ZkD_"
      },
      "source": [
        "## Helper functions"
      ]
    },
    {
      "cell_type": "code",
      "metadata": {
        "id": "VDGSvcuX9fW2"
      },
      "source": [
        "from sklearn.metrics import confusion_matrix\n",
        "\n",
        "def format_time(elapsed):\n",
        "    '''\n",
        "    Takes a time in seconds and returns a string hh:mm:ss\n",
        "    '''\n",
        "    # Round to the nearest second.\n",
        "    elapsed_rounded = int(round((elapsed)))\n",
        "\n",
        "    # Format as hh:mm:ss\n",
        "    return str(datetime.timedelta(seconds=elapsed_rounded))\n",
        "\n",
        "# Function to calculate the accuracy of our predictions vs labels\n",
        "def flat_accuracy(preds, labels):\n",
        "    pred_flat = np.argmax(preds, axis=1).flatten()\n",
        "    labels_flat = labels.flatten()\n",
        "    return np.sum(pred_flat == labels_flat) / len(labels_flat)\n",
        "\n",
        "def flat_confusion_matrix(preds, labels):\n",
        "    pred_flat = np.argmax(preds, axis=1).flatten()\n",
        "    labels_flat = labels.flatten()\n",
        "    return confusion_matrix(pred_flat,labels_flat,[0,1])\n",
        "\n",
        "def plot_acc_loss(acc,loss):\n",
        "    x1 = range(0, epochs)\n",
        "    x2 = range(0, epochs)\n",
        "    y1 = acc\n",
        "    y2 = loss\n",
        "    plt.subplot(2, 1, 1)\n",
        "    plt.plot(x1, y1, 'o-')\n",
        "    plt.title('Test accuracy vs. epoches')\n",
        "    plt.ylabel('Test accuracy')\n",
        "    plt.subplot(2, 1, 2)\n",
        "    plt.plot(x2, y2, '.-')\n",
        "    plt.xlabel('Test loss vs. epoches')\n",
        "    plt.ylabel('Test loss')\n",
        "    plt.show()"
      ],
      "execution_count": null,
      "outputs": []
    },
    {
      "cell_type": "markdown",
      "metadata": {
        "id": "jstl6HRLZnIw"
      },
      "source": [
        "## Build Model"
      ]
    },
    {
      "cell_type": "code",
      "metadata": {
        "id": "iCpFwfAX88fj"
      },
      "source": [
        "def bertpretrain(train_dataloader, validation_dataloader):\n",
        "    \n",
        "    if save_model.exists():\n",
        "        model = torch.load(save_model)\n",
        "    else:\n",
        "        model = BertForSequenceClassification.from_pretrained(\n",
        "            \"bert-base-uncased\",\n",
        "            config = BertConfig()\n",
        "            )\n",
        "\n",
        "    # Running the model on GPU.\n",
        "    model.cuda()\n",
        "\n",
        "    # Running on GPU if available, otherwise on CPU\n",
        "    device = torch.device(\"cuda:0\" if torch.cuda.is_available() else \"cpu\")\n",
        "\n",
        "    optimizer = AdamW(model.parameters(),\n",
        "                      lr = 2e-5,\n",
        "                      eps = 1e-8\n",
        "                      )\n",
        "\n",
        "    total_steps = len(train_dataloader) * epochs\n",
        "\n",
        "    scheduler = get_linear_schedule_with_warmup(optimizer,\n",
        "                                                num_warmup_steps=0,  # Default value in run_glue.py\n",
        "                                                num_training_steps=total_steps)\n",
        "\n",
        "    # Set the seed value all over the place to make this reproducible.\n",
        "    random.seed(seed_val)\n",
        "    np.random.seed(seed_val)\n",
        "    torch.manual_seed(seed_val)\n",
        "    torch.cuda.manual_seed_all(seed_val)\n",
        "\n",
        "    # Store the average loss after each epoch so we can plot them.\n",
        "    loss_values = []\n",
        "\n",
        "    val_accuracy = []\n",
        "\n",
        "    # For each epoch...\n",
        "    for epoch in range(0, epochs):\n",
        "\n",
        "        # ========================================\n",
        "        #               Training\n",
        "        # ========================================\n",
        "        print(\"\")\n",
        "        print('======== Epoch {:} / {:} ========'.format(epoch + 1, epochs))\n",
        "        print('Training...')\n",
        "\n",
        "        # Measure how long the training epoch takes.\n",
        "        t0 = time.time()\n",
        "\n",
        "        # Reset the total loss for this epoch.\n",
        "        total_loss = 0\n",
        "\n",
        "        model.train() # switch to training mode\n",
        "\n",
        "        # For each batch of training data...\n",
        "        for step, batch in enumerate(train_dataloader):\n",
        "            # Progress update every 40 batches.\n",
        "            if step % 40 == 0 and not step == 0:\n",
        "                # Calculate elapsed time in minutes.\n",
        "                elapsed = format_time(time.time() - t0)\n",
        "\n",
        "                # Report progress.\n",
        "                print('  Batch {:>5,}  of  {:>5,}.    Elapsed: {:}.'.format(step, len(train_dataloader), elapsed))\n",
        "\n",
        "            # Unpack this training batch from our dataloader.\n",
        "            # `batch` contains three pytorch tensors:\n",
        "            #   [0]: input ids\n",
        "            #   [1]: attention masks\n",
        "            #   [2]: labels\n",
        "            b_input_ids = batch[0].to(device)\n",
        "            b_input_mask = batch[1].to(device)\n",
        "            b_labels = batch[2].to(device)\n",
        "\n",
        "            # Clear any previously calculated gradients before performing a backward pass.\n",
        "            model.zero_grad()\n",
        "\n",
        "            # Perform a forward pass (evaluate the model on this training batch).\n",
        "            outputs = model(b_input_ids,\n",
        "                     token_type_ids=None,\n",
        "                     attention_mask=b_input_mask,\n",
        "                     labels=b_labels)\n",
        "\n",
        "            # Pull the loss value out of the tuple.\n",
        "            #loss = outputs[0]\n",
        "            ce = torch.nn.CrossEntropyLoss(weight=class_weight.to(device))\n",
        "            loss = ce(outputs[1],b_labels)\n",
        "\n",
        "            # Accumulate the training loss over all of the batches so that we can\n",
        "            # calculate the average loss at the end.\n",
        "            total_loss += loss.item()\n",
        "\n",
        "            # Perform a backward pass to calculate the gradients.\n",
        "            loss.backward()\n",
        "\n",
        "            # Clip the norm of the gradients to 1.0.\n",
        "            # This is to help prevent the \"exploding gradients\" problem.\n",
        "            torch.nn.utils.clip_grad_norm_(model.parameters(), 1.0)\n",
        "\n",
        "            # Update parameters and take a step using the computed gradient.\n",
        "            # The optimizer dictates the \"update rule\"--how the parameters are\n",
        "            # modified based on their gradients, the learning rate, etc.\n",
        "            optimizer.step()\n",
        "\n",
        "            # Update the learning rate.\n",
        "            scheduler.step()\n",
        "\n",
        "        # Calculate the average loss over the training data.\n",
        "        avg_train_loss = total_loss / len(train_dataloader)\n",
        "\n",
        "        # Store the loss value for plotting the learning curve.\n",
        "        loss_values.append(avg_train_loss)\n",
        "\n",
        "        print(\"\")\n",
        "        print(\"  Average training loss: {0:.2f}\".format(avg_train_loss))\n",
        "        print(\"  Training epcoh took: {:}\".format(format_time(time.time() - t0)))\n",
        "\n",
        "\n",
        "        # ========================================\n",
        "        #         Validation\n",
        "        # ========================================\n",
        "\n",
        "        print(\"\")\n",
        "        print(\"Running Validation...\")\n",
        "\n",
        "        t0 = time.time() # Validation start time\n",
        "\n",
        "        # Put the model in evaluation mode\n",
        "        model.eval()\n",
        "\n",
        "        eval_loss, eval_accuracy = 0, 0\n",
        "        val_conf_matrix = [np.array([0,0]),np.array([0,0])]\n",
        "        nb_eval_steps, nb_eval_examples = 0, 0\n",
        "\n",
        "\n",
        "        # Evaluate data for one epoch\n",
        "        for batch in validation_dataloader:\n",
        "\n",
        "            batch = tuple(t.to(device) for t in batch)\n",
        "\n",
        "\n",
        "            b_input_ids, b_input_mask, b_labels = batch\n",
        "\n",
        "            # Telling the model not to compute or store gradients, saving memory and\n",
        "            # speeding up validation\n",
        "            with torch.no_grad():\n",
        "                outputs = model(b_input_ids,\n",
        "                         token_type_ids=None,\n",
        "                         attention_mask=b_input_mask)\n",
        "\n",
        "            # Get the \"logits\" output by the model. The \"logits\" are the output\n",
        "            # values prior to applying an activation function like the softmax.\n",
        "            logits = outputs[0]\n",
        "\n",
        "            # Move logits and labels to CPU\n",
        "            logits = logits.detach().cpu().numpy()\n",
        "            label_ids = b_labels.to('cpu').numpy()\n",
        "\n",
        "            # Calculate the accuracy for this batch of test sentences.\n",
        "            tmp_eval_accuracy = flat_accuracy(logits, label_ids)\n",
        "            tmp_confusion_matrix = flat_confusion_matrix(logits,label_ids)\n",
        "\n",
        "            # Accumulate the total accuracy.\n",
        "            eval_accuracy += tmp_eval_accuracy\n",
        "            val_conf_matrix += tmp_confusion_matrix\n",
        "\n",
        "            # Track the number of batches\n",
        "            nb_eval_steps += 1\n",
        "\n",
        "        # Report the final accuracy for this validation run.\n",
        "        val_accuracy.append(eval_accuracy / nb_eval_steps)\n",
        "        print(\"  Accuracy: {0:.2f}\".format(eval_accuracy / nb_eval_steps))\n",
        "        print(\"  Confusion matrix:\", val_conf_matrix)\n",
        "        print(\"  Validation took: {:}\".format(format_time(time.time() - t0)))\n",
        "\n",
        "        if epoch % checkpoint == 0:\n",
        "          torch.save(model,save_model)\n",
        " \n",
        "\n",
        "    print(\"Saving model...\")\n",
        "    torch.save(model, save_model)\n",
        "\n",
        "    print(\"\")\n",
        "    print(\"Training complete!\")\n",
        "\n",
        "    return val_accuracy, loss_values, val_conf_matrix\n"
      ],
      "execution_count": null,
      "outputs": []
    },
    {
      "cell_type": "code",
      "metadata": {
        "id": "VDda8wH49fLV"
      },
      "source": [
        "val_accuracy, loss_values, val_conf_matrix = bertpretrain(train_dataloader, validation_dataloader)"
      ],
      "execution_count": null,
      "outputs": []
    },
    {
      "cell_type": "markdown",
      "metadata": {
        "id": "4oth3ltJUTTN"
      },
      "source": [
        "## Validation"
      ]
    },
    {
      "cell_type": "code",
      "metadata": {
        "id": "fToY73Tz9fOD"
      },
      "source": [
        "device = torch.device(\"cuda:0\" if torch.cuda.is_available() else \"cpu\")\n",
        "def bertpredict(model,inputs,masks):\n",
        "    bert_pred = model(inputs.to(device),\n",
        "              token_type_ids=None,\n",
        "              attention_mask=masks.to(device))[0].detach().cpu().numpy()\n",
        "    bertpred_class = np.argmax(bert_pred,axis=1).flatten()\n",
        "    return bertpred_class"
      ],
      "execution_count": null,
      "outputs": []
    },
    {
      "cell_type": "code",
      "metadata": {
        "id": "foISRd-xTTGh"
      },
      "source": [
        "bert = torch.load(save_model)\n",
        "\n",
        "result = bertpredict(bert, validation_inputs, validation_masks)\n",
        "binary_eval(validation_labels,result)"
      ],
      "execution_count": null,
      "outputs": []
    }
  ]
}