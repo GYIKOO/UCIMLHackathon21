{
  "nbformat": 4,
  "nbformat_minor": 0,
  "metadata": {
    "colab": {
      "name": "Classification.ipynb",
      "provenance": [],
      "collapsed_sections": [],
      "toc_visible": true,
      "authorship_tag": "ABX9TyPnHGO+0ldLfYdn5GwqK7xn",
      "include_colab_link": true
    },
    "kernelspec": {
      "name": "python3",
      "display_name": "Python 3"
    },
    "language_info": {
      "name": "python"
    },
    "widgets": {
      "application/vnd.jupyter.widget-state+json": {
        "8c8ade7948e147a5a47b01bcbf75d052": {
          "model_module": "@jupyter-widgets/controls",
          "model_name": "HBoxModel",
          "state": {
            "_view_name": "HBoxView",
            "_dom_classes": [],
            "_model_name": "HBoxModel",
            "_view_module": "@jupyter-widgets/controls",
            "_model_module_version": "1.5.0",
            "_view_count": null,
            "_view_module_version": "1.5.0",
            "box_style": "",
            "layout": "IPY_MODEL_eab73d7724fa4608ad51eb60fd963c1f",
            "_model_module": "@jupyter-widgets/controls",
            "children": [
              "IPY_MODEL_f03762acdb8a4f3582a53c06a9f07a5e",
              "IPY_MODEL_16cf6a7781fd4e5fabe19cafe597b062"
            ]
          }
        },
        "eab73d7724fa4608ad51eb60fd963c1f": {
          "model_module": "@jupyter-widgets/base",
          "model_name": "LayoutModel",
          "state": {
            "_view_name": "LayoutView",
            "grid_template_rows": null,
            "right": null,
            "justify_content": null,
            "_view_module": "@jupyter-widgets/base",
            "overflow": null,
            "_model_module_version": "1.2.0",
            "_view_count": null,
            "flex_flow": null,
            "width": null,
            "min_width": null,
            "border": null,
            "align_items": null,
            "bottom": null,
            "_model_module": "@jupyter-widgets/base",
            "top": null,
            "grid_column": null,
            "overflow_y": null,
            "overflow_x": null,
            "grid_auto_flow": null,
            "grid_area": null,
            "grid_template_columns": null,
            "flex": null,
            "_model_name": "LayoutModel",
            "justify_items": null,
            "grid_row": null,
            "max_height": null,
            "align_content": null,
            "visibility": null,
            "align_self": null,
            "height": null,
            "min_height": null,
            "padding": null,
            "grid_auto_rows": null,
            "grid_gap": null,
            "max_width": null,
            "order": null,
            "_view_module_version": "1.2.0",
            "grid_template_areas": null,
            "object_position": null,
            "object_fit": null,
            "grid_auto_columns": null,
            "margin": null,
            "display": null,
            "left": null
          }
        },
        "f03762acdb8a4f3582a53c06a9f07a5e": {
          "model_module": "@jupyter-widgets/controls",
          "model_name": "FloatProgressModel",
          "state": {
            "_view_name": "ProgressView",
            "style": "IPY_MODEL_19565c31b0544cb2ad4b10064072dd21",
            "_dom_classes": [],
            "description": "Downloading: 100%",
            "_model_name": "FloatProgressModel",
            "bar_style": "success",
            "max": 231508,
            "_view_module": "@jupyter-widgets/controls",
            "_model_module_version": "1.5.0",
            "value": 231508,
            "_view_count": null,
            "_view_module_version": "1.5.0",
            "orientation": "horizontal",
            "min": 0,
            "description_tooltip": null,
            "_model_module": "@jupyter-widgets/controls",
            "layout": "IPY_MODEL_4c094b0191c1482789d17e25180f6ee6"
          }
        },
        "16cf6a7781fd4e5fabe19cafe597b062": {
          "model_module": "@jupyter-widgets/controls",
          "model_name": "HTMLModel",
          "state": {
            "_view_name": "HTMLView",
            "style": "IPY_MODEL_6ceb04af07ae4d54a3907d54a1606bfa",
            "_dom_classes": [],
            "description": "",
            "_model_name": "HTMLModel",
            "placeholder": "​",
            "_view_module": "@jupyter-widgets/controls",
            "_model_module_version": "1.5.0",
            "value": " 232k/232k [03:24&lt;00:00, 1.13kB/s]",
            "_view_count": null,
            "_view_module_version": "1.5.0",
            "description_tooltip": null,
            "_model_module": "@jupyter-widgets/controls",
            "layout": "IPY_MODEL_26028eb7fde849968e847d49d3932fb6"
          }
        },
        "19565c31b0544cb2ad4b10064072dd21": {
          "model_module": "@jupyter-widgets/controls",
          "model_name": "ProgressStyleModel",
          "state": {
            "_view_name": "StyleView",
            "_model_name": "ProgressStyleModel",
            "description_width": "initial",
            "_view_module": "@jupyter-widgets/base",
            "_model_module_version": "1.5.0",
            "_view_count": null,
            "_view_module_version": "1.2.0",
            "bar_color": null,
            "_model_module": "@jupyter-widgets/controls"
          }
        },
        "4c094b0191c1482789d17e25180f6ee6": {
          "model_module": "@jupyter-widgets/base",
          "model_name": "LayoutModel",
          "state": {
            "_view_name": "LayoutView",
            "grid_template_rows": null,
            "right": null,
            "justify_content": null,
            "_view_module": "@jupyter-widgets/base",
            "overflow": null,
            "_model_module_version": "1.2.0",
            "_view_count": null,
            "flex_flow": null,
            "width": null,
            "min_width": null,
            "border": null,
            "align_items": null,
            "bottom": null,
            "_model_module": "@jupyter-widgets/base",
            "top": null,
            "grid_column": null,
            "overflow_y": null,
            "overflow_x": null,
            "grid_auto_flow": null,
            "grid_area": null,
            "grid_template_columns": null,
            "flex": null,
            "_model_name": "LayoutModel",
            "justify_items": null,
            "grid_row": null,
            "max_height": null,
            "align_content": null,
            "visibility": null,
            "align_self": null,
            "height": null,
            "min_height": null,
            "padding": null,
            "grid_auto_rows": null,
            "grid_gap": null,
            "max_width": null,
            "order": null,
            "_view_module_version": "1.2.0",
            "grid_template_areas": null,
            "object_position": null,
            "object_fit": null,
            "grid_auto_columns": null,
            "margin": null,
            "display": null,
            "left": null
          }
        },
        "6ceb04af07ae4d54a3907d54a1606bfa": {
          "model_module": "@jupyter-widgets/controls",
          "model_name": "DescriptionStyleModel",
          "state": {
            "_view_name": "StyleView",
            "_model_name": "DescriptionStyleModel",
            "description_width": "",
            "_view_module": "@jupyter-widgets/base",
            "_model_module_version": "1.5.0",
            "_view_count": null,
            "_view_module_version": "1.2.0",
            "_model_module": "@jupyter-widgets/controls"
          }
        },
        "26028eb7fde849968e847d49d3932fb6": {
          "model_module": "@jupyter-widgets/base",
          "model_name": "LayoutModel",
          "state": {
            "_view_name": "LayoutView",
            "grid_template_rows": null,
            "right": null,
            "justify_content": null,
            "_view_module": "@jupyter-widgets/base",
            "overflow": null,
            "_model_module_version": "1.2.0",
            "_view_count": null,
            "flex_flow": null,
            "width": null,
            "min_width": null,
            "border": null,
            "align_items": null,
            "bottom": null,
            "_model_module": "@jupyter-widgets/base",
            "top": null,
            "grid_column": null,
            "overflow_y": null,
            "overflow_x": null,
            "grid_auto_flow": null,
            "grid_area": null,
            "grid_template_columns": null,
            "flex": null,
            "_model_name": "LayoutModel",
            "justify_items": null,
            "grid_row": null,
            "max_height": null,
            "align_content": null,
            "visibility": null,
            "align_self": null,
            "height": null,
            "min_height": null,
            "padding": null,
            "grid_auto_rows": null,
            "grid_gap": null,
            "max_width": null,
            "order": null,
            "_view_module_version": "1.2.0",
            "grid_template_areas": null,
            "object_position": null,
            "object_fit": null,
            "grid_auto_columns": null,
            "margin": null,
            "display": null,
            "left": null
          }
        },
        "1bf3bb29ec4443e59f9165f46a5d09ea": {
          "model_module": "@jupyter-widgets/controls",
          "model_name": "HBoxModel",
          "state": {
            "_view_name": "HBoxView",
            "_dom_classes": [],
            "_model_name": "HBoxModel",
            "_view_module": "@jupyter-widgets/controls",
            "_model_module_version": "1.5.0",
            "_view_count": null,
            "_view_module_version": "1.5.0",
            "box_style": "",
            "layout": "IPY_MODEL_21caa4dc161c49fe8dc0d78ca717cce0",
            "_model_module": "@jupyter-widgets/controls",
            "children": [
              "IPY_MODEL_22aa906f359d4c10861b3b9a82541ef3",
              "IPY_MODEL_536b64b90cc4400c9028bb82cb7ea4e6"
            ]
          }
        },
        "21caa4dc161c49fe8dc0d78ca717cce0": {
          "model_module": "@jupyter-widgets/base",
          "model_name": "LayoutModel",
          "state": {
            "_view_name": "LayoutView",
            "grid_template_rows": null,
            "right": null,
            "justify_content": null,
            "_view_module": "@jupyter-widgets/base",
            "overflow": null,
            "_model_module_version": "1.2.0",
            "_view_count": null,
            "flex_flow": null,
            "width": null,
            "min_width": null,
            "border": null,
            "align_items": null,
            "bottom": null,
            "_model_module": "@jupyter-widgets/base",
            "top": null,
            "grid_column": null,
            "overflow_y": null,
            "overflow_x": null,
            "grid_auto_flow": null,
            "grid_area": null,
            "grid_template_columns": null,
            "flex": null,
            "_model_name": "LayoutModel",
            "justify_items": null,
            "grid_row": null,
            "max_height": null,
            "align_content": null,
            "visibility": null,
            "align_self": null,
            "height": null,
            "min_height": null,
            "padding": null,
            "grid_auto_rows": null,
            "grid_gap": null,
            "max_width": null,
            "order": null,
            "_view_module_version": "1.2.0",
            "grid_template_areas": null,
            "object_position": null,
            "object_fit": null,
            "grid_auto_columns": null,
            "margin": null,
            "display": null,
            "left": null
          }
        },
        "22aa906f359d4c10861b3b9a82541ef3": {
          "model_module": "@jupyter-widgets/controls",
          "model_name": "FloatProgressModel",
          "state": {
            "_view_name": "ProgressView",
            "style": "IPY_MODEL_393e232048904af0ac60c733dae8f39c",
            "_dom_classes": [],
            "description": "Downloading: 100%",
            "_model_name": "FloatProgressModel",
            "bar_style": "success",
            "max": 28,
            "_view_module": "@jupyter-widgets/controls",
            "_model_module_version": "1.5.0",
            "value": 28,
            "_view_count": null,
            "_view_module_version": "1.5.0",
            "orientation": "horizontal",
            "min": 0,
            "description_tooltip": null,
            "_model_module": "@jupyter-widgets/controls",
            "layout": "IPY_MODEL_161270795c89459daa625b9837f07f1f"
          }
        },
        "536b64b90cc4400c9028bb82cb7ea4e6": {
          "model_module": "@jupyter-widgets/controls",
          "model_name": "HTMLModel",
          "state": {
            "_view_name": "HTMLView",
            "style": "IPY_MODEL_95f0e842c8e54204b87a977c3eb5566f",
            "_dom_classes": [],
            "description": "",
            "_model_name": "HTMLModel",
            "placeholder": "​",
            "_view_module": "@jupyter-widgets/controls",
            "_model_module_version": "1.5.0",
            "value": " 28.0/28.0 [00:00&lt;00:00, 106B/s]",
            "_view_count": null,
            "_view_module_version": "1.5.0",
            "description_tooltip": null,
            "_model_module": "@jupyter-widgets/controls",
            "layout": "IPY_MODEL_e2c8fdd7905b4f0ab83012b82c8f2634"
          }
        },
        "393e232048904af0ac60c733dae8f39c": {
          "model_module": "@jupyter-widgets/controls",
          "model_name": "ProgressStyleModel",
          "state": {
            "_view_name": "StyleView",
            "_model_name": "ProgressStyleModel",
            "description_width": "initial",
            "_view_module": "@jupyter-widgets/base",
            "_model_module_version": "1.5.0",
            "_view_count": null,
            "_view_module_version": "1.2.0",
            "bar_color": null,
            "_model_module": "@jupyter-widgets/controls"
          }
        },
        "161270795c89459daa625b9837f07f1f": {
          "model_module": "@jupyter-widgets/base",
          "model_name": "LayoutModel",
          "state": {
            "_view_name": "LayoutView",
            "grid_template_rows": null,
            "right": null,
            "justify_content": null,
            "_view_module": "@jupyter-widgets/base",
            "overflow": null,
            "_model_module_version": "1.2.0",
            "_view_count": null,
            "flex_flow": null,
            "width": null,
            "min_width": null,
            "border": null,
            "align_items": null,
            "bottom": null,
            "_model_module": "@jupyter-widgets/base",
            "top": null,
            "grid_column": null,
            "overflow_y": null,
            "overflow_x": null,
            "grid_auto_flow": null,
            "grid_area": null,
            "grid_template_columns": null,
            "flex": null,
            "_model_name": "LayoutModel",
            "justify_items": null,
            "grid_row": null,
            "max_height": null,
            "align_content": null,
            "visibility": null,
            "align_self": null,
            "height": null,
            "min_height": null,
            "padding": null,
            "grid_auto_rows": null,
            "grid_gap": null,
            "max_width": null,
            "order": null,
            "_view_module_version": "1.2.0",
            "grid_template_areas": null,
            "object_position": null,
            "object_fit": null,
            "grid_auto_columns": null,
            "margin": null,
            "display": null,
            "left": null
          }
        },
        "95f0e842c8e54204b87a977c3eb5566f": {
          "model_module": "@jupyter-widgets/controls",
          "model_name": "DescriptionStyleModel",
          "state": {
            "_view_name": "StyleView",
            "_model_name": "DescriptionStyleModel",
            "description_width": "",
            "_view_module": "@jupyter-widgets/base",
            "_model_module_version": "1.5.0",
            "_view_count": null,
            "_view_module_version": "1.2.0",
            "_model_module": "@jupyter-widgets/controls"
          }
        },
        "e2c8fdd7905b4f0ab83012b82c8f2634": {
          "model_module": "@jupyter-widgets/base",
          "model_name": "LayoutModel",
          "state": {
            "_view_name": "LayoutView",
            "grid_template_rows": null,
            "right": null,
            "justify_content": null,
            "_view_module": "@jupyter-widgets/base",
            "overflow": null,
            "_model_module_version": "1.2.0",
            "_view_count": null,
            "flex_flow": null,
            "width": null,
            "min_width": null,
            "border": null,
            "align_items": null,
            "bottom": null,
            "_model_module": "@jupyter-widgets/base",
            "top": null,
            "grid_column": null,
            "overflow_y": null,
            "overflow_x": null,
            "grid_auto_flow": null,
            "grid_area": null,
            "grid_template_columns": null,
            "flex": null,
            "_model_name": "LayoutModel",
            "justify_items": null,
            "grid_row": null,
            "max_height": null,
            "align_content": null,
            "visibility": null,
            "align_self": null,
            "height": null,
            "min_height": null,
            "padding": null,
            "grid_auto_rows": null,
            "grid_gap": null,
            "max_width": null,
            "order": null,
            "_view_module_version": "1.2.0",
            "grid_template_areas": null,
            "object_position": null,
            "object_fit": null,
            "grid_auto_columns": null,
            "margin": null,
            "display": null,
            "left": null
          }
        },
        "64618692e8cf4a70a534094be1f85c46": {
          "model_module": "@jupyter-widgets/controls",
          "model_name": "HBoxModel",
          "state": {
            "_view_name": "HBoxView",
            "_dom_classes": [],
            "_model_name": "HBoxModel",
            "_view_module": "@jupyter-widgets/controls",
            "_model_module_version": "1.5.0",
            "_view_count": null,
            "_view_module_version": "1.5.0",
            "box_style": "",
            "layout": "IPY_MODEL_851475e39d9e4e38aabe98dcdb8c7d7c",
            "_model_module": "@jupyter-widgets/controls",
            "children": [
              "IPY_MODEL_b9140e32e92c4d3aac03d48a3119ce5b",
              "IPY_MODEL_155419b8c4854114a53936c2e5cae4be"
            ]
          }
        },
        "851475e39d9e4e38aabe98dcdb8c7d7c": {
          "model_module": "@jupyter-widgets/base",
          "model_name": "LayoutModel",
          "state": {
            "_view_name": "LayoutView",
            "grid_template_rows": null,
            "right": null,
            "justify_content": null,
            "_view_module": "@jupyter-widgets/base",
            "overflow": null,
            "_model_module_version": "1.2.0",
            "_view_count": null,
            "flex_flow": null,
            "width": null,
            "min_width": null,
            "border": null,
            "align_items": null,
            "bottom": null,
            "_model_module": "@jupyter-widgets/base",
            "top": null,
            "grid_column": null,
            "overflow_y": null,
            "overflow_x": null,
            "grid_auto_flow": null,
            "grid_area": null,
            "grid_template_columns": null,
            "flex": null,
            "_model_name": "LayoutModel",
            "justify_items": null,
            "grid_row": null,
            "max_height": null,
            "align_content": null,
            "visibility": null,
            "align_self": null,
            "height": null,
            "min_height": null,
            "padding": null,
            "grid_auto_rows": null,
            "grid_gap": null,
            "max_width": null,
            "order": null,
            "_view_module_version": "1.2.0",
            "grid_template_areas": null,
            "object_position": null,
            "object_fit": null,
            "grid_auto_columns": null,
            "margin": null,
            "display": null,
            "left": null
          }
        },
        "b9140e32e92c4d3aac03d48a3119ce5b": {
          "model_module": "@jupyter-widgets/controls",
          "model_name": "FloatProgressModel",
          "state": {
            "_view_name": "ProgressView",
            "style": "IPY_MODEL_b6adbd991cf4480b8437a479cf7bfd23",
            "_dom_classes": [],
            "description": "Downloading: 100%",
            "_model_name": "FloatProgressModel",
            "bar_style": "success",
            "max": 466062,
            "_view_module": "@jupyter-widgets/controls",
            "_model_module_version": "1.5.0",
            "value": 466062,
            "_view_count": null,
            "_view_module_version": "1.5.0",
            "orientation": "horizontal",
            "min": 0,
            "description_tooltip": null,
            "_model_module": "@jupyter-widgets/controls",
            "layout": "IPY_MODEL_b0b7f1ef70f44fff992137d21f0af401"
          }
        },
        "155419b8c4854114a53936c2e5cae4be": {
          "model_module": "@jupyter-widgets/controls",
          "model_name": "HTMLModel",
          "state": {
            "_view_name": "HTMLView",
            "style": "IPY_MODEL_94155fcb9bda4288ad42b1b93229e5ad",
            "_dom_classes": [],
            "description": "",
            "_model_name": "HTMLModel",
            "placeholder": "​",
            "_view_module": "@jupyter-widgets/controls",
            "_model_module_version": "1.5.0",
            "value": " 466k/466k [00:00&lt;00:00, 2.27MB/s]",
            "_view_count": null,
            "_view_module_version": "1.5.0",
            "description_tooltip": null,
            "_model_module": "@jupyter-widgets/controls",
            "layout": "IPY_MODEL_6869c3ae18df439882056ea7c5921106"
          }
        },
        "b6adbd991cf4480b8437a479cf7bfd23": {
          "model_module": "@jupyter-widgets/controls",
          "model_name": "ProgressStyleModel",
          "state": {
            "_view_name": "StyleView",
            "_model_name": "ProgressStyleModel",
            "description_width": "initial",
            "_view_module": "@jupyter-widgets/base",
            "_model_module_version": "1.5.0",
            "_view_count": null,
            "_view_module_version": "1.2.0",
            "bar_color": null,
            "_model_module": "@jupyter-widgets/controls"
          }
        },
        "b0b7f1ef70f44fff992137d21f0af401": {
          "model_module": "@jupyter-widgets/base",
          "model_name": "LayoutModel",
          "state": {
            "_view_name": "LayoutView",
            "grid_template_rows": null,
            "right": null,
            "justify_content": null,
            "_view_module": "@jupyter-widgets/base",
            "overflow": null,
            "_model_module_version": "1.2.0",
            "_view_count": null,
            "flex_flow": null,
            "width": null,
            "min_width": null,
            "border": null,
            "align_items": null,
            "bottom": null,
            "_model_module": "@jupyter-widgets/base",
            "top": null,
            "grid_column": null,
            "overflow_y": null,
            "overflow_x": null,
            "grid_auto_flow": null,
            "grid_area": null,
            "grid_template_columns": null,
            "flex": null,
            "_model_name": "LayoutModel",
            "justify_items": null,
            "grid_row": null,
            "max_height": null,
            "align_content": null,
            "visibility": null,
            "align_self": null,
            "height": null,
            "min_height": null,
            "padding": null,
            "grid_auto_rows": null,
            "grid_gap": null,
            "max_width": null,
            "order": null,
            "_view_module_version": "1.2.0",
            "grid_template_areas": null,
            "object_position": null,
            "object_fit": null,
            "grid_auto_columns": null,
            "margin": null,
            "display": null,
            "left": null
          }
        },
        "94155fcb9bda4288ad42b1b93229e5ad": {
          "model_module": "@jupyter-widgets/controls",
          "model_name": "DescriptionStyleModel",
          "state": {
            "_view_name": "StyleView",
            "_model_name": "DescriptionStyleModel",
            "description_width": "",
            "_view_module": "@jupyter-widgets/base",
            "_model_module_version": "1.5.0",
            "_view_count": null,
            "_view_module_version": "1.2.0",
            "_model_module": "@jupyter-widgets/controls"
          }
        },
        "6869c3ae18df439882056ea7c5921106": {
          "model_module": "@jupyter-widgets/base",
          "model_name": "LayoutModel",
          "state": {
            "_view_name": "LayoutView",
            "grid_template_rows": null,
            "right": null,
            "justify_content": null,
            "_view_module": "@jupyter-widgets/base",
            "overflow": null,
            "_model_module_version": "1.2.0",
            "_view_count": null,
            "flex_flow": null,
            "width": null,
            "min_width": null,
            "border": null,
            "align_items": null,
            "bottom": null,
            "_model_module": "@jupyter-widgets/base",
            "top": null,
            "grid_column": null,
            "overflow_y": null,
            "overflow_x": null,
            "grid_auto_flow": null,
            "grid_area": null,
            "grid_template_columns": null,
            "flex": null,
            "_model_name": "LayoutModel",
            "justify_items": null,
            "grid_row": null,
            "max_height": null,
            "align_content": null,
            "visibility": null,
            "align_self": null,
            "height": null,
            "min_height": null,
            "padding": null,
            "grid_auto_rows": null,
            "grid_gap": null,
            "max_width": null,
            "order": null,
            "_view_module_version": "1.2.0",
            "grid_template_areas": null,
            "object_position": null,
            "object_fit": null,
            "grid_auto_columns": null,
            "margin": null,
            "display": null,
            "left": null
          }
        }
      }
    }
  },
  "cells": [
    {
      "cell_type": "markdown",
      "metadata": {
        "id": "view-in-github",
        "colab_type": "text"
      },
      "source": [
        "<a href=\"https://colab.research.google.com/github/GYIKOO/UCIMLHackathon21/blob/main/Classification.ipynb\" target=\"_parent\"><img src=\"https://colab.research.google.com/assets/colab-badge.svg\" alt=\"Open In Colab\"/></a>"
      ]
    },
    {
      "cell_type": "code",
      "metadata": {
        "id": "lQZJ89zPlDeG"
      },
      "source": [
        "!pip install transformers"
      ],
      "execution_count": null,
      "outputs": []
    },
    {
      "cell_type": "code",
      "metadata": {
        "id": "iyTGqaxwk6Ei"
      },
      "source": [
        "from transformers import BertTokenizer, BertForSequenceClassification, AdamW, BertConfig\n",
        "import torch\n",
        "from torch.utils.data import TensorDataset, DataLoader, RandomSampler, SequentialSampler\n",
        "import pandas as pd\n",
        "import numpy as np\n",
        "\n",
        "from transformers import get_linear_schedule_with_warmup\n",
        "import time\n",
        "import datetime\n",
        "import random\n",
        "from keras.preprocessing.sequence import pad_sequences\n",
        "from pathlib import Path\n",
        "import matplotlib.pyplot as plt"
      ],
      "execution_count": 2,
      "outputs": []
    },
    {
      "cell_type": "code",
      "metadata": {
        "id": "zBE8VlH69QXd"
      },
      "source": [
        "# Config\n",
        "save_model = Path('bertmodel.h5')\n",
        "\n",
        "seed_val = 1 # random seed for training\n",
        "\n",
        "MAX_LEN = 32\n",
        "batch_size = 8\n",
        "\n",
        "epochs = 1\n",
        "checkpoint = 2\n",
        "\n",
        "n_jobs = 2 # num of labels\n",
        "\n",
        "class_weight = torch.FloatTensor([1,5])"
      ],
      "execution_count": 22,
      "outputs": []
    },
    {
      "cell_type": "code",
      "metadata": {
        "id": "lkllF9eFk9KC",
        "colab": {
          "base_uri": "https://localhost:8080/",
          "height": 289
        },
        "outputId": "c1c16c9b-ee40-4da0-edd0-358bee867218"
      },
      "source": [
        "df = pd.read_csv('/content/covid_lies.csv')\n",
        "df = df.assign(related=[1]*len(df))\n",
        "df.head()"
      ],
      "execution_count": 5,
      "outputs": [
        {
          "output_type": "execute_result",
          "data": {
            "text/html": [
              "<div>\n",
              "<style scoped>\n",
              "    .dataframe tbody tr th:only-of-type {\n",
              "        vertical-align: middle;\n",
              "    }\n",
              "\n",
              "    .dataframe tbody tr th {\n",
              "        vertical-align: top;\n",
              "    }\n",
              "\n",
              "    .dataframe thead th {\n",
              "        text-align: right;\n",
              "    }\n",
              "</style>\n",
              "<table border=\"1\" class=\"dataframe\">\n",
              "  <thead>\n",
              "    <tr style=\"text-align: right;\">\n",
              "      <th></th>\n",
              "      <th>misconception_id</th>\n",
              "      <th>misconception</th>\n",
              "      <th>tweet</th>\n",
              "      <th>tweet_id</th>\n",
              "      <th>label</th>\n",
              "      <th>related</th>\n",
              "    </tr>\n",
              "  </thead>\n",
              "  <tbody>\n",
              "    <tr>\n",
              "      <th>0</th>\n",
              "      <td>3</td>\n",
              "      <td>Coronavirus is genetically engineered.</td>\n",
              "      <td>How the COVID-19 outbreak is changing global p...</td>\n",
              "      <td>1233965490948591616</td>\n",
              "      <td>na</td>\n",
              "      <td>1</td>\n",
              "    </tr>\n",
              "    <tr>\n",
              "      <th>1</th>\n",
              "      <td>30</td>\n",
              "      <td>Blowing conch shells destroys coronavirus pote...</td>\n",
              "      <td>Getting coronavirus and then coughing on peopl...</td>\n",
              "      <td>1233907923765559296</td>\n",
              "      <td>na</td>\n",
              "      <td>1</td>\n",
              "    </tr>\n",
              "    <tr>\n",
              "      <th>2</th>\n",
              "      <td>57</td>\n",
              "      <td>Swans and dolphins swimming in Venice canals f...</td>\n",
              "      <td>Disturbing letter about life in COVID-19 ward ...</td>\n",
              "      <td>1233911842910720000</td>\n",
              "      <td>na</td>\n",
              "      <td>1</td>\n",
              "    </tr>\n",
              "    <tr>\n",
              "      <th>3</th>\n",
              "      <td>22</td>\n",
              "      <td>Cocaine cures coronavirus.</td>\n",
              "      <td>How to prevent corona virus?🤔 Use cowdung cake...</td>\n",
              "      <td>1233947734094290944</td>\n",
              "      <td>na</td>\n",
              "      <td>1</td>\n",
              "    </tr>\n",
              "    <tr>\n",
              "      <th>4</th>\n",
              "      <td>32</td>\n",
              "      <td>Observing janata curfew will result in the red...</td>\n",
              "      <td>This is concerning - They must self-insure for...</td>\n",
              "      <td>1233937085297332224</td>\n",
              "      <td>na</td>\n",
              "      <td>1</td>\n",
              "    </tr>\n",
              "  </tbody>\n",
              "</table>\n",
              "</div>"
            ],
            "text/plain": [
              "   misconception_id  ... related\n",
              "0                 3  ...       1\n",
              "1                30  ...       1\n",
              "2                57  ...       1\n",
              "3                22  ...       1\n",
              "4                32  ...       1\n",
              "\n",
              "[5 rows x 6 columns]"
            ]
          },
          "metadata": {
            "tags": []
          },
          "execution_count": 5
        }
      ]
    },
    {
      "cell_type": "code",
      "metadata": {
        "colab": {
          "base_uri": "https://localhost:8080/",
          "height": 529
        },
        "id": "VrQ7jCMtP5Dj",
        "outputId": "e464fa51-a1b6-4d37-bbce-606c19655778"
      },
      "source": [
        "df.head(10)"
      ],
      "execution_count": null,
      "outputs": [
        {
          "output_type": "execute_result",
          "data": {
            "text/html": [
              "<div>\n",
              "<style scoped>\n",
              "    .dataframe tbody tr th:only-of-type {\n",
              "        vertical-align: middle;\n",
              "    }\n",
              "\n",
              "    .dataframe tbody tr th {\n",
              "        vertical-align: top;\n",
              "    }\n",
              "\n",
              "    .dataframe thead th {\n",
              "        text-align: right;\n",
              "    }\n",
              "</style>\n",
              "<table border=\"1\" class=\"dataframe\">\n",
              "  <thead>\n",
              "    <tr style=\"text-align: right;\">\n",
              "      <th></th>\n",
              "      <th>misconception_id</th>\n",
              "      <th>misconception</th>\n",
              "      <th>tweet</th>\n",
              "      <th>tweet_id</th>\n",
              "      <th>label</th>\n",
              "      <th>related</th>\n",
              "    </tr>\n",
              "  </thead>\n",
              "  <tbody>\n",
              "    <tr>\n",
              "      <th>0</th>\n",
              "      <td>3</td>\n",
              "      <td>Coronavirus is genetically engineered.</td>\n",
              "      <td>How the COVID-19 outbreak is changing global p...</td>\n",
              "      <td>1233965490948591616</td>\n",
              "      <td>na</td>\n",
              "      <td>1</td>\n",
              "    </tr>\n",
              "    <tr>\n",
              "      <th>1</th>\n",
              "      <td>30</td>\n",
              "      <td>Blowing conch shells destroys coronavirus pote...</td>\n",
              "      <td>Getting coronavirus and then coughing on peopl...</td>\n",
              "      <td>1233907923765559296</td>\n",
              "      <td>na</td>\n",
              "      <td>1</td>\n",
              "    </tr>\n",
              "    <tr>\n",
              "      <th>2</th>\n",
              "      <td>57</td>\n",
              "      <td>Swans and dolphins swimming in Venice canals f...</td>\n",
              "      <td>Disturbing letter about life in COVID-19 ward ...</td>\n",
              "      <td>1233911842910720000</td>\n",
              "      <td>na</td>\n",
              "      <td>1</td>\n",
              "    </tr>\n",
              "    <tr>\n",
              "      <th>3</th>\n",
              "      <td>22</td>\n",
              "      <td>Cocaine cures coronavirus.</td>\n",
              "      <td>How to prevent corona virus?🤔 Use cowdung cake...</td>\n",
              "      <td>1233947734094290944</td>\n",
              "      <td>na</td>\n",
              "      <td>1</td>\n",
              "    </tr>\n",
              "    <tr>\n",
              "      <th>4</th>\n",
              "      <td>32</td>\n",
              "      <td>Observing janata curfew will result in the red...</td>\n",
              "      <td>This is concerning - They must self-insure for...</td>\n",
              "      <td>1233937085297332224</td>\n",
              "      <td>na</td>\n",
              "      <td>1</td>\n",
              "    </tr>\n",
              "    <tr>\n",
              "      <th>5</th>\n",
              "      <td>25</td>\n",
              "      <td>Holy communion cannot be the cause of the spre...</td>\n",
              "      <td>@USERNAME @USERNAME coronavirus and illegals ;...</td>\n",
              "      <td>1233955845756653568</td>\n",
              "      <td>na</td>\n",
              "      <td>1</td>\n",
              "    </tr>\n",
              "    <tr>\n",
              "      <th>6</th>\n",
              "      <td>61</td>\n",
              "      <td>Lions were freed to keep people off the street...</td>\n",
              "      <td>@USERNAME @USERNAME Not surprised with dem &amp;am...</td>\n",
              "      <td>1233917889557692416</td>\n",
              "      <td>na</td>\n",
              "      <td>1</td>\n",
              "    </tr>\n",
              "    <tr>\n",
              "      <th>7</th>\n",
              "      <td>3</td>\n",
              "      <td>Coronavirus is genetically engineered.</td>\n",
              "      <td>@USERNAME @USERNAME @USERNAME No it's not. Cor...</td>\n",
              "      <td>1233952635725778944</td>\n",
              "      <td>na</td>\n",
              "      <td>1</td>\n",
              "    </tr>\n",
              "    <tr>\n",
              "      <th>8</th>\n",
              "      <td>40</td>\n",
              "      <td>Cannabis protects against COVID-19.</td>\n",
              "      <td>UN health agency warns against coronavirus COV...</td>\n",
              "      <td>1233940738439815168</td>\n",
              "      <td>na</td>\n",
              "      <td>1</td>\n",
              "    </tr>\n",
              "    <tr>\n",
              "      <th>9</th>\n",
              "      <td>50</td>\n",
              "      <td>It is safe for individuals infected with COVID...</td>\n",
              "      <td>“Most people (not elderly, no underlying healt...</td>\n",
              "      <td>1233920123183828992</td>\n",
              "      <td>na</td>\n",
              "      <td>1</td>\n",
              "    </tr>\n",
              "  </tbody>\n",
              "</table>\n",
              "</div>"
            ],
            "text/plain": [
              "   misconception_id  ... related\n",
              "0                 3  ...       1\n",
              "1                30  ...       1\n",
              "2                57  ...       1\n",
              "3                22  ...       1\n",
              "4                32  ...       1\n",
              "5                25  ...       1\n",
              "6                61  ...       1\n",
              "7                 3  ...       1\n",
              "8                40  ...       1\n",
              "9                50  ...       1\n",
              "\n",
              "[10 rows x 6 columns]"
            ]
          },
          "metadata": {
            "tags": []
          },
          "execution_count": 91
        }
      ]
    },
    {
      "cell_type": "markdown",
      "metadata": {
        "id": "-dFi0fLqCNti"
      },
      "source": [
        "# Sample"
      ]
    },
    {
      "cell_type": "markdown",
      "metadata": {
        "id": "tcG1nJPrXyED"
      },
      "source": [
        "The table of first 20 misconceptions."
      ]
    },
    {
      "cell_type": "code",
      "metadata": {
        "colab": {
          "base_uri": "https://localhost:8080/",
          "height": 669
        },
        "id": "sd7dvQaO88VS",
        "outputId": "7507aba7-449c-4cd1-8ae6-9dab8f372655"
      },
      "source": [
        "miscon_df = df[['misconception_id','misconception']].drop_duplicates(subset='misconception_id').sort_values(by='misconception_id').reset_index(drop=True)\n",
        "mini_mdf = miscon_df[:20].reset_index(drop=True)\n",
        "mini_mdf"
      ],
      "execution_count": 6,
      "outputs": [
        {
          "output_type": "execute_result",
          "data": {
            "text/html": [
              "<div>\n",
              "<style scoped>\n",
              "    .dataframe tbody tr th:only-of-type {\n",
              "        vertical-align: middle;\n",
              "    }\n",
              "\n",
              "    .dataframe tbody tr th {\n",
              "        vertical-align: top;\n",
              "    }\n",
              "\n",
              "    .dataframe thead th {\n",
              "        text-align: right;\n",
              "    }\n",
              "</style>\n",
              "<table border=\"1\" class=\"dataframe\">\n",
              "  <thead>\n",
              "    <tr style=\"text-align: right;\">\n",
              "      <th></th>\n",
              "      <th>misconception_id</th>\n",
              "      <th>misconception</th>\n",
              "    </tr>\n",
              "  </thead>\n",
              "  <tbody>\n",
              "    <tr>\n",
              "      <th>0</th>\n",
              "      <td>1</td>\n",
              "      <td>A person can tell if they have coronavirus or ...</td>\n",
              "    </tr>\n",
              "    <tr>\n",
              "      <th>1</th>\n",
              "      <td>2</td>\n",
              "      <td>Drinking large amounts of water will protect a...</td>\n",
              "    </tr>\n",
              "    <tr>\n",
              "      <th>2</th>\n",
              "      <td>3</td>\n",
              "      <td>Coronavirus is genetically engineered.</td>\n",
              "    </tr>\n",
              "    <tr>\n",
              "      <th>3</th>\n",
              "      <td>4</td>\n",
              "      <td>Dean Koontz predicted the pandemic in his 1981...</td>\n",
              "    </tr>\n",
              "    <tr>\n",
              "      <th>4</th>\n",
              "      <td>5</td>\n",
              "      <td>The first person infected is a researcher name...</td>\n",
              "    </tr>\n",
              "    <tr>\n",
              "      <th>5</th>\n",
              "      <td>6</td>\n",
              "      <td>A decade-old map published by the World Popula...</td>\n",
              "    </tr>\n",
              "    <tr>\n",
              "      <th>6</th>\n",
              "      <td>7</td>\n",
              "      <td>Boiled ginger can cure coronavirus.</td>\n",
              "    </tr>\n",
              "    <tr>\n",
              "      <th>7</th>\n",
              "      <td>8</td>\n",
              "      <td>Vitamin C can prevent coronavirus circulation.</td>\n",
              "    </tr>\n",
              "    <tr>\n",
              "      <th>8</th>\n",
              "      <td>9</td>\n",
              "      <td>Africans are more resistant to coronavirus.</td>\n",
              "    </tr>\n",
              "    <tr>\n",
              "      <th>9</th>\n",
              "      <td>10</td>\n",
              "      <td>Coronavirus is caused by 5G.</td>\n",
              "    </tr>\n",
              "    <tr>\n",
              "      <th>10</th>\n",
              "      <td>11</td>\n",
              "      <td>Viruses are wastes from cells that are poisone...</td>\n",
              "    </tr>\n",
              "    <tr>\n",
              "      <th>11</th>\n",
              "      <td>12</td>\n",
              "      <td>Methanol consumption cures or protects against...</td>\n",
              "    </tr>\n",
              "    <tr>\n",
              "      <th>12</th>\n",
              "      <td>13</td>\n",
              "      <td>Whiskey and honey cure coronavirus.</td>\n",
              "    </tr>\n",
              "    <tr>\n",
              "      <th>13</th>\n",
              "      <td>14</td>\n",
              "      <td>Hand sanitiser sold commercially does not dest...</td>\n",
              "    </tr>\n",
              "    <tr>\n",
              "      <th>14</th>\n",
              "      <td>15</td>\n",
              "      <td>Coronavirus can only survive in cold temperatu...</td>\n",
              "    </tr>\n",
              "    <tr>\n",
              "      <th>15</th>\n",
              "      <td>16</td>\n",
              "      <td>Acetic acid is effective against coronavirus.</td>\n",
              "    </tr>\n",
              "    <tr>\n",
              "      <th>16</th>\n",
              "      <td>17</td>\n",
              "      <td>Avocado and mint tea cures coronavirus.</td>\n",
              "    </tr>\n",
              "    <tr>\n",
              "      <th>17</th>\n",
              "      <td>18</td>\n",
              "      <td>Essential oils cure coronavirus.</td>\n",
              "    </tr>\n",
              "    <tr>\n",
              "      <th>18</th>\n",
              "      <td>19</td>\n",
              "      <td>Vitamin C cures coronavirus.</td>\n",
              "    </tr>\n",
              "    <tr>\n",
              "      <th>19</th>\n",
              "      <td>20</td>\n",
              "      <td>Vitamin D cures coronavirus.</td>\n",
              "    </tr>\n",
              "  </tbody>\n",
              "</table>\n",
              "</div>"
            ],
            "text/plain": [
              "    misconception_id                                      misconception\n",
              "0                  1  A person can tell if they have coronavirus or ...\n",
              "1                  2  Drinking large amounts of water will protect a...\n",
              "2                  3             Coronavirus is genetically engineered.\n",
              "3                  4  Dean Koontz predicted the pandemic in his 1981...\n",
              "4                  5  The first person infected is a researcher name...\n",
              "5                  6  A decade-old map published by the World Popula...\n",
              "6                  7                Boiled ginger can cure coronavirus.\n",
              "7                  8     Vitamin C can prevent coronavirus circulation.\n",
              "8                  9        Africans are more resistant to coronavirus.\n",
              "9                 10                       Coronavirus is caused by 5G.\n",
              "10                11  Viruses are wastes from cells that are poisone...\n",
              "11                12  Methanol consumption cures or protects against...\n",
              "12                13                Whiskey and honey cure coronavirus.\n",
              "13                14  Hand sanitiser sold commercially does not dest...\n",
              "14                15  Coronavirus can only survive in cold temperatu...\n",
              "15                16      Acetic acid is effective against coronavirus.\n",
              "16                17            Avocado and mint tea cures coronavirus.\n",
              "17                18                   Essential oils cure coronavirus.\n",
              "18                19                       Vitamin C cures coronavirus.\n",
              "19                20                       Vitamin D cures coronavirus."
            ]
          },
          "metadata": {
            "tags": []
          },
          "execution_count": 6
        }
      ]
    },
    {
      "cell_type": "markdown",
      "metadata": {
        "id": "_V7quvzyX5kk"
      },
      "source": [
        "The table of first 15 tweets."
      ]
    },
    {
      "cell_type": "code",
      "metadata": {
        "colab": {
          "base_uri": "https://localhost:8080/",
          "height": 514
        },
        "id": "-tq1MACe90ee",
        "outputId": "756a4ddb-e81e-41c0-9229-9ecafc542095"
      },
      "source": [
        "tweets_df = df[['tweet_id','tweet']].drop_duplicates(subset='tweet').sort_values(by='tweet_id')\n",
        "mini_tdf = tweets_df[:15].reset_index(drop=True)\n",
        "mini_tdf = mini_tdf.assign(tweet_index = [i for i in range(1,len(mini_tdf)+1)])\n",
        "mini_tdf"
      ],
      "execution_count": 7,
      "outputs": [
        {
          "output_type": "execute_result",
          "data": {
            "text/html": [
              "<div>\n",
              "<style scoped>\n",
              "    .dataframe tbody tr th:only-of-type {\n",
              "        vertical-align: middle;\n",
              "    }\n",
              "\n",
              "    .dataframe tbody tr th {\n",
              "        vertical-align: top;\n",
              "    }\n",
              "\n",
              "    .dataframe thead th {\n",
              "        text-align: right;\n",
              "    }\n",
              "</style>\n",
              "<table border=\"1\" class=\"dataframe\">\n",
              "  <thead>\n",
              "    <tr style=\"text-align: right;\">\n",
              "      <th></th>\n",
              "      <th>tweet_id</th>\n",
              "      <th>tweet</th>\n",
              "      <th>tweet_index</th>\n",
              "    </tr>\n",
              "  </thead>\n",
              "  <tbody>\n",
              "    <tr>\n",
              "      <th>0</th>\n",
              "      <td>1230000000000000000</td>\n",
              "      <td>How long does the new coronavirus remain activ...</td>\n",
              "      <td>1</td>\n",
              "    </tr>\n",
              "    <tr>\n",
              "      <th>1</th>\n",
              "      <td>1230000000000000000</td>\n",
              "      <td>Millimetre wave technology will kill an indivi...</td>\n",
              "      <td>2</td>\n",
              "    </tr>\n",
              "    <tr>\n",
              "      <th>2</th>\n",
              "      <td>1230000000000000000</td>\n",
              "      <td>How do we strengthen our immune systems to fig...</td>\n",
              "      <td>3</td>\n",
              "    </tr>\n",
              "    <tr>\n",
              "      <th>3</th>\n",
              "      <td>1233904797775990784</td>\n",
              "      <td>When it comes to coronavirus, who is the most ...</td>\n",
              "      <td>4</td>\n",
              "    </tr>\n",
              "    <tr>\n",
              "      <th>4</th>\n",
              "      <td>1233904858601840640</td>\n",
              "      <td>#Coronavirus and China's Tax Response\\n\\n@USER...</td>\n",
              "      <td>5</td>\n",
              "    </tr>\n",
              "    <tr>\n",
              "      <th>5</th>\n",
              "      <td>1233904868076683264</td>\n",
              "      <td>How has the coronavirus impacted the classroom...</td>\n",
              "      <td>6</td>\n",
              "    </tr>\n",
              "    <tr>\n",
              "      <th>6</th>\n",
              "      <td>1233904883482296320</td>\n",
              "      <td>Coronavirus' cure can be found from the source...</td>\n",
              "      <td>7</td>\n",
              "    </tr>\n",
              "    <tr>\n",
              "      <th>7</th>\n",
              "      <td>1233904905687097344</td>\n",
              "      <td>A touch of Pontius Pilate . \\n\\nCoronavirus: B...</td>\n",
              "      <td>8</td>\n",
              "    </tr>\n",
              "    <tr>\n",
              "      <th>8</th>\n",
              "      <td>1233904929242218496</td>\n",
              "      <td>Moderna, a biotech company who recently made i...</td>\n",
              "      <td>9</td>\n",
              "    </tr>\n",
              "    <tr>\n",
              "      <th>9</th>\n",
              "      <td>1233904948607365120</td>\n",
              "      <td>Bill Gates predicted a coronavirus-like outbre...</td>\n",
              "      <td>10</td>\n",
              "    </tr>\n",
              "    <tr>\n",
              "      <th>10</th>\n",
              "      <td>1233904988214173696</td>\n",
              "      <td>@USERNAME 3 safety pillars need to be balanced...</td>\n",
              "      <td>11</td>\n",
              "    </tr>\n",
              "    <tr>\n",
              "      <th>11</th>\n",
              "      <td>1233905014768189440</td>\n",
              "      <td>I bet Anti Vaxxers are gonna be the first to l...</td>\n",
              "      <td>12</td>\n",
              "    </tr>\n",
              "    <tr>\n",
              "      <th>12</th>\n",
              "      <td>1233905035706327040</td>\n",
              "      <td>Report on the efficacy of a drug manufactured ...</td>\n",
              "      <td>13</td>\n",
              "    </tr>\n",
              "    <tr>\n",
              "      <th>13</th>\n",
              "      <td>1233905049635442688</td>\n",
              "      <td>How can the virus live in Meth? It survives in...</td>\n",
              "      <td>14</td>\n",
              "    </tr>\n",
              "    <tr>\n",
              "      <th>14</th>\n",
              "      <td>1233905052001026048</td>\n",
              "      <td>Not trying to scare you but be careful of mask...</td>\n",
              "      <td>15</td>\n",
              "    </tr>\n",
              "  </tbody>\n",
              "</table>\n",
              "</div>"
            ],
            "text/plain": [
              "               tweet_id  ... tweet_index\n",
              "0   1230000000000000000  ...           1\n",
              "1   1230000000000000000  ...           2\n",
              "2   1230000000000000000  ...           3\n",
              "3   1233904797775990784  ...           4\n",
              "4   1233904858601840640  ...           5\n",
              "5   1233904868076683264  ...           6\n",
              "6   1233904883482296320  ...           7\n",
              "7   1233904905687097344  ...           8\n",
              "8   1233904929242218496  ...           9\n",
              "9   1233904948607365120  ...          10\n",
              "10  1233904988214173696  ...          11\n",
              "11  1233905014768189440  ...          12\n",
              "12  1233905035706327040  ...          13\n",
              "13  1233905049635442688  ...          14\n",
              "14  1233905052001026048  ...          15\n",
              "\n",
              "[15 rows x 3 columns]"
            ]
          },
          "metadata": {
            "tags": []
          },
          "execution_count": 7
        }
      ]
    },
    {
      "cell_type": "markdown",
      "metadata": {
        "id": "_bCJn0JKX-rg"
      },
      "source": [
        "Connect all pairs of elements in the two tables. Mark existed relationships between misconception and tweet in original dataset as 'related'."
      ]
    },
    {
      "cell_type": "code",
      "metadata": {
        "id": "OeL6NNsN90g_"
      },
      "source": [
        "temp1 = mini_tdf.loc[mini_tdf.index.repeat(len(mini_mdf))].reset_index(drop=True)"
      ],
      "execution_count": 8,
      "outputs": []
    },
    {
      "cell_type": "code",
      "metadata": {
        "id": "PZxM9mW-ABll"
      },
      "source": [
        "full_table = temp1.assign(misconception_id = mini_mdf.misconception_id.values.tolist()*len(mini_tdf),\n",
        "              misconception = mini_mdf.misconception.values.tolist()*len(mini_tdf))"
      ],
      "execution_count": 9,
      "outputs": []
    },
    {
      "cell_type": "code",
      "metadata": {
        "id": "tKu22kNA_ZLv",
        "colab": {
          "base_uri": "https://localhost:8080/",
          "height": 289
        },
        "outputId": "f0b26de4-e969-4cdd-9979-4406a5070ada"
      },
      "source": [
        "sample = pd.merge(full_table, df,\n",
        "     how = 'left',\n",
        "     left_on = ['tweet_id','tweet','misconception_id','misconception'],\n",
        "     right_on = ['tweet_id','tweet','misconception_id','misconception']\n",
        "    ).drop(columns='label').fillna(0)\n",
        "sample.related = sample.related.astype('int64')\n",
        "sample.head()"
      ],
      "execution_count": 10,
      "outputs": [
        {
          "output_type": "execute_result",
          "data": {
            "text/html": [
              "<div>\n",
              "<style scoped>\n",
              "    .dataframe tbody tr th:only-of-type {\n",
              "        vertical-align: middle;\n",
              "    }\n",
              "\n",
              "    .dataframe tbody tr th {\n",
              "        vertical-align: top;\n",
              "    }\n",
              "\n",
              "    .dataframe thead th {\n",
              "        text-align: right;\n",
              "    }\n",
              "</style>\n",
              "<table border=\"1\" class=\"dataframe\">\n",
              "  <thead>\n",
              "    <tr style=\"text-align: right;\">\n",
              "      <th></th>\n",
              "      <th>tweet_id</th>\n",
              "      <th>tweet</th>\n",
              "      <th>tweet_index</th>\n",
              "      <th>misconception_id</th>\n",
              "      <th>misconception</th>\n",
              "      <th>related</th>\n",
              "    </tr>\n",
              "  </thead>\n",
              "  <tbody>\n",
              "    <tr>\n",
              "      <th>0</th>\n",
              "      <td>1230000000000000000</td>\n",
              "      <td>How long does the new coronavirus remain activ...</td>\n",
              "      <td>1</td>\n",
              "      <td>1</td>\n",
              "      <td>A person can tell if they have coronavirus or ...</td>\n",
              "      <td>0</td>\n",
              "    </tr>\n",
              "    <tr>\n",
              "      <th>1</th>\n",
              "      <td>1230000000000000000</td>\n",
              "      <td>How long does the new coronavirus remain activ...</td>\n",
              "      <td>1</td>\n",
              "      <td>2</td>\n",
              "      <td>Drinking large amounts of water will protect a...</td>\n",
              "      <td>0</td>\n",
              "    </tr>\n",
              "    <tr>\n",
              "      <th>2</th>\n",
              "      <td>1230000000000000000</td>\n",
              "      <td>How long does the new coronavirus remain activ...</td>\n",
              "      <td>1</td>\n",
              "      <td>3</td>\n",
              "      <td>Coronavirus is genetically engineered.</td>\n",
              "      <td>0</td>\n",
              "    </tr>\n",
              "    <tr>\n",
              "      <th>3</th>\n",
              "      <td>1230000000000000000</td>\n",
              "      <td>How long does the new coronavirus remain activ...</td>\n",
              "      <td>1</td>\n",
              "      <td>4</td>\n",
              "      <td>Dean Koontz predicted the pandemic in his 1981...</td>\n",
              "      <td>0</td>\n",
              "    </tr>\n",
              "    <tr>\n",
              "      <th>4</th>\n",
              "      <td>1230000000000000000</td>\n",
              "      <td>How long does the new coronavirus remain activ...</td>\n",
              "      <td>1</td>\n",
              "      <td>5</td>\n",
              "      <td>The first person infected is a researcher name...</td>\n",
              "      <td>0</td>\n",
              "    </tr>\n",
              "  </tbody>\n",
              "</table>\n",
              "</div>"
            ],
            "text/plain": [
              "              tweet_id  ... related\n",
              "0  1230000000000000000  ...       0\n",
              "1  1230000000000000000  ...       0\n",
              "2  1230000000000000000  ...       0\n",
              "3  1230000000000000000  ...       0\n",
              "4  1230000000000000000  ...       0\n",
              "\n",
              "[5 rows x 6 columns]"
            ]
          },
          "metadata": {
            "tags": []
          },
          "execution_count": 10
        }
      ]
    },
    {
      "cell_type": "code",
      "metadata": {
        "colab": {
          "base_uri": "https://localhost:8080/"
        },
        "id": "fNoJMHjGPm_M",
        "outputId": "ddebdc15-c422-41a8-9ce4-bc1fa51de16e"
      },
      "source": [
        "sample.related.astype('object').describe()"
      ],
      "execution_count": 11,
      "outputs": [
        {
          "output_type": "execute_result",
          "data": {
            "text/plain": [
              "count     300\n",
              "unique      2\n",
              "top         0\n",
              "freq      288\n",
              "Name: related, dtype: int64"
            ]
          },
          "metadata": {
            "tags": []
          },
          "execution_count": 11
        }
      ]
    },
    {
      "cell_type": "markdown",
      "metadata": {
        "id": "_Ej9WB4ECc7N"
      },
      "source": [
        "# Words Embedding"
      ]
    },
    {
      "cell_type": "code",
      "metadata": {
        "id": "bbeWLtTfCepz"
      },
      "source": [
        "def vectorize(text,MAX_LEN=MAX_LEN):\n",
        "    tokenizer = BertTokenizer.from_pretrained('bert-base-uncased', do_lower_case=True)\n",
        "\n",
        "    input_ids = []\n",
        "    for t in text:\n",
        "        # so basically encode tokenizing , mapping sentences to thier token ids after adding special tokens.\n",
        "        encoded_sent = tokenizer.encode(\n",
        "            t,  # Sentence which are encoding.\n",
        "            add_special_tokens=True,  # Adding special tokens '[CLS]' and '[SEP]'\n",
        "        )\n",
        "        input_ids.append(encoded_sent)\n",
        "\n",
        "    input_ids = pad_sequences(input_ids, maxlen=MAX_LEN , truncating=\"post\", padding=\"post\")\n",
        "\n",
        "    attention_masks = []\n",
        "    for sent in input_ids:\n",
        "        # Generating attention mask for sentences.\n",
        "        #   - when there is 0 present as token id we are going to set mask as 0.\n",
        "        #   - we are going to set mask 1 for all non-zero positive input id.\n",
        "        att_mask = [int(token_id > 0) for token_id in sent]\n",
        "\n",
        "        attention_masks.append(att_mask)\n",
        "\n",
        "    return attention_masks, input_ids"
      ],
      "execution_count": 12,
      "outputs": []
    },
    {
      "cell_type": "code",
      "metadata": {
        "id": "cvT6F6fCD3I3",
        "outputId": "1ec47dea-a587-4852-a9f4-d2f82f26f40b",
        "colab": {
          "base_uri": "https://localhost:8080/",
          "height": 164,
          "referenced_widgets": [
            "8c8ade7948e147a5a47b01bcbf75d052",
            "eab73d7724fa4608ad51eb60fd963c1f",
            "f03762acdb8a4f3582a53c06a9f07a5e",
            "16cf6a7781fd4e5fabe19cafe597b062",
            "19565c31b0544cb2ad4b10064072dd21",
            "4c094b0191c1482789d17e25180f6ee6",
            "6ceb04af07ae4d54a3907d54a1606bfa",
            "26028eb7fde849968e847d49d3932fb6",
            "1bf3bb29ec4443e59f9165f46a5d09ea",
            "21caa4dc161c49fe8dc0d78ca717cce0",
            "22aa906f359d4c10861b3b9a82541ef3",
            "536b64b90cc4400c9028bb82cb7ea4e6",
            "393e232048904af0ac60c733dae8f39c",
            "161270795c89459daa625b9837f07f1f",
            "95f0e842c8e54204b87a977c3eb5566f",
            "e2c8fdd7905b4f0ab83012b82c8f2634",
            "64618692e8cf4a70a534094be1f85c46",
            "851475e39d9e4e38aabe98dcdb8c7d7c",
            "b9140e32e92c4d3aac03d48a3119ce5b",
            "155419b8c4854114a53936c2e5cae4be",
            "b6adbd991cf4480b8437a479cf7bfd23",
            "b0b7f1ef70f44fff992137d21f0af401",
            "94155fcb9bda4288ad42b1b93229e5ad",
            "6869c3ae18df439882056ea7c5921106"
          ]
        }
      },
      "source": [
        "m_text = miscon_df.misconception.values\n",
        "m_attention_mask, m_input_id = vectorize(m_text)"
      ],
      "execution_count": 13,
      "outputs": [
        {
          "output_type": "display_data",
          "data": {
            "application/vnd.jupyter.widget-view+json": {
              "model_id": "8c8ade7948e147a5a47b01bcbf75d052",
              "version_minor": 0,
              "version_major": 2
            },
            "text/plain": [
              "HBox(children=(FloatProgress(value=0.0, description='Downloading', max=231508.0, style=ProgressStyle(descripti…"
            ]
          },
          "metadata": {
            "tags": []
          }
        },
        {
          "output_type": "stream",
          "text": [
            "\n"
          ],
          "name": "stdout"
        },
        {
          "output_type": "display_data",
          "data": {
            "application/vnd.jupyter.widget-view+json": {
              "model_id": "1bf3bb29ec4443e59f9165f46a5d09ea",
              "version_minor": 0,
              "version_major": 2
            },
            "text/plain": [
              "HBox(children=(FloatProgress(value=0.0, description='Downloading', max=28.0, style=ProgressStyle(description_w…"
            ]
          },
          "metadata": {
            "tags": []
          }
        },
        {
          "output_type": "stream",
          "text": [
            "\n"
          ],
          "name": "stdout"
        },
        {
          "output_type": "display_data",
          "data": {
            "application/vnd.jupyter.widget-view+json": {
              "model_id": "64618692e8cf4a70a534094be1f85c46",
              "version_minor": 0,
              "version_major": 2
            },
            "text/plain": [
              "HBox(children=(FloatProgress(value=0.0, description='Downloading', max=466062.0, style=ProgressStyle(descripti…"
            ]
          },
          "metadata": {
            "tags": []
          }
        },
        {
          "output_type": "stream",
          "text": [
            "\n"
          ],
          "name": "stdout"
        }
      ]
    },
    {
      "cell_type": "code",
      "metadata": {
        "id": "mjFYYDfeD_GW"
      },
      "source": [
        "t_text = tweets_df.tweet.values\n",
        "t_attention_mask, t_input_id = vectorize(t_text,64)"
      ],
      "execution_count": 14,
      "outputs": []
    },
    {
      "cell_type": "code",
      "metadata": {
        "id": "3gdZiIPQEJ7e"
      },
      "source": [
        "X_inputs = []\n",
        "X_masks = []\n",
        "\n",
        "for i in range(0,len(sample)):\n",
        "  t_index = sample.tweet_index[i]-1\n",
        "  inputs_temp = t_input_id[t_index].tolist().copy()\n",
        "  masks_temp = t_attention_mask[t_index].copy()\n",
        "\n",
        "  m_index = sample.misconception_id[i]-1\n",
        "  inputs_temp.extend(m_input_id[m_index].tolist())\n",
        "  masks_temp.extend(m_attention_mask[m_index])\n",
        "\n",
        "  X_inputs.append(inputs_temp)\n",
        "  X_masks.append(masks_temp)\n",
        "X_inputs = np.array(X_inputs)"
      ],
      "execution_count": 15,
      "outputs": []
    },
    {
      "cell_type": "code",
      "metadata": {
        "id": "X9Q43zw0MTUY"
      },
      "source": [
        ""
      ],
      "execution_count": null,
      "outputs": []
    },
    {
      "cell_type": "markdown",
      "metadata": {
        "id": "kSPwcTAcHA5d"
      },
      "source": [
        "# Split Data"
      ]
    },
    {
      "cell_type": "code",
      "metadata": {
        "id": "78S515FvFuX6"
      },
      "source": [
        "from sklearn.model_selection import train_test_split\n",
        "labels = sample.related.values\n",
        "train_inputs, validation_inputs, train_labels, validation_labels = train_test_split(X_inputs, labels, random_state=1, test_size=0.2)\n",
        "train_masks, validation_masks, _, _ = train_test_split(X_masks, labels, random_state=1, test_size=0.2)"
      ],
      "execution_count": 16,
      "outputs": []
    },
    {
      "cell_type": "code",
      "metadata": {
        "id": "7LhhcfiJHu1W"
      },
      "source": [
        "# changing the numpy arrays into tensors for working on GPU.\n",
        "train_inputs = torch.tensor(train_inputs)\n",
        "validation_inputs = torch.tensor(validation_inputs)\n",
        "\n",
        "train_labels = torch.tensor(train_labels)\n",
        "validation_labels = torch.tensor(validation_labels)\n",
        "\n",
        "train_masks = torch.tensor(train_masks)\n",
        "validation_masks = torch.tensor(validation_masks)\n",
        "\n",
        "# DataLoader for our training set.\n",
        "train_data = TensorDataset(train_inputs, train_masks, train_labels)\n",
        "train_sampler = RandomSampler(train_data)\n",
        "train_dataloader = DataLoader(train_data, sampler=train_sampler, batch_size=batch_size)\n",
        "\n",
        "# DataLoader for our validation(test) set.\n",
        "validation_data = TensorDataset(validation_inputs, validation_masks, validation_labels)\n",
        "validation_sampler = SequentialSampler(validation_data)\n",
        "validation_dataloader = DataLoader(validation_data, sampler=validation_sampler, batch_size=batch_size)"
      ],
      "execution_count": 17,
      "outputs": []
    },
    {
      "cell_type": "markdown",
      "metadata": {
        "id": "7GWTty9QCP0r"
      },
      "source": [
        "# Train"
      ]
    },
    {
      "cell_type": "code",
      "metadata": {
        "id": "iCpFwfAX88fj"
      },
      "source": [
        "def bertpretrain(train_dataloader, validation_dataloader):\n",
        "    \n",
        "    if save_model.exists():\n",
        "        model = torch.load(save_model)\n",
        "    else:\n",
        "        model = BertForSequenceClassification.from_pretrained(\n",
        "            \"bert-base-uncased\",\n",
        "            config = BertConfig()\n",
        "            )\n",
        "\n",
        "    # Running the model on GPU.\n",
        "    # model.cuda()\n",
        "\n",
        "    # Running on GPU if available, otherwise on CPU\n",
        "    device = torch.device(\"cuda:0\" if torch.cuda.is_available() else \"cpu\")\n",
        "\n",
        "    optimizer = AdamW(model.parameters(),\n",
        "                      lr = 2e-5,\n",
        "                      eps = 1e-8\n",
        "                      )\n",
        "\n",
        "    total_steps = len(train_dataloader) * epochs\n",
        "\n",
        "    scheduler = get_linear_schedule_with_warmup(optimizer,\n",
        "                                                num_warmup_steps=0,  # Default value in run_glue.py\n",
        "                                                num_training_steps=total_steps)\n",
        "\n",
        "    # Set the seed value all over the place to make this reproducible.\n",
        "    random.seed(seed_val)\n",
        "    np.random.seed(seed_val)\n",
        "    torch.manual_seed(seed_val)\n",
        "    torch.cuda.manual_seed_all(seed_val)\n",
        "\n",
        "    # Store the average loss after each epoch so we can plot them.\n",
        "    loss_values = []\n",
        "    accuracy_values = []\n",
        "\n",
        "    # For each epoch...\n",
        "    for epoch in range(0, epochs):\n",
        "\n",
        "        # ========================================\n",
        "        #               Training\n",
        "        # ========================================\n",
        "        print(\"\")\n",
        "        print('======== Epoch {:} / {:} ========'.format(epoch + 1, epochs))\n",
        "        print('Training...')\n",
        "\n",
        "        # Measure how long the training epoch takes.\n",
        "        t0 = time.time()\n",
        "\n",
        "        # Reset the total loss for this epoch.\n",
        "        total_loss = 0\n",
        "\n",
        "        model.train() # switch to training mode\n",
        "\n",
        "        # For each batch of training data...\n",
        "        for step, batch in enumerate(train_dataloader):\n",
        "            # Progress update every 40 batches.\n",
        "            if step % 40 == 0 and not step == 0:\n",
        "                # Calculate elapsed time in minutes.\n",
        "                elapsed = format_time(time.time() - t0)\n",
        "\n",
        "                # Report progress.\n",
        "                print('  Batch {:>5,}  of  {:>5,}.    Elapsed: {:}.'.format(step, len(train_dataloader), elapsed))\n",
        "\n",
        "            # Unpack this training batch from our dataloader.\n",
        "            # `batch` contains three pytorch tensors:\n",
        "            #   [0]: input ids\n",
        "            #   [1]: attention masks\n",
        "            #   [2]: labels\n",
        "            b_input_ids = batch[0].to(device)\n",
        "            b_input_mask = batch[1].to(device)\n",
        "            b_labels = batch[2].to(device)\n",
        "\n",
        "            # Clear any previously calculated gradients before performing a backward pass.\n",
        "            model.zero_grad()\n",
        "\n",
        "            # Perform a forward pass (evaluate the model on this training batch).\n",
        "            outputs = model(b_input_ids,\n",
        "                     token_type_ids=None,\n",
        "                     attention_mask=b_input_mask,\n",
        "                     labels=b_labels)\n",
        "\n",
        "            # Pull the loss value out of the tuple.\n",
        "            ce = torch.nn.CrossEntropyLoss(weight=class_weight)\n",
        "            loss = ce(outputs[1],b_labels)\n",
        "            #loss = outputs[0]\n",
        "\n",
        "            # Accumulate the training loss over all of the batches so that we can\n",
        "            # calculate the average loss at the end.\n",
        "            total_loss += loss.item()\n",
        "\n",
        "            # Perform a backward pass to calculate the gradients.\n",
        "            loss.backward()\n",
        "\n",
        "            # Clip the norm of the gradients to 1.0.\n",
        "            # This is to help prevent the \"exploding gradients\" problem.\n",
        "            torch.nn.utils.clip_grad_norm_(model.parameters(), 1.0)\n",
        "\n",
        "            # Update parameters and take a step using the computed gradient.\n",
        "            # The optimizer dictates the \"update rule\"--how the parameters are\n",
        "            # modified based on their gradients, the learning rate, etc.\n",
        "            optimizer.step()\n",
        "\n",
        "            # Update the learning rate.\n",
        "            scheduler.step()\n",
        "\n",
        "        # Calculate the average loss over the training data.\n",
        "        avg_train_loss = total_loss / len(train_dataloader)\n",
        "\n",
        "        # Store the loss value for plotting the learning curve.\n",
        "        loss_values.append(avg_train_loss)\n",
        "\n",
        "        print(\"\")\n",
        "        print(\"  Average training loss: {0:.2f}\".format(avg_train_loss))\n",
        "        print(\"  Training epcoh took: {:}\".format(format_time(time.time() - t0)))\n",
        "\n",
        "        # ========================================\n",
        "        #        Validation\n",
        "        # ========================================\n",
        "\n",
        "        print(\"\")\n",
        "        print(\"Running Validation...\")\n",
        "\n",
        "        t0 = time.time() # Validation start time\n",
        "\n",
        "        # Put the model in evaluation mode\n",
        "        model.eval()\n",
        "\n",
        "        eval_loss, eval_accuracy = 0, 0\n",
        "        nb_eval_steps, nb_eval_examples = 0, 0\n",
        "\n",
        "        # Evaluate data for one epoch\n",
        "        for batch in validation_dataloader:\n",
        "\n",
        "            batch = tuple(t.to(device) for t in batch)\n",
        "\n",
        "\n",
        "            b_input_ids, b_input_mask, b_labels = batch\n",
        "\n",
        "            # Telling the model not to compute or store gradients, saving memory and\n",
        "            # speeding up validation\n",
        "            with torch.no_grad():\n",
        "                outputs = model(b_input_ids,\n",
        "                         token_type_ids=None,\n",
        "                         attention_mask=b_input_mask)\n",
        "\n",
        "            # Get the \"logits\" output by the model. The \"logits\" are the output\n",
        "            # values prior to applying an activation function like the softmax.\n",
        "            logits = outputs[0]\n",
        "\n",
        "            # Move logits and labels to CPU\n",
        "            logits = logits.detach().cpu().numpy()\n",
        "            label_ids = b_labels.to('cpu').numpy()\n",
        "\n",
        "            # Calculate the accuracy for this batch of test sentences.\n",
        "            tmp_eval_accuracy = flat_accuracy(logits, label_ids)\n",
        "\n",
        "            # Accumulate the total accuracy.\n",
        "            eval_accuracy += tmp_eval_accuracy\n",
        "\n",
        "            # Track the number of batches\n",
        "            nb_eval_steps += 1\n",
        "\n",
        "        # Report the final accuracy for this validation run.\n",
        "        accuracy_values.append(eval_accuracy / nb_eval_steps)\n",
        "        print(\"  Accuracy: {0:.2f}\".format(eval_accuracy / nb_eval_steps))\n",
        "        print(\"  Validation took: {:}\".format(format_time(time.time() - t0)))\n",
        "\n",
        "        if epoch % checkpoint == 0:\n",
        "          torch.save(model,save_model)\n",
        " \n",
        "\n",
        "    print(\"Saving model...\")\n",
        "    torch.save(model, save_model)\n",
        "\n",
        "    plot_acc_loss(accuracy_values,loss_values)\n",
        "\n",
        "    print(\"\")\n",
        "    print(\"Training complete!\")"
      ],
      "execution_count": 33,
      "outputs": []
    },
    {
      "cell_type": "code",
      "metadata": {
        "id": "VDGSvcuX9fW2"
      },
      "source": [
        "def format_time(elapsed):\n",
        "    '''\n",
        "    Takes a time in seconds and returns a string hh:mm:ss\n",
        "    '''\n",
        "    # Round to the nearest second.\n",
        "    elapsed_rounded = int(round((elapsed)))\n",
        "\n",
        "    # Format as hh:mm:ss\n",
        "    return str(datetime.timedelta(seconds=elapsed_rounded))\n",
        "\n",
        "# Function to calculate the accuracy of our predictions vs labels\n",
        "def flat_accuracy(preds, labels):\n",
        "    pred_flat = np.argmax(preds, axis=1).flatten()\n",
        "    labels_flat = labels.flatten()\n",
        "    return np.sum(pred_flat == labels_flat) / len(labels_flat)\n",
        "\n",
        "def plot_acc_loss(acc,loss):\n",
        "    x1 = range(0, epochs)\n",
        "    x2 = range(0, epochs)\n",
        "    y1 = acc\n",
        "    y2 = loss\n",
        "    plt.subplot(2, 1, 1)\n",
        "    plt.plot(x1, y1, 'o-')\n",
        "    plt.title('Test accuracy vs. epoches')\n",
        "    plt.ylabel('Test accuracy')\n",
        "    plt.subplot(2, 1, 2)\n",
        "    plt.plot(x2, y2, '.-')\n",
        "    plt.xlabel('Test loss vs. epoches')\n",
        "    plt.ylabel('Test loss')\n",
        "    plt.show()"
      ],
      "execution_count": 19,
      "outputs": []
    },
    {
      "cell_type": "code",
      "metadata": {
        "id": "5Vbf28H45TJH",
        "outputId": "2218960c-42a6-468f-c85b-f38678198b68",
        "colab": {
          "base_uri": "https://localhost:8080/",
          "height": 621
        }
      },
      "source": [
        "bertpretrain(train_dataloader,validation_dataloader)"
      ],
      "execution_count": 34,
      "outputs": [
        {
          "output_type": "stream",
          "text": [
            "Some weights of the model checkpoint at bert-base-uncased were not used when initializing BertForSequenceClassification: ['cls.seq_relationship.bias', 'cls.predictions.transform.LayerNorm.weight', 'cls.predictions.bias', 'cls.predictions.transform.dense.weight', 'cls.seq_relationship.weight', 'cls.predictions.decoder.weight', 'cls.predictions.transform.LayerNorm.bias', 'cls.predictions.transform.dense.bias']\n",
            "- This IS expected if you are initializing BertForSequenceClassification from the checkpoint of a model trained on another task or with another architecture (e.g. initializing a BertForSequenceClassification model from a BertForPreTraining model).\n",
            "- This IS NOT expected if you are initializing BertForSequenceClassification from the checkpoint of a model that you expect to be exactly identical (initializing a BertForSequenceClassification model from a BertForSequenceClassification model).\n",
            "Some weights of BertForSequenceClassification were not initialized from the model checkpoint at bert-base-uncased and are newly initialized: ['classifier.bias', 'classifier.weight']\n",
            "You should probably TRAIN this model on a down-stream task to be able to use it for predictions and inference.\n"
          ],
          "name": "stderr"
        },
        {
          "output_type": "stream",
          "text": [
            "\n",
            "======== Epoch 1 / 1 ========\n",
            "Training...\n",
            "\n",
            "  Average training loss: 0.48\n",
            "  Training epcoh took: 0:04:32\n",
            "\n",
            "Running Validation...\n",
            "  Accuracy: 0.97\n",
            "  Validation took: 0:00:18\n",
            "Saving model...\n"
          ],
          "name": "stdout"
        },
        {
          "output_type": "display_data",
          "data": {
            "image/png": "[encoded data removed]",
            "text/plain": [
              "<Figure size 432x288 with 2 Axes>"
            ]
          },
          "metadata": {
            "tags": [],
            "needs_background": "light"
          }
        },
        {
          "output_type": "stream",
          "text": [
            "\n",
            "Training complete!\n"
          ],
          "name": "stdout"
        }
      ]
    },
    {
      "cell_type": "markdown",
      "metadata": {
        "id": "4oth3ltJUTTN"
      },
      "source": [
        "# Validation"
      ]
    },
    {
      "cell_type": "code",
      "metadata": {
        "id": "l_kYrw94Uf79"
      },
      "source": [
        "from sklearn.metrics import plot_roc_curve, accuracy_score, confusion_matrix, f1_score, balanced_accuracy_score, roc_auc_score\n",
        "\n",
        "def binary_eval(model_type:str, label, prediction):\n",
        "    print(model_type,'accuracy', balanced_accuracy_score(label, prediction))\n",
        "    print(model_type,'forest f1',f1_score(label, prediction, average='weighted'))\n",
        "    print(model_type,'roc_auc', roc_auc_score(label, prediction, average='weighted'))\n",
        "    print(model_type,'confusion matrix', confusion_matrix(label, prediction))\n",
        "    print('')"
      ],
      "execution_count": 36,
      "outputs": []
    },
    {
      "cell_type": "code",
      "metadata": {
        "id": "fToY73Tz9fOD"
      },
      "source": [
        "def bertpredict(model,inputs,masks):\n",
        "    bert_pred = model(inputs,\n",
        "                      token_type_ids=None,\n",
        "                      attention_mask=masks)[0].detach().cpu().numpy()\n",
        "    bertpred_class = np.argmax(bert_pred,axis=1).flatten()\n",
        "    return bertpred_class"
      ],
      "execution_count": 37,
      "outputs": []
    },
    {
      "cell_type": "code",
      "metadata": {
        "id": "UzTxF-ADT8Jm"
      },
      "source": [
        "bert = torch.load(save_model)\n",
        "\n",
        "result = bertpredict(bert, validation_inputs, validation_masks)"
      ],
      "execution_count": 38,
      "outputs": []
    },
    {
      "cell_type": "code",
      "metadata": {
        "colab": {
          "base_uri": "https://localhost:8080/"
        },
        "id": "DSjl165sUK0x",
        "outputId": "a2acfb50-d556-49d1-a6e5-5542f06de7e6"
      },
      "source": [
        "binary_eval('bert',validation_labels,result)"
      ],
      "execution_count": 39,
      "outputs": [
        {
          "output_type": "stream",
          "text": [
            "bert accuracy 0.5\n",
            "bert forest f1 0.9502824858757061\n",
            "bert roc_auc 0.5\n",
            "bert confusion matrix [[58  0]\n",
            " [ 2  0]]\n",
            "\n"
          ],
          "name": "stdout"
        }
      ]
    }
  ]
}