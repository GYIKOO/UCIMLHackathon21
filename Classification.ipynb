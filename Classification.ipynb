{
  "nbformat": 4,
  "nbformat_minor": 0,
  "metadata": {
    "colab": {
      "name": "Copy of Classification.ipynb",
      "provenance": [],
      "collapsed_sections": [],
      "include_colab_link": true
    },
    "kernelspec": {
      "name": "python3",
      "display_name": "Python 3"
    },
    "language_info": {
      "name": "python"
    },
    "accelerator": "GPU"
  },
  "cells": [
    {
      "cell_type": "markdown",
      "metadata": {
        "id": "view-in-github",
        "colab_type": "text"
      },
      "source": [
        "<a href=\"https://colab.research.google.com/github/GYIKOO/UCIMLHackathon21/blob/main/Classification.ipynb\" target=\"_parent\"><img src=\"https://colab.research.google.com/assets/colab-badge.svg\" alt=\"Open In Colab\"/></a>"
      ]
    },
    {
      "cell_type": "code",
      "metadata": {
        "id": "lQZJ89zPlDeG"
      },
      "source": [
        "!pip install transformers"
      ],
      "execution_count": null,
      "outputs": []
    },
    {
      "cell_type": "code",
      "metadata": {
        "id": "iyTGqaxwk6Ei"
      },
      "source": [
        "from transformers import BertTokenizer, BertForSequenceClassification, AdamW, BertConfig\n",
        "import torch\n",
        "from torch.utils.data import TensorDataset, DataLoader, RandomSampler, SequentialSampler\n",
        "import pandas as pd\n",
        "import numpy as np\n",
        "\n",
        "from transformers import get_linear_schedule_with_warmup\n",
        "import time\n",
        "import datetime\n",
        "import random\n",
        "from keras.preprocessing.sequence import pad_sequences\n",
        "from pathlib import Path\n",
        "import matplotlib.pyplot as plt"
      ],
      "execution_count": 2,
      "outputs": []
    },
    {
      "cell_type": "code",
      "metadata": {
        "id": "zBE8VlH69QXd"
      },
      "source": [
        "# Config\n",
        "save_model = Path('bertmodel.h5')\n",
        "\n",
        "seed_val = 1 # random seed for training\n",
        "\n",
        "MAX_LEN = 32\n",
        "batch_size = 64\n",
        "\n",
        "epochs = 1\n",
        "checkpoint = 2\n",
        "\n",
        "n_classes = 2 # num of labels"
      ],
      "execution_count": 179,
      "outputs": []
    },
    {
      "cell_type": "code",
      "metadata": {
        "id": "FogmKgM0VrVR"
      },
      "source": [
        "!pip install -U -q PyDrive\n",
        "from pydrive.auth import GoogleAuth\n",
        "from pydrive.drive import GoogleDrive\n",
        "from google.colab import auth\n",
        "from oauth2client.client import GoogleCredentials\n",
        "# Authenticate and create the PyDrive client.\n",
        "auth.authenticate_user()\n",
        "gauth = GoogleAuth()\n",
        "gauth.credentials = GoogleCredentials.get_application_default()\n",
        "drive = GoogleDrive(gauth)"
      ],
      "execution_count": 4,
      "outputs": []
    },
    {
      "cell_type": "code",
      "metadata": {
        "id": "qeGWsK8-WSAs"
      },
      "source": [
        "file_id = \"1sDoHyJuEGe4R3rkgWp9r0R1zHWXAYGbNjwuuckQDthg\"\n",
        "downloaded = drive.CreateFile({'id': file_id})\n",
        "downloaded.GetContentFile('covid_lies.csv', mimetype='text/csv')"
      ],
      "execution_count": 5,
      "outputs": []
    },
    {
      "cell_type": "code",
      "metadata": {
        "id": "lkllF9eFk9KC",
        "colab": {
          "base_uri": "https://localhost:8080/",
          "height": 289
        },
        "outputId": "bb5e288b-776e-4761-d6af-23ed9b26a101"
      },
      "source": [
        "df = pd.read_csv('covid_lies.csv')\n",
        "df = df.assign(related=[1]*len(df))\n",
        "df.head()"
      ],
      "execution_count": 6,
      "outputs": [
        {
          "output_type": "execute_result",
          "data": {
            "text/html": [
              "<div>\n",
              "<style scoped>\n",
              "    .dataframe tbody tr th:only-of-type {\n",
              "        vertical-align: middle;\n",
              "    }\n",
              "\n",
              "    .dataframe tbody tr th {\n",
              "        vertical-align: top;\n",
              "    }\n",
              "\n",
              "    .dataframe thead th {\n",
              "        text-align: right;\n",
              "    }\n",
              "</style>\n",
              "<table border=\"1\" class=\"dataframe\">\n",
              "  <thead>\n",
              "    <tr style=\"text-align: right;\">\n",
              "      <th></th>\n",
              "      <th>misconception_id</th>\n",
              "      <th>misconception</th>\n",
              "      <th>tweet</th>\n",
              "      <th>tweet_id</th>\n",
              "      <th>label</th>\n",
              "      <th>related</th>\n",
              "    </tr>\n",
              "  </thead>\n",
              "  <tbody>\n",
              "    <tr>\n",
              "      <th>0</th>\n",
              "      <td>3</td>\n",
              "      <td>Coronavirus is genetically engineered.</td>\n",
              "      <td>How the COVID-19 outbreak is changing global p...</td>\n",
              "      <td>1.233965e+18</td>\n",
              "      <td>na</td>\n",
              "      <td>1</td>\n",
              "    </tr>\n",
              "    <tr>\n",
              "      <th>1</th>\n",
              "      <td>30</td>\n",
              "      <td>Blowing conch shells destroys coronavirus pote...</td>\n",
              "      <td>Getting coronavirus and then coughing on peopl...</td>\n",
              "      <td>1.233908e+18</td>\n",
              "      <td>na</td>\n",
              "      <td>1</td>\n",
              "    </tr>\n",
              "    <tr>\n",
              "      <th>2</th>\n",
              "      <td>57</td>\n",
              "      <td>Swans and dolphins swimming in Venice canals f...</td>\n",
              "      <td>Disturbing letter about life in COVID-19 ward ...</td>\n",
              "      <td>1.233910e+18</td>\n",
              "      <td>na</td>\n",
              "      <td>1</td>\n",
              "    </tr>\n",
              "    <tr>\n",
              "      <th>3</th>\n",
              "      <td>22</td>\n",
              "      <td>Cocaine cures coronavirus.</td>\n",
              "      <td>How to prevent corona virus?🤔 Use cowdung cake...</td>\n",
              "      <td>1.233948e+18</td>\n",
              "      <td>na</td>\n",
              "      <td>1</td>\n",
              "    </tr>\n",
              "    <tr>\n",
              "      <th>4</th>\n",
              "      <td>32</td>\n",
              "      <td>Observing janata curfew will result in the red...</td>\n",
              "      <td>This is concerning - They must self-insure for...</td>\n",
              "      <td>1.233937e+18</td>\n",
              "      <td>na</td>\n",
              "      <td>1</td>\n",
              "    </tr>\n",
              "  </tbody>\n",
              "</table>\n",
              "</div>"
            ],
            "text/plain": [
              "   misconception_id  ... related\n",
              "0                 3  ...       1\n",
              "1                30  ...       1\n",
              "2                57  ...       1\n",
              "3                22  ...       1\n",
              "4                32  ...       1\n",
              "\n",
              "[5 rows x 6 columns]"
            ]
          },
          "metadata": {
            "tags": []
          },
          "execution_count": 6
        }
      ]
    },
    {
      "cell_type": "markdown",
      "metadata": {
        "id": "-dFi0fLqCNti"
      },
      "source": [
        "# Sample"
      ]
    },
    {
      "cell_type": "markdown",
      "metadata": {
        "id": "tcG1nJPrXyED"
      },
      "source": [
        "The table of first 20 misconceptions."
      ]
    },
    {
      "cell_type": "code",
      "metadata": {
        "colab": {
          "base_uri": "https://localhost:8080/",
          "height": 419
        },
        "id": "sd7dvQaO88VS",
        "outputId": "d74b989b-fcf3-4907-facc-984514cec204"
      },
      "source": [
        "miscon_df = df[['misconception_id','misconception']].drop_duplicates(subset='misconception_id').sort_values(by='misconception_id').reset_index(drop=True)\n",
        "mini_mdf = miscon_df[:30].reset_index(drop=True)\n",
        "mini_mdf = miscon_df\n",
        "mini_mdf"
      ],
      "execution_count": 142,
      "outputs": [
        {
          "output_type": "execute_result",
          "data": {
            "text/html": [
              "<div>\n",
              "<style scoped>\n",
              "    .dataframe tbody tr th:only-of-type {\n",
              "        vertical-align: middle;\n",
              "    }\n",
              "\n",
              "    .dataframe tbody tr th {\n",
              "        vertical-align: top;\n",
              "    }\n",
              "\n",
              "    .dataframe thead th {\n",
              "        text-align: right;\n",
              "    }\n",
              "</style>\n",
              "<table border=\"1\" class=\"dataframe\">\n",
              "  <thead>\n",
              "    <tr style=\"text-align: right;\">\n",
              "      <th></th>\n",
              "      <th>misconception_id</th>\n",
              "      <th>misconception</th>\n",
              "    </tr>\n",
              "  </thead>\n",
              "  <tbody>\n",
              "    <tr>\n",
              "      <th>0</th>\n",
              "      <td>1</td>\n",
              "      <td>A person can tell if they have coronavirus or ...</td>\n",
              "    </tr>\n",
              "    <tr>\n",
              "      <th>1</th>\n",
              "      <td>2</td>\n",
              "      <td>Drinking large amounts of water will protect a...</td>\n",
              "    </tr>\n",
              "    <tr>\n",
              "      <th>2</th>\n",
              "      <td>3</td>\n",
              "      <td>Coronavirus is genetically engineered.</td>\n",
              "    </tr>\n",
              "    <tr>\n",
              "      <th>3</th>\n",
              "      <td>4</td>\n",
              "      <td>Dean Koontz predicted the pandemic in his 1981...</td>\n",
              "    </tr>\n",
              "    <tr>\n",
              "      <th>4</th>\n",
              "      <td>5</td>\n",
              "      <td>The first person infected is a researcher name...</td>\n",
              "    </tr>\n",
              "    <tr>\n",
              "      <th>...</th>\n",
              "      <td>...</td>\n",
              "      <td>...</td>\n",
              "    </tr>\n",
              "    <tr>\n",
              "      <th>57</th>\n",
              "      <td>58</td>\n",
              "      <td>Water polution decreased in Venice canals foll...</td>\n",
              "    </tr>\n",
              "    <tr>\n",
              "      <th>58</th>\n",
              "      <td>59</td>\n",
              "      <td>A Malabar civet was spotted walking the street...</td>\n",
              "    </tr>\n",
              "    <tr>\n",
              "      <th>59</th>\n",
              "      <td>60</td>\n",
              "      <td>A pod of humpback whales returned to the Arabi...</td>\n",
              "    </tr>\n",
              "    <tr>\n",
              "      <th>60</th>\n",
              "      <td>61</td>\n",
              "      <td>Lions were freed to keep people off the street...</td>\n",
              "    </tr>\n",
              "    <tr>\n",
              "      <th>61</th>\n",
              "      <td>62</td>\n",
              "      <td>Bank of England £20 banknotes contain a pictur...</td>\n",
              "    </tr>\n",
              "  </tbody>\n",
              "</table>\n",
              "<p>62 rows × 2 columns</p>\n",
              "</div>"
            ],
            "text/plain": [
              "    misconception_id                                      misconception\n",
              "0                  1  A person can tell if they have coronavirus or ...\n",
              "1                  2  Drinking large amounts of water will protect a...\n",
              "2                  3             Coronavirus is genetically engineered.\n",
              "3                  4  Dean Koontz predicted the pandemic in his 1981...\n",
              "4                  5  The first person infected is a researcher name...\n",
              "..               ...                                                ...\n",
              "57                58  Water polution decreased in Venice canals foll...\n",
              "58                59  A Malabar civet was spotted walking the street...\n",
              "59                60  A pod of humpback whales returned to the Arabi...\n",
              "60                61  Lions were freed to keep people off the street...\n",
              "61                62  Bank of England £20 banknotes contain a pictur...\n",
              "\n",
              "[62 rows x 2 columns]"
            ]
          },
          "metadata": {
            "tags": []
          },
          "execution_count": 142
        }
      ]
    },
    {
      "cell_type": "markdown",
      "metadata": {
        "id": "_V7quvzyX5kk"
      },
      "source": [
        "The table of first 15 tweets."
      ]
    },
    {
      "cell_type": "code",
      "metadata": {
        "colab": {
          "base_uri": "https://localhost:8080/",
          "height": 419
        },
        "id": "-tq1MACe90ee",
        "outputId": "3722124d-b04c-424e-a89f-cccffcf8be77"
      },
      "source": [
        "tweets_df = df[['tweet_id','tweet']].drop_duplicates(subset='tweet').sort_values(by='tweet_id')\n",
        "mini_tdf = tweets_df[:30].reset_index(drop=True)\n",
        "mini_tdf = tweets_df\n",
        "mini_tdf = mini_tdf.assign(tweet_index = [i for i in range(1,len(mini_tdf)+1)])\n",
        "mini_tdf"
      ],
      "execution_count": 141,
      "outputs": [
        {
          "output_type": "execute_result",
          "data": {
            "text/html": [
              "<div>\n",
              "<style scoped>\n",
              "    .dataframe tbody tr th:only-of-type {\n",
              "        vertical-align: middle;\n",
              "    }\n",
              "\n",
              "    .dataframe tbody tr th {\n",
              "        vertical-align: top;\n",
              "    }\n",
              "\n",
              "    .dataframe thead th {\n",
              "        text-align: right;\n",
              "    }\n",
              "</style>\n",
              "<table border=\"1\" class=\"dataframe\">\n",
              "  <thead>\n",
              "    <tr style=\"text-align: right;\">\n",
              "      <th></th>\n",
              "      <th>tweet_id</th>\n",
              "      <th>tweet</th>\n",
              "      <th>tweet_index</th>\n",
              "    </tr>\n",
              "  </thead>\n",
              "  <tbody>\n",
              "    <tr>\n",
              "      <th>3212</th>\n",
              "      <td>1.230000e+18</td>\n",
              "      <td>How long does the new coronavirus remain activ...</td>\n",
              "      <td>1</td>\n",
              "    </tr>\n",
              "    <tr>\n",
              "      <th>3827</th>\n",
              "      <td>1.230000e+18</td>\n",
              "      <td>Millimetre wave technology will kill an indivi...</td>\n",
              "      <td>2</td>\n",
              "    </tr>\n",
              "    <tr>\n",
              "      <th>1146</th>\n",
              "      <td>1.230000e+18</td>\n",
              "      <td>How do we strengthen our immune systems to fig...</td>\n",
              "      <td>3</td>\n",
              "    </tr>\n",
              "    <tr>\n",
              "      <th>5497</th>\n",
              "      <td>1.233905e+18</td>\n",
              "      <td>When it comes to coronavirus, who is the most ...</td>\n",
              "      <td>4</td>\n",
              "    </tr>\n",
              "    <tr>\n",
              "      <th>1624</th>\n",
              "      <td>1.233905e+18</td>\n",
              "      <td>#Coronavirus and China's Tax Response\\n\\n@USER...</td>\n",
              "      <td>5</td>\n",
              "    </tr>\n",
              "    <tr>\n",
              "      <th>...</th>\n",
              "      <td>...</td>\n",
              "      <td>...</td>\n",
              "      <td>...</td>\n",
              "    </tr>\n",
              "    <tr>\n",
              "      <th>2262</th>\n",
              "      <td>1.233998e+18</td>\n",
              "      <td>Forget the mask. Here's how to protect yoursel...</td>\n",
              "      <td>4342</td>\n",
              "    </tr>\n",
              "    <tr>\n",
              "      <th>3303</th>\n",
              "      <td>1.233998e+18</td>\n",
              "      <td>Man Who Returned From Malaysia, Dies In Kerala...</td>\n",
              "      <td>4343</td>\n",
              "    </tr>\n",
              "    <tr>\n",
              "      <th>4058</th>\n",
              "      <td>1.233998e+18</td>\n",
              "      <td>.@miafarrow Dug up this report on exquisite ki...</td>\n",
              "      <td>4344</td>\n",
              "    </tr>\n",
              "    <tr>\n",
              "      <th>4385</th>\n",
              "      <td>1.233998e+18</td>\n",
              "      <td>Washington state health officials are investig...</td>\n",
              "      <td>4345</td>\n",
              "    </tr>\n",
              "    <tr>\n",
              "      <th>3577</th>\n",
              "      <td>1.233998e+18</td>\n",
              "      <td>MAGA hats made in China may be infected with t...</td>\n",
              "      <td>4346</td>\n",
              "    </tr>\n",
              "  </tbody>\n",
              "</table>\n",
              "<p>4346 rows × 3 columns</p>\n",
              "</div>"
            ],
            "text/plain": [
              "          tweet_id  ... tweet_index\n",
              "3212  1.230000e+18  ...           1\n",
              "3827  1.230000e+18  ...           2\n",
              "1146  1.230000e+18  ...           3\n",
              "5497  1.233905e+18  ...           4\n",
              "1624  1.233905e+18  ...           5\n",
              "...            ...  ...         ...\n",
              "2262  1.233998e+18  ...        4342\n",
              "3303  1.233998e+18  ...        4343\n",
              "4058  1.233998e+18  ...        4344\n",
              "4385  1.233998e+18  ...        4345\n",
              "3577  1.233998e+18  ...        4346\n",
              "\n",
              "[4346 rows x 3 columns]"
            ]
          },
          "metadata": {
            "tags": []
          },
          "execution_count": 141
        }
      ]
    },
    {
      "cell_type": "markdown",
      "metadata": {
        "id": "_bCJn0JKX-rg"
      },
      "source": [
        "Connect all pairs of elements in the two tables. Mark existed relationships between misconception and tweet in original dataset as 'related'."
      ]
    },
    {
      "cell_type": "code",
      "metadata": {
        "id": "xIHlyMBiXFS9"
      },
      "source": [
        "def merge_tweet_misconception(tdf, mdf, df):\n",
        "    tdf = tdf.assign(tweet_index = [i for i in range(1,len(tdf)+1)])\n",
        "    temp1 = tdf.loc[tdf.index.repeat(len(mdf))].reset_index(drop=True)\n",
        "\n",
        "    full_table = temp1.assign(misconception_id = mdf.misconception_id.values.tolist()*len(tdf),\n",
        "                  misconception = mdf.misconception.values.tolist()*len(tdf))\n",
        "\n",
        "    sample = pd.merge(full_table, df,\n",
        "         how = 'left',\n",
        "         left_on = ['tweet_id','tweet','misconception_id','misconception'],\n",
        "         right_on = ['tweet_id','tweet','misconception_id','misconception']\n",
        "        ).drop(columns='label').fillna(0)\n",
        "    sample.related = sample.related.astype('int64')\n",
        "    sample.head()\n",
        "    return sample"
      ],
      "execution_count": 143,
      "outputs": []
    },
    {
      "cell_type": "markdown",
      "metadata": {
        "id": "_Ej9WB4ECc7N"
      },
      "source": [
        "# Words Embedding"
      ]
    },
    {
      "cell_type": "code",
      "metadata": {
        "id": "bbeWLtTfCepz"
      },
      "source": [
        "def vectorize(text,MAX_LEN=MAX_LEN):\n",
        "    tokenizer = BertTokenizer.from_pretrained('bert-base-uncased', do_lower_case=True)\n",
        "\n",
        "    input_ids = []\n",
        "    for t in text:\n",
        "        # so basically encode tokenizing , mapping sentences to thier token ids after adding special tokens.\n",
        "        encoded_sent = tokenizer.encode(\n",
        "            t,  # Sentence which are encoding.\n",
        "            add_special_tokens=True,  # Adding special tokens '[CLS]' and '[SEP]'\n",
        "        )\n",
        "        input_ids.append(encoded_sent)\n",
        "\n",
        "    input_ids = pad_sequences(input_ids, maxlen=MAX_LEN , truncating=\"post\", padding=\"post\")\n",
        "\n",
        "    attention_masks = []\n",
        "    for sent in input_ids:\n",
        "        # Generating attention mask for sentences.\n",
        "        #   - when there is 0 present as token id we are going to set mask as 0.\n",
        "        #   - we are going to set mask 1 for all non-zero positive input id.\n",
        "        att_mask = [int(token_id > 0) for token_id in sent]\n",
        "\n",
        "        attention_masks.append(att_mask)\n",
        "\n",
        "    return attention_masks, input_ids"
      ],
      "execution_count": 123,
      "outputs": []
    },
    {
      "cell_type": "code",
      "metadata": {
        "id": "cvT6F6fCD3I3"
      },
      "source": [
        "m_text = miscon_df.misconception.values\n",
        "m_attention_mask, m_input_id = vectorize(m_text)\n",
        "\n",
        "t_text = tweets_df.tweet.values\n",
        "t_attention_mask, t_input_id = vectorize(t_text,64)"
      ],
      "execution_count": 124,
      "outputs": []
    },
    {
      "cell_type": "code",
      "metadata": {
        "id": "X9Q43zw0MTUY"
      },
      "source": [
        "def get_X_inputs_masks(sample, t_attention_mask, t_input_id, m_attention_mask, m_input_id):\n",
        "    X_inputs = []\n",
        "    X_masks = []\n",
        "\n",
        "    for i in range(0,len(sample)):\n",
        "        t_index = sample.tweet_index[i]-1\n",
        "        inputs_temp = t_input_id[t_index].tolist().copy()\n",
        "        masks_temp = t_attention_mask[t_index].copy()\n",
        "\n",
        "        m_index = sample.misconception_id[i]-1\n",
        "        inputs_temp.extend(m_input_id[m_index].tolist())\n",
        "        masks_temp.extend(m_attention_mask[m_index])\n",
        "\n",
        "        X_inputs.append(inputs_temp)\n",
        "        X_masks.append(masks_temp)\n",
        "    \n",
        "    X_inputs = np.array(X_inputs)\n",
        "    return X_inputs, X_masks"
      ],
      "execution_count": 125,
      "outputs": []
    },
    {
      "cell_type": "markdown",
      "metadata": {
        "id": "kSPwcTAcHA5d"
      },
      "source": [
        "# Split Data"
      ]
    },
    {
      "cell_type": "code",
      "metadata": {
        "id": "iPI-wYKnXkMx"
      },
      "source": [
        "from sklearn.model_selection import train_test_split\n",
        "from sklearn.utils import shuffle\n",
        "\n",
        "\n",
        "train_tdf, validation_tdf = train_test_split(mini_tdf, random_state=1, test_size=0.2)\n",
        "\n",
        "# oversampling data to reduce the impact of data imbalance\n",
        "sample = merge_tweet_misconception(train_tdf, mini_mdf, df)\n",
        "oversample = sample.loc[sample[sample['related']==1].index.repeat(5)]\n",
        "train_sample = pd.concat([sample,oversample]).reset_index(drop=True)\n",
        "train_sample = shuffle(train_sample, random_state=1)\n",
        "train_labels = train_sample.related.values\n",
        "train_inputs, train_masks = get_X_inputs_masks(train_sample, t_attention_mask, t_input_id, m_attention_mask, m_input_id)\n",
        "\n",
        "validation_sample = merge_tweet_misconception(validation_tdf, miscon_df, df)\n",
        "validation_labels = validation_sample.related.values\n",
        "validation_inputs, validation_masks = get_X_inputs_masks(validation_sample, t_attention_mask, t_input_id, m_attention_mask, m_input_id)"
      ],
      "execution_count": 275,
      "outputs": []
    },
    {
      "cell_type": "code",
      "metadata": {
        "colab": {
          "base_uri": "https://localhost:8080/"
        },
        "id": "PlDOZms6mAhm",
        "outputId": "ee4b2ce4-0cb1-4d38-f749-d20e2618bddd"
      },
      "source": [
        "train_sample.groupby('related')['tweet'].count()"
      ],
      "execution_count": 276,
      "outputs": [
        {
          "output_type": "execute_result",
          "data": {
            "text/plain": [
              "related\n",
              "0    210269\n",
              "1     31458\n",
              "Name: tweet, dtype: int64"
            ]
          },
          "metadata": {
            "tags": []
          },
          "execution_count": 276
        }
      ]
    },
    {
      "cell_type": "code",
      "metadata": {
        "id": "tPr2RNbA7151",
        "outputId": "4b4dd124-2e84-49c9-d965-615d4893c126",
        "colab": {
          "base_uri": "https://localhost:8080/"
        }
      },
      "source": [
        "validation_sample.groupby('related')['tweet'].count()"
      ],
      "execution_count": 277,
      "outputs": [
        {
          "output_type": "execute_result",
          "data": {
            "text/plain": [
              "related\n",
              "0    52631\n",
              "1     1309\n",
              "Name: tweet, dtype: int64"
            ]
          },
          "metadata": {
            "tags": []
          },
          "execution_count": 277
        }
      ]
    },
    {
      "cell_type": "markdown",
      "metadata": {
        "id": "so24p9-QZOri"
      },
      "source": [
        "# Class Weight"
      ]
    },
    {
      "cell_type": "code",
      "metadata": {
        "colab": {
          "base_uri": "https://localhost:8080/"
        },
        "id": "oQ7Xwu1KaM-3",
        "outputId": "ecad2088-6743-4fb5-b024-a25053d87b8e"
      },
      "source": [
        "neg, pos = np.bincount(train_sample['related'])\n",
        "total = neg + pos\n",
        "\n",
        "weight_for_0 = (1 / neg) * (total / 2.0)\n",
        "weight_for_1 = (1 / pos) * (total / 2.0)\n",
        "\n",
        "class_weight = {0: weight_for_0, 1: weight_for_1}\n",
        "\n",
        "print('Weight for class 0: {:.2f}'.format(weight_for_0))\n",
        "print('Weight for class 1: {:.2f}'.format(weight_for_1))"
      ],
      "execution_count": 278,
      "outputs": [
        {
          "output_type": "stream",
          "text": [
            "Weight for class 0: 0.57\n",
            "Weight for class 1: 3.84\n"
          ],
          "name": "stdout"
        }
      ]
    },
    {
      "cell_type": "markdown",
      "metadata": {
        "id": "7GWTty9QCP0r"
      },
      "source": [
        "# Single Classifier"
      ]
    },
    {
      "cell_type": "markdown",
      "metadata": {
        "id": "2Jr5bP950pRR"
      },
      "source": [
        "## Random Forest"
      ]
    },
    {
      "cell_type": "code",
      "metadata": {
        "id": "1t4yX8eBWjjL"
      },
      "source": [
        "from sklearn.ensemble import RandomForestClassifier\n",
        "from joblib import dump, load\n",
        "\n",
        "def foresttrain(X_train, Y_train, model_name):\n",
        "    '''\n",
        "    Train the random forest classifier and save to local.\n",
        "    :param X_train:\n",
        "    :param Y_train:\n",
        "    '''\n",
        "    forest = RandomForestClassifier(n_estimators=100, oob_score=True, n_jobs=3, class_weight = class_weight) #n_job is n of CPU cores assigned\n",
        "    forest.fit(X_train, Y_train)\n",
        "    dump(forest, model_name)\n",
        "\n",
        "def forest_predict(X_val, model_name):\n",
        "    '''\n",
        "    comparing the return result with the Y_val\n",
        "    e.g.\n",
        "    from sklearn.metrics import accuracy_score\n",
        "    accuracy_score(Y_val, forest_prediction)\n",
        "    '''\n",
        "    forest = load(model_name)\n",
        "    forest_prediction = forest.predict(X_val)\n",
        "    return forest_prediction"
      ],
      "execution_count": 289,
      "outputs": []
    },
    {
      "cell_type": "code",
      "metadata": {
        "id": "iwFRc1mh1tq8",
        "outputId": "09090252-72ef-4ae8-b001-2090e36663a9",
        "colab": {
          "base_uri": "https://localhost:8080/"
        }
      },
      "source": [
        "foresttrain(train_inputs, train_labels,'forest.joblib')\n",
        "\n",
        "forest_pred = forest_predict(validation_inputs,'forest.joblib')\n",
        "\n",
        "binary_eval(validation_labels,forest_pred)"
      ],
      "execution_count": 290,
      "outputs": [
        {
          "output_type": "stream",
          "text": [
            "overall accuracy 0.4998347823690079\n",
            "f1 0.8975601280654669\n",
            "roc_auc 0.4998347823690079\n",
            "confusion matrix [[45698  6933]\n",
            " [ 1137   172]]\n"
          ],
          "name": "stdout"
        }
      ]
    },
    {
      "cell_type": "markdown",
      "metadata": {
        "id": "JHE-uvGi39AN"
      },
      "source": [
        "## Logistic Regression"
      ]
    },
    {
      "cell_type": "code",
      "metadata": {
        "id": "4f_NXv2Q3_gH"
      },
      "source": [
        "from sklearn.linear_model import LogisticRegression\n",
        "\n",
        "def lrtrain(X_train, Y_train, model_name):\n",
        "    lr = LogisticRegression(n_jobs=5,solver='liblinear',class_weight=class_weight)\n",
        "    lr.fit(X_train, Y_train)\n",
        "    dump(lr,model_name)\n",
        "\n",
        "def lr_predict(X_val, model_name):\n",
        "    lr= load(model_name)\n",
        "    lr_prediction = lr.predict(X_val)\n",
        "    return lr_prediction"
      ],
      "execution_count": 293,
      "outputs": []
    },
    {
      "cell_type": "code",
      "metadata": {
        "id": "Pgtafh8q4PqD",
        "outputId": "74e17226-a140-4209-e61f-d79585b2c2d0",
        "colab": {
          "base_uri": "https://localhost:8080/"
        }
      },
      "source": [
        "lrtrain(train_inputs, train_labels,'lr.joblib')\n",
        "\n",
        "lr_pred = lr_predict(validation_inputs,'lr.joblib')\n",
        "\n",
        "binary_eval(validation_labels,lr_pred)"
      ],
      "execution_count": 294,
      "outputs": [
        {
          "output_type": "stream",
          "text": [
            "/usr/local/lib/python3.7/dist-packages/sklearn/linear_model/_logistic.py:1539: UserWarning: 'n_jobs' > 1 does not have any effect when 'solver' is set to 'liblinear'. Got 'n_jobs' = 5.\n",
            "  \" = {}.\".format(effective_n_jobs(self.n_jobs)))\n"
          ],
          "name": "stderr"
        },
        {
          "output_type": "stream",
          "text": [
            "overall accuracy 0.4951438717162787\n",
            "f1 0.6888081121903076\n",
            "roc_auc 0.4951438717162787\n",
            "confusion matrix [[29041 23590]\n",
            " [  735   574]]\n"
          ],
          "name": "stdout"
        }
      ]
    },
    {
      "cell_type": "markdown",
      "metadata": {
        "id": "C9A0e2qv4l2g"
      },
      "source": [
        "## Naive Bayes"
      ]
    },
    {
      "cell_type": "code",
      "metadata": {
        "id": "qMwR7GtH4C1r"
      },
      "source": [
        "from sklearn.naive_bayes import GaussianNB\n",
        "\n",
        "def nbtrain(X_train, Y_train, model_name):\n",
        "    '''\n",
        "    Train the Naive Bayes classifer and save to local.\n",
        "    :param X_train:\n",
        "    :param Y_train:\n",
        "    :return:\n",
        "    '''\n",
        "    nb = GaussianNB()\n",
        "    nb.fit(X_train, Y_train)\n",
        "    dump(nb, model_name)\n",
        "\n",
        "def nb_predict(X_val, model_name):\n",
        "    '''comparing the return result with the Y_val'''\n",
        "    nb = load(model_name)\n",
        "    nb_prediction = nb.predict(X_val)\n",
        "    return nb_prediction"
      ],
      "execution_count": 284,
      "outputs": []
    },
    {
      "cell_type": "code",
      "metadata": {
        "id": "Icf9pMss4xWQ",
        "outputId": "8f03844a-8f9e-4ce7-b83e-aac896bd2ca6",
        "colab": {
          "base_uri": "https://localhost:8080/"
        }
      },
      "source": [
        "nbtrain(train_inputs, train_labels,'nb.joblib')\n",
        "\n",
        "nb_pred = nb_predict(validation_inputs,'nb.joblib')\n",
        "\n",
        "binary_eval(validation_labels,nb_pred)"
      ],
      "execution_count": 285,
      "outputs": [
        {
          "output_type": "stream",
          "text": [
            "overall accuracy 0.49990277089381063\n",
            "f1 0.9450825315104764\n",
            "roc_auc 0.49990277089381063\n",
            "confusion matrix [[50530  2101]\n",
            " [ 1257    52]]\n"
          ],
          "name": "stdout"
        }
      ]
    },
    {
      "cell_type": "markdown",
      "metadata": {
        "id": "1rudq0iC3jjX"
      },
      "source": [
        "# Voting Emsemble"
      ]
    },
    {
      "cell_type": "code",
      "metadata": {
        "id": "G9fh4JNg5TyW"
      },
      "source": [
        "classfiers_pred = pd.DataFrame({'forest': forest_pred, 'nb': nb_pred, 'lr': lr_pred})"
      ],
      "execution_count": 296,
      "outputs": []
    },
    {
      "cell_type": "markdown",
      "metadata": {
        "id": "yNFgluQ-5BA3"
      },
      "source": [
        "## Train Weight"
      ]
    },
    {
      "cell_type": "code",
      "metadata": {
        "id": "SsHSgDfI3jAw"
      },
      "source": [
        "def train_weight(preds, label, num=3):\n",
        "    forest_pre = preds['forest'].values\n",
        "    nb_pre = preds['nb'].values\n",
        "    lr_pre = preds['lr'].values\n",
        "\n",
        "    weight = [1]*num\n",
        "    for i in range(0,len(label)):\n",
        "        update = [0]*num\n",
        "        wrong = 0\n",
        "        \n",
        "        if forest_pre[i] == label[i]:\n",
        "            update[0] = 1\n",
        "        else:\n",
        "            wrong += 1\n",
        "\n",
        "        if nb_pre[i] == label[i]:\n",
        "            update[1] = 1\n",
        "        else:\n",
        "            wrong += 1\n",
        "\n",
        "        if lr_pre[i] == label[i]:\n",
        "            update[2] = 1\n",
        "        else:\n",
        "            wrong += 1\n",
        "\n",
        "        for j in range(0,num):\n",
        "            weight[j] += update[j]* wrong/num\n",
        "\n",
        "    total_weight = sum(weight)\n",
        "    for j in range(0, num):\n",
        "        weight[j] = j/total_weight\n",
        "    return weight"
      ],
      "execution_count": 291,
      "outputs": []
    },
    {
      "cell_type": "code",
      "metadata": {
        "id": "f5T2NL4Q3nT2",
        "outputId": "5d0c735d-95e0-4601-9f4b-e96e883bb965",
        "colab": {
          "base_uri": "https://localhost:8080/"
        }
      },
      "source": [
        "weight = train_weight(classfiers_pred,validation_labels)\n",
        "print(weight)"
      ],
      "execution_count": 297,
      "outputs": [
        {
          "output_type": "stream",
          "text": [
            "[0.0, 5.370665425446881e-05, 0.00010741330850893762]\n"
          ],
          "name": "stdout"
        }
      ]
    },
    {
      "cell_type": "markdown",
      "metadata": {
        "id": "NtBhrF5Z52f9"
      },
      "source": [
        "## Self-defined Voting"
      ]
    },
    {
      "cell_type": "code",
      "metadata": {
        "id": "IgQOjfAO5tnP"
      },
      "source": [
        "def WMVEpredict(weight, preds, use_softmax=False):\n",
        "    softmax = torch.nn.Softmax()\n",
        "    result = []\n",
        "    forest_pre = preds['forest'].values\n",
        "    nb_pre = preds['nb'].values\n",
        "    lr_pre = preds['lr'].values\n",
        "\n",
        "    for i in range(0, len(forest_pre)):\n",
        "        labels = torch.FloatTensor([0,0])\n",
        "        labels[forest_pre[i]] += weight[0]\n",
        "        labels[nb_pre[i]] += weight[1]\n",
        "        labels[lr_pre[i]] += weight[2]\n",
        "\n",
        "        if use_softmax:\n",
        "            votes = softmax(labels)\n",
        "        else:\n",
        "            votes = labels\n",
        "\n",
        "        if votes[0] > votes[1]:\n",
        "            result.append(0)\n",
        "        elif votes[0] < votes[1]:\n",
        "            result.append(1)\n",
        "        else:\n",
        "            result.append(randrange(2))\n",
        "    return result"
      ],
      "execution_count": 268,
      "outputs": []
    },
    {
      "cell_type": "code",
      "metadata": {
        "id": "tNduGcDs6R-6",
        "outputId": "d236520c-0fea-44cb-b5f0-13ff80e1c05b",
        "colab": {
          "base_uri": "https://localhost:8080/"
        }
      },
      "source": [
        "voting_pred = WMVEpredict(weight, classfiers_pred)\n",
        "binary_eval(validation_labels,voting_pred)"
      ],
      "execution_count": 299,
      "outputs": [
        {
          "output_type": "stream",
          "text": [
            "overall accuracy 0.4951438717162787\n",
            "f1 0.6888081121903076\n",
            "roc_auc 0.4951438717162787\n",
            "confusion matrix [[29041 23590]\n",
            " [  735   574]]\n",
            "sensitivity 0.4385026737967914\n",
            "specificity 0.551785069635766\n"
          ],
          "name": "stdout"
        }
      ]
    },
    {
      "cell_type": "markdown",
      "metadata": {
        "id": "Tq9iR5S1_xCd"
      },
      "source": [
        "## Voting from SKLearn"
      ]
    },
    {
      "cell_type": "code",
      "metadata": {
        "id": "HQpOAwzd-Oap"
      },
      "source": [
        "from sklearn.ensemble import VotingClassifier\n",
        "\n",
        "forest = RandomForestClassifier(n_estimators=10, n_jobs=3, class_weight = class_weight)\n",
        "lr = LogisticRegression(n_jobs=5,class_weight=class_weight)\n",
        "nb = GaussianNB()\n",
        "\n",
        "estimators = [('forest',forest), ('lr',lr), ('nb',nb)]\n",
        "\n",
        "VotingCLF = VotingClassifier(estimators=estimators,\n",
        "        flatten_transform=True)"
      ],
      "execution_count": 271,
      "outputs": []
    },
    {
      "cell_type": "code",
      "metadata": {
        "id": "-8S8fdCO-zYf",
        "outputId": "c7897abe-e58b-4e48-d669-ab9549e7925a",
        "colab": {
          "base_uri": "https://localhost:8080/"
        }
      },
      "source": [
        "voting = VotingCLF.fit(train_inputs,train_labels)\n",
        "\n",
        "voting_pred = voting.predict(validation_inputs)\n",
        "binary_eval(validation_labels,voting_pred)"
      ],
      "execution_count": 288,
      "outputs": [
        {
          "output_type": "stream",
          "text": [
            "overall accuracy 0.4994398276807325\n",
            "f1 0.9615312603570133\n",
            "roc_auc 0.4994398276807325\n",
            "confusion matrix [[52371   260]\n",
            " [ 1304     5]]\n"
          ],
          "name": "stdout"
        }
      ]
    },
    {
      "cell_type": "markdown",
      "metadata": {
        "id": "DBP4d8Xu3n3f"
      },
      "source": [
        "# Deep Learning"
      ]
    },
    {
      "cell_type": "code",
      "metadata": {
        "id": "7LhhcfiJHu1W"
      },
      "source": [
        "# changing the numpy arrays into tensors for working on GPU.\n",
        "train_inputs = torch.tensor(train_inputs)\n",
        "validation_inputs = torch.tensor(validation_inputs)\n",
        "\n",
        "train_labels = torch.tensor(train_labels)\n",
        "validation_labels = torch.tensor(validation_labels)\n",
        "\n",
        "train_masks = torch.tensor(train_masks)\n",
        "validation_masks = torch.tensor(validation_masks)\n",
        "\n",
        "# DataLoader for our training set.\n",
        "train_data = TensorDataset(train_inputs, train_masks, train_labels)\n",
        "train_sampler = RandomSampler(train_data)\n",
        "train_dataloader = DataLoader(train_data, sampler=train_sampler, batch_size=batch_size)\n",
        "\n",
        "# DataLoader for our validation(test) set.\n",
        "validation_data = TensorDataset(validation_inputs, validation_masks, validation_labels)\n",
        "validation_sampler = SequentialSampler(validation_data)\n",
        "validation_dataloader = DataLoader(validation_data, sampler=validation_sampler, batch_size=batch_size)\n",
        "\n",
        "class_weight = torch.FloatTensor([weight_for_0,weight_for_1])"
      ],
      "execution_count": 175,
      "outputs": []
    },
    {
      "cell_type": "markdown",
      "metadata": {
        "id": "Fy1U2n12ZkD_"
      },
      "source": [
        "## Helper functions"
      ]
    },
    {
      "cell_type": "code",
      "metadata": {
        "id": "VDGSvcuX9fW2"
      },
      "source": [
        "from sklearn.metrics import confusion_matrix\n",
        "\n",
        "def format_time(elapsed):\n",
        "    '''\n",
        "    Takes a time in seconds and returns a string hh:mm:ss\n",
        "    '''\n",
        "    # Round to the nearest second.\n",
        "    elapsed_rounded = int(round((elapsed)))\n",
        "\n",
        "    # Format as hh:mm:ss\n",
        "    return str(datetime.timedelta(seconds=elapsed_rounded))\n",
        "\n",
        "# Function to calculate the accuracy of our predictions vs labels\n",
        "def flat_accuracy(preds, labels):\n",
        "    pred_flat = np.argmax(preds, axis=1).flatten()\n",
        "    labels_flat = labels.flatten()\n",
        "    return np.sum(pred_flat == labels_flat) / len(labels_flat)\n",
        "\n",
        "def flat_confusion_matrix(preds, labels):\n",
        "    pred_flat = np.argmax(preds, axis=1).flatten()\n",
        "    labels_flat = labels.flatten()\n",
        "    return confusion_matrix(pred_flat,labels_flat,[0,1])\n",
        "\n",
        "def plot_acc_loss(acc,loss):\n",
        "    x1 = range(0, epochs)\n",
        "    x2 = range(0, epochs)\n",
        "    y1 = acc\n",
        "    y2 = loss\n",
        "    plt.subplot(2, 1, 1)\n",
        "    plt.plot(x1, y1, 'o-')\n",
        "    plt.title('Test accuracy vs. epoches')\n",
        "    plt.ylabel('Test accuracy')\n",
        "    plt.subplot(2, 1, 2)\n",
        "    plt.plot(x2, y2, '.-')\n",
        "    plt.xlabel('Test loss vs. epoches')\n",
        "    plt.ylabel('Test loss')\n",
        "    plt.show()"
      ],
      "execution_count": 176,
      "outputs": []
    },
    {
      "cell_type": "markdown",
      "metadata": {
        "id": "jstl6HRLZnIw"
      },
      "source": [
        "## Build Model"
      ]
    },
    {
      "cell_type": "code",
      "metadata": {
        "id": "iCpFwfAX88fj"
      },
      "source": [
        "def bertpretrain(train_dataloader, validation_dataloader):\n",
        "    \n",
        "    if save_model.exists():\n",
        "        model = torch.load(save_model)\n",
        "    else:\n",
        "        model = BertForSequenceClassification.from_pretrained(\n",
        "            \"bert-base-uncased\",\n",
        "            num_labels=n_classes,\n",
        "            output_attentions=False,\n",
        "            output_hidden_states=False\n",
        "            )\n",
        "\n",
        "    # Running the model on GPU.\n",
        "    model.cuda()\n",
        "\n",
        "    # Running on GPU if available, otherwise on CPU\n",
        "    device = torch.device(\"cuda:0\" if torch.cuda.is_available() else \"cpu\")\n",
        "\n",
        "    optimizer = AdamW(model.parameters(),\n",
        "                      lr = 2e-5,\n",
        "                      eps = 1e-8\n",
        "                      )\n",
        "\n",
        "    total_steps = len(train_dataloader) * epochs\n",
        "\n",
        "    scheduler = get_linear_schedule_with_warmup(optimizer,\n",
        "                                                num_warmup_steps=0,  # Default value in run_glue.py\n",
        "                                                num_training_steps=total_steps)\n",
        "\n",
        "    # Set the seed value all over the place to make this reproducible.\n",
        "    random.seed(seed_val)\n",
        "    np.random.seed(seed_val)\n",
        "    torch.manual_seed(seed_val)\n",
        "    torch.cuda.manual_seed_all(seed_val)\n",
        "\n",
        "    # Store the average loss after each epoch so we can plot them.\n",
        "    loss_values = []\n",
        "\n",
        "    val_accuracy = []\n",
        "\n",
        "    # For each epoch...\n",
        "    for epoch in range(0, epochs):\n",
        "\n",
        "        # ========================================\n",
        "        #               Training\n",
        "        # ========================================\n",
        "        print(\"\")\n",
        "        print('======== Epoch {:} / {:} ========'.format(epoch + 1, epochs))\n",
        "        print('Training...')\n",
        "\n",
        "        # Measure how long the training epoch takes.\n",
        "        t0 = time.time()\n",
        "\n",
        "        # Reset the total loss for this epoch.\n",
        "        total_loss = 0\n",
        "\n",
        "        model.train() # switch to training mode\n",
        "\n",
        "        # For each batch of training data...\n",
        "        for step, batch in enumerate(train_dataloader):\n",
        "            # Progress update every 40 batches.\n",
        "            if step % 40 == 0 and not step == 0:\n",
        "                # Calculate elapsed time in minutes.\n",
        "                elapsed = format_time(time.time() - t0)\n",
        "\n",
        "                # Report progress.\n",
        "                print('  Batch {:>5,}  of  {:>5,}.    Elapsed: {:}.'.format(step, len(train_dataloader), elapsed))\n",
        "\n",
        "            # Unpack this training batch from our dataloader.\n",
        "            # `batch` contains three pytorch tensors:\n",
        "            #   [0]: input ids\n",
        "            #   [1]: attention masks\n",
        "            #   [2]: labels\n",
        "            b_input_ids = batch[0].to(device)\n",
        "            b_input_mask = batch[1].to(device)\n",
        "            b_labels = batch[2].to(device)\n",
        "\n",
        "            # Clear any previously calculated gradients before performing a backward pass.\n",
        "            model.zero_grad()\n",
        "\n",
        "            # Perform a forward pass (evaluate the model on this training batch).\n",
        "            outputs = model(b_input_ids,\n",
        "                     token_type_ids=None,\n",
        "                     attention_mask=b_input_mask,\n",
        "                     labels=b_labels)\n",
        "\n",
        "            # Pull the loss value out of the tuple.\n",
        "            #loss = outputs[0]\n",
        "            ce = torch.nn.CrossEntropyLoss(weight=class_weight.to(device))\n",
        "            loss = ce(outputs[1],b_labels)\n",
        "\n",
        "            # Accumulate the training loss over all of the batches so that we can\n",
        "            # calculate the average loss at the end.\n",
        "            total_loss += loss.item()\n",
        "\n",
        "            # Perform a backward pass to calculate the gradients.\n",
        "            loss.backward()\n",
        "\n",
        "            # Clip the norm of the gradients to 1.0.\n",
        "            # This is to help prevent the \"exploding gradients\" problem.\n",
        "            torch.nn.utils.clip_grad_norm_(model.parameters(), 1.0)\n",
        "\n",
        "            # Update parameters and take a step using the computed gradient.\n",
        "            # The optimizer dictates the \"update rule\"--how the parameters are\n",
        "            # modified based on their gradients, the learning rate, etc.\n",
        "            optimizer.step()\n",
        "\n",
        "            # Update the learning rate.\n",
        "            scheduler.step()\n",
        "\n",
        "        # Calculate the average loss over the training data.\n",
        "        avg_train_loss = total_loss / len(train_dataloader)\n",
        "\n",
        "        # Store the loss value for plotting the learning curve.\n",
        "        loss_values.append(avg_train_loss)\n",
        "\n",
        "        print(\"\")\n",
        "        print(\"  Average training loss: {0:.2f}\".format(avg_train_loss))\n",
        "        print(\"  Training epcoh took: {:}\".format(format_time(time.time() - t0)))\n",
        "\n",
        "\n",
        "        # ========================================\n",
        "        #         Validation\n",
        "        # ========================================\n",
        "\n",
        "        print(\"\")\n",
        "        print(\"Running Validation...\")\n",
        "\n",
        "        t0 = time.time() # Validation start time\n",
        "\n",
        "        # Put the model in evaluation mode\n",
        "        model.eval()\n",
        "\n",
        "        eval_loss, eval_accuracy = 0, 0\n",
        "        val_conf_matrix = [np.array([0,0]),np.array([0,0])]\n",
        "        nb_eval_steps, nb_eval_examples = 0, 0\n",
        "\n",
        "\n",
        "        # Evaluate data for one epoch\n",
        "        for batch in validation_dataloader:\n",
        "\n",
        "            batch = tuple(t.to(device) for t in batch)\n",
        "\n",
        "\n",
        "            b_input_ids, b_input_mask, b_labels = batch\n",
        "\n",
        "            # Telling the model not to compute or store gradients, saving memory and\n",
        "            # speeding up validation\n",
        "            with torch.no_grad():\n",
        "                outputs = model(b_input_ids,\n",
        "                         token_type_ids=None,\n",
        "                         attention_mask=b_input_mask)\n",
        "\n",
        "            # Get the \"logits\" output by the model. The \"logits\" are the output\n",
        "            # values prior to applying an activation function like the softmax.\n",
        "            logits = outputs[0]\n",
        "\n",
        "            # Move logits and labels to CPU\n",
        "            logits = logits.detach().cpu().numpy()\n",
        "            label_ids = b_labels.to('cpu').numpy()\n",
        "\n",
        "            # Calculate the accuracy for this batch of test sentences.\n",
        "            tmp_eval_accuracy = flat_accuracy(logits, label_ids)\n",
        "            tmp_confusion_matrix = flat_confusion_matrix(logits,label_ids)\n",
        "\n",
        "            # Accumulate the total accuracy.\n",
        "            eval_accuracy += tmp_eval_accuracy\n",
        "            val_conf_matrix += tmp_confusion_matrix\n",
        "\n",
        "            # Track the number of batches\n",
        "            nb_eval_steps += 1\n",
        "\n",
        "        # Report the final accuracy for this validation run.\n",
        "        val_accuracy.append(eval_accuracy / nb_eval_steps)\n",
        "        print(\"  Accuracy: {0:.2f}\".format(eval_accuracy / nb_eval_steps))\n",
        "        print(\"  Confusion matrix:\", val_conf_matrix)\n",
        "        print(\"  Validation took: {:}\".format(format_time(time.time() - t0)))\n",
        "\n",
        "        if epoch % checkpoint == 0:\n",
        "          torch.save(model,save_model)\n",
        " \n",
        "\n",
        "    print(\"Saving model...\")\n",
        "    torch.save(model, save_model)\n",
        "\n",
        "    print(\"\")\n",
        "    print(\"Training complete!\")\n",
        "\n",
        "    return val_accuracy, loss_values, val_conf_matrix\n"
      ],
      "execution_count": 180,
      "outputs": []
    },
    {
      "cell_type": "code",
      "metadata": {
        "id": "VDda8wH49fLV",
        "colab": {
          "base_uri": "https://localhost:8080/"
        },
        "outputId": "84edd896-fe38-4fb9-e485-a38a9c99d124"
      },
      "source": [
        "val_accuracy, loss_values, val_conf_matrix = bertpretrain(train_dataloader, validation_dataloader)"
      ],
      "execution_count": 178,
      "outputs": [
        {
          "output_type": "stream",
          "text": [
            "Some weights of the model checkpoint at bert-base-uncased were not used when initializing BertForSequenceClassification: ['cls.seq_relationship.weight', 'cls.predictions.bias', 'cls.seq_relationship.bias', 'cls.predictions.transform.LayerNorm.weight', 'cls.predictions.transform.dense.bias', 'cls.predictions.transform.dense.weight', 'cls.predictions.decoder.weight', 'cls.predictions.transform.LayerNorm.bias']\n",
            "- This IS expected if you are initializing BertForSequenceClassification from the checkpoint of a model trained on another task or with another architecture (e.g. initializing a BertForSequenceClassification model from a BertForPreTraining model).\n",
            "- This IS NOT expected if you are initializing BertForSequenceClassification from the checkpoint of a model that you expect to be exactly identical (initializing a BertForSequenceClassification model from a BertForSequenceClassification model).\n",
            "Some weights of BertForSequenceClassification were not initialized from the model checkpoint at bert-base-uncased and are newly initialized: ['classifier.weight', 'classifier.bias']\n",
            "You should probably TRAIN this model on a down-stream task to be able to use it for predictions and inference.\n"
          ],
          "name": "stderr"
        },
        {
          "output_type": "stream",
          "text": [
            "\n",
            "======== Epoch 1 / 1 ========\n",
            "Training...\n",
            "  Batch    40  of  4,187.    Elapsed: 0:00:23.\n",
            "  Batch    80  of  4,187.    Elapsed: 0:00:45.\n",
            "  Batch   120  of  4,187.    Elapsed: 0:01:08.\n",
            "  Batch   160  of  4,187.    Elapsed: 0:01:30.\n",
            "  Batch   200  of  4,187.    Elapsed: 0:01:52.\n",
            "  Batch   240  of  4,187.    Elapsed: 0:02:15.\n",
            "  Batch   280  of  4,187.    Elapsed: 0:02:37.\n",
            "  Batch   320  of  4,187.    Elapsed: 0:03:00.\n",
            "  Batch   360  of  4,187.    Elapsed: 0:03:22.\n",
            "  Batch   400  of  4,187.    Elapsed: 0:03:45.\n",
            "  Batch   440  of  4,187.    Elapsed: 0:04:07.\n",
            "  Batch   480  of  4,187.    Elapsed: 0:04:30.\n",
            "  Batch   520  of  4,187.    Elapsed: 0:04:52.\n",
            "  Batch   560  of  4,187.    Elapsed: 0:05:15.\n",
            "  Batch   600  of  4,187.    Elapsed: 0:05:37.\n",
            "  Batch   640  of  4,187.    Elapsed: 0:05:59.\n",
            "  Batch   680  of  4,187.    Elapsed: 0:06:22.\n",
            "  Batch   720  of  4,187.    Elapsed: 0:06:44.\n",
            "  Batch   760  of  4,187.    Elapsed: 0:07:07.\n",
            "  Batch   800  of  4,187.    Elapsed: 0:07:29.\n",
            "  Batch   840  of  4,187.    Elapsed: 0:07:52.\n",
            "  Batch   880  of  4,187.    Elapsed: 0:08:14.\n",
            "  Batch   920  of  4,187.    Elapsed: 0:08:36.\n",
            "  Batch   960  of  4,187.    Elapsed: 0:08:59.\n",
            "  Batch 1,000  of  4,187.    Elapsed: 0:09:21.\n",
            "  Batch 1,040  of  4,187.    Elapsed: 0:09:44.\n",
            "  Batch 1,080  of  4,187.    Elapsed: 0:10:06.\n",
            "  Batch 1,120  of  4,187.    Elapsed: 0:10:29.\n",
            "  Batch 1,160  of  4,187.    Elapsed: 0:10:51.\n",
            "  Batch 1,200  of  4,187.    Elapsed: 0:11:13.\n",
            "  Batch 1,240  of  4,187.    Elapsed: 0:11:36.\n",
            "  Batch 1,280  of  4,187.    Elapsed: 0:11:58.\n",
            "  Batch 1,320  of  4,187.    Elapsed: 0:12:21.\n",
            "  Batch 1,360  of  4,187.    Elapsed: 0:12:43.\n",
            "  Batch 1,400  of  4,187.    Elapsed: 0:13:06.\n",
            "  Batch 1,440  of  4,187.    Elapsed: 0:13:28.\n",
            "  Batch 1,480  of  4,187.    Elapsed: 0:13:50.\n",
            "  Batch 1,520  of  4,187.    Elapsed: 0:14:13.\n",
            "  Batch 1,560  of  4,187.    Elapsed: 0:14:35.\n",
            "  Batch 1,600  of  4,187.    Elapsed: 0:14:58.\n",
            "  Batch 1,640  of  4,187.    Elapsed: 0:15:20.\n",
            "  Batch 1,680  of  4,187.    Elapsed: 0:15:42.\n",
            "  Batch 1,720  of  4,187.    Elapsed: 0:16:05.\n",
            "  Batch 1,760  of  4,187.    Elapsed: 0:16:27.\n",
            "  Batch 1,800  of  4,187.    Elapsed: 0:16:50.\n",
            "  Batch 1,840  of  4,187.    Elapsed: 0:17:12.\n",
            "  Batch 1,880  of  4,187.    Elapsed: 0:17:35.\n",
            "  Batch 1,920  of  4,187.    Elapsed: 0:17:57.\n",
            "  Batch 1,960  of  4,187.    Elapsed: 0:18:19.\n",
            "  Batch 2,000  of  4,187.    Elapsed: 0:18:42.\n",
            "  Batch 2,040  of  4,187.    Elapsed: 0:19:04.\n",
            "  Batch 2,080  of  4,187.    Elapsed: 0:19:27.\n",
            "  Batch 2,120  of  4,187.    Elapsed: 0:19:49.\n",
            "  Batch 2,160  of  4,187.    Elapsed: 0:20:11.\n",
            "  Batch 2,200  of  4,187.    Elapsed: 0:20:34.\n",
            "  Batch 2,240  of  4,187.    Elapsed: 0:20:56.\n",
            "  Batch 2,280  of  4,187.    Elapsed: 0:21:19.\n",
            "  Batch 2,320  of  4,187.    Elapsed: 0:21:41.\n",
            "  Batch 2,360  of  4,187.    Elapsed: 0:22:03.\n",
            "  Batch 2,400  of  4,187.    Elapsed: 0:22:26.\n",
            "  Batch 2,440  of  4,187.    Elapsed: 0:22:48.\n",
            "  Batch 2,480  of  4,187.    Elapsed: 0:23:11.\n",
            "  Batch 2,520  of  4,187.    Elapsed: 0:23:33.\n",
            "  Batch 2,560  of  4,187.    Elapsed: 0:23:56.\n",
            "  Batch 2,600  of  4,187.    Elapsed: 0:24:18.\n",
            "  Batch 2,640  of  4,187.    Elapsed: 0:24:40.\n",
            "  Batch 2,680  of  4,187.    Elapsed: 0:25:03.\n",
            "  Batch 2,720  of  4,187.    Elapsed: 0:25:25.\n",
            "  Batch 2,760  of  4,187.    Elapsed: 0:25:48.\n",
            "  Batch 2,800  of  4,187.    Elapsed: 0:26:10.\n",
            "  Batch 2,840  of  4,187.    Elapsed: 0:26:32.\n",
            "  Batch 2,880  of  4,187.    Elapsed: 0:26:55.\n",
            "  Batch 2,920  of  4,187.    Elapsed: 0:27:17.\n",
            "  Batch 2,960  of  4,187.    Elapsed: 0:27:40.\n",
            "  Batch 3,000  of  4,187.    Elapsed: 0:28:02.\n",
            "  Batch 3,040  of  4,187.    Elapsed: 0:28:24.\n",
            "  Batch 3,080  of  4,187.    Elapsed: 0:28:47.\n",
            "  Batch 3,120  of  4,187.    Elapsed: 0:29:09.\n",
            "  Batch 3,160  of  4,187.    Elapsed: 0:29:32.\n",
            "  Batch 3,200  of  4,187.    Elapsed: 0:29:54.\n",
            "  Batch 3,240  of  4,187.    Elapsed: 0:30:17.\n",
            "  Batch 3,280  of  4,187.    Elapsed: 0:30:39.\n",
            "  Batch 3,320  of  4,187.    Elapsed: 0:31:01.\n",
            "  Batch 3,360  of  4,187.    Elapsed: 0:31:24.\n",
            "  Batch 3,400  of  4,187.    Elapsed: 0:31:46.\n",
            "  Batch 3,440  of  4,187.    Elapsed: 0:32:09.\n",
            "  Batch 3,480  of  4,187.    Elapsed: 0:32:31.\n",
            "  Batch 3,520  of  4,187.    Elapsed: 0:32:53.\n",
            "  Batch 3,560  of  4,187.    Elapsed: 0:33:16.\n",
            "  Batch 3,600  of  4,187.    Elapsed: 0:33:38.\n",
            "  Batch 3,640  of  4,187.    Elapsed: 0:34:01.\n",
            "  Batch 3,680  of  4,187.    Elapsed: 0:34:23.\n",
            "  Batch 3,720  of  4,187.    Elapsed: 0:34:45.\n",
            "  Batch 3,760  of  4,187.    Elapsed: 0:35:08.\n",
            "  Batch 3,800  of  4,187.    Elapsed: 0:35:30.\n",
            "  Batch 3,840  of  4,187.    Elapsed: 0:35:53.\n",
            "  Batch 3,880  of  4,187.    Elapsed: 0:36:15.\n",
            "  Batch 3,920  of  4,187.    Elapsed: 0:36:38.\n",
            "  Batch 3,960  of  4,187.    Elapsed: 0:37:00.\n",
            "  Batch 4,000  of  4,187.    Elapsed: 0:37:23.\n",
            "  Batch 4,040  of  4,187.    Elapsed: 0:37:45.\n",
            "  Batch 4,080  of  4,187.    Elapsed: 0:38:07.\n",
            "  Batch 4,120  of  4,187.    Elapsed: 0:38:30.\n",
            "  Batch 4,160  of  4,187.    Elapsed: 0:38:52.\n",
            "\n",
            "  Average training loss: 0.69\n",
            "  Training epcoh took: 0:39:07\n",
            "\n",
            "Running Validation on Training Data...\n",
            "  Accuracy: 0.77\n",
            "  Confusion matrix: [[203123  55643]\n",
            " [  7146   2030]]\n",
            "  Validation took: 0:12:45\n",
            "\n",
            "Running Validation on Test Data...\n",
            "  Accuracy: 0.94\n",
            "  Confusion matrix: [[50859  1266]\n",
            " [ 1772    43]]\n",
            "  Validation took: 0:02:34\n",
            "Saving model...\n",
            "\n",
            "Training complete!\n"
          ],
          "name": "stdout"
        }
      ]
    },
    {
      "cell_type": "code",
      "metadata": {
        "colab": {
          "base_uri": "https://localhost:8080/"
        },
        "id": "W8it-uzGT-yj",
        "outputId": "8d32fda1-77cd-4c51-e8b8-7b2ccd72c06b"
      },
      "source": [
        "# oversampling 5\n",
        "train_conf_matrix "
      ],
      "execution_count": 95,
      "outputs": [
        {
          "output_type": "execute_result",
          "data": {
            "text/plain": [
              "array([[614,  76],\n",
              "       [ 85,  50]])"
            ]
          },
          "metadata": {
            "tags": []
          },
          "execution_count": 95
        }
      ]
    },
    {
      "cell_type": "code",
      "metadata": {
        "colab": {
          "base_uri": "https://localhost:8080/"
        },
        "id": "1dwVQjh9UB13",
        "outputId": "74f61e08-1286-43a1-9e65-e7f5a3d4f4ed"
      },
      "source": [
        "# oversampling 5\n",
        "val_conf_matrix"
      ],
      "execution_count": 96,
      "outputs": [
        {
          "output_type": "execute_result",
          "data": {
            "text/plain": [
              "array([[272,   6],\n",
              "       [ 93,   1]])"
            ]
          },
          "metadata": {
            "tags": []
          },
          "execution_count": 96
        }
      ]
    },
    {
      "cell_type": "code",
      "metadata": {
        "colab": {
          "base_uri": "https://localhost:8080/",
          "height": 0
        },
        "id": "6E22JXRLTIaN",
        "outputId": "8312ddeb-e20d-43b7-bb49-dda2e44fd997"
      },
      "source": [
        "plot_acc_loss(val_accuracy,loss_values)"
      ],
      "execution_count": 88,
      "outputs": [
        {
          "output_type": "display_data",
          "data": {
            "image/png": "[encoded data removed]",
            "text/plain": [
              "<Figure size 432x288 with 2 Axes>"
            ]
          },
          "metadata": {
            "tags": [],
            "needs_background": "light"
          }
        }
      ]
    },
    {
      "cell_type": "markdown",
      "metadata": {
        "id": "4oth3ltJUTTN"
      },
      "source": [
        "# Validation"
      ]
    },
    {
      "cell_type": "code",
      "metadata": {
        "id": "l_kYrw94Uf79"
      },
      "source": [
        "from sklearn.metrics import confusion_matrix, f1_score, balanced_accuracy_score, roc_auc_score\n",
        "\n",
        "def binary_eval(label, prediction):\n",
        "    print('overall accuracy', balanced_accuracy_score(label, prediction))\n",
        "    print('f1',f1_score(label, prediction, average='weighted'))\n",
        "    print('roc_auc', roc_auc_score(label, prediction, average='weighted'))\n",
        "    c_matrix = confusion_matrix(label, prediction)\n",
        "    print('confusion matrix', c_matrix)\n",
        "    sensitivity = c_matrix[1][1]/(c_matrix[1][1]+c_matrix[1][0])\n",
        "    specificity = c_matrix[0][0]/(c_matrix[0][0]+c_matrix[0][1])\n",
        "    print('sensitivity',sensitivity)\n",
        "    print('specificity',specificity)"
      ],
      "execution_count": 295,
      "outputs": []
    },
    {
      "cell_type": "code",
      "metadata": {
        "id": "fToY73Tz9fOD"
      },
      "source": [
        "device = torch.device(\"cuda:0\" if torch.cuda.is_available() else \"cpu\")\n",
        "def bertpredict(model,inputs,masks):\n",
        "    bert_pred = model(inputs.to(device),\n",
        "              token_type_ids=None,\n",
        "              attention_mask=masks.to(device))[0].detach().cpu().numpy()\n",
        "    bertpred_class = np.argmax(bert_pred,axis=1).flatten()\n",
        "    return bertpred_class"
      ],
      "execution_count": 39,
      "outputs": []
    },
    {
      "cell_type": "code",
      "metadata": {
        "id": "foISRd-xTTGh"
      },
      "source": [
        "bert = torch.load(save_model)\n",
        "\n",
        "result = bertpredict(bert, validation_inputs, validation_masks)\n",
        "binary_eval(validation_labels,result)"
      ],
      "execution_count": null,
      "outputs": []
    }
  ]
}