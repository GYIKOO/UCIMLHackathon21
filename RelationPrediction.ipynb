{
  "nbformat": 4,
  "nbformat_minor": 0,
  "metadata": {
    "colab": {
      "name": "RelationPrediction",
      "provenance": [],
      "collapsed_sections": [
        "DBP4d8Xu3n3f"
      ],
      "include_colab_link": true
    },
    "kernelspec": {
      "name": "python3",
      "display_name": "Python 3"
    },
    "language_info": {
      "name": "python"
    },
    "widgets": {
      "application/vnd.jupyter.widget-state+json": {
        "4b098520e9f94b149b5373e119b88ce7": {
          "model_module": "@jupyter-widgets/controls",
          "model_name": "HBoxModel",
          "state": {
            "_view_name": "HBoxView",
            "_dom_classes": [],
            "_model_name": "HBoxModel",
            "_view_module": "@jupyter-widgets/controls",
            "_model_module_version": "1.5.0",
            "_view_count": null,
            "_view_module_version": "1.5.0",
            "box_style": "",
            "layout": "IPY_MODEL_c85eb0aa35bb44e2bbda0dcf4f73068f",
            "_model_module": "@jupyter-widgets/controls",
            "children": [
              "IPY_MODEL_3e7d8307494c4c0ba7eda36a83030255",
              "IPY_MODEL_730fedfb187d41d49aa719f5e822c3e1"
            ]
          }
        },
        "c85eb0aa35bb44e2bbda0dcf4f73068f": {
          "model_module": "@jupyter-widgets/base",
          "model_name": "LayoutModel",
          "state": {
            "_view_name": "LayoutView",
            "grid_template_rows": null,
            "right": null,
            "justify_content": null,
            "_view_module": "@jupyter-widgets/base",
            "overflow": null,
            "_model_module_version": "1.2.0",
            "_view_count": null,
            "flex_flow": null,
            "width": null,
            "min_width": null,
            "border": null,
            "align_items": null,
            "bottom": null,
            "_model_module": "@jupyter-widgets/base",
            "top": null,
            "grid_column": null,
            "overflow_y": null,
            "overflow_x": null,
            "grid_auto_flow": null,
            "grid_area": null,
            "grid_template_columns": null,
            "flex": null,
            "_model_name": "LayoutModel",
            "justify_items": null,
            "grid_row": null,
            "max_height": null,
            "align_content": null,
            "visibility": null,
            "align_self": null,
            "height": null,
            "min_height": null,
            "padding": null,
            "grid_auto_rows": null,
            "grid_gap": null,
            "max_width": null,
            "order": null,
            "_view_module_version": "1.2.0",
            "grid_template_areas": null,
            "object_position": null,
            "object_fit": null,
            "grid_auto_columns": null,
            "margin": null,
            "display": null,
            "left": null
          }
        },
        "3e7d8307494c4c0ba7eda36a83030255": {
          "model_module": "@jupyter-widgets/controls",
          "model_name": "FloatProgressModel",
          "state": {
            "_view_name": "ProgressView",
            "style": "IPY_MODEL_b3bb64b129e14be8a82b62894e9f2cf3",
            "_dom_classes": [],
            "description": "Downloading: 100%",
            "_model_name": "FloatProgressModel",
            "bar_style": "success",
            "max": 231508,
            "_view_module": "@jupyter-widgets/controls",
            "_model_module_version": "1.5.0",
            "value": 231508,
            "_view_count": null,
            "_view_module_version": "1.5.0",
            "orientation": "horizontal",
            "min": 0,
            "description_tooltip": null,
            "_model_module": "@jupyter-widgets/controls",
            "layout": "IPY_MODEL_6f844c7eb23c492b8a06237d82c9fff7"
          }
        },
        "730fedfb187d41d49aa719f5e822c3e1": {
          "model_module": "@jupyter-widgets/controls",
          "model_name": "HTMLModel",
          "state": {
            "_view_name": "HTMLView",
            "style": "IPY_MODEL_e8d59e62d3f84fe8934cda865eb9c74c",
            "_dom_classes": [],
            "description": "",
            "_model_name": "HTMLModel",
            "placeholder": "​",
            "_view_module": "@jupyter-widgets/controls",
            "_model_module_version": "1.5.0",
            "value": " 232k/232k [00:02&lt;00:00, 107kB/s]",
            "_view_count": null,
            "_view_module_version": "1.5.0",
            "description_tooltip": null,
            "_model_module": "@jupyter-widgets/controls",
            "layout": "IPY_MODEL_3412c7760e4247b9a29dff5218551105"
          }
        },
        "b3bb64b129e14be8a82b62894e9f2cf3": {
          "model_module": "@jupyter-widgets/controls",
          "model_name": "ProgressStyleModel",
          "state": {
            "_view_name": "StyleView",
            "_model_name": "ProgressStyleModel",
            "description_width": "initial",
            "_view_module": "@jupyter-widgets/base",
            "_model_module_version": "1.5.0",
            "_view_count": null,
            "_view_module_version": "1.2.0",
            "bar_color": null,
            "_model_module": "@jupyter-widgets/controls"
          }
        },
        "6f844c7eb23c492b8a06237d82c9fff7": {
          "model_module": "@jupyter-widgets/base",
          "model_name": "LayoutModel",
          "state": {
            "_view_name": "LayoutView",
            "grid_template_rows": null,
            "right": null,
            "justify_content": null,
            "_view_module": "@jupyter-widgets/base",
            "overflow": null,
            "_model_module_version": "1.2.0",
            "_view_count": null,
            "flex_flow": null,
            "width": null,
            "min_width": null,
            "border": null,
            "align_items": null,
            "bottom": null,
            "_model_module": "@jupyter-widgets/base",
            "top": null,
            "grid_column": null,
            "overflow_y": null,
            "overflow_x": null,
            "grid_auto_flow": null,
            "grid_area": null,
            "grid_template_columns": null,
            "flex": null,
            "_model_name": "LayoutModel",
            "justify_items": null,
            "grid_row": null,
            "max_height": null,
            "align_content": null,
            "visibility": null,
            "align_self": null,
            "height": null,
            "min_height": null,
            "padding": null,
            "grid_auto_rows": null,
            "grid_gap": null,
            "max_width": null,
            "order": null,
            "_view_module_version": "1.2.0",
            "grid_template_areas": null,
            "object_position": null,
            "object_fit": null,
            "grid_auto_columns": null,
            "margin": null,
            "display": null,
            "left": null
          }
        },
        "e8d59e62d3f84fe8934cda865eb9c74c": {
          "model_module": "@jupyter-widgets/controls",
          "model_name": "DescriptionStyleModel",
          "state": {
            "_view_name": "StyleView",
            "_model_name": "DescriptionStyleModel",
            "description_width": "",
            "_view_module": "@jupyter-widgets/base",
            "_model_module_version": "1.5.0",
            "_view_count": null,
            "_view_module_version": "1.2.0",
            "_model_module": "@jupyter-widgets/controls"
          }
        },
        "3412c7760e4247b9a29dff5218551105": {
          "model_module": "@jupyter-widgets/base",
          "model_name": "LayoutModel",
          "state": {
            "_view_name": "LayoutView",
            "grid_template_rows": null,
            "right": null,
            "justify_content": null,
            "_view_module": "@jupyter-widgets/base",
            "overflow": null,
            "_model_module_version": "1.2.0",
            "_view_count": null,
            "flex_flow": null,
            "width": null,
            "min_width": null,
            "border": null,
            "align_items": null,
            "bottom": null,
            "_model_module": "@jupyter-widgets/base",
            "top": null,
            "grid_column": null,
            "overflow_y": null,
            "overflow_x": null,
            "grid_auto_flow": null,
            "grid_area": null,
            "grid_template_columns": null,
            "flex": null,
            "_model_name": "LayoutModel",
            "justify_items": null,
            "grid_row": null,
            "max_height": null,
            "align_content": null,
            "visibility": null,
            "align_self": null,
            "height": null,
            "min_height": null,
            "padding": null,
            "grid_auto_rows": null,
            "grid_gap": null,
            "max_width": null,
            "order": null,
            "_view_module_version": "1.2.0",
            "grid_template_areas": null,
            "object_position": null,
            "object_fit": null,
            "grid_auto_columns": null,
            "margin": null,
            "display": null,
            "left": null
          }
        },
        "dcbca6cfc78d4a199f71ec47665912a8": {
          "model_module": "@jupyter-widgets/controls",
          "model_name": "HBoxModel",
          "state": {
            "_view_name": "HBoxView",
            "_dom_classes": [],
            "_model_name": "HBoxModel",
            "_view_module": "@jupyter-widgets/controls",
            "_model_module_version": "1.5.0",
            "_view_count": null,
            "_view_module_version": "1.5.0",
            "box_style": "",
            "layout": "IPY_MODEL_f39ab7296c2d4191b618dfa08727025d",
            "_model_module": "@jupyter-widgets/controls",
            "children": [
              "IPY_MODEL_e8b0de6dc54c48e7b94a81354374786e",
              "IPY_MODEL_891704aa58404100a829694f529ddbd3"
            ]
          }
        },
        "f39ab7296c2d4191b618dfa08727025d": {
          "model_module": "@jupyter-widgets/base",
          "model_name": "LayoutModel",
          "state": {
            "_view_name": "LayoutView",
            "grid_template_rows": null,
            "right": null,
            "justify_content": null,
            "_view_module": "@jupyter-widgets/base",
            "overflow": null,
            "_model_module_version": "1.2.0",
            "_view_count": null,
            "flex_flow": null,
            "width": null,
            "min_width": null,
            "border": null,
            "align_items": null,
            "bottom": null,
            "_model_module": "@jupyter-widgets/base",
            "top": null,
            "grid_column": null,
            "overflow_y": null,
            "overflow_x": null,
            "grid_auto_flow": null,
            "grid_area": null,
            "grid_template_columns": null,
            "flex": null,
            "_model_name": "LayoutModel",
            "justify_items": null,
            "grid_row": null,
            "max_height": null,
            "align_content": null,
            "visibility": null,
            "align_self": null,
            "height": null,
            "min_height": null,
            "padding": null,
            "grid_auto_rows": null,
            "grid_gap": null,
            "max_width": null,
            "order": null,
            "_view_module_version": "1.2.0",
            "grid_template_areas": null,
            "object_position": null,
            "object_fit": null,
            "grid_auto_columns": null,
            "margin": null,
            "display": null,
            "left": null
          }
        },
        "e8b0de6dc54c48e7b94a81354374786e": {
          "model_module": "@jupyter-widgets/controls",
          "model_name": "FloatProgressModel",
          "state": {
            "_view_name": "ProgressView",
            "style": "IPY_MODEL_f55b0bb9b7be4cc78bd369bea96b39e8",
            "_dom_classes": [],
            "description": "Downloading: 100%",
            "_model_name": "FloatProgressModel",
            "bar_style": "success",
            "max": 28,
            "_view_module": "@jupyter-widgets/controls",
            "_model_module_version": "1.5.0",
            "value": 28,
            "_view_count": null,
            "_view_module_version": "1.5.0",
            "orientation": "horizontal",
            "min": 0,
            "description_tooltip": null,
            "_model_module": "@jupyter-widgets/controls",
            "layout": "IPY_MODEL_5f365aa0818c46f9b32b69efd666886e"
          }
        },
        "891704aa58404100a829694f529ddbd3": {
          "model_module": "@jupyter-widgets/controls",
          "model_name": "HTMLModel",
          "state": {
            "_view_name": "HTMLView",
            "style": "IPY_MODEL_b20f27b9a5764545a88c92629fe661eb",
            "_dom_classes": [],
            "description": "",
            "_model_name": "HTMLModel",
            "placeholder": "​",
            "_view_module": "@jupyter-widgets/controls",
            "_model_module_version": "1.5.0",
            "value": " 28.0/28.0 [00:00&lt;00:00, 54.9B/s]",
            "_view_count": null,
            "_view_module_version": "1.5.0",
            "description_tooltip": null,
            "_model_module": "@jupyter-widgets/controls",
            "layout": "IPY_MODEL_a3eaeff8bb3e423392d1dd9e98aeb7df"
          }
        },
        "f55b0bb9b7be4cc78bd369bea96b39e8": {
          "model_module": "@jupyter-widgets/controls",
          "model_name": "ProgressStyleModel",
          "state": {
            "_view_name": "StyleView",
            "_model_name": "ProgressStyleModel",
            "description_width": "initial",
            "_view_module": "@jupyter-widgets/base",
            "_model_module_version": "1.5.0",
            "_view_count": null,
            "_view_module_version": "1.2.0",
            "bar_color": null,
            "_model_module": "@jupyter-widgets/controls"
          }
        },
        "5f365aa0818c46f9b32b69efd666886e": {
          "model_module": "@jupyter-widgets/base",
          "model_name": "LayoutModel",
          "state": {
            "_view_name": "LayoutView",
            "grid_template_rows": null,
            "right": null,
            "justify_content": null,
            "_view_module": "@jupyter-widgets/base",
            "overflow": null,
            "_model_module_version": "1.2.0",
            "_view_count": null,
            "flex_flow": null,
            "width": null,
            "min_width": null,
            "border": null,
            "align_items": null,
            "bottom": null,
            "_model_module": "@jupyter-widgets/base",
            "top": null,
            "grid_column": null,
            "overflow_y": null,
            "overflow_x": null,
            "grid_auto_flow": null,
            "grid_area": null,
            "grid_template_columns": null,
            "flex": null,
            "_model_name": "LayoutModel",
            "justify_items": null,
            "grid_row": null,
            "max_height": null,
            "align_content": null,
            "visibility": null,
            "align_self": null,
            "height": null,
            "min_height": null,
            "padding": null,
            "grid_auto_rows": null,
            "grid_gap": null,
            "max_width": null,
            "order": null,
            "_view_module_version": "1.2.0",
            "grid_template_areas": null,
            "object_position": null,
            "object_fit": null,
            "grid_auto_columns": null,
            "margin": null,
            "display": null,
            "left": null
          }
        },
        "b20f27b9a5764545a88c92629fe661eb": {
          "model_module": "@jupyter-widgets/controls",
          "model_name": "DescriptionStyleModel",
          "state": {
            "_view_name": "StyleView",
            "_model_name": "DescriptionStyleModel",
            "description_width": "",
            "_view_module": "@jupyter-widgets/base",
            "_model_module_version": "1.5.0",
            "_view_count": null,
            "_view_module_version": "1.2.0",
            "_model_module": "@jupyter-widgets/controls"
          }
        },
        "a3eaeff8bb3e423392d1dd9e98aeb7df": {
          "model_module": "@jupyter-widgets/base",
          "model_name": "LayoutModel",
          "state": {
            "_view_name": "LayoutView",
            "grid_template_rows": null,
            "right": null,
            "justify_content": null,
            "_view_module": "@jupyter-widgets/base",
            "overflow": null,
            "_model_module_version": "1.2.0",
            "_view_count": null,
            "flex_flow": null,
            "width": null,
            "min_width": null,
            "border": null,
            "align_items": null,
            "bottom": null,
            "_model_module": "@jupyter-widgets/base",
            "top": null,
            "grid_column": null,
            "overflow_y": null,
            "overflow_x": null,
            "grid_auto_flow": null,
            "grid_area": null,
            "grid_template_columns": null,
            "flex": null,
            "_model_name": "LayoutModel",
            "justify_items": null,
            "grid_row": null,
            "max_height": null,
            "align_content": null,
            "visibility": null,
            "align_self": null,
            "height": null,
            "min_height": null,
            "padding": null,
            "grid_auto_rows": null,
            "grid_gap": null,
            "max_width": null,
            "order": null,
            "_view_module_version": "1.2.0",
            "grid_template_areas": null,
            "object_position": null,
            "object_fit": null,
            "grid_auto_columns": null,
            "margin": null,
            "display": null,
            "left": null
          }
        },
        "c1dbf59062414ce2998e7613decf8149": {
          "model_module": "@jupyter-widgets/controls",
          "model_name": "HBoxModel",
          "state": {
            "_view_name": "HBoxView",
            "_dom_classes": [],
            "_model_name": "HBoxModel",
            "_view_module": "@jupyter-widgets/controls",
            "_model_module_version": "1.5.0",
            "_view_count": null,
            "_view_module_version": "1.5.0",
            "box_style": "",
            "layout": "IPY_MODEL_dec5cd57db854693ba9899530d5142e3",
            "_model_module": "@jupyter-widgets/controls",
            "children": [
              "IPY_MODEL_45d32fcd8b714a858b70e4933c8e5b54",
              "IPY_MODEL_198c79dba5b44afd8fea3b83614cd8fe"
            ]
          }
        },
        "dec5cd57db854693ba9899530d5142e3": {
          "model_module": "@jupyter-widgets/base",
          "model_name": "LayoutModel",
          "state": {
            "_view_name": "LayoutView",
            "grid_template_rows": null,
            "right": null,
            "justify_content": null,
            "_view_module": "@jupyter-widgets/base",
            "overflow": null,
            "_model_module_version": "1.2.0",
            "_view_count": null,
            "flex_flow": null,
            "width": null,
            "min_width": null,
            "border": null,
            "align_items": null,
            "bottom": null,
            "_model_module": "@jupyter-widgets/base",
            "top": null,
            "grid_column": null,
            "overflow_y": null,
            "overflow_x": null,
            "grid_auto_flow": null,
            "grid_area": null,
            "grid_template_columns": null,
            "flex": null,
            "_model_name": "LayoutModel",
            "justify_items": null,
            "grid_row": null,
            "max_height": null,
            "align_content": null,
            "visibility": null,
            "align_self": null,
            "height": null,
            "min_height": null,
            "padding": null,
            "grid_auto_rows": null,
            "grid_gap": null,
            "max_width": null,
            "order": null,
            "_view_module_version": "1.2.0",
            "grid_template_areas": null,
            "object_position": null,
            "object_fit": null,
            "grid_auto_columns": null,
            "margin": null,
            "display": null,
            "left": null
          }
        },
        "45d32fcd8b714a858b70e4933c8e5b54": {
          "model_module": "@jupyter-widgets/controls",
          "model_name": "FloatProgressModel",
          "state": {
            "_view_name": "ProgressView",
            "style": "IPY_MODEL_1559c3ba15ae4c93b77104c7931131c1",
            "_dom_classes": [],
            "description": "Downloading: 100%",
            "_model_name": "FloatProgressModel",
            "bar_style": "success",
            "max": 466062,
            "_view_module": "@jupyter-widgets/controls",
            "_model_module_version": "1.5.0",
            "value": 466062,
            "_view_count": null,
            "_view_module_version": "1.5.0",
            "orientation": "horizontal",
            "min": 0,
            "description_tooltip": null,
            "_model_module": "@jupyter-widgets/controls",
            "layout": "IPY_MODEL_2ee766a96de3454bb02e581aa1b7ee08"
          }
        },
        "198c79dba5b44afd8fea3b83614cd8fe": {
          "model_module": "@jupyter-widgets/controls",
          "model_name": "HTMLModel",
          "state": {
            "_view_name": "HTMLView",
            "style": "IPY_MODEL_3c7e5fa487b442bc92b5053900d520e9",
            "_dom_classes": [],
            "description": "",
            "_model_name": "HTMLModel",
            "placeholder": "​",
            "_view_module": "@jupyter-widgets/controls",
            "_model_module_version": "1.5.0",
            "value": " 466k/466k [00:00&lt;00:00, 1.25MB/s]",
            "_view_count": null,
            "_view_module_version": "1.5.0",
            "description_tooltip": null,
            "_model_module": "@jupyter-widgets/controls",
            "layout": "IPY_MODEL_e0f132bb697d4c6e8e97118a5b94f1bf"
          }
        },
        "1559c3ba15ae4c93b77104c7931131c1": {
          "model_module": "@jupyter-widgets/controls",
          "model_name": "ProgressStyleModel",
          "state": {
            "_view_name": "StyleView",
            "_model_name": "ProgressStyleModel",
            "description_width": "initial",
            "_view_module": "@jupyter-widgets/base",
            "_model_module_version": "1.5.0",
            "_view_count": null,
            "_view_module_version": "1.2.0",
            "bar_color": null,
            "_model_module": "@jupyter-widgets/controls"
          }
        },
        "2ee766a96de3454bb02e581aa1b7ee08": {
          "model_module": "@jupyter-widgets/base",
          "model_name": "LayoutModel",
          "state": {
            "_view_name": "LayoutView",
            "grid_template_rows": null,
            "right": null,
            "justify_content": null,
            "_view_module": "@jupyter-widgets/base",
            "overflow": null,
            "_model_module_version": "1.2.0",
            "_view_count": null,
            "flex_flow": null,
            "width": null,
            "min_width": null,
            "border": null,
            "align_items": null,
            "bottom": null,
            "_model_module": "@jupyter-widgets/base",
            "top": null,
            "grid_column": null,
            "overflow_y": null,
            "overflow_x": null,
            "grid_auto_flow": null,
            "grid_area": null,
            "grid_template_columns": null,
            "flex": null,
            "_model_name": "LayoutModel",
            "justify_items": null,
            "grid_row": null,
            "max_height": null,
            "align_content": null,
            "visibility": null,
            "align_self": null,
            "height": null,
            "min_height": null,
            "padding": null,
            "grid_auto_rows": null,
            "grid_gap": null,
            "max_width": null,
            "order": null,
            "_view_module_version": "1.2.0",
            "grid_template_areas": null,
            "object_position": null,
            "object_fit": null,
            "grid_auto_columns": null,
            "margin": null,
            "display": null,
            "left": null
          }
        },
        "3c7e5fa487b442bc92b5053900d520e9": {
          "model_module": "@jupyter-widgets/controls",
          "model_name": "DescriptionStyleModel",
          "state": {
            "_view_name": "StyleView",
            "_model_name": "DescriptionStyleModel",
            "description_width": "",
            "_view_module": "@jupyter-widgets/base",
            "_model_module_version": "1.5.0",
            "_view_count": null,
            "_view_module_version": "1.2.0",
            "_model_module": "@jupyter-widgets/controls"
          }
        },
        "e0f132bb697d4c6e8e97118a5b94f1bf": {
          "model_module": "@jupyter-widgets/base",
          "model_name": "LayoutModel",
          "state": {
            "_view_name": "LayoutView",
            "grid_template_rows": null,
            "right": null,
            "justify_content": null,
            "_view_module": "@jupyter-widgets/base",
            "overflow": null,
            "_model_module_version": "1.2.0",
            "_view_count": null,
            "flex_flow": null,
            "width": null,
            "min_width": null,
            "border": null,
            "align_items": null,
            "bottom": null,
            "_model_module": "@jupyter-widgets/base",
            "top": null,
            "grid_column": null,
            "overflow_y": null,
            "overflow_x": null,
            "grid_auto_flow": null,
            "grid_area": null,
            "grid_template_columns": null,
            "flex": null,
            "_model_name": "LayoutModel",
            "justify_items": null,
            "grid_row": null,
            "max_height": null,
            "align_content": null,
            "visibility": null,
            "align_self": null,
            "height": null,
            "min_height": null,
            "padding": null,
            "grid_auto_rows": null,
            "grid_gap": null,
            "max_width": null,
            "order": null,
            "_view_module_version": "1.2.0",
            "grid_template_areas": null,
            "object_position": null,
            "object_fit": null,
            "grid_auto_columns": null,
            "margin": null,
            "display": null,
            "left": null
          }
        }
      }
    }
  },
  "cells": [
    {
      "cell_type": "markdown",
      "metadata": {
        "id": "view-in-github",
        "colab_type": "text"
      },
      "source": [
        "<a href=\"https://colab.research.google.com/github/GYIKOO/UCIMLHackathon21/blob/main/RelationPrediction.ipynb\" target=\"_parent\"><img src=\"https://colab.research.google.com/assets/colab-badge.svg\" alt=\"Open In Colab\"/></a>"
      ]
    },
    {
      "cell_type": "code",
      "metadata": {
        "id": "lQZJ89zPlDeG"
      },
      "source": [
        "!pip install transformers"
      ],
      "execution_count": null,
      "outputs": []
    },
    {
      "cell_type": "code",
      "metadata": {
        "id": "iyTGqaxwk6Ei"
      },
      "source": [
        "from transformers import BertTokenizer, BertForSequenceClassification, AdamW, BertConfig\n",
        "import torch\n",
        "from torch.utils.data import TensorDataset, DataLoader, RandomSampler, SequentialSampler\n",
        "import pandas as pd\n",
        "import numpy as np\n",
        "\n",
        "from transformers import get_linear_schedule_with_warmup\n",
        "import time\n",
        "import datetime\n",
        "import random\n",
        "from keras.preprocessing.sequence import pad_sequences\n",
        "from pathlib import Path\n",
        "import matplotlib.pyplot as plt"
      ],
      "execution_count": 2,
      "outputs": []
    },
    {
      "cell_type": "code",
      "metadata": {
        "id": "zBE8VlH69QXd"
      },
      "source": [
        "# Config\n",
        "save_model = Path('bertmodel.h5')\n",
        "\n",
        "seed_val = 1 # random seed for training\n",
        "\n",
        "MAX_LEN = 32\n",
        "batch_size = 16\n",
        "\n",
        "epochs = 1\n",
        "checkpoint = 2\n",
        "\n",
        "n_classes = 3 # num of labels"
      ],
      "execution_count": 3,
      "outputs": []
    },
    {
      "cell_type": "code",
      "metadata": {
        "id": "FogmKgM0VrVR"
      },
      "source": [
        "!pip install -U -q PyDrive\n",
        "from pydrive.auth import GoogleAuth\n",
        "from pydrive.drive import GoogleDrive\n",
        "from google.colab import auth\n",
        "from oauth2client.client import GoogleCredentials\n",
        "# Authenticate and create the PyDrive client.\n",
        "auth.authenticate_user()\n",
        "gauth = GoogleAuth()\n",
        "gauth.credentials = GoogleCredentials.get_application_default()\n",
        "drive = GoogleDrive(gauth)"
      ],
      "execution_count": 4,
      "outputs": []
    },
    {
      "cell_type": "code",
      "metadata": {
        "id": "qeGWsK8-WSAs"
      },
      "source": [
        "file_id = \"1sDoHyJuEGe4R3rkgWp9r0R1zHWXAYGbNjwuuckQDthg\"\n",
        "downloaded = drive.CreateFile({'id': file_id})\n",
        "downloaded.GetContentFile('covid_lies.csv', mimetype='text/csv')"
      ],
      "execution_count": 5,
      "outputs": []
    },
    {
      "cell_type": "code",
      "metadata": {
        "id": "lkllF9eFk9KC",
        "colab": {
          "base_uri": "https://localhost:8080/",
          "height": 204
        },
        "outputId": "bc4089f1-8b95-4b1f-bde7-88f631ac7ced"
      },
      "source": [
        "df = pd.read_csv('covid_lies.csv')\n",
        "df.head()"
      ],
      "execution_count": 6,
      "outputs": [
        {
          "output_type": "execute_result",
          "data": {
            "text/html": [
              "<div>\n",
              "<style scoped>\n",
              "    .dataframe tbody tr th:only-of-type {\n",
              "        vertical-align: middle;\n",
              "    }\n",
              "\n",
              "    .dataframe tbody tr th {\n",
              "        vertical-align: top;\n",
              "    }\n",
              "\n",
              "    .dataframe thead th {\n",
              "        text-align: right;\n",
              "    }\n",
              "</style>\n",
              "<table border=\"1\" class=\"dataframe\">\n",
              "  <thead>\n",
              "    <tr style=\"text-align: right;\">\n",
              "      <th></th>\n",
              "      <th>misconception_id</th>\n",
              "      <th>misconception</th>\n",
              "      <th>tweet</th>\n",
              "      <th>tweet_id</th>\n",
              "      <th>label</th>\n",
              "    </tr>\n",
              "  </thead>\n",
              "  <tbody>\n",
              "    <tr>\n",
              "      <th>0</th>\n",
              "      <td>3</td>\n",
              "      <td>Coronavirus is genetically engineered.</td>\n",
              "      <td>How the COVID-19 outbreak is changing global p...</td>\n",
              "      <td>1.233965e+18</td>\n",
              "      <td>na</td>\n",
              "    </tr>\n",
              "    <tr>\n",
              "      <th>1</th>\n",
              "      <td>30</td>\n",
              "      <td>Blowing conch shells destroys coronavirus pote...</td>\n",
              "      <td>Getting coronavirus and then coughing on peopl...</td>\n",
              "      <td>1.233908e+18</td>\n",
              "      <td>na</td>\n",
              "    </tr>\n",
              "    <tr>\n",
              "      <th>2</th>\n",
              "      <td>57</td>\n",
              "      <td>Swans and dolphins swimming in Venice canals f...</td>\n",
              "      <td>Disturbing letter about life in COVID-19 ward ...</td>\n",
              "      <td>1.233910e+18</td>\n",
              "      <td>na</td>\n",
              "    </tr>\n",
              "    <tr>\n",
              "      <th>3</th>\n",
              "      <td>22</td>\n",
              "      <td>Cocaine cures coronavirus.</td>\n",
              "      <td>How to prevent corona virus?🤔 Use cowdung cake...</td>\n",
              "      <td>1.233948e+18</td>\n",
              "      <td>na</td>\n",
              "    </tr>\n",
              "    <tr>\n",
              "      <th>4</th>\n",
              "      <td>32</td>\n",
              "      <td>Observing janata curfew will result in the red...</td>\n",
              "      <td>This is concerning - They must self-insure for...</td>\n",
              "      <td>1.233937e+18</td>\n",
              "      <td>na</td>\n",
              "    </tr>\n",
              "  </tbody>\n",
              "</table>\n",
              "</div>"
            ],
            "text/plain": [
              "   misconception_id  ... label\n",
              "0                 3  ...    na\n",
              "1                30  ...    na\n",
              "2                57  ...    na\n",
              "3                22  ...    na\n",
              "4                32  ...    na\n",
              "\n",
              "[5 rows x 5 columns]"
            ]
          },
          "metadata": {
            "tags": []
          },
          "execution_count": 6
        }
      ]
    },
    {
      "cell_type": "markdown",
      "metadata": {
        "id": "-dFi0fLqCNti"
      },
      "source": [
        "# Sample"
      ]
    },
    {
      "cell_type": "markdown",
      "metadata": {
        "id": "tcG1nJPrXyED"
      },
      "source": [
        "The table of misconceptions."
      ]
    },
    {
      "cell_type": "code",
      "metadata": {
        "colab": {
          "base_uri": "https://localhost:8080/",
          "height": 419
        },
        "id": "sd7dvQaO88VS",
        "outputId": "69688baa-c274-4967-d096-e2a6264135b9"
      },
      "source": [
        "miscon_df = df[['misconception_id','misconception']].drop_duplicates(subset='misconception_id').sort_values(by='misconception_id').reset_index(drop=True)\n",
        "#mini_mdf = miscon_df[:30].reset_index(drop=True)\n",
        "mini_mdf = miscon_df\n",
        "mini_mdf"
      ],
      "execution_count": 7,
      "outputs": [
        {
          "output_type": "execute_result",
          "data": {
            "text/html": [
              "<div>\n",
              "<style scoped>\n",
              "    .dataframe tbody tr th:only-of-type {\n",
              "        vertical-align: middle;\n",
              "    }\n",
              "\n",
              "    .dataframe tbody tr th {\n",
              "        vertical-align: top;\n",
              "    }\n",
              "\n",
              "    .dataframe thead th {\n",
              "        text-align: right;\n",
              "    }\n",
              "</style>\n",
              "<table border=\"1\" class=\"dataframe\">\n",
              "  <thead>\n",
              "    <tr style=\"text-align: right;\">\n",
              "      <th></th>\n",
              "      <th>misconception_id</th>\n",
              "      <th>misconception</th>\n",
              "    </tr>\n",
              "  </thead>\n",
              "  <tbody>\n",
              "    <tr>\n",
              "      <th>0</th>\n",
              "      <td>1</td>\n",
              "      <td>A person can tell if they have coronavirus or ...</td>\n",
              "    </tr>\n",
              "    <tr>\n",
              "      <th>1</th>\n",
              "      <td>2</td>\n",
              "      <td>Drinking large amounts of water will protect a...</td>\n",
              "    </tr>\n",
              "    <tr>\n",
              "      <th>2</th>\n",
              "      <td>3</td>\n",
              "      <td>Coronavirus is genetically engineered.</td>\n",
              "    </tr>\n",
              "    <tr>\n",
              "      <th>3</th>\n",
              "      <td>4</td>\n",
              "      <td>Dean Koontz predicted the pandemic in his 1981...</td>\n",
              "    </tr>\n",
              "    <tr>\n",
              "      <th>4</th>\n",
              "      <td>5</td>\n",
              "      <td>The first person infected is a researcher name...</td>\n",
              "    </tr>\n",
              "    <tr>\n",
              "      <th>...</th>\n",
              "      <td>...</td>\n",
              "      <td>...</td>\n",
              "    </tr>\n",
              "    <tr>\n",
              "      <th>57</th>\n",
              "      <td>58</td>\n",
              "      <td>Water polution decreased in Venice canals foll...</td>\n",
              "    </tr>\n",
              "    <tr>\n",
              "      <th>58</th>\n",
              "      <td>59</td>\n",
              "      <td>A Malabar civet was spotted walking the street...</td>\n",
              "    </tr>\n",
              "    <tr>\n",
              "      <th>59</th>\n",
              "      <td>60</td>\n",
              "      <td>A pod of humpback whales returned to the Arabi...</td>\n",
              "    </tr>\n",
              "    <tr>\n",
              "      <th>60</th>\n",
              "      <td>61</td>\n",
              "      <td>Lions were freed to keep people off the street...</td>\n",
              "    </tr>\n",
              "    <tr>\n",
              "      <th>61</th>\n",
              "      <td>62</td>\n",
              "      <td>Bank of England £20 banknotes contain a pictur...</td>\n",
              "    </tr>\n",
              "  </tbody>\n",
              "</table>\n",
              "<p>62 rows × 2 columns</p>\n",
              "</div>"
            ],
            "text/plain": [
              "    misconception_id                                      misconception\n",
              "0                  1  A person can tell if they have coronavirus or ...\n",
              "1                  2  Drinking large amounts of water will protect a...\n",
              "2                  3             Coronavirus is genetically engineered.\n",
              "3                  4  Dean Koontz predicted the pandemic in his 1981...\n",
              "4                  5  The first person infected is a researcher name...\n",
              "..               ...                                                ...\n",
              "57                58  Water polution decreased in Venice canals foll...\n",
              "58                59  A Malabar civet was spotted walking the street...\n",
              "59                60  A pod of humpback whales returned to the Arabi...\n",
              "60                61  Lions were freed to keep people off the street...\n",
              "61                62  Bank of England £20 banknotes contain a pictur...\n",
              "\n",
              "[62 rows x 2 columns]"
            ]
          },
          "metadata": {
            "tags": []
          },
          "execution_count": 7
        }
      ]
    },
    {
      "cell_type": "markdown",
      "metadata": {
        "id": "_V7quvzyX5kk"
      },
      "source": [
        "The table of tweets."
      ]
    },
    {
      "cell_type": "code",
      "metadata": {
        "colab": {
          "base_uri": "https://localhost:8080/",
          "height": 419
        },
        "id": "-tq1MACe90ee",
        "outputId": "3e447d60-6e97-41f7-cd92-92b595d6c974"
      },
      "source": [
        "tweets_df = df[['tweet_id','tweet']].drop_duplicates(subset='tweet').sort_values(by='tweet_id')\n",
        "#mini_tdf = tweets_df[:30].reset_index(drop=True)\n",
        "mini_tdf = tweets_df\n",
        "mini_tdf = tweets_df.assign(tweet_index = [i for i in range(1,len(mini_tdf)+1)])\n",
        "mini_tdf"
      ],
      "execution_count": 8,
      "outputs": [
        {
          "output_type": "execute_result",
          "data": {
            "text/html": [
              "<div>\n",
              "<style scoped>\n",
              "    .dataframe tbody tr th:only-of-type {\n",
              "        vertical-align: middle;\n",
              "    }\n",
              "\n",
              "    .dataframe tbody tr th {\n",
              "        vertical-align: top;\n",
              "    }\n",
              "\n",
              "    .dataframe thead th {\n",
              "        text-align: right;\n",
              "    }\n",
              "</style>\n",
              "<table border=\"1\" class=\"dataframe\">\n",
              "  <thead>\n",
              "    <tr style=\"text-align: right;\">\n",
              "      <th></th>\n",
              "      <th>tweet_id</th>\n",
              "      <th>tweet</th>\n",
              "      <th>tweet_index</th>\n",
              "    </tr>\n",
              "  </thead>\n",
              "  <tbody>\n",
              "    <tr>\n",
              "      <th>3212</th>\n",
              "      <td>1.230000e+18</td>\n",
              "      <td>How long does the new coronavirus remain activ...</td>\n",
              "      <td>1</td>\n",
              "    </tr>\n",
              "    <tr>\n",
              "      <th>3827</th>\n",
              "      <td>1.230000e+18</td>\n",
              "      <td>Millimetre wave technology will kill an indivi...</td>\n",
              "      <td>2</td>\n",
              "    </tr>\n",
              "    <tr>\n",
              "      <th>1146</th>\n",
              "      <td>1.230000e+18</td>\n",
              "      <td>How do we strengthen our immune systems to fig...</td>\n",
              "      <td>3</td>\n",
              "    </tr>\n",
              "    <tr>\n",
              "      <th>5497</th>\n",
              "      <td>1.233905e+18</td>\n",
              "      <td>When it comes to coronavirus, who is the most ...</td>\n",
              "      <td>4</td>\n",
              "    </tr>\n",
              "    <tr>\n",
              "      <th>1624</th>\n",
              "      <td>1.233905e+18</td>\n",
              "      <td>#Coronavirus and China's Tax Response\\n\\n@USER...</td>\n",
              "      <td>5</td>\n",
              "    </tr>\n",
              "    <tr>\n",
              "      <th>...</th>\n",
              "      <td>...</td>\n",
              "      <td>...</td>\n",
              "      <td>...</td>\n",
              "    </tr>\n",
              "    <tr>\n",
              "      <th>2262</th>\n",
              "      <td>1.233998e+18</td>\n",
              "      <td>Forget the mask. Here's how to protect yoursel...</td>\n",
              "      <td>4342</td>\n",
              "    </tr>\n",
              "    <tr>\n",
              "      <th>3303</th>\n",
              "      <td>1.233998e+18</td>\n",
              "      <td>Man Who Returned From Malaysia, Dies In Kerala...</td>\n",
              "      <td>4343</td>\n",
              "    </tr>\n",
              "    <tr>\n",
              "      <th>4058</th>\n",
              "      <td>1.233998e+18</td>\n",
              "      <td>.@miafarrow Dug up this report on exquisite ki...</td>\n",
              "      <td>4344</td>\n",
              "    </tr>\n",
              "    <tr>\n",
              "      <th>4385</th>\n",
              "      <td>1.233998e+18</td>\n",
              "      <td>Washington state health officials are investig...</td>\n",
              "      <td>4345</td>\n",
              "    </tr>\n",
              "    <tr>\n",
              "      <th>3577</th>\n",
              "      <td>1.233998e+18</td>\n",
              "      <td>MAGA hats made in China may be infected with t...</td>\n",
              "      <td>4346</td>\n",
              "    </tr>\n",
              "  </tbody>\n",
              "</table>\n",
              "<p>4346 rows × 3 columns</p>\n",
              "</div>"
            ],
            "text/plain": [
              "          tweet_id  ... tweet_index\n",
              "3212  1.230000e+18  ...           1\n",
              "3827  1.230000e+18  ...           2\n",
              "1146  1.230000e+18  ...           3\n",
              "5497  1.233905e+18  ...           4\n",
              "1624  1.233905e+18  ...           5\n",
              "...            ...  ...         ...\n",
              "2262  1.233998e+18  ...        4342\n",
              "3303  1.233998e+18  ...        4343\n",
              "4058  1.233998e+18  ...        4344\n",
              "4385  1.233998e+18  ...        4345\n",
              "3577  1.233998e+18  ...        4346\n",
              "\n",
              "[4346 rows x 3 columns]"
            ]
          },
          "metadata": {
            "tags": []
          },
          "execution_count": 8
        }
      ]
    },
    {
      "cell_type": "markdown",
      "metadata": {
        "id": "_Ej9WB4ECc7N"
      },
      "source": [
        "# Words Embedding"
      ]
    },
    {
      "cell_type": "code",
      "metadata": {
        "id": "bbeWLtTfCepz"
      },
      "source": [
        "def vectorize(text,MAX_LEN=MAX_LEN):\n",
        "    tokenizer = BertTokenizer.from_pretrained('bert-base-uncased', do_lower_case=True)\n",
        "\n",
        "    input_ids = []\n",
        "    for t in text:\n",
        "        # so basically encode tokenizing , mapping sentences to thier token ids after adding special tokens.\n",
        "        encoded_sent = tokenizer.encode(\n",
        "            t,  # Sentence which are encoding.\n",
        "            add_special_tokens=True,  # Adding special tokens '[CLS]' and '[SEP]'\n",
        "        )\n",
        "        input_ids.append(encoded_sent)\n",
        "\n",
        "    input_ids = pad_sequences(input_ids, maxlen=MAX_LEN , truncating=\"post\", padding=\"post\")\n",
        "\n",
        "    attention_masks = []\n",
        "    for sent in input_ids:\n",
        "        # Generating attention mask for sentences.\n",
        "        #   - when there is 0 present as token id we are going to set mask as 0.\n",
        "        #   - we are going to set mask 1 for all non-zero positive input id.\n",
        "        att_mask = [int(token_id > 0) for token_id in sent]\n",
        "\n",
        "        attention_masks.append(att_mask)\n",
        "\n",
        "    return attention_masks, input_ids"
      ],
      "execution_count": 9,
      "outputs": []
    },
    {
      "cell_type": "code",
      "metadata": {
        "id": "cvT6F6fCD3I3",
        "outputId": "2556d021-87b7-455a-e2aa-4509272d2a9c",
        "colab": {
          "base_uri": "https://localhost:8080/",
          "height": 164,
          "referenced_widgets": [
            "4b098520e9f94b149b5373e119b88ce7",
            "c85eb0aa35bb44e2bbda0dcf4f73068f",
            "3e7d8307494c4c0ba7eda36a83030255",
            "730fedfb187d41d49aa719f5e822c3e1",
            "b3bb64b129e14be8a82b62894e9f2cf3",
            "6f844c7eb23c492b8a06237d82c9fff7",
            "e8d59e62d3f84fe8934cda865eb9c74c",
            "3412c7760e4247b9a29dff5218551105",
            "dcbca6cfc78d4a199f71ec47665912a8",
            "f39ab7296c2d4191b618dfa08727025d",
            "e8b0de6dc54c48e7b94a81354374786e",
            "891704aa58404100a829694f529ddbd3",
            "f55b0bb9b7be4cc78bd369bea96b39e8",
            "5f365aa0818c46f9b32b69efd666886e",
            "b20f27b9a5764545a88c92629fe661eb",
            "a3eaeff8bb3e423392d1dd9e98aeb7df",
            "c1dbf59062414ce2998e7613decf8149",
            "dec5cd57db854693ba9899530d5142e3",
            "45d32fcd8b714a858b70e4933c8e5b54",
            "198c79dba5b44afd8fea3b83614cd8fe",
            "1559c3ba15ae4c93b77104c7931131c1",
            "2ee766a96de3454bb02e581aa1b7ee08",
            "3c7e5fa487b442bc92b5053900d520e9",
            "e0f132bb697d4c6e8e97118a5b94f1bf"
          ]
        }
      },
      "source": [
        "m_text = miscon_df.misconception.values\n",
        "m_attention_mask, m_input_id = vectorize(m_text)\n",
        "\n",
        "t_text = tweets_df.tweet.values\n",
        "t_attention_mask, t_input_id = vectorize(t_text,64)"
      ],
      "execution_count": 10,
      "outputs": [
        {
          "output_type": "display_data",
          "data": {
            "application/vnd.jupyter.widget-view+json": {
              "model_id": "4b098520e9f94b149b5373e119b88ce7",
              "version_minor": 0,
              "version_major": 2
            },
            "text/plain": [
              "HBox(children=(FloatProgress(value=0.0, description='Downloading', max=231508.0, style=ProgressStyle(descripti…"
            ]
          },
          "metadata": {
            "tags": []
          }
        },
        {
          "output_type": "stream",
          "text": [
            "\n"
          ],
          "name": "stdout"
        },
        {
          "output_type": "display_data",
          "data": {
            "application/vnd.jupyter.widget-view+json": {
              "model_id": "dcbca6cfc78d4a199f71ec47665912a8",
              "version_minor": 0,
              "version_major": 2
            },
            "text/plain": [
              "HBox(children=(FloatProgress(value=0.0, description='Downloading', max=28.0, style=ProgressStyle(description_w…"
            ]
          },
          "metadata": {
            "tags": []
          }
        },
        {
          "output_type": "stream",
          "text": [
            "\n"
          ],
          "name": "stdout"
        },
        {
          "output_type": "display_data",
          "data": {
            "application/vnd.jupyter.widget-view+json": {
              "model_id": "c1dbf59062414ce2998e7613decf8149",
              "version_minor": 0,
              "version_major": 2
            },
            "text/plain": [
              "HBox(children=(FloatProgress(value=0.0, description='Downloading', max=466062.0, style=ProgressStyle(descripti…"
            ]
          },
          "metadata": {
            "tags": []
          }
        },
        {
          "output_type": "stream",
          "text": [
            "\n"
          ],
          "name": "stdout"
        }
      ]
    },
    {
      "cell_type": "code",
      "metadata": {
        "id": "X9Q43zw0MTUY"
      },
      "source": [
        "def get_X_inputs_masks(sample, t_attention_mask, t_input_id, m_attention_mask, m_input_id):\n",
        "    X_inputs = []\n",
        "    X_masks = []\n",
        "\n",
        "    for i in range(0,len(sample)):\n",
        "        t_index = sample.tweet_index[i]-1\n",
        "        inputs_temp = t_input_id[t_index].tolist().copy()\n",
        "        masks_temp = t_attention_mask[t_index].copy()\n",
        "\n",
        "        m_index = sample.misconception_id[i]-1\n",
        "        inputs_temp.extend(m_input_id[m_index].tolist())\n",
        "        masks_temp.extend(m_attention_mask[m_index])\n",
        "\n",
        "        X_inputs.append(inputs_temp)\n",
        "        X_masks.append(masks_temp)\n",
        "    \n",
        "    X_inputs = np.array(X_inputs)\n",
        "    return X_inputs, X_masks"
      ],
      "execution_count": 11,
      "outputs": []
    },
    {
      "cell_type": "markdown",
      "metadata": {
        "id": "kSPwcTAcHA5d"
      },
      "source": [
        "# Split Data"
      ]
    },
    {
      "cell_type": "code",
      "metadata": {
        "id": "szNGSyUvRAUN",
        "outputId": "d3a40567-8096-4608-8254-ddac7876d7f0",
        "colab": {
          "base_uri": "https://localhost:8080/"
        }
      },
      "source": [
        "!pip install imbalanced-learn"
      ],
      "execution_count": 12,
      "outputs": [
        {
          "output_type": "stream",
          "text": [
            "Requirement already satisfied: imbalanced-learn in /usr/local/lib/python3.7/dist-packages (0.4.3)\n",
            "Requirement already satisfied: numpy>=1.8.2 in /usr/local/lib/python3.7/dist-packages (from imbalanced-learn) (1.19.5)\n",
            "Requirement already satisfied: scikit-learn>=0.20 in /usr/local/lib/python3.7/dist-packages (from imbalanced-learn) (0.22.2.post1)\n",
            "Requirement already satisfied: scipy>=0.13.3 in /usr/local/lib/python3.7/dist-packages (from imbalanced-learn) (1.4.1)\n",
            "Requirement already satisfied: joblib>=0.11 in /usr/local/lib/python3.7/dist-packages (from scikit-learn>=0.20->imbalanced-learn) (1.0.1)\n"
          ],
          "name": "stdout"
        }
      ]
    },
    {
      "cell_type": "code",
      "metadata": {
        "colab": {
          "base_uri": "https://localhost:8080/"
        },
        "id": "YR2HMQbP900E",
        "outputId": "89cc2298-e80a-4115-f90a-aec1a412d08e"
      },
      "source": [
        "df.groupby('label')['tweet'].count()"
      ],
      "execution_count": 13,
      "outputs": [
        {
          "output_type": "execute_result",
          "data": {
            "text/plain": [
              "label\n",
              "na     6149\n",
              "neg     154\n",
              "pos     288\n",
              "Name: tweet, dtype: int64"
            ]
          },
          "metadata": {
            "tags": []
          },
          "execution_count": 13
        }
      ]
    },
    {
      "cell_type": "markdown",
      "metadata": {
        "id": "YHC9GZjr-6Wv"
      },
      "source": [
        "Use -1, 0, 1 to denote label."
      ]
    },
    {
      "cell_type": "code",
      "metadata": {
        "colab": {
          "base_uri": "https://localhost:8080/",
          "height": 204
        },
        "id": "FQyw4Bkf-ri3",
        "outputId": "09863eb9-269a-4bda-d966-fe70af2ddb30"
      },
      "source": [
        "sample = pd.merge(df, mini_tdf[['tweet','tweet_index']],\n",
        "         how = 'left',\n",
        "         left_on = ('tweet'),\n",
        "         right_on = ('tweet'))\n",
        "sample.tweet_index = sample.tweet_index.astype('int64')\n",
        "\n",
        "temp = sample.label.values\n",
        "label = []\n",
        "for i in temp:\n",
        "  if i == 'na':\n",
        "    label.append(0)\n",
        "  elif i == 'neg':\n",
        "    label.append(-1)\n",
        "  elif i == 'pos':\n",
        "    label.append(1)\n",
        "\n",
        "sample.label = label\n",
        "\n",
        "sample.head()"
      ],
      "execution_count": 14,
      "outputs": [
        {
          "output_type": "execute_result",
          "data": {
            "text/html": [
              "<div>\n",
              "<style scoped>\n",
              "    .dataframe tbody tr th:only-of-type {\n",
              "        vertical-align: middle;\n",
              "    }\n",
              "\n",
              "    .dataframe tbody tr th {\n",
              "        vertical-align: top;\n",
              "    }\n",
              "\n",
              "    .dataframe thead th {\n",
              "        text-align: right;\n",
              "    }\n",
              "</style>\n",
              "<table border=\"1\" class=\"dataframe\">\n",
              "  <thead>\n",
              "    <tr style=\"text-align: right;\">\n",
              "      <th></th>\n",
              "      <th>misconception_id</th>\n",
              "      <th>misconception</th>\n",
              "      <th>tweet</th>\n",
              "      <th>tweet_id</th>\n",
              "      <th>label</th>\n",
              "      <th>tweet_index</th>\n",
              "    </tr>\n",
              "  </thead>\n",
              "  <tbody>\n",
              "    <tr>\n",
              "      <th>0</th>\n",
              "      <td>3</td>\n",
              "      <td>Coronavirus is genetically engineered.</td>\n",
              "      <td>How the COVID-19 outbreak is changing global p...</td>\n",
              "      <td>1.233965e+18</td>\n",
              "      <td>0</td>\n",
              "      <td>3058</td>\n",
              "    </tr>\n",
              "    <tr>\n",
              "      <th>1</th>\n",
              "      <td>30</td>\n",
              "      <td>Blowing conch shells destroys coronavirus pote...</td>\n",
              "      <td>Getting coronavirus and then coughing on peopl...</td>\n",
              "      <td>1.233908e+18</td>\n",
              "      <td>0</td>\n",
              "      <td>193</td>\n",
              "    </tr>\n",
              "    <tr>\n",
              "      <th>2</th>\n",
              "      <td>57</td>\n",
              "      <td>Swans and dolphins swimming in Venice canals f...</td>\n",
              "      <td>Disturbing letter about life in COVID-19 ward ...</td>\n",
              "      <td>1.233910e+18</td>\n",
              "      <td>0</td>\n",
              "      <td>289</td>\n",
              "    </tr>\n",
              "    <tr>\n",
              "      <th>3</th>\n",
              "      <td>22</td>\n",
              "      <td>Cocaine cures coronavirus.</td>\n",
              "      <td>How to prevent corona virus?🤔 Use cowdung cake...</td>\n",
              "      <td>1.233948e+18</td>\n",
              "      <td>0</td>\n",
              "      <td>2233</td>\n",
              "    </tr>\n",
              "    <tr>\n",
              "      <th>4</th>\n",
              "      <td>32</td>\n",
              "      <td>Observing janata curfew will result in the red...</td>\n",
              "      <td>This is concerning - They must self-insure for...</td>\n",
              "      <td>1.233937e+18</td>\n",
              "      <td>0</td>\n",
              "      <td>1678</td>\n",
              "    </tr>\n",
              "  </tbody>\n",
              "</table>\n",
              "</div>"
            ],
            "text/plain": [
              "   misconception_id  ... tweet_index\n",
              "0                 3  ...        3058\n",
              "1                30  ...         193\n",
              "2                57  ...         289\n",
              "3                22  ...        2233\n",
              "4                32  ...        1678\n",
              "\n",
              "[5 rows x 6 columns]"
            ]
          },
          "metadata": {
            "tags": []
          },
          "execution_count": 14
        }
      ]
    },
    {
      "cell_type": "code",
      "metadata": {
        "id": "GhjBTq4IR7BE",
        "outputId": "7d0ed1d7-9eab-4bcf-cfeb-695037fc6e62",
        "colab": {
          "base_uri": "https://localhost:8080/"
        }
      },
      "source": [
        "from imblearn.over_sampling import SMOTE\n",
        "from imblearn.under_sampling import RandomUnderSampler\n",
        "from imblearn.pipeline import Pipeline\n",
        "over = SMOTE({-1:500,1:600})\n",
        "under = RandomUnderSampler({0:3000})\n",
        "resample = [('under',under),('over',over)]\n",
        "pipeline = Pipeline(steps=resample)"
      ],
      "execution_count": 15,
      "outputs": [
        {
          "output_type": "stream",
          "text": [
            "/usr/local/lib/python3.7/dist-packages/sklearn/externals/six.py:31: FutureWarning: The module is deprecated in version 0.21 and will be removed in version 0.23 since we've dropped support for Python 2.7. Please rely on the official version of six (https://pypi.org/project/six/).\n",
            "  \"(https://pypi.org/project/six/).\", FutureWarning)\n",
            "/usr/local/lib/python3.7/dist-packages/sklearn/utils/deprecation.py:144: FutureWarning: The sklearn.neighbors.base module is  deprecated in version 0.22 and will be removed in version 0.24. The corresponding classes / functions should instead be imported from sklearn.neighbors. Anything that cannot be imported from sklearn.neighbors is now part of the private API.\n",
            "  warnings.warn(message, FutureWarning)\n"
          ],
          "name": "stderr"
        }
      ]
    },
    {
      "cell_type": "code",
      "metadata": {
        "id": "FLYSojbzRLCN",
        "outputId": "0cc193a5-5037-448f-a21f-45cb78352171",
        "colab": {
          "base_uri": "https://localhost:8080/"
        }
      },
      "source": [
        "# oversampling data to reduce the impact of data imbalance\n",
        "labels = sample.label.values\n",
        "input_ids, _ = get_X_inputs_masks(sample, t_attention_mask, t_input_id, m_attention_mask, m_input_id)\n",
        "\n",
        "inputs, labels = pipeline.fit_resample(input_ids, labels)"
      ],
      "execution_count": 16,
      "outputs": [
        {
          "output_type": "stream",
          "text": [
            "/usr/local/lib/python3.7/dist-packages/sklearn/utils/deprecation.py:87: FutureWarning: Function safe_indexing is deprecated; safe_indexing is deprecated in version 0.22 and will be removed in version 0.24.\n",
            "  warnings.warn(msg, category=FutureWarning)\n",
            "/usr/local/lib/python3.7/dist-packages/sklearn/utils/deprecation.py:87: FutureWarning: Function safe_indexing is deprecated; safe_indexing is deprecated in version 0.22 and will be removed in version 0.24.\n",
            "  warnings.warn(msg, category=FutureWarning)\n",
            "/usr/local/lib/python3.7/dist-packages/sklearn/utils/deprecation.py:87: FutureWarning: Function safe_indexing is deprecated; safe_indexing is deprecated in version 0.22 and will be removed in version 0.24.\n",
            "  warnings.warn(msg, category=FutureWarning)\n"
          ],
          "name": "stderr"
        }
      ]
    },
    {
      "cell_type": "code",
      "metadata": {
        "colab": {
          "base_uri": "https://localhost:8080/"
        },
        "id": "n6QM-nGBC9fo",
        "outputId": "048a021e-eaa3-4c5a-ca9b-099ca0416835"
      },
      "source": [
        "print(len(labels[labels==-1]),len(labels[labels==0]),len(labels[labels==1]))"
      ],
      "execution_count": 17,
      "outputs": [
        {
          "output_type": "stream",
          "text": [
            "500 3000 600\n"
          ],
          "name": "stdout"
        }
      ]
    },
    {
      "cell_type": "markdown",
      "metadata": {
        "id": "so24p9-QZOri"
      },
      "source": [
        "## Class Weight"
      ]
    },
    {
      "cell_type": "code",
      "metadata": {
        "colab": {
          "base_uri": "https://localhost:8080/"
        },
        "id": "oQ7Xwu1KaM-3",
        "outputId": "8d252730-3dee-4844-aef3-3ea66b19fa97"
      },
      "source": [
        "neg = len(labels[labels==-1])\n",
        "zero = len(labels[labels==0])\n",
        "pos = len(labels[labels==1])\n",
        "total = neg + zero + pos\n",
        "\n",
        "weight_for_zero = (1 / zero) * (total / 3.0)\n",
        "weight_for_neg = (1 / neg) * (total / 3.0)\n",
        "weight_for_pos = (1 / pos) * (total / 3.0)\n",
        "\n",
        "class_weight = {0: weight_for_zero, -1: weight_for_neg,1: weight_for_pos}\n",
        "\n",
        "print('Weight for class 0: {:.2f}'.format(weight_for_zero))\n",
        "print('Weight for class -1: {:.2f}'.format(weight_for_neg))\n",
        "print('Weight for class 1: {:.2f}'.format(weight_for_pos))"
      ],
      "execution_count": 18,
      "outputs": [
        {
          "output_type": "stream",
          "text": [
            "Weight for class 0: 0.46\n",
            "Weight for class -1: 2.73\n",
            "Weight for class 1: 2.28\n"
          ],
          "name": "stdout"
        }
      ]
    },
    {
      "cell_type": "markdown",
      "metadata": {
        "id": "7GWTty9QCP0r"
      },
      "source": [
        "# Single Classifier"
      ]
    },
    {
      "cell_type": "code",
      "metadata": {
        "id": "l_kYrw94Uf79"
      },
      "source": [
        "from sklearn.metrics import confusion_matrix, f1_score, accuracy_score, roc_auc_score\n",
        "\n",
        "def multi_eval(label, prediction):\n",
        "    acc = accuracy_score(label, prediction)\n",
        "    print('f1',f1_score(label, prediction, average='weighted'))\n",
        "    c_matrix = confusion_matrix(label, prediction)\n",
        "    print('confusion matrix', c_matrix)\n",
        "    sensitivity = c_matrix[2][2]/(c_matrix[2][0]+c_matrix[2][1]+c_matrix[2][2])\n",
        "    specificity = c_matrix[0][0]/(c_matrix[0][0]+c_matrix[0][1]+c_matrix[0][2])\n",
        "    print('')\n",
        "    return acc, sensitivity, specificity\n",
        "\n",
        "def clf_predict(X_val, model_name):\n",
        "    '''\n",
        "    comparing the return result with the Y_val\n",
        "    e.g.\n",
        "    from sklearn.metrics import accuracy_score\n",
        "    accuracy_score(Y_val, forest_prediction)\n",
        "    '''\n",
        "    clf = load(model_name)\n",
        "    pred = clf.predict(X_val)\n",
        "    return pred"
      ],
      "execution_count": 19,
      "outputs": []
    },
    {
      "cell_type": "markdown",
      "metadata": {
        "id": "sPNYz02-xurB"
      },
      "source": [
        "## KFold"
      ]
    },
    {
      "cell_type": "code",
      "metadata": {
        "id": "GpC5Wm0RaWap"
      },
      "source": [
        "from sklearn.model_selection import KFold\n",
        "def cv_split(X, Y, n_split=5):\n",
        "    kf = KFold(n_splits=n_split,shuffle=True,random_state=84735)\n",
        "\n",
        "    X_trains = []\n",
        "    X_tests = []\n",
        "    for train,test in kf.split(X):\n",
        "        X_train = []\n",
        "        X_test = []\n",
        "        for i in train:\n",
        "            X_train.append(X[i])\n",
        "        for i in test:\n",
        "            X_test.append(X[i])\n",
        "        X_trains.append(X_train)\n",
        "        X_tests.append(X_test)\n",
        "\n",
        "    Y_trains = []\n",
        "    Y_tests = []\n",
        "    for train, test in kf.split(Y):\n",
        "        Y_train = []\n",
        "        Y_test = []\n",
        "        for i in train:\n",
        "            Y_train.append(Y[i])\n",
        "        for i in test:\n",
        "            Y_test.append(Y[i])\n",
        "        Y_trains.append(Y_train)\n",
        "        Y_tests.append(Y_test)\n",
        "\n",
        "    return X_trains, X_tests, Y_trains, Y_tests"
      ],
      "execution_count": 20,
      "outputs": []
    },
    {
      "cell_type": "code",
      "metadata": {
        "id": "aLDIGq5QgzMG"
      },
      "source": [
        "X_trains, X_tests, Y_trains, Y_tests = cv_split(inputs, labels)"
      ],
      "execution_count": 21,
      "outputs": []
    },
    {
      "cell_type": "markdown",
      "metadata": {
        "id": "2Jr5bP950pRR"
      },
      "source": [
        "## Random Forest"
      ]
    },
    {
      "cell_type": "code",
      "metadata": {
        "id": "1t4yX8eBWjjL"
      },
      "source": [
        "from sklearn.ensemble import RandomForestClassifier\n",
        "from joblib import dump, load\n",
        "\n",
        "def foresttrain(X_train, Y_train, model_name):\n",
        "    '''\n",
        "    Train the random forest classifier and save to local.\n",
        "    :param X_train:\n",
        "    :param Y_train:\n",
        "    '''\n",
        "    forest = RandomForestClassifier(n_estimators=100, oob_score=True, n_jobs=3, class_weight = class_weight) #n_job is n of CPU cores assigned\n",
        "    forest.fit(X_train, Y_train)\n",
        "    dump(forest, model_name)"
      ],
      "execution_count": 22,
      "outputs": []
    },
    {
      "cell_type": "code",
      "metadata": {
        "colab": {
          "base_uri": "https://localhost:8080/"
        },
        "id": "DMmCedcKcp49",
        "outputId": "8d4fcbd6-1485-40fb-953d-5be03119b8cb"
      },
      "source": [
        "forest_train_preds = []\n",
        "forest_preds = []\n",
        "forest_cv_result = {'scores':[],'sensitivity':[],'specificity':[]}\n",
        "\n",
        "for i in range(5):\n",
        "  X_train = X_trains[i]\n",
        "  X_test = X_tests[i]\n",
        "  Y_train = Y_trains[i]\n",
        "  Y_test = Y_tests[i]\n",
        "\n",
        "  foresttrain(X_train, Y_train, 'forest.joblib')\n",
        "  forest_train_preds.append(clf_predict(X_train,'forest.joblib'))\n",
        "  pred = clf_predict(X_test,'forest.joblib')\n",
        "  forest_preds.append(pred)\n",
        "\n",
        "  acc, sen, spe = multi_eval(Y_test, pred)\n",
        "  forest_cv_result['scores'].append(acc)\n",
        "  forest_cv_result['sensitivity'].append(sen)\n",
        "  forest_cv_result['specificity'].append(spe)"
      ],
      "execution_count": 23,
      "outputs": [
        {
          "output_type": "stream",
          "text": [
            "f1 0.8928064760274605\n",
            "confusion matrix [[ 86  15   7]\n",
            " [  4 566   5]\n",
            " [  5  47  85]]\n",
            "\n",
            "f1 0.9023777003863525\n",
            "confusion matrix [[ 74  32   2]\n",
            " [  2 597   8]\n",
            " [  3  29  73]]\n",
            "\n",
            "f1 0.914274541714182\n",
            "confusion matrix [[ 84  16   2]\n",
            " [  3 599   8]\n",
            " [  8  30  70]]\n",
            "\n",
            "f1 0.8974369641935814\n",
            "confusion matrix [[ 57  21   1]\n",
            " [  3 615   9]\n",
            " [  2  43  69]]\n",
            "\n",
            "f1 0.8854376671805616\n",
            "confusion matrix [[ 67  33   3]\n",
            " [  1 576   4]\n",
            " [  3  44  89]]\n",
            "\n"
          ],
          "name": "stdout"
        }
      ]
    },
    {
      "cell_type": "code",
      "metadata": {
        "colab": {
          "base_uri": "https://localhost:8080/"
        },
        "id": "T1NQVlsdd8XH",
        "outputId": "8a7426a0-0950-4543-aa75-7c0306f3380f"
      },
      "source": [
        "from statistics import mean\n",
        "\n",
        "print('Avg Scores:', mean(forest_cv_result['scores']), '\\n',\n",
        "   'Avg Sensitivity:', mean(forest_cv_result['sensitivity']), '\\n',\n",
        "   'Avg Sepcificity:', mean(forest_cv_result['specificity']))"
      ],
      "execution_count": 24,
      "outputs": [
        {
          "output_type": "stream",
          "text": [
            "Avg Scores: 0.9041463414634147 \n",
            " Avg Sensitivity: 0.6446998244382485 \n",
            " Avg Sepcificity: 0.7354030634962326\n"
          ],
          "name": "stdout"
        }
      ]
    },
    {
      "cell_type": "markdown",
      "metadata": {
        "id": "C6ql9vg9PIYb"
      },
      "source": [
        "## Ada Boost"
      ]
    },
    {
      "cell_type": "code",
      "metadata": {
        "id": "jc1ASXGjPJCV"
      },
      "source": [
        "from sklearn.ensemble import AdaBoostClassifier\n",
        "\n",
        "def adatrain(X_train, Y_train, model_name):\n",
        "    '''\n",
        "    Train the random forest classifier and save to local.\n",
        "    :param X_train:\n",
        "    :param Y_train:\n",
        "    '''\n",
        "    ada = AdaBoostClassifier(n_estimators=100)\n",
        "    ada.fit(X_train, Y_train)\n",
        "    dump(ada, model_name)"
      ],
      "execution_count": 25,
      "outputs": []
    },
    {
      "cell_type": "code",
      "metadata": {
        "colab": {
          "base_uri": "https://localhost:8080/"
        },
        "id": "xlkd51SWPpmQ",
        "outputId": "dbb4e8d4-0206-4a4a-b05f-a7628b2fe249"
      },
      "source": [
        "ada_train_preds = []\n",
        "ada_preds = []\n",
        "ada_cv_result = {'scores':[],'sensitivity':[],'specificity':[]}\n",
        "\n",
        "for i in range(5):\n",
        "  X_train = X_trains[i]\n",
        "  X_test = X_tests[i]\n",
        "  Y_train = Y_trains[i]\n",
        "  Y_test = Y_tests[i]\n",
        "\n",
        "  adatrain(X_train, Y_train, 'ada.joblib')\n",
        "  ada_train_preds.append(clf_predict(X_train,'ada.joblib'))\n",
        "  pred = clf_predict(X_test,'ada.joblib')\n",
        "  ada_preds.append(pred)\n",
        "\n",
        "  acc, sen, spe = multi_eval(Y_test, pred)\n",
        "  ada_cv_result['scores'].append(acc)\n",
        "  ada_cv_result['sensitivity'].append(sen)\n",
        "  ada_cv_result['specificity'].append(spe)"
      ],
      "execution_count": 26,
      "outputs": [
        {
          "output_type": "stream",
          "text": [
            "f1 0.8284453474532176\n",
            "confusion matrix [[ 80  16  12]\n",
            " [ 17 543  15]\n",
            " [ 15  58  64]]\n",
            "\n",
            "f1 0.8390491251446549\n",
            "confusion matrix [[ 68  27  13]\n",
            " [ 10 556  41]\n",
            " [ 10  31  64]]\n",
            "\n",
            "f1 0.8301842005814077\n",
            "confusion matrix [[ 63  22  17]\n",
            " [ 17 566  27]\n",
            " [ 10  43  55]]\n",
            "\n",
            "f1 0.8205347248933107\n",
            "confusion matrix [[ 49  20  10]\n",
            " [ 18 581  28]\n",
            " [  8  57  49]]\n",
            "\n",
            "f1 0.7993086264560432\n",
            "confusion matrix [[ 61  27  15]\n",
            " [ 13 536  32]\n",
            " [ 11  60  65]]\n",
            "\n"
          ],
          "name": "stdout"
        }
      ]
    },
    {
      "cell_type": "code",
      "metadata": {
        "colab": {
          "base_uri": "https://localhost:8080/"
        },
        "id": "i5VjLXa3mh0q",
        "outputId": "dc335a82-f66d-4704-a61e-d6bb5cde7e79"
      },
      "source": [
        "from statistics import mean\n",
        "\n",
        "print('Avg Scores:', mean(ada_cv_result['scores']), '\\n',\n",
        "   'Avg Sensitivity:', mean(ada_cv_result['sensitivity']), '\\n',\n",
        "   'Avg Sepcificity:', mean(ada_cv_result['specificity']))"
      ],
      "execution_count": 27,
      "outputs": [
        {
          "output_type": "stream",
          "text": [
            "Avg Scores: 0.8292682926829268 \n",
            " Avg Sensitivity: 0.4987404182657397 \n",
            " Avg Sepcificity: 0.6401007206919199\n"
          ],
          "name": "stdout"
        }
      ]
    },
    {
      "cell_type": "markdown",
      "metadata": {
        "id": "JHE-uvGi39AN"
      },
      "source": [
        "## Logistic Regression"
      ]
    },
    {
      "cell_type": "code",
      "metadata": {
        "id": "4f_NXv2Q3_gH"
      },
      "source": [
        "from sklearn.linear_model import LogisticRegression\n",
        "\n",
        "def lrtrain(X_train, Y_train, model_name):\n",
        "    lr = LogisticRegression(max_iter=200,solver='liblinear',class_weight=class_weight)\n",
        "    lr.fit(X_train, Y_train)\n",
        "    dump(lr,model_name)"
      ],
      "execution_count": 28,
      "outputs": []
    },
    {
      "cell_type": "code",
      "metadata": {
        "id": "Pgtafh8q4PqD",
        "colab": {
          "base_uri": "https://localhost:8080/"
        },
        "outputId": "e9977991-7789-4064-8a00-6771270327c6"
      },
      "source": [
        "lr_train_preds = []\n",
        "lr_preds = []\n",
        "lr_cv_result = {'scores':[],'sensitivity':[],'specificity':[]}\n",
        "\n",
        "for i in range(5):\n",
        "  X_train = X_trains[i]\n",
        "  X_test = X_tests[i]\n",
        "  Y_train = Y_trains[i]\n",
        "  Y_test = Y_tests[i]\n",
        "\n",
        "  lrtrain(X_train, Y_train, 'lr.joblib')\n",
        "  lr_train_preds.append(clf_predict(X_train,'lr.joblib'))\n",
        "  pred = clf_predict(X_test,'lr.joblib')\n",
        "  lr_preds.append(pred)\n",
        "\n",
        "  acc, sen, spe = multi_eval(Y_test, pred)\n",
        "  lr_cv_result['scores'].append(acc)\n",
        "  lr_cv_result['sensitivity'].append(sen)\n",
        "  lr_cv_result['specificity'].append(spe)"
      ],
      "execution_count": 29,
      "outputs": [
        {
          "output_type": "stream",
          "text": [
            "f1 0.7869560482484486\n",
            "confusion matrix [[ 82  15  11]\n",
            " [ 40 487  48]\n",
            " [ 23  41  73]]\n",
            "\n",
            "f1 0.7918572291933222\n",
            "confusion matrix [[ 67  29  12]\n",
            " [ 31 508  68]\n",
            " [ 12  26  67]]\n",
            "\n",
            "f1 0.8051572337897385\n",
            "confusion matrix [[ 72  17  13]\n",
            " [ 32 512  66]\n",
            " [ 12  28  68]]\n",
            "\n",
            "f1 0.7947499333990335\n",
            "confusion matrix [[ 54  17   8]\n",
            " [ 49 521  57]\n",
            " [ 17  30  67]]\n",
            "\n",
            "f1 0.785591100612801\n",
            "confusion matrix [[ 67  21  15]\n",
            " [ 37 495  49]\n",
            " [ 15  42  79]]\n",
            "\n"
          ],
          "name": "stdout"
        }
      ]
    },
    {
      "cell_type": "code",
      "metadata": {
        "colab": {
          "base_uri": "https://localhost:8080/"
        },
        "id": "1HLRP4Pgmqvu",
        "outputId": "2a460118-9639-47e8-e40e-165d0efc0f93"
      },
      "source": [
        "from statistics import mean\n",
        "\n",
        "print('Avg Scores:', mean(lr_cv_result['scores']), '\\n',\n",
        "   'Avg Sensitivity:', mean(lr_cv_result['sensitivity']), '\\n',\n",
        "   'Avg Sepcificity:', mean(lr_cv_result['specificity']))"
      ],
      "execution_count": 30,
      "outputs": [
        {
          "output_type": "stream",
          "text": [
            "Avg Scores: 0.7851219512195122 \n",
            " Avg Sensitivity: 0.5938346468480251 \n",
            " Avg Sepcificity: 0.6839083446522957\n"
          ],
          "name": "stdout"
        }
      ]
    },
    {
      "cell_type": "markdown",
      "metadata": {
        "id": "1rudq0iC3jjX"
      },
      "source": [
        "# Voting Emsemble"
      ]
    },
    {
      "cell_type": "markdown",
      "metadata": {
        "id": "yNFgluQ-5BA3"
      },
      "source": [
        "## Train Weight"
      ]
    },
    {
      "cell_type": "code",
      "metadata": {
        "id": "SsHSgDfI3jAw"
      },
      "source": [
        "def train_weight(preds, label, num=3):\n",
        "    forest_pre = preds['forest'].values\n",
        "    ada_pre = preds['ada'].values\n",
        "    lr_pre = preds['lr'].values\n",
        "\n",
        "    weight = [1]*num\n",
        "    for i in range(0,len(label)):\n",
        "        update = [0]*num\n",
        "        wrong = 0\n",
        "        \n",
        "        if forest_pre[i] == label[i]:\n",
        "            update[0] = 1\n",
        "        else:\n",
        "            wrong += 1\n",
        "\n",
        "        if ada_pre[i] == label[i]:\n",
        "            update[1] = 1\n",
        "        else:\n",
        "            wrong += 1\n",
        "\n",
        "        if lr_pre[i] == label[i]:\n",
        "            update[2] = 1\n",
        "        else:\n",
        "            wrong += 1\n",
        "\n",
        "        for j in range(0,num):\n",
        "            weight[j] += update[j]* wrong/num\n",
        "\n",
        "    total_weight = sum(weight)\n",
        "    for j in range(0, num):\n",
        "        weight[j] = weight[j]/total_weight\n",
        "    return weight"
      ],
      "execution_count": 31,
      "outputs": []
    },
    {
      "cell_type": "markdown",
      "metadata": {
        "id": "NtBhrF5Z52f9"
      },
      "source": [
        "## Self-defined Voting"
      ]
    },
    {
      "cell_type": "code",
      "metadata": {
        "id": "IgQOjfAO5tnP"
      },
      "source": [
        "from random import randrange\n",
        "def WMVEpredict(weight, preds, use_softmax=False):\n",
        "    softmax = torch.nn.Softmax()\n",
        "    result = []\n",
        "    forest_pre = preds['forest'].values\n",
        "    ada_pre = preds['ada'].values\n",
        "    lr_pre = preds['lr'].values\n",
        "\n",
        "    for i in range(0, len(ada_pre)):\n",
        "        labels = torch.FloatTensor([0,0,0])\n",
        "        labels[forest_pre[i]] += weight[0]\n",
        "        labels[ada_pre[i]] += weight[1]\n",
        "        labels[lr_pre[i]] += weight[2]\n",
        "\n",
        "        if use_softmax:\n",
        "            votes = softmax(labels)\n",
        "        else:\n",
        "            votes = labels\n",
        "\n",
        "        if torch.argmax(votes)==0:\n",
        "            result.append(0)\n",
        "        elif torch.argmax(votes)==1:\n",
        "            result.append(1)\n",
        "        else:\n",
        "            result.append(-1)\n",
        "    return result"
      ],
      "execution_count": 32,
      "outputs": []
    },
    {
      "cell_type": "code",
      "metadata": {
        "colab": {
          "base_uri": "https://localhost:8080/"
        },
        "id": "_BNlfh1qaguk",
        "outputId": "536408cc-b8dc-4491-8099-83ccb6ac8f68"
      },
      "source": [
        "voting_preds = []\n",
        "voting_cv_result = {'scores':[],'sensitivity':[],'specificity':[]}\n",
        "for i in range(5):\n",
        "  X_train = X_trains[i]\n",
        "  X_test = X_tests[i]\n",
        "  Y_train = Y_trains[i]\n",
        "  Y_test = Y_tests[i]\n",
        "\n",
        "  classfiers_train_pred = pd.DataFrame({'forest': forest_train_preds[i], 'ada': ada_train_preds[i], 'lr': lr_train_preds[i]})\n",
        "  classfiers_val_pred = pd.DataFrame({'forest': forest_preds[i], 'ada': ada_preds[i], 'lr': lr_preds[i]})\n",
        "\n",
        "  #weight = train_weight(classfiers_train_pred,Y_train)\n",
        "  #print('weight', weight)\n",
        "\n",
        "  weight = [0.55, 0.3, 0.4]  \n",
        "\n",
        "  pred = WMVEpredict(weight, classfiers_val_pred, use_softmax=True)\n",
        "  voting_preds.append(pred)\n",
        "\n",
        "  acc, sen, spe = multi_eval(Y_test, pred)\n",
        "  voting_cv_result['scores'].append(acc)\n",
        "  voting_cv_result['sensitivity'].append(sen)\n",
        "  voting_cv_result['specificity'].append(spe)"
      ],
      "execution_count": 44,
      "outputs": [
        {
          "output_type": "stream",
          "text": [
            "/usr/local/lib/python3.7/dist-packages/ipykernel_launcher.py:16: UserWarning: Implicit dimension choice for softmax has been deprecated. Change the call to include dim=X as an argument.\n",
            "  app.launch_new_instance()\n"
          ],
          "name": "stderr"
        },
        {
          "output_type": "stream",
          "text": [
            "f1 0.8729651711820225\n",
            "confusion matrix [[ 83  17   8]\n",
            " [ 11 553  11]\n",
            " [ 11  42  84]]\n",
            "\n",
            "f1 0.8678448324079633\n",
            "confusion matrix [[ 70  30   8]\n",
            " [  5 574  28]\n",
            " [  6  29  70]]\n",
            "\n",
            "f1 0.8845202015887517\n",
            "confusion matrix [[ 75  19   8]\n",
            " [  9 580  21]\n",
            " [  8  28  72]]\n",
            "\n",
            "f1 0.8721776202803244\n",
            "confusion matrix [[ 55  18   6]\n",
            " [ 14 597  16]\n",
            " [  6  41  67]]\n",
            "\n",
            "f1 0.8507908207167136\n",
            "confusion matrix [[ 68  28   7]\n",
            " [  7 558  16]\n",
            " [  9  49  78]]\n",
            "\n"
          ],
          "name": "stdout"
        }
      ]
    },
    {
      "cell_type": "code",
      "metadata": {
        "colab": {
          "base_uri": "https://localhost:8080/"
        },
        "id": "tFtNdBO0q0Zt",
        "outputId": "8774826c-e15d-4509-c070-b39d9914b657"
      },
      "source": [
        "from statistics import mean\n",
        "\n",
        "print('Avg Scores:', mean(voting_cv_result['scores']), '\\n',\n",
        "   'Avg Sensitivity:', mean(voting_cv_result['sensitivity']), '\\n',\n",
        "   'Avg Sepcificity:', mean(voting_cv_result['specificity']))"
      ],
      "execution_count": 50,
      "outputs": [
        {
          "output_type": "stream",
          "text": [
            "Avg Scores: 0.8741463414634146 \n",
            " Avg Sensitivity: 0.6215441458950081 \n",
            " Avg Sepcificity: 0.7016714981433153\n"
          ],
          "name": "stdout"
        }
      ]
    },
    {
      "cell_type": "markdown",
      "metadata": {
        "id": "iQS49g6_r2uA"
      },
      "source": [
        "# Result Visualization"
      ]
    },
    {
      "cell_type": "code",
      "metadata": {
        "id": "IYz7N81ar2SF"
      },
      "source": [
        "import seaborn as sns\n",
        "import matplotlib.pyplot as plt\n",
        "from matplotlib.ticker import MaxNLocator\n",
        "sns.set(font_scale=1.4)\n",
        "\n",
        "clf = ['Random Forest']*5 + ['Ada']*5 + ['LR']*5 + ['Voting']*5\n",
        "\n",
        "sen = forest_cv_result['sensitivity']+ada_cv_result['sensitivity']+lr_cv_result['sensitivity']+voting_cv_result['sensitivity']\n",
        "spe = forest_cv_result['specificity']+ada_cv_result['specificity']+lr_cv_result['specificity']+voting_cv_result['specificity']\n",
        "scores = forest_cv_result['scores'] + ada_cv_result['scores'] + lr_cv_result['scores'] + voting_cv_result['scores']\n",
        "\n",
        "df = pd.DataFrame({'Classifier':clf,\n",
        "                   'Accuracy Score':scores,\n",
        "                   'Sensitivity':sen,\n",
        "                   'Specificity':spe,\n",
        "                   'CV':[1,2,3,4,5]*4})"
      ],
      "execution_count": 46,
      "outputs": []
    },
    {
      "cell_type": "code",
      "metadata": {
        "colab": {
          "base_uri": "https://localhost:8080/",
          "height": 570
        },
        "id": "fMgMiykOtI6A",
        "outputId": "7e6e3b52-9b96-4039-b629-59998f736091"
      },
      "source": [
        "f, a = plt.subplots(1,1,figsize=(13,8))\n",
        "f = sns.lineplot(x='CV',y='Accuracy Score',hue='Classifier',data=df)\n",
        "a.xaxis.set_major_locator(MaxNLocator(integer=True))\n",
        "plt.suptitle('Balanced Accuracy Scores in Cross Validation', fontsize=20)\n",
        "plt.ylabel('Balanced Accuracy Score')\n",
        "plt.xlabel('Index of Fold')\n",
        "plt.legend()\n",
        "plt.show()"
      ],
      "execution_count": 47,
      "outputs": [
        {
          "output_type": "display_data",
          "data": {
            "image/png": "[encoded data removed]",
            "text/plain": [
              "<Figure size 936x576 with 1 Axes>"
            ]
          },
          "metadata": {
            "tags": []
          }
        }
      ]
    },
    {
      "cell_type": "code",
      "metadata": {
        "colab": {
          "base_uri": "https://localhost:8080/",
          "height": 508
        },
        "id": "NuAOrVUzuu_n",
        "outputId": "c8833c3f-24ae-4822-a584-2858b5cdc3e0"
      },
      "source": [
        "f, a = plt.subplots(1,1,figsize=(12,7))\n",
        "f = sns.lineplot(x='CV',y='Sensitivity',hue='Classifier',data=df)\n",
        "a.xaxis.set_major_locator(MaxNLocator(integer=True))\n",
        "plt.suptitle('Sensitivities in Cross Validation', fontsize=20)\n",
        "plt.ylabel('Sensitivity')\n",
        "plt.xlabel('Index of Fold')\n",
        "plt.legend()\n",
        "plt.show()"
      ],
      "execution_count": 48,
      "outputs": [
        {
          "output_type": "display_data",
          "data": {
            "image/png": "[encoded data removed]",
            "text/plain": [
              "<Figure size 864x504 with 1 Axes>"
            ]
          },
          "metadata": {
            "tags": []
          }
        }
      ]
    },
    {
      "cell_type": "code",
      "metadata": {
        "id": "O2ziKW4k0DPd",
        "colab": {
          "base_uri": "https://localhost:8080/",
          "height": 508
        },
        "outputId": "bc2cb16b-485a-406d-bed2-86ef5d188375"
      },
      "source": [
        "f, a = plt.subplots(1,1,figsize=(12,7))\n",
        "f = sns.lineplot(x='CV',y='Specificity',hue='Classifier',data=df)\n",
        "a.xaxis.set_major_locator(MaxNLocator(integer=True))\n",
        "plt.suptitle('Specificities in Cross Validation', fontsize=20)\n",
        "plt.ylabel('Specificity')\n",
        "plt.xlabel('Index of Fold')\n",
        "plt.legend()\n",
        "plt.show()"
      ],
      "execution_count": 49,
      "outputs": [
        {
          "output_type": "display_data",
          "data": {
            "image/png": "[encoded data removed]",
            "text/plain": [
              "<Figure size 864x504 with 1 Axes>"
            ]
          },
          "metadata": {
            "tags": []
          }
        }
      ]
    }
  ]
}