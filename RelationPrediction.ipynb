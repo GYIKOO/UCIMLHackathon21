{
  "nbformat": 4,
  "nbformat_minor": 0,
  "metadata": {
    "colab": {
      "name": "RelationPrediction",
      "provenance": [],
      "collapsed_sections": [
        "DBP4d8Xu3n3f"
      ],
      "include_colab_link": true
    },
    "kernelspec": {
      "name": "python3",
      "display_name": "Python 3"
    },
    "language_info": {
      "name": "python"
    }
  },
  "cells": [
    {
      "cell_type": "markdown",
      "metadata": {
        "id": "view-in-github",
        "colab_type": "text"
      },
      "source": [
        "<a href=\"https://colab.research.google.com/github/GYIKOO/UCIMLHackathon21/blob/main/RelationPrediction.ipynb\" target=\"_parent\"><img src=\"https://colab.research.google.com/assets/colab-badge.svg\" alt=\"Open In Colab\"/></a>"
      ]
    },
    {
      "cell_type": "code",
      "metadata": {
        "id": "lQZJ89zPlDeG"
      },
      "source": [
        "!pip install transformers"
      ],
      "execution_count": null,
      "outputs": []
    },
    {
      "cell_type": "code",
      "metadata": {
        "id": "iyTGqaxwk6Ei"
      },
      "source": [
        "from transformers import BertTokenizer, BertForSequenceClassification, AdamW, BertConfig\n",
        "import torch\n",
        "from torch.utils.data import TensorDataset, DataLoader, RandomSampler, SequentialSampler\n",
        "import pandas as pd\n",
        "import numpy as np\n",
        "\n",
        "from transformers import get_linear_schedule_with_warmup\n",
        "import time\n",
        "import datetime\n",
        "import random\n",
        "from keras.preprocessing.sequence import pad_sequences\n",
        "from pathlib import Path\n",
        "import matplotlib.pyplot as plt"
      ],
      "execution_count": 3,
      "outputs": []
    },
    {
      "cell_type": "code",
      "metadata": {
        "id": "zBE8VlH69QXd"
      },
      "source": [
        "# Config\n",
        "save_model = Path('bertmodel.h5')\n",
        "\n",
        "seed_val = 1 # random seed for training\n",
        "\n",
        "MAX_LEN = 32\n",
        "batch_size = 16\n",
        "\n",
        "epochs = 1\n",
        "checkpoint = 2\n",
        "\n",
        "n_classes = 3 # num of labels"
      ],
      "execution_count": 4,
      "outputs": []
    },
    {
      "cell_type": "code",
      "metadata": {
        "id": "FogmKgM0VrVR"
      },
      "source": [
        "!pip install -U -q PyDrive\n",
        "from pydrive.auth import GoogleAuth\n",
        "from pydrive.drive import GoogleDrive\n",
        "from google.colab import auth\n",
        "from oauth2client.client import GoogleCredentials\n",
        "# Authenticate and create the PyDrive client.\n",
        "auth.authenticate_user()\n",
        "gauth = GoogleAuth()\n",
        "gauth.credentials = GoogleCredentials.get_application_default()\n",
        "drive = GoogleDrive(gauth)"
      ],
      "execution_count": 5,
      "outputs": []
    },
    {
      "cell_type": "code",
      "metadata": {
        "id": "qeGWsK8-WSAs"
      },
      "source": [
        "file_id = \"1sDoHyJuEGe4R3rkgWp9r0R1zHWXAYGbNjwuuckQDthg\"\n",
        "downloaded = drive.CreateFile({'id': file_id})\n",
        "downloaded.GetContentFile('covid_lies.csv', mimetype='text/csv')"
      ],
      "execution_count": 6,
      "outputs": []
    },
    {
      "cell_type": "code",
      "metadata": {
        "id": "lkllF9eFk9KC",
        "colab": {
          "base_uri": "https://localhost:8080/",
          "height": 272
        },
        "outputId": "859362c2-9b39-4142-b8c5-f386523ca67f"
      },
      "source": [
        "df = pd.read_csv('covid_lies.csv')\n",
        "df.head()"
      ],
      "execution_count": 7,
      "outputs": [
        {
          "output_type": "execute_result",
          "data": {
            "text/html": [
              "<div>\n",
              "<style scoped>\n",
              "    .dataframe tbody tr th:only-of-type {\n",
              "        vertical-align: middle;\n",
              "    }\n",
              "\n",
              "    .dataframe tbody tr th {\n",
              "        vertical-align: top;\n",
              "    }\n",
              "\n",
              "    .dataframe thead th {\n",
              "        text-align: right;\n",
              "    }\n",
              "</style>\n",
              "<table border=\"1\" class=\"dataframe\">\n",
              "  <thead>\n",
              "    <tr style=\"text-align: right;\">\n",
              "      <th></th>\n",
              "      <th>misconception_id</th>\n",
              "      <th>misconception</th>\n",
              "      <th>tweet</th>\n",
              "      <th>tweet_id</th>\n",
              "      <th>label</th>\n",
              "    </tr>\n",
              "  </thead>\n",
              "  <tbody>\n",
              "    <tr>\n",
              "      <th>0</th>\n",
              "      <td>3</td>\n",
              "      <td>Coronavirus is genetically engineered.</td>\n",
              "      <td>How the COVID-19 outbreak is changing global p...</td>\n",
              "      <td>1.233965e+18</td>\n",
              "      <td>na</td>\n",
              "    </tr>\n",
              "    <tr>\n",
              "      <th>1</th>\n",
              "      <td>30</td>\n",
              "      <td>Blowing conch shells destroys coronavirus pote...</td>\n",
              "      <td>Getting coronavirus and then coughing on peopl...</td>\n",
              "      <td>1.233908e+18</td>\n",
              "      <td>na</td>\n",
              "    </tr>\n",
              "    <tr>\n",
              "      <th>2</th>\n",
              "      <td>57</td>\n",
              "      <td>Swans and dolphins swimming in Venice canals f...</td>\n",
              "      <td>Disturbing letter about life in COVID-19 ward ...</td>\n",
              "      <td>1.233910e+18</td>\n",
              "      <td>na</td>\n",
              "    </tr>\n",
              "    <tr>\n",
              "      <th>3</th>\n",
              "      <td>22</td>\n",
              "      <td>Cocaine cures coronavirus.</td>\n",
              "      <td>How to prevent corona virus?🤔 Use cowdung cake...</td>\n",
              "      <td>1.233948e+18</td>\n",
              "      <td>na</td>\n",
              "    </tr>\n",
              "    <tr>\n",
              "      <th>4</th>\n",
              "      <td>32</td>\n",
              "      <td>Observing janata curfew will result in the red...</td>\n",
              "      <td>This is concerning - They must self-insure for...</td>\n",
              "      <td>1.233937e+18</td>\n",
              "      <td>na</td>\n",
              "    </tr>\n",
              "  </tbody>\n",
              "</table>\n",
              "</div>"
            ],
            "text/plain": [
              "   misconception_id  ... label\n",
              "0                 3  ...    na\n",
              "1                30  ...    na\n",
              "2                57  ...    na\n",
              "3                22  ...    na\n",
              "4                32  ...    na\n",
              "\n",
              "[5 rows x 5 columns]"
            ]
          },
          "metadata": {
            "tags": []
          },
          "execution_count": 7
        }
      ]
    },
    {
      "cell_type": "markdown",
      "metadata": {
        "id": "-dFi0fLqCNti"
      },
      "source": [
        "# Sample"
      ]
    },
    {
      "cell_type": "markdown",
      "metadata": {
        "id": "tcG1nJPrXyED"
      },
      "source": [
        "The table of misconceptions."
      ]
    },
    {
      "cell_type": "code",
      "metadata": {
        "colab": {
          "base_uri": "https://localhost:8080/",
          "height": 419
        },
        "id": "sd7dvQaO88VS",
        "outputId": "16bb6c2d-cf4f-4c52-e526-32738ec7049d"
      },
      "source": [
        "miscon_df = df[['misconception_id','misconception']].drop_duplicates(subset='misconception_id').sort_values(by='misconception_id').reset_index(drop=True)\n",
        "#mini_mdf = miscon_df[:30].reset_index(drop=True)\n",
        "mini_mdf = miscon_df\n",
        "mini_mdf"
      ],
      "execution_count": 8,
      "outputs": [
        {
          "output_type": "execute_result",
          "data": {
            "text/html": [
              "<div>\n",
              "<style scoped>\n",
              "    .dataframe tbody tr th:only-of-type {\n",
              "        vertical-align: middle;\n",
              "    }\n",
              "\n",
              "    .dataframe tbody tr th {\n",
              "        vertical-align: top;\n",
              "    }\n",
              "\n",
              "    .dataframe thead th {\n",
              "        text-align: right;\n",
              "    }\n",
              "</style>\n",
              "<table border=\"1\" class=\"dataframe\">\n",
              "  <thead>\n",
              "    <tr style=\"text-align: right;\">\n",
              "      <th></th>\n",
              "      <th>misconception_id</th>\n",
              "      <th>misconception</th>\n",
              "    </tr>\n",
              "  </thead>\n",
              "  <tbody>\n",
              "    <tr>\n",
              "      <th>0</th>\n",
              "      <td>1</td>\n",
              "      <td>A person can tell if they have coronavirus or ...</td>\n",
              "    </tr>\n",
              "    <tr>\n",
              "      <th>1</th>\n",
              "      <td>2</td>\n",
              "      <td>Drinking large amounts of water will protect a...</td>\n",
              "    </tr>\n",
              "    <tr>\n",
              "      <th>2</th>\n",
              "      <td>3</td>\n",
              "      <td>Coronavirus is genetically engineered.</td>\n",
              "    </tr>\n",
              "    <tr>\n",
              "      <th>3</th>\n",
              "      <td>4</td>\n",
              "      <td>Dean Koontz predicted the pandemic in his 1981...</td>\n",
              "    </tr>\n",
              "    <tr>\n",
              "      <th>4</th>\n",
              "      <td>5</td>\n",
              "      <td>The first person infected is a researcher name...</td>\n",
              "    </tr>\n",
              "    <tr>\n",
              "      <th>...</th>\n",
              "      <td>...</td>\n",
              "      <td>...</td>\n",
              "    </tr>\n",
              "    <tr>\n",
              "      <th>57</th>\n",
              "      <td>58</td>\n",
              "      <td>Water polution decreased in Venice canals foll...</td>\n",
              "    </tr>\n",
              "    <tr>\n",
              "      <th>58</th>\n",
              "      <td>59</td>\n",
              "      <td>A Malabar civet was spotted walking the street...</td>\n",
              "    </tr>\n",
              "    <tr>\n",
              "      <th>59</th>\n",
              "      <td>60</td>\n",
              "      <td>A pod of humpback whales returned to the Arabi...</td>\n",
              "    </tr>\n",
              "    <tr>\n",
              "      <th>60</th>\n",
              "      <td>61</td>\n",
              "      <td>Lions were freed to keep people off the street...</td>\n",
              "    </tr>\n",
              "    <tr>\n",
              "      <th>61</th>\n",
              "      <td>62</td>\n",
              "      <td>Bank of England £20 banknotes contain a pictur...</td>\n",
              "    </tr>\n",
              "  </tbody>\n",
              "</table>\n",
              "<p>62 rows × 2 columns</p>\n",
              "</div>"
            ],
            "text/plain": [
              "    misconception_id                                      misconception\n",
              "0                  1  A person can tell if they have coronavirus or ...\n",
              "1                  2  Drinking large amounts of water will protect a...\n",
              "2                  3             Coronavirus is genetically engineered.\n",
              "3                  4  Dean Koontz predicted the pandemic in his 1981...\n",
              "4                  5  The first person infected is a researcher name...\n",
              "..               ...                                                ...\n",
              "57                58  Water polution decreased in Venice canals foll...\n",
              "58                59  A Malabar civet was spotted walking the street...\n",
              "59                60  A pod of humpback whales returned to the Arabi...\n",
              "60                61  Lions were freed to keep people off the street...\n",
              "61                62  Bank of England £20 banknotes contain a pictur...\n",
              "\n",
              "[62 rows x 2 columns]"
            ]
          },
          "metadata": {
            "tags": []
          },
          "execution_count": 8
        }
      ]
    },
    {
      "cell_type": "markdown",
      "metadata": {
        "id": "_V7quvzyX5kk"
      },
      "source": [
        "The table of tweets."
      ]
    },
    {
      "cell_type": "code",
      "metadata": {
        "colab": {
          "base_uri": "https://localhost:8080/",
          "height": 419
        },
        "id": "-tq1MACe90ee",
        "outputId": "9875e479-b810-43c8-b0f4-e9a4f1f408d8"
      },
      "source": [
        "tweets_df = df[['tweet_id','tweet']].drop_duplicates(subset='tweet').sort_values(by='tweet_id')\n",
        "#mini_tdf = tweets_df[:30].reset_index(drop=True)\n",
        "mini_tdf = tweets_df\n",
        "mini_tdf = tweets_df.assign(tweet_index = [i for i in range(1,len(mini_tdf)+1)])\n",
        "mini_tdf"
      ],
      "execution_count": 9,
      "outputs": [
        {
          "output_type": "execute_result",
          "data": {
            "text/html": [
              "<div>\n",
              "<style scoped>\n",
              "    .dataframe tbody tr th:only-of-type {\n",
              "        vertical-align: middle;\n",
              "    }\n",
              "\n",
              "    .dataframe tbody tr th {\n",
              "        vertical-align: top;\n",
              "    }\n",
              "\n",
              "    .dataframe thead th {\n",
              "        text-align: right;\n",
              "    }\n",
              "</style>\n",
              "<table border=\"1\" class=\"dataframe\">\n",
              "  <thead>\n",
              "    <tr style=\"text-align: right;\">\n",
              "      <th></th>\n",
              "      <th>tweet_id</th>\n",
              "      <th>tweet</th>\n",
              "      <th>tweet_index</th>\n",
              "    </tr>\n",
              "  </thead>\n",
              "  <tbody>\n",
              "    <tr>\n",
              "      <th>3212</th>\n",
              "      <td>1.230000e+18</td>\n",
              "      <td>How long does the new coronavirus remain activ...</td>\n",
              "      <td>1</td>\n",
              "    </tr>\n",
              "    <tr>\n",
              "      <th>3827</th>\n",
              "      <td>1.230000e+18</td>\n",
              "      <td>Millimetre wave technology will kill an indivi...</td>\n",
              "      <td>2</td>\n",
              "    </tr>\n",
              "    <tr>\n",
              "      <th>1146</th>\n",
              "      <td>1.230000e+18</td>\n",
              "      <td>How do we strengthen our immune systems to fig...</td>\n",
              "      <td>3</td>\n",
              "    </tr>\n",
              "    <tr>\n",
              "      <th>5497</th>\n",
              "      <td>1.233905e+18</td>\n",
              "      <td>When it comes to coronavirus, who is the most ...</td>\n",
              "      <td>4</td>\n",
              "    </tr>\n",
              "    <tr>\n",
              "      <th>1624</th>\n",
              "      <td>1.233905e+18</td>\n",
              "      <td>#Coronavirus and China's Tax Response\\n\\n@USER...</td>\n",
              "      <td>5</td>\n",
              "    </tr>\n",
              "    <tr>\n",
              "      <th>...</th>\n",
              "      <td>...</td>\n",
              "      <td>...</td>\n",
              "      <td>...</td>\n",
              "    </tr>\n",
              "    <tr>\n",
              "      <th>2262</th>\n",
              "      <td>1.233998e+18</td>\n",
              "      <td>Forget the mask. Here's how to protect yoursel...</td>\n",
              "      <td>4342</td>\n",
              "    </tr>\n",
              "    <tr>\n",
              "      <th>3303</th>\n",
              "      <td>1.233998e+18</td>\n",
              "      <td>Man Who Returned From Malaysia, Dies In Kerala...</td>\n",
              "      <td>4343</td>\n",
              "    </tr>\n",
              "    <tr>\n",
              "      <th>4058</th>\n",
              "      <td>1.233998e+18</td>\n",
              "      <td>.@miafarrow Dug up this report on exquisite ki...</td>\n",
              "      <td>4344</td>\n",
              "    </tr>\n",
              "    <tr>\n",
              "      <th>4385</th>\n",
              "      <td>1.233998e+18</td>\n",
              "      <td>Washington state health officials are investig...</td>\n",
              "      <td>4345</td>\n",
              "    </tr>\n",
              "    <tr>\n",
              "      <th>3577</th>\n",
              "      <td>1.233998e+18</td>\n",
              "      <td>MAGA hats made in China may be infected with t...</td>\n",
              "      <td>4346</td>\n",
              "    </tr>\n",
              "  </tbody>\n",
              "</table>\n",
              "<p>4346 rows × 3 columns</p>\n",
              "</div>"
            ],
            "text/plain": [
              "          tweet_id  ... tweet_index\n",
              "3212  1.230000e+18  ...           1\n",
              "3827  1.230000e+18  ...           2\n",
              "1146  1.230000e+18  ...           3\n",
              "5497  1.233905e+18  ...           4\n",
              "1624  1.233905e+18  ...           5\n",
              "...            ...  ...         ...\n",
              "2262  1.233998e+18  ...        4342\n",
              "3303  1.233998e+18  ...        4343\n",
              "4058  1.233998e+18  ...        4344\n",
              "4385  1.233998e+18  ...        4345\n",
              "3577  1.233998e+18  ...        4346\n",
              "\n",
              "[4346 rows x 3 columns]"
            ]
          },
          "metadata": {
            "tags": []
          },
          "execution_count": 9
        }
      ]
    },
    {
      "cell_type": "markdown",
      "metadata": {
        "id": "_Ej9WB4ECc7N"
      },
      "source": [
        "# Words Embedding"
      ]
    },
    {
      "cell_type": "code",
      "metadata": {
        "id": "bbeWLtTfCepz"
      },
      "source": [
        "def vectorize(text,MAX_LEN=MAX_LEN):\n",
        "    tokenizer = BertTokenizer.from_pretrained('bert-base-uncased', do_lower_case=True)\n",
        "\n",
        "    input_ids = []\n",
        "    for t in text:\n",
        "        # so basically encode tokenizing , mapping sentences to thier token ids after adding special tokens.\n",
        "        encoded_sent = tokenizer.encode(\n",
        "            t,  # Sentence which are encoding.\n",
        "            add_special_tokens=True,  # Adding special tokens '[CLS]' and '[SEP]'\n",
        "        )\n",
        "        input_ids.append(encoded_sent)\n",
        "\n",
        "    input_ids = pad_sequences(input_ids, maxlen=MAX_LEN , truncating=\"post\", padding=\"post\")\n",
        "\n",
        "    attention_masks = []\n",
        "    for sent in input_ids:\n",
        "        # Generating attention mask for sentences.\n",
        "        #   - when there is 0 present as token id we are going to set mask as 0.\n",
        "        #   - we are going to set mask 1 for all non-zero positive input id.\n",
        "        att_mask = [int(token_id > 0) for token_id in sent]\n",
        "\n",
        "        attention_masks.append(att_mask)\n",
        "\n",
        "    return attention_masks, input_ids"
      ],
      "execution_count": 10,
      "outputs": []
    },
    {
      "cell_type": "code",
      "metadata": {
        "id": "cvT6F6fCD3I3"
      },
      "source": [
        "m_text = miscon_df.misconception.values\n",
        "m_attention_mask, m_input_id = vectorize(m_text)\n",
        "\n",
        "t_text = tweets_df.tweet.values\n",
        "t_attention_mask, t_input_id = vectorize(t_text,64)"
      ],
      "execution_count": null,
      "outputs": []
    },
    {
      "cell_type": "code",
      "metadata": {
        "id": "X9Q43zw0MTUY"
      },
      "source": [
        "def get_X_inputs_masks(sample, t_attention_mask, t_input_id, m_attention_mask, m_input_id):\n",
        "    X_inputs = []\n",
        "    X_masks = []\n",
        "\n",
        "    for i in range(0,len(sample)):\n",
        "        t_index = sample.tweet_index[i]-1\n",
        "        inputs_temp = t_input_id[t_index].tolist().copy()\n",
        "        masks_temp = t_attention_mask[t_index].copy()\n",
        "\n",
        "        m_index = sample.misconception_id[i]-1\n",
        "        inputs_temp.extend(m_input_id[m_index].tolist())\n",
        "        masks_temp.extend(m_attention_mask[m_index])\n",
        "\n",
        "        X_inputs.append(inputs_temp)\n",
        "        X_masks.append(masks_temp)\n",
        "    \n",
        "    X_inputs = np.array(X_inputs)\n",
        "    return X_inputs, X_masks"
      ],
      "execution_count": 12,
      "outputs": []
    },
    {
      "cell_type": "markdown",
      "metadata": {
        "id": "kSPwcTAcHA5d"
      },
      "source": [
        "# Split Data"
      ]
    },
    {
      "cell_type": "code",
      "metadata": {
        "id": "szNGSyUvRAUN"
      },
      "source": [
        "!pip install imbalanced-learn"
      ],
      "execution_count": null,
      "outputs": []
    },
    {
      "cell_type": "code",
      "metadata": {
        "colab": {
          "base_uri": "https://localhost:8080/"
        },
        "id": "YR2HMQbP900E",
        "outputId": "3c530028-e543-41b6-91db-97f5c3035ff0"
      },
      "source": [
        "df.groupby('label')['tweet'].count()"
      ],
      "execution_count": 14,
      "outputs": [
        {
          "output_type": "execute_result",
          "data": {
            "text/plain": [
              "label\n",
              "na     6149\n",
              "neg     154\n",
              "pos     288\n",
              "Name: tweet, dtype: int64"
            ]
          },
          "metadata": {
            "tags": []
          },
          "execution_count": 14
        }
      ]
    },
    {
      "cell_type": "markdown",
      "metadata": {
        "id": "YHC9GZjr-6Wv"
      },
      "source": [
        "Use -1, 0, 1 to denote label."
      ]
    },
    {
      "cell_type": "code",
      "metadata": {
        "colab": {
          "base_uri": "https://localhost:8080/",
          "height": 289
        },
        "id": "FQyw4Bkf-ri3",
        "outputId": "42a10cd2-c4be-4bf4-b43b-8443fc664eef"
      },
      "source": [
        "sample = pd.merge(df, mini_tdf[['tweet','tweet_index']],\n",
        "         how = 'left',\n",
        "         left_on = ('tweet'),\n",
        "         right_on = ('tweet'))\n",
        "sample.tweet_index = sample.tweet_index.astype('int64')\n",
        "\n",
        "temp = sample.label.values\n",
        "label = []\n",
        "for i in temp:\n",
        "  if i == 'na':\n",
        "    label.append(0)\n",
        "  elif i == 'neg':\n",
        "    label.append(-1)\n",
        "  elif i == 'pos':\n",
        "    label.append(1)\n",
        "\n",
        "sample.label = label\n",
        "\n",
        "sample.head()"
      ],
      "execution_count": 15,
      "outputs": [
        {
          "output_type": "execute_result",
          "data": {
            "text/html": [
              "<div>\n",
              "<style scoped>\n",
              "    .dataframe tbody tr th:only-of-type {\n",
              "        vertical-align: middle;\n",
              "    }\n",
              "\n",
              "    .dataframe tbody tr th {\n",
              "        vertical-align: top;\n",
              "    }\n",
              "\n",
              "    .dataframe thead th {\n",
              "        text-align: right;\n",
              "    }\n",
              "</style>\n",
              "<table border=\"1\" class=\"dataframe\">\n",
              "  <thead>\n",
              "    <tr style=\"text-align: right;\">\n",
              "      <th></th>\n",
              "      <th>misconception_id</th>\n",
              "      <th>misconception</th>\n",
              "      <th>tweet</th>\n",
              "      <th>tweet_id</th>\n",
              "      <th>label</th>\n",
              "      <th>tweet_index</th>\n",
              "    </tr>\n",
              "  </thead>\n",
              "  <tbody>\n",
              "    <tr>\n",
              "      <th>0</th>\n",
              "      <td>3</td>\n",
              "      <td>Coronavirus is genetically engineered.</td>\n",
              "      <td>How the COVID-19 outbreak is changing global p...</td>\n",
              "      <td>1.233965e+18</td>\n",
              "      <td>0</td>\n",
              "      <td>3058</td>\n",
              "    </tr>\n",
              "    <tr>\n",
              "      <th>1</th>\n",
              "      <td>30</td>\n",
              "      <td>Blowing conch shells destroys coronavirus pote...</td>\n",
              "      <td>Getting coronavirus and then coughing on peopl...</td>\n",
              "      <td>1.233908e+18</td>\n",
              "      <td>0</td>\n",
              "      <td>193</td>\n",
              "    </tr>\n",
              "    <tr>\n",
              "      <th>2</th>\n",
              "      <td>57</td>\n",
              "      <td>Swans and dolphins swimming in Venice canals f...</td>\n",
              "      <td>Disturbing letter about life in COVID-19 ward ...</td>\n",
              "      <td>1.233910e+18</td>\n",
              "      <td>0</td>\n",
              "      <td>289</td>\n",
              "    </tr>\n",
              "    <tr>\n",
              "      <th>3</th>\n",
              "      <td>22</td>\n",
              "      <td>Cocaine cures coronavirus.</td>\n",
              "      <td>How to prevent corona virus?🤔 Use cowdung cake...</td>\n",
              "      <td>1.233948e+18</td>\n",
              "      <td>0</td>\n",
              "      <td>2233</td>\n",
              "    </tr>\n",
              "    <tr>\n",
              "      <th>4</th>\n",
              "      <td>32</td>\n",
              "      <td>Observing janata curfew will result in the red...</td>\n",
              "      <td>This is concerning - They must self-insure for...</td>\n",
              "      <td>1.233937e+18</td>\n",
              "      <td>0</td>\n",
              "      <td>1678</td>\n",
              "    </tr>\n",
              "  </tbody>\n",
              "</table>\n",
              "</div>"
            ],
            "text/plain": [
              "   misconception_id  ... tweet_index\n",
              "0                 3  ...        3058\n",
              "1                30  ...         193\n",
              "2                57  ...         289\n",
              "3                22  ...        2233\n",
              "4                32  ...        1678\n",
              "\n",
              "[5 rows x 6 columns]"
            ]
          },
          "metadata": {
            "tags": []
          },
          "execution_count": 15
        }
      ]
    },
    {
      "cell_type": "code",
      "metadata": {
        "id": "GhjBTq4IR7BE"
      },
      "source": [
        "from imblearn.over_sampling import SMOTE\n",
        "from imblearn.under_sampling import RandomUnderSampler\n",
        "from imblearn.pipeline import Pipeline\n",
        "over = SMOTE({-1:500,1:600})\n",
        "under = RandomUnderSampler({0:3000})\n",
        "resample = [('under',under),('over',over)]\n",
        "pipeline = Pipeline(steps=resample)"
      ],
      "execution_count": null,
      "outputs": []
    },
    {
      "cell_type": "code",
      "metadata": {
        "id": "FLYSojbzRLCN"
      },
      "source": [
        "# oversampling data to reduce the impact of data imbalance\n",
        "labels = sample.label.values\n",
        "input_ids, _ = get_X_inputs_masks(sample, t_attention_mask, t_input_id, m_attention_mask, m_input_id)\n",
        "\n",
        "inputs, labels = pipeline.fit_resample(input_ids, labels)"
      ],
      "execution_count": null,
      "outputs": []
    },
    {
      "cell_type": "code",
      "metadata": {
        "colab": {
          "base_uri": "https://localhost:8080/"
        },
        "id": "n6QM-nGBC9fo",
        "outputId": "8e1c9880-eab1-45dd-d9ba-323a207e73c5"
      },
      "source": [
        "print(len(labels[labels==-1]),len(labels[labels==0]),len(labels[labels==1]))"
      ],
      "execution_count": 18,
      "outputs": [
        {
          "output_type": "stream",
          "text": [
            "500 3000 600\n"
          ],
          "name": "stdout"
        }
      ]
    },
    {
      "cell_type": "markdown",
      "metadata": {
        "id": "so24p9-QZOri"
      },
      "source": [
        "## Class Weight"
      ]
    },
    {
      "cell_type": "code",
      "metadata": {
        "colab": {
          "base_uri": "https://localhost:8080/"
        },
        "id": "oQ7Xwu1KaM-3",
        "outputId": "52d1fd69-4361-462c-cc81-b320096b9ec8"
      },
      "source": [
        "neg = len(labels[labels==-1])\n",
        "zero = len(labels[labels==0])\n",
        "pos = len(labels[labels==1])\n",
        "total = neg + zero + pos\n",
        "\n",
        "weight_for_zero = (1 / zero) * (total / 2.0)\n",
        "weight_for_neg = (1 / neg) * (total / 2.0)\n",
        "weight_for_pos = (1 / pos) * (total / 2.0)\n",
        "\n",
        "class_weight = {0: weight_for_zero, -1: weight_for_neg,1: weight_for_pos}\n",
        "\n",
        "print('Weight for class 0: {:.2f}'.format(weight_for_zero))\n",
        "print('Weight for class -1: {:.2f}'.format(weight_for_neg))\n",
        "print('Weight for class 1: {:.2f}'.format(weight_for_pos))"
      ],
      "execution_count": 19,
      "outputs": [
        {
          "output_type": "stream",
          "text": [
            "Weight for class 0: 0.68\n",
            "Weight for class -1: 4.10\n",
            "Weight for class 1: 3.42\n"
          ],
          "name": "stdout"
        }
      ]
    },
    {
      "cell_type": "markdown",
      "metadata": {
        "id": "7GWTty9QCP0r"
      },
      "source": [
        "# Single Classifier"
      ]
    },
    {
      "cell_type": "code",
      "metadata": {
        "id": "l_kYrw94Uf79"
      },
      "source": [
        "from sklearn.metrics import confusion_matrix, f1_score, accuracy_score, roc_auc_score\n",
        "\n",
        "def multi_eval(label, prediction):\n",
        "    acc = accuracy_score(label, prediction)\n",
        "    print('f1',f1_score(label, prediction, average='weighted'))\n",
        "    c_matrix = confusion_matrix(label, prediction)\n",
        "    print('confusion matrix', c_matrix)\n",
        "    sensitivity = c_matrix[2][2]/(c_matrix[2][0]+c_matrix[2][1]+c_matrix[2][2])\n",
        "    specificity = c_matrix[0][0]/(c_matrix[0][0]+c_matrix[0][1]+c_matrix[0][2])\n",
        "    print('')\n",
        "    return acc, sensitivity, specificity\n",
        "\n",
        "def clf_predict(X_val, model_name):\n",
        "    '''\n",
        "    comparing the return result with the Y_val\n",
        "    e.g.\n",
        "    from sklearn.metrics import accuracy_score\n",
        "    accuracy_score(Y_val, forest_prediction)\n",
        "    '''\n",
        "    clf = load(model_name)\n",
        "    pred = clf.predict(X_val)\n",
        "    return pred"
      ],
      "execution_count": 20,
      "outputs": []
    },
    {
      "cell_type": "markdown",
      "metadata": {
        "id": "sPNYz02-xurB"
      },
      "source": [
        "## KFold"
      ]
    },
    {
      "cell_type": "code",
      "metadata": {
        "id": "GpC5Wm0RaWap"
      },
      "source": [
        "from sklearn.model_selection import KFold\n",
        "def cv_split(X, Y, n_split=5):\n",
        "    kf = KFold(n_splits=n_split,shuffle=True,random_state=84735)\n",
        "\n",
        "    X_trains = []\n",
        "    X_tests = []\n",
        "    for train,test in kf.split(X):\n",
        "        X_train = []\n",
        "        X_test = []\n",
        "        for i in train:\n",
        "            X_train.append(X[i])\n",
        "        for i in test:\n",
        "            X_test.append(X[i])\n",
        "        X_trains.append(X_train)\n",
        "        X_tests.append(X_test)\n",
        "\n",
        "    Y_trains = []\n",
        "    Y_tests = []\n",
        "    for train, test in kf.split(Y):\n",
        "        Y_train = []\n",
        "        Y_test = []\n",
        "        for i in train:\n",
        "            Y_train.append(Y[i])\n",
        "        for i in test:\n",
        "            Y_test.append(Y[i])\n",
        "        Y_trains.append(Y_train)\n",
        "        Y_tests.append(Y_test)\n",
        "\n",
        "    return X_trains, X_tests, Y_trains, Y_tests"
      ],
      "execution_count": 21,
      "outputs": []
    },
    {
      "cell_type": "code",
      "metadata": {
        "id": "aLDIGq5QgzMG"
      },
      "source": [
        "X_trains, X_tests, Y_trains, Y_tests = cv_split(inputs, labels)"
      ],
      "execution_count": 22,
      "outputs": []
    },
    {
      "cell_type": "markdown",
      "metadata": {
        "id": "2Jr5bP950pRR"
      },
      "source": [
        "## Random Forest"
      ]
    },
    {
      "cell_type": "code",
      "metadata": {
        "id": "1t4yX8eBWjjL"
      },
      "source": [
        "from sklearn.ensemble import RandomForestClassifier\n",
        "from joblib import dump, load\n",
        "\n",
        "def foresttrain(X_train, Y_train, model_name):\n",
        "    '''\n",
        "    Train the random forest classifier and save to local.\n",
        "    :param X_train:\n",
        "    :param Y_train:\n",
        "    '''\n",
        "    forest = RandomForestClassifier(n_estimators=100, oob_score=True, n_jobs=3, class_weight = class_weight) #n_job is n of CPU cores assigned\n",
        "    forest.fit(X_train, Y_train)\n",
        "    dump(forest, model_name)"
      ],
      "execution_count": 23,
      "outputs": []
    },
    {
      "cell_type": "code",
      "metadata": {
        "colab": {
          "base_uri": "https://localhost:8080/"
        },
        "id": "DMmCedcKcp49",
        "outputId": "0212fb60-59eb-4cf3-ea6e-e61835b96324"
      },
      "source": [
        "forest_train_preds = []\n",
        "forest_preds = []\n",
        "forest_cv_result = {'scores':[],'sensitivity':[],'specificity':[]}\n",
        "\n",
        "for i in range(5):\n",
        "  X_train = X_trains[i]\n",
        "  X_test = X_tests[i]\n",
        "  Y_train = Y_trains[i]\n",
        "  Y_test = Y_tests[i]\n",
        "\n",
        "  foresttrain(X_train, Y_train, 'forest.joblib')\n",
        "  forest_train_preds.append(clf_predict(X_train,'forest.joblib'))\n",
        "  pred = clf_predict(X_test,'forest.joblib')\n",
        "  forest_preds.append(pred)\n",
        "\n",
        "  acc, sen, spe = multi_eval(Y_test, pred)\n",
        "  forest_cv_result['scores'].append(acc)\n",
        "  forest_cv_result['sensitivity'].append(sen)\n",
        "  forest_cv_result['specificity'].append(spe)"
      ],
      "execution_count": 24,
      "outputs": [
        {
          "output_type": "stream",
          "text": [
            "f1 0.9064035351104665\n",
            "confusion matrix [[ 84  24   0]\n",
            " [  4 563   8]\n",
            " [  2  36  99]]\n",
            "\n",
            "f1 0.9137740731443751\n",
            "confusion matrix [[ 82  24   2]\n",
            " [  0 601   6]\n",
            " [  6  29  70]]\n",
            "\n",
            "f1 0.911287385351739\n",
            "confusion matrix [[ 84  16   2]\n",
            " [  5 599   6]\n",
            " [  6  34  68]]\n",
            "\n",
            "f1 0.9024106585124947\n",
            "confusion matrix [[ 61  18   0]\n",
            " [  4 616   7]\n",
            " [  3  43  68]]\n",
            "\n",
            "f1 0.8698353584393507\n",
            "confusion matrix [[ 72  28   3]\n",
            " [  4 573   4]\n",
            " [  7  53  76]]\n",
            "\n"
          ],
          "name": "stdout"
        }
      ]
    },
    {
      "cell_type": "code",
      "metadata": {
        "colab": {
          "base_uri": "https://localhost:8080/"
        },
        "id": "T1NQVlsdd8XH",
        "outputId": "731a828a-611a-4d82-9459-67101db8d37f"
      },
      "source": [
        "from statistics import mean\n",
        "\n",
        "print('Avg Scores:', mean(forest_cv_result['scores']), '\\n',\n",
        "   'Avg Sensitivity:', mean(forest_cv_result['sensitivity']), '\\n',\n",
        "   'Avg Sepcificity:', mean(forest_cv_result['specificity']))"
      ],
      "execution_count": 25,
      "outputs": [
        {
          "output_type": "stream",
          "text": [
            "Avg Scores: 0.9063414634146342 \n",
            " Avg Sensitivity: 0.6348477582009028 \n",
            " Avg Sepcificity: 0.7663494947499024\n"
          ],
          "name": "stdout"
        }
      ]
    },
    {
      "cell_type": "markdown",
      "metadata": {
        "id": "C6ql9vg9PIYb"
      },
      "source": [
        "## Ada Boost"
      ]
    },
    {
      "cell_type": "code",
      "metadata": {
        "id": "jc1ASXGjPJCV"
      },
      "source": [
        "from sklearn.ensemble import AdaBoostClassifier\n",
        "\n",
        "def adatrain(X_train, Y_train, model_name):\n",
        "    '''\n",
        "    Train the random forest classifier and save to local.\n",
        "    :param X_train:\n",
        "    :param Y_train:\n",
        "    '''\n",
        "    ada = AdaBoostClassifier(n_estimators=100)\n",
        "    ada.fit(X_train, Y_train)\n",
        "    dump(ada, model_name)"
      ],
      "execution_count": 26,
      "outputs": []
    },
    {
      "cell_type": "code",
      "metadata": {
        "colab": {
          "base_uri": "https://localhost:8080/"
        },
        "id": "xlkd51SWPpmQ",
        "outputId": "dbc9fd51-5798-453b-d296-8118af7713f5"
      },
      "source": [
        "ada_train_preds = []\n",
        "ada_preds = []\n",
        "ada_cv_result = {'scores':[],'sensitivity':[],'specificity':[]}\n",
        "\n",
        "for i in range(5):\n",
        "  X_train = X_trains[i]\n",
        "  X_test = X_tests[i]\n",
        "  Y_train = Y_trains[i]\n",
        "  Y_test = Y_tests[i]\n",
        "\n",
        "  adatrain(X_train, Y_train, 'ada.joblib')\n",
        "  ada_train_preds.append(clf_predict(X_train,'ada.joblib'))\n",
        "  pred = clf_predict(X_test,'ada.joblib')\n",
        "  ada_preds.append(pred)\n",
        "\n",
        "  acc, sen, spe = multi_eval(Y_test, pred)\n",
        "  ada_cv_result['scores'].append(acc)\n",
        "  ada_cv_result['sensitivity'].append(sen)\n",
        "  ada_cv_result['specificity'].append(spe)"
      ],
      "execution_count": 27,
      "outputs": [
        {
          "output_type": "stream",
          "text": [
            "f1 0.789187481879097\n",
            "confusion matrix [[ 62  23  23]\n",
            " [ 19 529  27]\n",
            " [ 10  64  63]]\n",
            "\n",
            "f1 0.8199048961441179\n",
            "confusion matrix [[ 75  18  15]\n",
            " [ 13 566  28]\n",
            " [ 13  54  38]]\n",
            "\n",
            "f1 0.8050656136966576\n",
            "confusion matrix [[ 70  20  12]\n",
            " [ 21 554  35]\n",
            " [ 10  57  41]]\n",
            "\n",
            "f1 0.8293859402715911\n",
            "confusion matrix [[ 50  23   6]\n",
            " [ 10 580  37]\n",
            " [ 15  45  54]]\n",
            "\n",
            "f1 0.7926077031391857\n",
            "confusion matrix [[ 68  28   7]\n",
            " [ 19 538  24]\n",
            " [ 17  65  54]]\n",
            "\n"
          ],
          "name": "stdout"
        }
      ]
    },
    {
      "cell_type": "code",
      "metadata": {
        "colab": {
          "base_uri": "https://localhost:8080/"
        },
        "id": "i5VjLXa3mh0q",
        "outputId": "e42653cd-018c-4c2e-cdd3-c7c0db4c8450"
      },
      "source": [
        "from statistics import mean\n",
        "\n",
        "print('Avg Scores:', mean(ada_cv_result['scores']), '\\n',\n",
        "   'Avg Sensitivity:', mean(ada_cv_result['sensitivity']), '\\n',\n",
        "   'Avg Sepcificity:', mean(ada_cv_result['specificity']))"
      ],
      "execution_count": 28,
      "outputs": [
        {
          "output_type": "stream",
          "text": [
            "Avg Scores: 0.8151219512195123 \n",
            " Avg Sensitivity: 0.41442628803773185 \n",
            " Avg Sepcificity: 0.649579719096957\n"
          ],
          "name": "stdout"
        }
      ]
    },
    {
      "cell_type": "markdown",
      "metadata": {
        "id": "JHE-uvGi39AN"
      },
      "source": [
        "## Logistic Regression"
      ]
    },
    {
      "cell_type": "code",
      "metadata": {
        "id": "4f_NXv2Q3_gH"
      },
      "source": [
        "from sklearn.linear_model import LogisticRegression\n",
        "\n",
        "def lrtrain(X_train, Y_train, model_name):\n",
        "    lr = LogisticRegression(max_iter=200,solver='liblinear',class_weight=class_weight)\n",
        "    lr.fit(X_train, Y_train)\n",
        "    dump(lr,model_name)"
      ],
      "execution_count": 29,
      "outputs": []
    },
    {
      "cell_type": "code",
      "metadata": {
        "id": "Pgtafh8q4PqD",
        "colab": {
          "base_uri": "https://localhost:8080/"
        },
        "outputId": "050ec97d-e3aa-4730-fee6-0e3fb6d55f7e"
      },
      "source": [
        "lr_train_preds = []\n",
        "lr_preds = []\n",
        "lr_cv_result = {'scores':[],'sensitivity':[],'specificity':[]}\n",
        "\n",
        "for i in range(5):\n",
        "  X_train = X_trains[i]\n",
        "  X_test = X_tests[i]\n",
        "  Y_train = Y_trains[i]\n",
        "  Y_test = Y_tests[i]\n",
        "\n",
        "  lrtrain(X_train, Y_train, 'lr.joblib')\n",
        "  lr_train_preds.append(clf_predict(X_train,'lr.joblib'))\n",
        "  pred = clf_predict(X_test,'lr.joblib')\n",
        "  lr_preds.append(pred)\n",
        "\n",
        "  acc, sen, spe = multi_eval(Y_test, pred)\n",
        "  lr_cv_result['scores'].append(acc)\n",
        "  lr_cv_result['sensitivity'].append(sen)\n",
        "  lr_cv_result['specificity'].append(spe)"
      ],
      "execution_count": 30,
      "outputs": [
        {
          "output_type": "stream",
          "text": [
            "f1 0.7685152988757168\n",
            "confusion matrix [[ 64  26  18]\n",
            " [ 42 485  48]\n",
            " [ 16  43  78]]\n",
            "\n",
            "f1 0.7860556810146043\n",
            "confusion matrix [[ 67  21  20]\n",
            " [ 42 512  53]\n",
            " [ 22  26  57]]\n",
            "\n",
            "f1 0.7834909649884509\n",
            "confusion matrix [[ 71  17  14]\n",
            " [ 40 507  63]\n",
            " [ 24  29  55]]\n",
            "\n",
            "f1 0.7936567925885606\n",
            "confusion matrix [[ 50  17  12]\n",
            " [ 35 530  62]\n",
            " [ 21  31  62]]\n",
            "\n",
            "f1 0.7998160604473373\n",
            "confusion matrix [[ 76  17  10]\n",
            " [ 41 481  59]\n",
            " [ 18  26  92]]\n",
            "\n"
          ],
          "name": "stdout"
        }
      ]
    },
    {
      "cell_type": "code",
      "metadata": {
        "colab": {
          "base_uri": "https://localhost:8080/"
        },
        "id": "1HLRP4Pgmqvu",
        "outputId": "de532755-717e-4d28-b53a-e9687d70d1b1"
      },
      "source": [
        "from statistics import mean\n",
        "\n",
        "print('Avg Scores:', mean(lr_cv_result['scores']), '\\n',\n",
        "   'Avg Sensitivity:', mean(lr_cv_result['sensitivity']), '\\n',\n",
        "   'Avg Sepcificity:', mean(lr_cv_result['specificity']))"
      ],
      "execution_count": 31,
      "outputs": [
        {
          "output_type": "stream",
          "text": [
            "Avg Scores: 0.7773170731707317 \n",
            " Avg Sensitivity: 0.5683579410335868 \n",
            " Avg Sepcificity: 0.6559633728820956\n"
          ],
          "name": "stdout"
        }
      ]
    },
    {
      "cell_type": "markdown",
      "metadata": {
        "id": "1rudq0iC3jjX"
      },
      "source": [
        "# Voting Emsemble"
      ]
    },
    {
      "cell_type": "markdown",
      "metadata": {
        "id": "yNFgluQ-5BA3"
      },
      "source": [
        "## Train Weight"
      ]
    },
    {
      "cell_type": "code",
      "metadata": {
        "id": "SsHSgDfI3jAw"
      },
      "source": [
        "def train_weight(preds, label, num=3):\n",
        "    forest_pre = preds['forest'].values\n",
        "    ada_pre = preds['ada'].values\n",
        "    lr_pre = preds['lr'].values\n",
        "\n",
        "    weight = [1]*num\n",
        "    for i in range(0,len(label)):\n",
        "        update = [0]*num\n",
        "        wrong = 0\n",
        "        \n",
        "        if forest_pre[i] == label[i]:\n",
        "            update[0] = 1\n",
        "        else:\n",
        "            wrong += 1\n",
        "\n",
        "        if ada_pre[i] == label[i]:\n",
        "            update[1] = 1\n",
        "        else:\n",
        "            wrong += 1\n",
        "\n",
        "        if lr_pre[i] == label[i]:\n",
        "            update[2] = 1\n",
        "        else:\n",
        "            wrong += 1\n",
        "\n",
        "        for j in range(0,num):\n",
        "            weight[j] += update[j]* wrong/num\n",
        "\n",
        "    total_weight = sum(weight)\n",
        "    for j in range(0, num):\n",
        "        weight[j] = weight[j]/total_weight\n",
        "    return weight"
      ],
      "execution_count": 32,
      "outputs": []
    },
    {
      "cell_type": "markdown",
      "metadata": {
        "id": "NtBhrF5Z52f9"
      },
      "source": [
        "## Self-defined Voting"
      ]
    },
    {
      "cell_type": "code",
      "metadata": {
        "id": "IgQOjfAO5tnP"
      },
      "source": [
        "from random import randrange\n",
        "def WMVEpredict(weight, preds, use_softmax=False):\n",
        "    softmax = torch.nn.Softmax()\n",
        "    result = []\n",
        "    forest_pre = preds['forest'].values\n",
        "    ada_pre = preds['ada'].values\n",
        "    lr_pre = preds['lr'].values\n",
        "\n",
        "    for i in range(0, len(ada_pre)):\n",
        "        labels = torch.FloatTensor([0,0,0])\n",
        "        labels[forest_pre[i]] += weight[0]\n",
        "        labels[ada_pre[i]] += weight[1]\n",
        "        labels[lr_pre[i]] += weight[2]\n",
        "\n",
        "        if use_softmax:\n",
        "            votes = softmax(labels)\n",
        "        else:\n",
        "            votes = labels\n",
        "\n",
        "        if torch.argmax(votes)==0:\n",
        "            result.append(0)\n",
        "        elif torch.argmax(votes)==1:\n",
        "            result.append(1)\n",
        "        else:\n",
        "            result.append(-1)\n",
        "    return result"
      ],
      "execution_count": 33,
      "outputs": []
    },
    {
      "cell_type": "code",
      "metadata": {
        "colab": {
          "base_uri": "https://localhost:8080/"
        },
        "id": "_BNlfh1qaguk",
        "outputId": "ae87f905-4d0d-4492-a08f-f5b2f1d664d4"
      },
      "source": [
        "voting_preds = []\n",
        "voting_cv_result = {'scores':[],'sensitivity':[],'specificity':[]}\n",
        "for i in range(5):\n",
        "  X_train = X_trains[i]\n",
        "  X_test = X_tests[i]\n",
        "  Y_train = Y_trains[i]\n",
        "  Y_test = Y_tests[i]\n",
        "\n",
        "  classfiers_train_pred = pd.DataFrame({'forest': forest_train_preds[i], 'ada': ada_train_preds[i], 'lr': lr_train_preds[i]})\n",
        "  classfiers_val_pred = pd.DataFrame({'forest': forest_preds[i], 'ada': ada_preds[i], 'lr': lr_preds[i]})\n",
        "\n",
        "  #weight = train_weight(classfiers_train_pred,Y_train)\n",
        "  #print('weight', weight)\n",
        "\n",
        "  weight = [0.5, 0.3, 0.3]  \n",
        "\n",
        "  pred = WMVEpredict(weight, classfiers_val_pred, use_softmax=True)\n",
        "  voting_preds.append(pred)\n",
        "\n",
        "  acc, sen, spe = multi_eval(Y_test, pred)\n",
        "  voting_cv_result['scores'].append(acc)\n",
        "  voting_cv_result['sensitivity'].append(sen)\n",
        "  voting_cv_result['specificity'].append(spe)"
      ],
      "execution_count": 34,
      "outputs": [
        {
          "output_type": "stream",
          "text": [
            "/usr/local/lib/python3.7/dist-packages/ipykernel_launcher.py:16: UserWarning: Implicit dimension choice for softmax has been deprecated. Change the call to include dim=X as an argument.\n",
            "  app.launch_new_instance()\n"
          ],
          "name": "stderr"
        },
        {
          "output_type": "stream",
          "text": [
            "f1 0.8513767548199995\n",
            "confusion matrix [[ 70  26  12]\n",
            " [ 17 543  15]\n",
            " [  6  42  89]]\n",
            "\n",
            "f1 0.8739143686410535\n",
            "confusion matrix [[ 79  20   9]\n",
            " [  6 577  24]\n",
            " [ 10  32  63]]\n",
            "\n",
            "f1 0.8602062600817648\n",
            "confusion matrix [[ 76  17   9]\n",
            " [ 14 572  24]\n",
            " [ 10  38  60]]\n",
            "\n",
            "f1 0.8668724724294591\n",
            "confusion matrix [[ 56  20   3]\n",
            " [  7 599  21]\n",
            " [ 10  43  61]]\n",
            "\n",
            "f1 0.853224871577074\n",
            "confusion matrix [[ 73  25   5]\n",
            " [ 12 554  15]\n",
            " [ 12  46  78]]\n",
            "\n"
          ],
          "name": "stdout"
        }
      ]
    },
    {
      "cell_type": "code",
      "metadata": {
        "colab": {
          "base_uri": "https://localhost:8080/"
        },
        "id": "tFtNdBO0q0Zt",
        "outputId": "978e2cd1-caad-421c-a09f-b5b52fe3b8da"
      },
      "source": [
        "from statistics import mean\n",
        "\n",
        "print('Avg Scores:', mean(voting_cv_result['scores']), '\\n',\n",
        "   'Avg Sensitivity:', mean(voting_cv_result['sensitivity']), '\\n',\n",
        "   'Avg Sepcificity:', mean(voting_cv_result['specificity']))"
      ],
      "execution_count": 35,
      "outputs": [
        {
          "output_type": "stream",
          "text": [
            "Avg Scores: 0.8658536585365854 \n",
            " Avg Sensitivity: 0.5827615446229715 \n",
            " Avg Sepcificity: 0.7084652584833313\n"
          ],
          "name": "stdout"
        }
      ]
    },
    {
      "cell_type": "markdown",
      "metadata": {
        "id": "iQS49g6_r2uA"
      },
      "source": [
        "# Result Visualization"
      ]
    },
    {
      "cell_type": "code",
      "metadata": {
        "id": "IYz7N81ar2SF"
      },
      "source": [
        "import seaborn as sns\n",
        "import matplotlib.pyplot as plt\n",
        "from matplotlib.ticker import MaxNLocator\n",
        "sns.set(font_scale=1.4)\n",
        "\n",
        "clf = ['Random Forest']*5 + ['Ada']*5 + ['LR']*5 + ['Voting']*5\n",
        "\n",
        "sen = forest_cv_result['sensitivity']+ada_cv_result['sensitivity']+lr_cv_result['sensitivity']+voting_cv_result['sensitivity']\n",
        "spe = forest_cv_result['specificity']+ada_cv_result['specificity']+lr_cv_result['specificity']+voting_cv_result['specificity']\n",
        "scores = forest_cv_result['scores'] + ada_cv_result['scores'] + lr_cv_result['scores'] + voting_cv_result['scores']\n",
        "\n",
        "df = pd.DataFrame({'Classifier':clf,\n",
        "                   'Accuracy Score':scores,\n",
        "                   'Sensitivity':sen,\n",
        "                   'Specificity':spe,\n",
        "                   'CV':[1,2,3,4,5]*4})"
      ],
      "execution_count": 39,
      "outputs": []
    },
    {
      "cell_type": "code",
      "metadata": {
        "colab": {
          "base_uri": "https://localhost:8080/",
          "height": 570
        },
        "id": "fMgMiykOtI6A",
        "outputId": "bf443691-c738-4464-877a-14694c7bf1ee"
      },
      "source": [
        "f, a = plt.subplots(1,1,figsize=(13,8))\n",
        "f = sns.lineplot(x='CV',y='Accuracy Score',hue='Classifier',data=df)\n",
        "a.xaxis.set_major_locator(MaxNLocator(integer=True))\n",
        "plt.suptitle('Balanced Accuracy Scores in Cross Validation', fontsize=20)\n",
        "plt.ylabel('Balanced Accuracy Score')\n",
        "plt.xlabel('Index of Fold')\n",
        "plt.legend()\n",
        "plt.show()"
      ],
      "execution_count": 40,
      "outputs": [
        {
          "output_type": "display_data",
          "data": {
            "image/png": "[encoded data removed]",
            "text/plain": [
              "<Figure size 936x576 with 1 Axes>"
            ]
          },
          "metadata": {
            "tags": []
          }
        }
      ]
    },
    {
      "cell_type": "code",
      "metadata": {
        "colab": {
          "base_uri": "https://localhost:8080/",
          "height": 508
        },
        "id": "NuAOrVUzuu_n",
        "outputId": "da015c4d-e656-4cbd-f404-299892a7d48c"
      },
      "source": [
        "f, a = plt.subplots(1,1,figsize=(12,7))\n",
        "f = sns.lineplot(x='CV',y='Sensitivity',hue='Classifier',data=df)\n",
        "a.xaxis.set_major_locator(MaxNLocator(integer=True))\n",
        "plt.suptitle('Sensitivities in Cross Validation', fontsize=20)\n",
        "plt.ylabel('Sensitivity')\n",
        "plt.xlabel('Index of Fold')\n",
        "plt.legend()\n",
        "plt.show()"
      ],
      "execution_count": 41,
      "outputs": [
        {
          "output_type": "display_data",
          "data": {
            "image/png": "[encoded data removed]",
            "text/plain": [
              "<Figure size 864x504 with 1 Axes>"
            ]
          },
          "metadata": {
            "tags": []
          }
        }
      ]
    },
    {
      "cell_type": "code",
      "metadata": {
        "id": "O2ziKW4k0DPd",
        "colab": {
          "base_uri": "https://localhost:8080/",
          "height": 508
        },
        "outputId": "a1edb360-da66-43c7-cb97-e95e3647951e"
      },
      "source": [
        "f, a = plt.subplots(1,1,figsize=(12,7))\n",
        "f = sns.lineplot(x='CV',y='Specificity',hue='Classifier',data=df)\n",
        "a.xaxis.set_major_locator(MaxNLocator(integer=True))\n",
        "plt.suptitle('Specificities in Cross Validation', fontsize=20)\n",
        "plt.ylabel('Specificity')\n",
        "plt.xlabel('Index of Fold')\n",
        "plt.legend()\n",
        "plt.show()"
      ],
      "execution_count": 42,
      "outputs": [
        {
          "output_type": "display_data",
          "data": {
            "image/png": "[encoded data removed]",
            "text/plain": [
              "<Figure size 864x504 with 1 Axes>"
            ]
          },
          "metadata": {
            "tags": []
          }
        }
      ]
    }
  ]
}