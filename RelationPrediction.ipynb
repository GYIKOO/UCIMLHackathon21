{
  "nbformat": 4,
  "nbformat_minor": 0,
  "metadata": {
    "colab": {
      "name": "RelationPrediction",
      "provenance": [],
      "collapsed_sections": [
        "DBP4d8Xu3n3f"
      ],
      "toc_visible": true,
      "include_colab_link": true
    },
    "kernelspec": {
      "name": "python3",
      "display_name": "Python 3"
    },
    "language_info": {
      "name": "python"
    },
    "widgets": {
      "application/vnd.jupyter.widget-state+json": {
        "cb63ab350d9e4a64bb90ce34535bf3b5": {
          "model_module": "@jupyter-widgets/controls",
          "model_name": "HBoxModel",
          "state": {
            "_view_name": "HBoxView",
            "_dom_classes": [],
            "_model_name": "HBoxModel",
            "_view_module": "@jupyter-widgets/controls",
            "_model_module_version": "1.5.0",
            "_view_count": null,
            "_view_module_version": "1.5.0",
            "box_style": "",
            "layout": "IPY_MODEL_18e5dd8384cf47c78ed872b3d53ef2a7",
            "_model_module": "@jupyter-widgets/controls",
            "children": [
              "IPY_MODEL_c84c359b6a8c44f99dc06641e584ca03",
              "IPY_MODEL_c9a6027cfea44e89acffddda8e6fd9e6"
            ]
          }
        },
        "18e5dd8384cf47c78ed872b3d53ef2a7": {
          "model_module": "@jupyter-widgets/base",
          "model_name": "LayoutModel",
          "state": {
            "_view_name": "LayoutView",
            "grid_template_rows": null,
            "right": null,
            "justify_content": null,
            "_view_module": "@jupyter-widgets/base",
            "overflow": null,
            "_model_module_version": "1.2.0",
            "_view_count": null,
            "flex_flow": null,
            "width": null,
            "min_width": null,
            "border": null,
            "align_items": null,
            "bottom": null,
            "_model_module": "@jupyter-widgets/base",
            "top": null,
            "grid_column": null,
            "overflow_y": null,
            "overflow_x": null,
            "grid_auto_flow": null,
            "grid_area": null,
            "grid_template_columns": null,
            "flex": null,
            "_model_name": "LayoutModel",
            "justify_items": null,
            "grid_row": null,
            "max_height": null,
            "align_content": null,
            "visibility": null,
            "align_self": null,
            "height": null,
            "min_height": null,
            "padding": null,
            "grid_auto_rows": null,
            "grid_gap": null,
            "max_width": null,
            "order": null,
            "_view_module_version": "1.2.0",
            "grid_template_areas": null,
            "object_position": null,
            "object_fit": null,
            "grid_auto_columns": null,
            "margin": null,
            "display": null,
            "left": null
          }
        },
        "c84c359b6a8c44f99dc06641e584ca03": {
          "model_module": "@jupyter-widgets/controls",
          "model_name": "FloatProgressModel",
          "state": {
            "_view_name": "ProgressView",
            "style": "IPY_MODEL_d9539eb3681a43eabbe633c87c5c07b8",
            "_dom_classes": [],
            "description": "Downloading: 100%",
            "_model_name": "FloatProgressModel",
            "bar_style": "success",
            "max": 231508,
            "_view_module": "@jupyter-widgets/controls",
            "_model_module_version": "1.5.0",
            "value": 231508,
            "_view_count": null,
            "_view_module_version": "1.5.0",
            "orientation": "horizontal",
            "min": 0,
            "description_tooltip": null,
            "_model_module": "@jupyter-widgets/controls",
            "layout": "IPY_MODEL_390635517fd74e31be7fda7258c158ff"
          }
        },
        "c9a6027cfea44e89acffddda8e6fd9e6": {
          "model_module": "@jupyter-widgets/controls",
          "model_name": "HTMLModel",
          "state": {
            "_view_name": "HTMLView",
            "style": "IPY_MODEL_5bb77a0f1b704e068a4ebb06fdb2ec09",
            "_dom_classes": [],
            "description": "",
            "_model_name": "HTMLModel",
            "placeholder": "​",
            "_view_module": "@jupyter-widgets/controls",
            "_model_module_version": "1.5.0",
            "value": " 232k/232k [00:05&lt;00:00, 46.1kB/s]",
            "_view_count": null,
            "_view_module_version": "1.5.0",
            "description_tooltip": null,
            "_model_module": "@jupyter-widgets/controls",
            "layout": "IPY_MODEL_dacf140fd72d49af85f7d7d02106bbec"
          }
        },
        "d9539eb3681a43eabbe633c87c5c07b8": {
          "model_module": "@jupyter-widgets/controls",
          "model_name": "ProgressStyleModel",
          "state": {
            "_view_name": "StyleView",
            "_model_name": "ProgressStyleModel",
            "description_width": "initial",
            "_view_module": "@jupyter-widgets/base",
            "_model_module_version": "1.5.0",
            "_view_count": null,
            "_view_module_version": "1.2.0",
            "bar_color": null,
            "_model_module": "@jupyter-widgets/controls"
          }
        },
        "390635517fd74e31be7fda7258c158ff": {
          "model_module": "@jupyter-widgets/base",
          "model_name": "LayoutModel",
          "state": {
            "_view_name": "LayoutView",
            "grid_template_rows": null,
            "right": null,
            "justify_content": null,
            "_view_module": "@jupyter-widgets/base",
            "overflow": null,
            "_model_module_version": "1.2.0",
            "_view_count": null,
            "flex_flow": null,
            "width": null,
            "min_width": null,
            "border": null,
            "align_items": null,
            "bottom": null,
            "_model_module": "@jupyter-widgets/base",
            "top": null,
            "grid_column": null,
            "overflow_y": null,
            "overflow_x": null,
            "grid_auto_flow": null,
            "grid_area": null,
            "grid_template_columns": null,
            "flex": null,
            "_model_name": "LayoutModel",
            "justify_items": null,
            "grid_row": null,
            "max_height": null,
            "align_content": null,
            "visibility": null,
            "align_self": null,
            "height": null,
            "min_height": null,
            "padding": null,
            "grid_auto_rows": null,
            "grid_gap": null,
            "max_width": null,
            "order": null,
            "_view_module_version": "1.2.0",
            "grid_template_areas": null,
            "object_position": null,
            "object_fit": null,
            "grid_auto_columns": null,
            "margin": null,
            "display": null,
            "left": null
          }
        },
        "5bb77a0f1b704e068a4ebb06fdb2ec09": {
          "model_module": "@jupyter-widgets/controls",
          "model_name": "DescriptionStyleModel",
          "state": {
            "_view_name": "StyleView",
            "_model_name": "DescriptionStyleModel",
            "description_width": "",
            "_view_module": "@jupyter-widgets/base",
            "_model_module_version": "1.5.0",
            "_view_count": null,
            "_view_module_version": "1.2.0",
            "_model_module": "@jupyter-widgets/controls"
          }
        },
        "dacf140fd72d49af85f7d7d02106bbec": {
          "model_module": "@jupyter-widgets/base",
          "model_name": "LayoutModel",
          "state": {
            "_view_name": "LayoutView",
            "grid_template_rows": null,
            "right": null,
            "justify_content": null,
            "_view_module": "@jupyter-widgets/base",
            "overflow": null,
            "_model_module_version": "1.2.0",
            "_view_count": null,
            "flex_flow": null,
            "width": null,
            "min_width": null,
            "border": null,
            "align_items": null,
            "bottom": null,
            "_model_module": "@jupyter-widgets/base",
            "top": null,
            "grid_column": null,
            "overflow_y": null,
            "overflow_x": null,
            "grid_auto_flow": null,
            "grid_area": null,
            "grid_template_columns": null,
            "flex": null,
            "_model_name": "LayoutModel",
            "justify_items": null,
            "grid_row": null,
            "max_height": null,
            "align_content": null,
            "visibility": null,
            "align_self": null,
            "height": null,
            "min_height": null,
            "padding": null,
            "grid_auto_rows": null,
            "grid_gap": null,
            "max_width": null,
            "order": null,
            "_view_module_version": "1.2.0",
            "grid_template_areas": null,
            "object_position": null,
            "object_fit": null,
            "grid_auto_columns": null,
            "margin": null,
            "display": null,
            "left": null
          }
        },
        "5595c04126c248bb8091d9f62d522fb0": {
          "model_module": "@jupyter-widgets/controls",
          "model_name": "HBoxModel",
          "state": {
            "_view_name": "HBoxView",
            "_dom_classes": [],
            "_model_name": "HBoxModel",
            "_view_module": "@jupyter-widgets/controls",
            "_model_module_version": "1.5.0",
            "_view_count": null,
            "_view_module_version": "1.5.0",
            "box_style": "",
            "layout": "IPY_MODEL_34999d017ed74173bcca911ef58c8f97",
            "_model_module": "@jupyter-widgets/controls",
            "children": [
              "IPY_MODEL_738e7482457b49ee95aeac01cea9d73b",
              "IPY_MODEL_29e63a5a0f0143a385e321085a1e2794"
            ]
          }
        },
        "34999d017ed74173bcca911ef58c8f97": {
          "model_module": "@jupyter-widgets/base",
          "model_name": "LayoutModel",
          "state": {
            "_view_name": "LayoutView",
            "grid_template_rows": null,
            "right": null,
            "justify_content": null,
            "_view_module": "@jupyter-widgets/base",
            "overflow": null,
            "_model_module_version": "1.2.0",
            "_view_count": null,
            "flex_flow": null,
            "width": null,
            "min_width": null,
            "border": null,
            "align_items": null,
            "bottom": null,
            "_model_module": "@jupyter-widgets/base",
            "top": null,
            "grid_column": null,
            "overflow_y": null,
            "overflow_x": null,
            "grid_auto_flow": null,
            "grid_area": null,
            "grid_template_columns": null,
            "flex": null,
            "_model_name": "LayoutModel",
            "justify_items": null,
            "grid_row": null,
            "max_height": null,
            "align_content": null,
            "visibility": null,
            "align_self": null,
            "height": null,
            "min_height": null,
            "padding": null,
            "grid_auto_rows": null,
            "grid_gap": null,
            "max_width": null,
            "order": null,
            "_view_module_version": "1.2.0",
            "grid_template_areas": null,
            "object_position": null,
            "object_fit": null,
            "grid_auto_columns": null,
            "margin": null,
            "display": null,
            "left": null
          }
        },
        "738e7482457b49ee95aeac01cea9d73b": {
          "model_module": "@jupyter-widgets/controls",
          "model_name": "FloatProgressModel",
          "state": {
            "_view_name": "ProgressView",
            "style": "IPY_MODEL_fcfd33ef675e42f7951935a2a391b218",
            "_dom_classes": [],
            "description": "Downloading: 100%",
            "_model_name": "FloatProgressModel",
            "bar_style": "success",
            "max": 28,
            "_view_module": "@jupyter-widgets/controls",
            "_model_module_version": "1.5.0",
            "value": 28,
            "_view_count": null,
            "_view_module_version": "1.5.0",
            "orientation": "horizontal",
            "min": 0,
            "description_tooltip": null,
            "_model_module": "@jupyter-widgets/controls",
            "layout": "IPY_MODEL_881383d5f188439f807de07f78a3531f"
          }
        },
        "29e63a5a0f0143a385e321085a1e2794": {
          "model_module": "@jupyter-widgets/controls",
          "model_name": "HTMLModel",
          "state": {
            "_view_name": "HTMLView",
            "style": "IPY_MODEL_4da73f95144d4dd786287a91ec312fcc",
            "_dom_classes": [],
            "description": "",
            "_model_name": "HTMLModel",
            "placeholder": "​",
            "_view_module": "@jupyter-widgets/controls",
            "_model_module_version": "1.5.0",
            "value": " 28.0/28.0 [00:01&lt;00:00, 23.4B/s]",
            "_view_count": null,
            "_view_module_version": "1.5.0",
            "description_tooltip": null,
            "_model_module": "@jupyter-widgets/controls",
            "layout": "IPY_MODEL_25e12509b16f49ce887dd44fd38134c1"
          }
        },
        "fcfd33ef675e42f7951935a2a391b218": {
          "model_module": "@jupyter-widgets/controls",
          "model_name": "ProgressStyleModel",
          "state": {
            "_view_name": "StyleView",
            "_model_name": "ProgressStyleModel",
            "description_width": "initial",
            "_view_module": "@jupyter-widgets/base",
            "_model_module_version": "1.5.0",
            "_view_count": null,
            "_view_module_version": "1.2.0",
            "bar_color": null,
            "_model_module": "@jupyter-widgets/controls"
          }
        },
        "881383d5f188439f807de07f78a3531f": {
          "model_module": "@jupyter-widgets/base",
          "model_name": "LayoutModel",
          "state": {
            "_view_name": "LayoutView",
            "grid_template_rows": null,
            "right": null,
            "justify_content": null,
            "_view_module": "@jupyter-widgets/base",
            "overflow": null,
            "_model_module_version": "1.2.0",
            "_view_count": null,
            "flex_flow": null,
            "width": null,
            "min_width": null,
            "border": null,
            "align_items": null,
            "bottom": null,
            "_model_module": "@jupyter-widgets/base",
            "top": null,
            "grid_column": null,
            "overflow_y": null,
            "overflow_x": null,
            "grid_auto_flow": null,
            "grid_area": null,
            "grid_template_columns": null,
            "flex": null,
            "_model_name": "LayoutModel",
            "justify_items": null,
            "grid_row": null,
            "max_height": null,
            "align_content": null,
            "visibility": null,
            "align_self": null,
            "height": null,
            "min_height": null,
            "padding": null,
            "grid_auto_rows": null,
            "grid_gap": null,
            "max_width": null,
            "order": null,
            "_view_module_version": "1.2.0",
            "grid_template_areas": null,
            "object_position": null,
            "object_fit": null,
            "grid_auto_columns": null,
            "margin": null,
            "display": null,
            "left": null
          }
        },
        "4da73f95144d4dd786287a91ec312fcc": {
          "model_module": "@jupyter-widgets/controls",
          "model_name": "DescriptionStyleModel",
          "state": {
            "_view_name": "StyleView",
            "_model_name": "DescriptionStyleModel",
            "description_width": "",
            "_view_module": "@jupyter-widgets/base",
            "_model_module_version": "1.5.0",
            "_view_count": null,
            "_view_module_version": "1.2.0",
            "_model_module": "@jupyter-widgets/controls"
          }
        },
        "25e12509b16f49ce887dd44fd38134c1": {
          "model_module": "@jupyter-widgets/base",
          "model_name": "LayoutModel",
          "state": {
            "_view_name": "LayoutView",
            "grid_template_rows": null,
            "right": null,
            "justify_content": null,
            "_view_module": "@jupyter-widgets/base",
            "overflow": null,
            "_model_module_version": "1.2.0",
            "_view_count": null,
            "flex_flow": null,
            "width": null,
            "min_width": null,
            "border": null,
            "align_items": null,
            "bottom": null,
            "_model_module": "@jupyter-widgets/base",
            "top": null,
            "grid_column": null,
            "overflow_y": null,
            "overflow_x": null,
            "grid_auto_flow": null,
            "grid_area": null,
            "grid_template_columns": null,
            "flex": null,
            "_model_name": "LayoutModel",
            "justify_items": null,
            "grid_row": null,
            "max_height": null,
            "align_content": null,
            "visibility": null,
            "align_self": null,
            "height": null,
            "min_height": null,
            "padding": null,
            "grid_auto_rows": null,
            "grid_gap": null,
            "max_width": null,
            "order": null,
            "_view_module_version": "1.2.0",
            "grid_template_areas": null,
            "object_position": null,
            "object_fit": null,
            "grid_auto_columns": null,
            "margin": null,
            "display": null,
            "left": null
          }
        },
        "7f39f11335164e27b4bc30a8577152f7": {
          "model_module": "@jupyter-widgets/controls",
          "model_name": "HBoxModel",
          "state": {
            "_view_name": "HBoxView",
            "_dom_classes": [],
            "_model_name": "HBoxModel",
            "_view_module": "@jupyter-widgets/controls",
            "_model_module_version": "1.5.0",
            "_view_count": null,
            "_view_module_version": "1.5.0",
            "box_style": "",
            "layout": "IPY_MODEL_fdb6ff8e95eb4086a857a9f55ad47085",
            "_model_module": "@jupyter-widgets/controls",
            "children": [
              "IPY_MODEL_4bc71991682a438a8a61219b583bde4b",
              "IPY_MODEL_7ce4bbfc017f4dd08c893d738cfe7413"
            ]
          }
        },
        "fdb6ff8e95eb4086a857a9f55ad47085": {
          "model_module": "@jupyter-widgets/base",
          "model_name": "LayoutModel",
          "state": {
            "_view_name": "LayoutView",
            "grid_template_rows": null,
            "right": null,
            "justify_content": null,
            "_view_module": "@jupyter-widgets/base",
            "overflow": null,
            "_model_module_version": "1.2.0",
            "_view_count": null,
            "flex_flow": null,
            "width": null,
            "min_width": null,
            "border": null,
            "align_items": null,
            "bottom": null,
            "_model_module": "@jupyter-widgets/base",
            "top": null,
            "grid_column": null,
            "overflow_y": null,
            "overflow_x": null,
            "grid_auto_flow": null,
            "grid_area": null,
            "grid_template_columns": null,
            "flex": null,
            "_model_name": "LayoutModel",
            "justify_items": null,
            "grid_row": null,
            "max_height": null,
            "align_content": null,
            "visibility": null,
            "align_self": null,
            "height": null,
            "min_height": null,
            "padding": null,
            "grid_auto_rows": null,
            "grid_gap": null,
            "max_width": null,
            "order": null,
            "_view_module_version": "1.2.0",
            "grid_template_areas": null,
            "object_position": null,
            "object_fit": null,
            "grid_auto_columns": null,
            "margin": null,
            "display": null,
            "left": null
          }
        },
        "4bc71991682a438a8a61219b583bde4b": {
          "model_module": "@jupyter-widgets/controls",
          "model_name": "FloatProgressModel",
          "state": {
            "_view_name": "ProgressView",
            "style": "IPY_MODEL_497be2d6cb664f3d9a3ca40486264b22",
            "_dom_classes": [],
            "description": "Downloading: 100%",
            "_model_name": "FloatProgressModel",
            "bar_style": "success",
            "max": 466062,
            "_view_module": "@jupyter-widgets/controls",
            "_model_module_version": "1.5.0",
            "value": 466062,
            "_view_count": null,
            "_view_module_version": "1.5.0",
            "orientation": "horizontal",
            "min": 0,
            "description_tooltip": null,
            "_model_module": "@jupyter-widgets/controls",
            "layout": "IPY_MODEL_efa970d61832437bb46b96d4d14a1d58"
          }
        },
        "7ce4bbfc017f4dd08c893d738cfe7413": {
          "model_module": "@jupyter-widgets/controls",
          "model_name": "HTMLModel",
          "state": {
            "_view_name": "HTMLView",
            "style": "IPY_MODEL_d6e107e2b8ec4cb0a2c1f49df026e16c",
            "_dom_classes": [],
            "description": "",
            "_model_name": "HTMLModel",
            "placeholder": "​",
            "_view_module": "@jupyter-widgets/controls",
            "_model_module_version": "1.5.0",
            "value": " 466k/466k [00:00&lt;00:00, 501kB/s]",
            "_view_count": null,
            "_view_module_version": "1.5.0",
            "description_tooltip": null,
            "_model_module": "@jupyter-widgets/controls",
            "layout": "IPY_MODEL_be1851a76ebc4cfc9a740b61384eebe1"
          }
        },
        "497be2d6cb664f3d9a3ca40486264b22": {
          "model_module": "@jupyter-widgets/controls",
          "model_name": "ProgressStyleModel",
          "state": {
            "_view_name": "StyleView",
            "_model_name": "ProgressStyleModel",
            "description_width": "initial",
            "_view_module": "@jupyter-widgets/base",
            "_model_module_version": "1.5.0",
            "_view_count": null,
            "_view_module_version": "1.2.0",
            "bar_color": null,
            "_model_module": "@jupyter-widgets/controls"
          }
        },
        "efa970d61832437bb46b96d4d14a1d58": {
          "model_module": "@jupyter-widgets/base",
          "model_name": "LayoutModel",
          "state": {
            "_view_name": "LayoutView",
            "grid_template_rows": null,
            "right": null,
            "justify_content": null,
            "_view_module": "@jupyter-widgets/base",
            "overflow": null,
            "_model_module_version": "1.2.0",
            "_view_count": null,
            "flex_flow": null,
            "width": null,
            "min_width": null,
            "border": null,
            "align_items": null,
            "bottom": null,
            "_model_module": "@jupyter-widgets/base",
            "top": null,
            "grid_column": null,
            "overflow_y": null,
            "overflow_x": null,
            "grid_auto_flow": null,
            "grid_area": null,
            "grid_template_columns": null,
            "flex": null,
            "_model_name": "LayoutModel",
            "justify_items": null,
            "grid_row": null,
            "max_height": null,
            "align_content": null,
            "visibility": null,
            "align_self": null,
            "height": null,
            "min_height": null,
            "padding": null,
            "grid_auto_rows": null,
            "grid_gap": null,
            "max_width": null,
            "order": null,
            "_view_module_version": "1.2.0",
            "grid_template_areas": null,
            "object_position": null,
            "object_fit": null,
            "grid_auto_columns": null,
            "margin": null,
            "display": null,
            "left": null
          }
        },
        "d6e107e2b8ec4cb0a2c1f49df026e16c": {
          "model_module": "@jupyter-widgets/controls",
          "model_name": "DescriptionStyleModel",
          "state": {
            "_view_name": "StyleView",
            "_model_name": "DescriptionStyleModel",
            "description_width": "",
            "_view_module": "@jupyter-widgets/base",
            "_model_module_version": "1.5.0",
            "_view_count": null,
            "_view_module_version": "1.2.0",
            "_model_module": "@jupyter-widgets/controls"
          }
        },
        "be1851a76ebc4cfc9a740b61384eebe1": {
          "model_module": "@jupyter-widgets/base",
          "model_name": "LayoutModel",
          "state": {
            "_view_name": "LayoutView",
            "grid_template_rows": null,
            "right": null,
            "justify_content": null,
            "_view_module": "@jupyter-widgets/base",
            "overflow": null,
            "_model_module_version": "1.2.0",
            "_view_count": null,
            "flex_flow": null,
            "width": null,
            "min_width": null,
            "border": null,
            "align_items": null,
            "bottom": null,
            "_model_module": "@jupyter-widgets/base",
            "top": null,
            "grid_column": null,
            "overflow_y": null,
            "overflow_x": null,
            "grid_auto_flow": null,
            "grid_area": null,
            "grid_template_columns": null,
            "flex": null,
            "_model_name": "LayoutModel",
            "justify_items": null,
            "grid_row": null,
            "max_height": null,
            "align_content": null,
            "visibility": null,
            "align_self": null,
            "height": null,
            "min_height": null,
            "padding": null,
            "grid_auto_rows": null,
            "grid_gap": null,
            "max_width": null,
            "order": null,
            "_view_module_version": "1.2.0",
            "grid_template_areas": null,
            "object_position": null,
            "object_fit": null,
            "grid_auto_columns": null,
            "margin": null,
            "display": null,
            "left": null
          }
        },
        "078e89a76f344e47a52d15afa585335a": {
          "model_module": "@jupyter-widgets/controls",
          "model_name": "HBoxModel",
          "state": {
            "_view_name": "HBoxView",
            "_dom_classes": [],
            "_model_name": "HBoxModel",
            "_view_module": "@jupyter-widgets/controls",
            "_model_module_version": "1.5.0",
            "_view_count": null,
            "_view_module_version": "1.5.0",
            "box_style": "",
            "layout": "IPY_MODEL_6189a40dd9d94240b677aceb9e6bc59b",
            "_model_module": "@jupyter-widgets/controls",
            "children": [
              "IPY_MODEL_6cf18fc37743485791f90a848bc8063f",
              "IPY_MODEL_879bb7cbd3864fb8a969bf8563e080e2"
            ]
          }
        },
        "6189a40dd9d94240b677aceb9e6bc59b": {
          "model_module": "@jupyter-widgets/base",
          "model_name": "LayoutModel",
          "state": {
            "_view_name": "LayoutView",
            "grid_template_rows": null,
            "right": null,
            "justify_content": null,
            "_view_module": "@jupyter-widgets/base",
            "overflow": null,
            "_model_module_version": "1.2.0",
            "_view_count": null,
            "flex_flow": null,
            "width": null,
            "min_width": null,
            "border": null,
            "align_items": null,
            "bottom": null,
            "_model_module": "@jupyter-widgets/base",
            "top": null,
            "grid_column": null,
            "overflow_y": null,
            "overflow_x": null,
            "grid_auto_flow": null,
            "grid_area": null,
            "grid_template_columns": null,
            "flex": null,
            "_model_name": "LayoutModel",
            "justify_items": null,
            "grid_row": null,
            "max_height": null,
            "align_content": null,
            "visibility": null,
            "align_self": null,
            "height": null,
            "min_height": null,
            "padding": null,
            "grid_auto_rows": null,
            "grid_gap": null,
            "max_width": null,
            "order": null,
            "_view_module_version": "1.2.0",
            "grid_template_areas": null,
            "object_position": null,
            "object_fit": null,
            "grid_auto_columns": null,
            "margin": null,
            "display": null,
            "left": null
          }
        },
        "6cf18fc37743485791f90a848bc8063f": {
          "model_module": "@jupyter-widgets/controls",
          "model_name": "FloatProgressModel",
          "state": {
            "_view_name": "ProgressView",
            "style": "IPY_MODEL_a4afb5db57f84808bdcc7f3c6bb99213",
            "_dom_classes": [],
            "description": "Downloading: 100%",
            "_model_name": "FloatProgressModel",
            "bar_style": "success",
            "max": 440473133,
            "_view_module": "@jupyter-widgets/controls",
            "_model_module_version": "1.5.0",
            "value": 440473133,
            "_view_count": null,
            "_view_module_version": "1.5.0",
            "orientation": "horizontal",
            "min": 0,
            "description_tooltip": null,
            "_model_module": "@jupyter-widgets/controls",
            "layout": "IPY_MODEL_a676c89eea5244e09e76382919b46632"
          }
        },
        "879bb7cbd3864fb8a969bf8563e080e2": {
          "model_module": "@jupyter-widgets/controls",
          "model_name": "HTMLModel",
          "state": {
            "_view_name": "HTMLView",
            "style": "IPY_MODEL_895efcd536f14ff39d2e870b5c2a9184",
            "_dom_classes": [],
            "description": "",
            "_model_name": "HTMLModel",
            "placeholder": "​",
            "_view_module": "@jupyter-widgets/controls",
            "_model_module_version": "1.5.0",
            "value": " 440M/440M [00:32&lt;00:00, 13.4MB/s]",
            "_view_count": null,
            "_view_module_version": "1.5.0",
            "description_tooltip": null,
            "_model_module": "@jupyter-widgets/controls",
            "layout": "IPY_MODEL_20ff3227d8de4ad7aae09834e46fb8d8"
          }
        },
        "a4afb5db57f84808bdcc7f3c6bb99213": {
          "model_module": "@jupyter-widgets/controls",
          "model_name": "ProgressStyleModel",
          "state": {
            "_view_name": "StyleView",
            "_model_name": "ProgressStyleModel",
            "description_width": "initial",
            "_view_module": "@jupyter-widgets/base",
            "_model_module_version": "1.5.0",
            "_view_count": null,
            "_view_module_version": "1.2.0",
            "bar_color": null,
            "_model_module": "@jupyter-widgets/controls"
          }
        },
        "a676c89eea5244e09e76382919b46632": {
          "model_module": "@jupyter-widgets/base",
          "model_name": "LayoutModel",
          "state": {
            "_view_name": "LayoutView",
            "grid_template_rows": null,
            "right": null,
            "justify_content": null,
            "_view_module": "@jupyter-widgets/base",
            "overflow": null,
            "_model_module_version": "1.2.0",
            "_view_count": null,
            "flex_flow": null,
            "width": null,
            "min_width": null,
            "border": null,
            "align_items": null,
            "bottom": null,
            "_model_module": "@jupyter-widgets/base",
            "top": null,
            "grid_column": null,
            "overflow_y": null,
            "overflow_x": null,
            "grid_auto_flow": null,
            "grid_area": null,
            "grid_template_columns": null,
            "flex": null,
            "_model_name": "LayoutModel",
            "justify_items": null,
            "grid_row": null,
            "max_height": null,
            "align_content": null,
            "visibility": null,
            "align_self": null,
            "height": null,
            "min_height": null,
            "padding": null,
            "grid_auto_rows": null,
            "grid_gap": null,
            "max_width": null,
            "order": null,
            "_view_module_version": "1.2.0",
            "grid_template_areas": null,
            "object_position": null,
            "object_fit": null,
            "grid_auto_columns": null,
            "margin": null,
            "display": null,
            "left": null
          }
        },
        "895efcd536f14ff39d2e870b5c2a9184": {
          "model_module": "@jupyter-widgets/controls",
          "model_name": "DescriptionStyleModel",
          "state": {
            "_view_name": "StyleView",
            "_model_name": "DescriptionStyleModel",
            "description_width": "",
            "_view_module": "@jupyter-widgets/base",
            "_model_module_version": "1.5.0",
            "_view_count": null,
            "_view_module_version": "1.2.0",
            "_model_module": "@jupyter-widgets/controls"
          }
        },
        "20ff3227d8de4ad7aae09834e46fb8d8": {
          "model_module": "@jupyter-widgets/base",
          "model_name": "LayoutModel",
          "state": {
            "_view_name": "LayoutView",
            "grid_template_rows": null,
            "right": null,
            "justify_content": null,
            "_view_module": "@jupyter-widgets/base",
            "overflow": null,
            "_model_module_version": "1.2.0",
            "_view_count": null,
            "flex_flow": null,
            "width": null,
            "min_width": null,
            "border": null,
            "align_items": null,
            "bottom": null,
            "_model_module": "@jupyter-widgets/base",
            "top": null,
            "grid_column": null,
            "overflow_y": null,
            "overflow_x": null,
            "grid_auto_flow": null,
            "grid_area": null,
            "grid_template_columns": null,
            "flex": null,
            "_model_name": "LayoutModel",
            "justify_items": null,
            "grid_row": null,
            "max_height": null,
            "align_content": null,
            "visibility": null,
            "align_self": null,
            "height": null,
            "min_height": null,
            "padding": null,
            "grid_auto_rows": null,
            "grid_gap": null,
            "max_width": null,
            "order": null,
            "_view_module_version": "1.2.0",
            "grid_template_areas": null,
            "object_position": null,
            "object_fit": null,
            "grid_auto_columns": null,
            "margin": null,
            "display": null,
            "left": null
          }
        }
      }
    }
  },
  "cells": [
    {
      "cell_type": "markdown",
      "metadata": {
        "id": "view-in-github",
        "colab_type": "text"
      },
      "source": [
        "<a href=\"https://colab.research.google.com/github/GYIKOO/UCIMLHackathon21/blob/main/RelationPrediction.ipynb\" target=\"_parent\"><img src=\"https://colab.research.google.com/assets/colab-badge.svg\" alt=\"Open In Colab\"/></a>"
      ]
    },
    {
      "cell_type": "code",
      "metadata": {
        "id": "lQZJ89zPlDeG"
      },
      "source": [
        "!pip install transformers"
      ],
      "execution_count": null,
      "outputs": []
    },
    {
      "cell_type": "code",
      "metadata": {
        "id": "iyTGqaxwk6Ei"
      },
      "source": [
        "from transformers import BertTokenizer, BertForSequenceClassification, AdamW, BertConfig\n",
        "import torch\n",
        "from torch.utils.data import TensorDataset, DataLoader, RandomSampler, SequentialSampler\n",
        "import pandas as pd\n",
        "import numpy as np\n",
        "\n",
        "from transformers import get_linear_schedule_with_warmup\n",
        "import time\n",
        "import datetime\n",
        "import random\n",
        "from keras.preprocessing.sequence import pad_sequences\n",
        "from pathlib import Path\n",
        "import matplotlib.pyplot as plt"
      ],
      "execution_count": 2,
      "outputs": []
    },
    {
      "cell_type": "code",
      "metadata": {
        "id": "zBE8VlH69QXd"
      },
      "source": [
        "# Config\n",
        "save_model = Path('bertmodel.h5')\n",
        "\n",
        "seed_val = 1 # random seed for training\n",
        "\n",
        "MAX_LEN = 32\n",
        "batch_size = 16\n",
        "\n",
        "epochs = 1\n",
        "checkpoint = 2\n",
        "\n",
        "n_classes = 3 # num of labels"
      ],
      "execution_count": 135,
      "outputs": []
    },
    {
      "cell_type": "code",
      "metadata": {
        "id": "FogmKgM0VrVR"
      },
      "source": [
        "!pip install -U -q PyDrive\n",
        "from pydrive.auth import GoogleAuth\n",
        "from pydrive.drive import GoogleDrive\n",
        "from google.colab import auth\n",
        "from oauth2client.client import GoogleCredentials\n",
        "# Authenticate and create the PyDrive client.\n",
        "auth.authenticate_user()\n",
        "gauth = GoogleAuth()\n",
        "gauth.credentials = GoogleCredentials.get_application_default()\n",
        "drive = GoogleDrive(gauth)"
      ],
      "execution_count": 4,
      "outputs": []
    },
    {
      "cell_type": "code",
      "metadata": {
        "id": "qeGWsK8-WSAs"
      },
      "source": [
        "file_id = \"1sDoHyJuEGe4R3rkgWp9r0R1zHWXAYGbNjwuuckQDthg\"\n",
        "downloaded = drive.CreateFile({'id': file_id})\n",
        "downloaded.GetContentFile('covid_lies.csv', mimetype='text/csv')"
      ],
      "execution_count": 5,
      "outputs": []
    },
    {
      "cell_type": "code",
      "metadata": {
        "id": "lkllF9eFk9KC",
        "colab": {
          "base_uri": "https://localhost:8080/",
          "height": 272
        },
        "outputId": "972352b5-7f36-481f-c83b-83fec20ea51a"
      },
      "source": [
        "df = pd.read_csv('covid_lies.csv')\n",
        "df.head()"
      ],
      "execution_count": 6,
      "outputs": [
        {
          "output_type": "execute_result",
          "data": {
            "text/html": [
              "<div>\n",
              "<style scoped>\n",
              "    .dataframe tbody tr th:only-of-type {\n",
              "        vertical-align: middle;\n",
              "    }\n",
              "\n",
              "    .dataframe tbody tr th {\n",
              "        vertical-align: top;\n",
              "    }\n",
              "\n",
              "    .dataframe thead th {\n",
              "        text-align: right;\n",
              "    }\n",
              "</style>\n",
              "<table border=\"1\" class=\"dataframe\">\n",
              "  <thead>\n",
              "    <tr style=\"text-align: right;\">\n",
              "      <th></th>\n",
              "      <th>misconception_id</th>\n",
              "      <th>misconception</th>\n",
              "      <th>tweet</th>\n",
              "      <th>tweet_id</th>\n",
              "      <th>label</th>\n",
              "    </tr>\n",
              "  </thead>\n",
              "  <tbody>\n",
              "    <tr>\n",
              "      <th>0</th>\n",
              "      <td>3</td>\n",
              "      <td>Coronavirus is genetically engineered.</td>\n",
              "      <td>How the COVID-19 outbreak is changing global p...</td>\n",
              "      <td>1.233965e+18</td>\n",
              "      <td>na</td>\n",
              "    </tr>\n",
              "    <tr>\n",
              "      <th>1</th>\n",
              "      <td>30</td>\n",
              "      <td>Blowing conch shells destroys coronavirus pote...</td>\n",
              "      <td>Getting coronavirus and then coughing on peopl...</td>\n",
              "      <td>1.233908e+18</td>\n",
              "      <td>na</td>\n",
              "    </tr>\n",
              "    <tr>\n",
              "      <th>2</th>\n",
              "      <td>57</td>\n",
              "      <td>Swans and dolphins swimming in Venice canals f...</td>\n",
              "      <td>Disturbing letter about life in COVID-19 ward ...</td>\n",
              "      <td>1.233910e+18</td>\n",
              "      <td>na</td>\n",
              "    </tr>\n",
              "    <tr>\n",
              "      <th>3</th>\n",
              "      <td>22</td>\n",
              "      <td>Cocaine cures coronavirus.</td>\n",
              "      <td>How to prevent corona virus?🤔 Use cowdung cake...</td>\n",
              "      <td>1.233948e+18</td>\n",
              "      <td>na</td>\n",
              "    </tr>\n",
              "    <tr>\n",
              "      <th>4</th>\n",
              "      <td>32</td>\n",
              "      <td>Observing janata curfew will result in the red...</td>\n",
              "      <td>This is concerning - They must self-insure for...</td>\n",
              "      <td>1.233937e+18</td>\n",
              "      <td>na</td>\n",
              "    </tr>\n",
              "  </tbody>\n",
              "</table>\n",
              "</div>"
            ],
            "text/plain": [
              "   misconception_id  ... label\n",
              "0                 3  ...    na\n",
              "1                30  ...    na\n",
              "2                57  ...    na\n",
              "3                22  ...    na\n",
              "4                32  ...    na\n",
              "\n",
              "[5 rows x 5 columns]"
            ]
          },
          "metadata": {
            "tags": []
          },
          "execution_count": 6
        }
      ]
    },
    {
      "cell_type": "markdown",
      "metadata": {
        "id": "-dFi0fLqCNti"
      },
      "source": [
        "# Sample"
      ]
    },
    {
      "cell_type": "markdown",
      "metadata": {
        "id": "tcG1nJPrXyED"
      },
      "source": [
        "The table of misconceptions."
      ]
    },
    {
      "cell_type": "code",
      "metadata": {
        "colab": {
          "base_uri": "https://localhost:8080/",
          "height": 419
        },
        "id": "sd7dvQaO88VS",
        "outputId": "95b9e7fa-c7eb-47c2-cfe0-aa05ecbba4e5"
      },
      "source": [
        "miscon_df = df[['misconception_id','misconception']].drop_duplicates(subset='misconception_id').sort_values(by='misconception_id').reset_index(drop=True)\n",
        "#mini_mdf = miscon_df[:30].reset_index(drop=True)\n",
        "mini_mdf = miscon_df\n",
        "mini_mdf"
      ],
      "execution_count": 10,
      "outputs": [
        {
          "output_type": "execute_result",
          "data": {
            "text/html": [
              "<div>\n",
              "<style scoped>\n",
              "    .dataframe tbody tr th:only-of-type {\n",
              "        vertical-align: middle;\n",
              "    }\n",
              "\n",
              "    .dataframe tbody tr th {\n",
              "        vertical-align: top;\n",
              "    }\n",
              "\n",
              "    .dataframe thead th {\n",
              "        text-align: right;\n",
              "    }\n",
              "</style>\n",
              "<table border=\"1\" class=\"dataframe\">\n",
              "  <thead>\n",
              "    <tr style=\"text-align: right;\">\n",
              "      <th></th>\n",
              "      <th>misconception_id</th>\n",
              "      <th>misconception</th>\n",
              "    </tr>\n",
              "  </thead>\n",
              "  <tbody>\n",
              "    <tr>\n",
              "      <th>0</th>\n",
              "      <td>1</td>\n",
              "      <td>A person can tell if they have coronavirus or ...</td>\n",
              "    </tr>\n",
              "    <tr>\n",
              "      <th>1</th>\n",
              "      <td>2</td>\n",
              "      <td>Drinking large amounts of water will protect a...</td>\n",
              "    </tr>\n",
              "    <tr>\n",
              "      <th>2</th>\n",
              "      <td>3</td>\n",
              "      <td>Coronavirus is genetically engineered.</td>\n",
              "    </tr>\n",
              "    <tr>\n",
              "      <th>3</th>\n",
              "      <td>4</td>\n",
              "      <td>Dean Koontz predicted the pandemic in his 1981...</td>\n",
              "    </tr>\n",
              "    <tr>\n",
              "      <th>4</th>\n",
              "      <td>5</td>\n",
              "      <td>The first person infected is a researcher name...</td>\n",
              "    </tr>\n",
              "    <tr>\n",
              "      <th>...</th>\n",
              "      <td>...</td>\n",
              "      <td>...</td>\n",
              "    </tr>\n",
              "    <tr>\n",
              "      <th>57</th>\n",
              "      <td>58</td>\n",
              "      <td>Water polution decreased in Venice canals foll...</td>\n",
              "    </tr>\n",
              "    <tr>\n",
              "      <th>58</th>\n",
              "      <td>59</td>\n",
              "      <td>A Malabar civet was spotted walking the street...</td>\n",
              "    </tr>\n",
              "    <tr>\n",
              "      <th>59</th>\n",
              "      <td>60</td>\n",
              "      <td>A pod of humpback whales returned to the Arabi...</td>\n",
              "    </tr>\n",
              "    <tr>\n",
              "      <th>60</th>\n",
              "      <td>61</td>\n",
              "      <td>Lions were freed to keep people off the street...</td>\n",
              "    </tr>\n",
              "    <tr>\n",
              "      <th>61</th>\n",
              "      <td>62</td>\n",
              "      <td>Bank of England £20 banknotes contain a pictur...</td>\n",
              "    </tr>\n",
              "  </tbody>\n",
              "</table>\n",
              "<p>62 rows × 2 columns</p>\n",
              "</div>"
            ],
            "text/plain": [
              "    misconception_id                                      misconception\n",
              "0                  1  A person can tell if they have coronavirus or ...\n",
              "1                  2  Drinking large amounts of water will protect a...\n",
              "2                  3             Coronavirus is genetically engineered.\n",
              "3                  4  Dean Koontz predicted the pandemic in his 1981...\n",
              "4                  5  The first person infected is a researcher name...\n",
              "..               ...                                                ...\n",
              "57                58  Water polution decreased in Venice canals foll...\n",
              "58                59  A Malabar civet was spotted walking the street...\n",
              "59                60  A pod of humpback whales returned to the Arabi...\n",
              "60                61  Lions were freed to keep people off the street...\n",
              "61                62  Bank of England £20 banknotes contain a pictur...\n",
              "\n",
              "[62 rows x 2 columns]"
            ]
          },
          "metadata": {
            "tags": []
          },
          "execution_count": 10
        }
      ]
    },
    {
      "cell_type": "markdown",
      "metadata": {
        "id": "_V7quvzyX5kk"
      },
      "source": [
        "The table of tweets."
      ]
    },
    {
      "cell_type": "code",
      "metadata": {
        "colab": {
          "base_uri": "https://localhost:8080/",
          "height": 419
        },
        "id": "-tq1MACe90ee",
        "outputId": "a879233e-e58b-4334-84b3-1874df8793ae"
      },
      "source": [
        "tweets_df = df[['tweet_id','tweet']].drop_duplicates(subset='tweet').sort_values(by='tweet_id')\n",
        "#mini_tdf = tweets_df[:30].reset_index(drop=True)\n",
        "mini_tdf = tweets_df\n",
        "mini_tdf = tweets_df.assign(tweet_index = [i for i in range(1,len(mini_tdf)+1)])\n",
        "mini_tdf"
      ],
      "execution_count": 9,
      "outputs": [
        {
          "output_type": "execute_result",
          "data": {
            "text/html": [
              "<div>\n",
              "<style scoped>\n",
              "    .dataframe tbody tr th:only-of-type {\n",
              "        vertical-align: middle;\n",
              "    }\n",
              "\n",
              "    .dataframe tbody tr th {\n",
              "        vertical-align: top;\n",
              "    }\n",
              "\n",
              "    .dataframe thead th {\n",
              "        text-align: right;\n",
              "    }\n",
              "</style>\n",
              "<table border=\"1\" class=\"dataframe\">\n",
              "  <thead>\n",
              "    <tr style=\"text-align: right;\">\n",
              "      <th></th>\n",
              "      <th>tweet_id</th>\n",
              "      <th>tweet</th>\n",
              "      <th>tweet_index</th>\n",
              "    </tr>\n",
              "  </thead>\n",
              "  <tbody>\n",
              "    <tr>\n",
              "      <th>3212</th>\n",
              "      <td>1.230000e+18</td>\n",
              "      <td>How long does the new coronavirus remain activ...</td>\n",
              "      <td>1</td>\n",
              "    </tr>\n",
              "    <tr>\n",
              "      <th>3827</th>\n",
              "      <td>1.230000e+18</td>\n",
              "      <td>Millimetre wave technology will kill an indivi...</td>\n",
              "      <td>2</td>\n",
              "    </tr>\n",
              "    <tr>\n",
              "      <th>1146</th>\n",
              "      <td>1.230000e+18</td>\n",
              "      <td>How do we strengthen our immune systems to fig...</td>\n",
              "      <td>3</td>\n",
              "    </tr>\n",
              "    <tr>\n",
              "      <th>5497</th>\n",
              "      <td>1.233905e+18</td>\n",
              "      <td>When it comes to coronavirus, who is the most ...</td>\n",
              "      <td>4</td>\n",
              "    </tr>\n",
              "    <tr>\n",
              "      <th>1624</th>\n",
              "      <td>1.233905e+18</td>\n",
              "      <td>#Coronavirus and China's Tax Response\\n\\n@USER...</td>\n",
              "      <td>5</td>\n",
              "    </tr>\n",
              "    <tr>\n",
              "      <th>...</th>\n",
              "      <td>...</td>\n",
              "      <td>...</td>\n",
              "      <td>...</td>\n",
              "    </tr>\n",
              "    <tr>\n",
              "      <th>2262</th>\n",
              "      <td>1.233998e+18</td>\n",
              "      <td>Forget the mask. Here's how to protect yoursel...</td>\n",
              "      <td>4342</td>\n",
              "    </tr>\n",
              "    <tr>\n",
              "      <th>3303</th>\n",
              "      <td>1.233998e+18</td>\n",
              "      <td>Man Who Returned From Malaysia, Dies In Kerala...</td>\n",
              "      <td>4343</td>\n",
              "    </tr>\n",
              "    <tr>\n",
              "      <th>4058</th>\n",
              "      <td>1.233998e+18</td>\n",
              "      <td>.@miafarrow Dug up this report on exquisite ki...</td>\n",
              "      <td>4344</td>\n",
              "    </tr>\n",
              "    <tr>\n",
              "      <th>4385</th>\n",
              "      <td>1.233998e+18</td>\n",
              "      <td>Washington state health officials are investig...</td>\n",
              "      <td>4345</td>\n",
              "    </tr>\n",
              "    <tr>\n",
              "      <th>3577</th>\n",
              "      <td>1.233998e+18</td>\n",
              "      <td>MAGA hats made in China may be infected with t...</td>\n",
              "      <td>4346</td>\n",
              "    </tr>\n",
              "  </tbody>\n",
              "</table>\n",
              "<p>4346 rows × 3 columns</p>\n",
              "</div>"
            ],
            "text/plain": [
              "          tweet_id  ... tweet_index\n",
              "3212  1.230000e+18  ...           1\n",
              "3827  1.230000e+18  ...           2\n",
              "1146  1.230000e+18  ...           3\n",
              "5497  1.233905e+18  ...           4\n",
              "1624  1.233905e+18  ...           5\n",
              "...            ...  ...         ...\n",
              "2262  1.233998e+18  ...        4342\n",
              "3303  1.233998e+18  ...        4343\n",
              "4058  1.233998e+18  ...        4344\n",
              "4385  1.233998e+18  ...        4345\n",
              "3577  1.233998e+18  ...        4346\n",
              "\n",
              "[4346 rows x 3 columns]"
            ]
          },
          "metadata": {
            "tags": []
          },
          "execution_count": 9
        }
      ]
    },
    {
      "cell_type": "markdown",
      "metadata": {
        "id": "_Ej9WB4ECc7N"
      },
      "source": [
        "# Words Embedding"
      ]
    },
    {
      "cell_type": "code",
      "metadata": {
        "id": "bbeWLtTfCepz"
      },
      "source": [
        "def vectorize(text,MAX_LEN=MAX_LEN):\n",
        "    tokenizer = BertTokenizer.from_pretrained('bert-base-uncased', do_lower_case=True)\n",
        "\n",
        "    input_ids = []\n",
        "    for t in text:\n",
        "        # so basically encode tokenizing , mapping sentences to thier token ids after adding special tokens.\n",
        "        encoded_sent = tokenizer.encode(\n",
        "            t,  # Sentence which are encoding.\n",
        "            add_special_tokens=True,  # Adding special tokens '[CLS]' and '[SEP]'\n",
        "        )\n",
        "        input_ids.append(encoded_sent)\n",
        "\n",
        "    input_ids = pad_sequences(input_ids, maxlen=MAX_LEN , truncating=\"post\", padding=\"post\")\n",
        "\n",
        "    attention_masks = []\n",
        "    for sent in input_ids:\n",
        "        # Generating attention mask for sentences.\n",
        "        #   - when there is 0 present as token id we are going to set mask as 0.\n",
        "        #   - we are going to set mask 1 for all non-zero positive input id.\n",
        "        att_mask = [int(token_id > 0) for token_id in sent]\n",
        "\n",
        "        attention_masks.append(att_mask)\n",
        "\n",
        "    return attention_masks, input_ids"
      ],
      "execution_count": 11,
      "outputs": []
    },
    {
      "cell_type": "code",
      "metadata": {
        "id": "cvT6F6fCD3I3",
        "colab": {
          "base_uri": "https://localhost:8080/",
          "height": 164,
          "referenced_widgets": [
            "cb63ab350d9e4a64bb90ce34535bf3b5",
            "18e5dd8384cf47c78ed872b3d53ef2a7",
            "c84c359b6a8c44f99dc06641e584ca03",
            "c9a6027cfea44e89acffddda8e6fd9e6",
            "d9539eb3681a43eabbe633c87c5c07b8",
            "390635517fd74e31be7fda7258c158ff",
            "5bb77a0f1b704e068a4ebb06fdb2ec09",
            "dacf140fd72d49af85f7d7d02106bbec",
            "5595c04126c248bb8091d9f62d522fb0",
            "34999d017ed74173bcca911ef58c8f97",
            "738e7482457b49ee95aeac01cea9d73b",
            "29e63a5a0f0143a385e321085a1e2794",
            "fcfd33ef675e42f7951935a2a391b218",
            "881383d5f188439f807de07f78a3531f",
            "4da73f95144d4dd786287a91ec312fcc",
            "25e12509b16f49ce887dd44fd38134c1",
            "7f39f11335164e27b4bc30a8577152f7",
            "fdb6ff8e95eb4086a857a9f55ad47085",
            "4bc71991682a438a8a61219b583bde4b",
            "7ce4bbfc017f4dd08c893d738cfe7413",
            "497be2d6cb664f3d9a3ca40486264b22",
            "efa970d61832437bb46b96d4d14a1d58",
            "d6e107e2b8ec4cb0a2c1f49df026e16c",
            "be1851a76ebc4cfc9a740b61384eebe1"
          ]
        },
        "outputId": "80e7065e-1473-4f65-fba0-55bb0dbe3bb0"
      },
      "source": [
        "m_text = miscon_df.misconception.values\n",
        "m_attention_mask, m_input_id = vectorize(m_text)\n",
        "\n",
        "t_text = tweets_df.tweet.values\n",
        "t_attention_mask, t_input_id = vectorize(t_text,64)"
      ],
      "execution_count": 12,
      "outputs": [
        {
          "output_type": "display_data",
          "data": {
            "application/vnd.jupyter.widget-view+json": {
              "model_id": "cb63ab350d9e4a64bb90ce34535bf3b5",
              "version_minor": 0,
              "version_major": 2
            },
            "text/plain": [
              "HBox(children=(FloatProgress(value=0.0, description='Downloading', max=231508.0, style=ProgressStyle(descripti…"
            ]
          },
          "metadata": {
            "tags": []
          }
        },
        {
          "output_type": "stream",
          "text": [
            "\n"
          ],
          "name": "stdout"
        },
        {
          "output_type": "display_data",
          "data": {
            "application/vnd.jupyter.widget-view+json": {
              "model_id": "5595c04126c248bb8091d9f62d522fb0",
              "version_minor": 0,
              "version_major": 2
            },
            "text/plain": [
              "HBox(children=(FloatProgress(value=0.0, description='Downloading', max=28.0, style=ProgressStyle(description_w…"
            ]
          },
          "metadata": {
            "tags": []
          }
        },
        {
          "output_type": "stream",
          "text": [
            "\n"
          ],
          "name": "stdout"
        },
        {
          "output_type": "display_data",
          "data": {
            "application/vnd.jupyter.widget-view+json": {
              "model_id": "7f39f11335164e27b4bc30a8577152f7",
              "version_minor": 0,
              "version_major": 2
            },
            "text/plain": [
              "HBox(children=(FloatProgress(value=0.0, description='Downloading', max=466062.0, style=ProgressStyle(descripti…"
            ]
          },
          "metadata": {
            "tags": []
          }
        },
        {
          "output_type": "stream",
          "text": [
            "\n"
          ],
          "name": "stdout"
        }
      ]
    },
    {
      "cell_type": "code",
      "metadata": {
        "id": "X9Q43zw0MTUY"
      },
      "source": [
        "def get_X_inputs_masks(sample, t_attention_mask, t_input_id, m_attention_mask, m_input_id):\n",
        "    X_inputs = []\n",
        "    X_masks = []\n",
        "\n",
        "    for i in range(0,len(sample)):\n",
        "        t_index = sample.tweet_index[i]-1\n",
        "        inputs_temp = t_input_id[t_index].tolist().copy()\n",
        "        masks_temp = t_attention_mask[t_index].copy()\n",
        "\n",
        "        m_index = sample.misconception_id[i]-1\n",
        "        inputs_temp.extend(m_input_id[m_index].tolist())\n",
        "        masks_temp.extend(m_attention_mask[m_index])\n",
        "\n",
        "        X_inputs.append(inputs_temp)\n",
        "        X_masks.append(masks_temp)\n",
        "    \n",
        "    X_inputs = np.array(X_inputs)\n",
        "    return X_inputs, X_masks"
      ],
      "execution_count": 13,
      "outputs": []
    },
    {
      "cell_type": "markdown",
      "metadata": {
        "id": "kSPwcTAcHA5d"
      },
      "source": [
        "# Split Data"
      ]
    },
    {
      "cell_type": "code",
      "metadata": {
        "colab": {
          "base_uri": "https://localhost:8080/"
        },
        "id": "szNGSyUvRAUN",
        "outputId": "19c5c8a4-ee90-433f-e72a-0686150fb112"
      },
      "source": [
        "!pip install imbalanced-learn"
      ],
      "execution_count": 14,
      "outputs": [
        {
          "output_type": "stream",
          "text": [
            "Requirement already satisfied: imbalanced-learn in /usr/local/lib/python3.7/dist-packages (0.4.3)\n",
            "Requirement already satisfied: numpy>=1.8.2 in /usr/local/lib/python3.7/dist-packages (from imbalanced-learn) (1.19.5)\n",
            "Requirement already satisfied: scipy>=0.13.3 in /usr/local/lib/python3.7/dist-packages (from imbalanced-learn) (1.4.1)\n",
            "Requirement already satisfied: scikit-learn>=0.20 in /usr/local/lib/python3.7/dist-packages (from imbalanced-learn) (0.22.2.post1)\n",
            "Requirement already satisfied: joblib>=0.11 in /usr/local/lib/python3.7/dist-packages (from scikit-learn>=0.20->imbalanced-learn) (1.0.1)\n"
          ],
          "name": "stdout"
        }
      ]
    },
    {
      "cell_type": "code",
      "metadata": {
        "colab": {
          "base_uri": "https://localhost:8080/"
        },
        "id": "YR2HMQbP900E",
        "outputId": "e4010cd1-192a-439c-9d79-fac45d5795da"
      },
      "source": [
        "df.groupby('label')['tweet'].count()"
      ],
      "execution_count": 15,
      "outputs": [
        {
          "output_type": "execute_result",
          "data": {
            "text/plain": [
              "label\n",
              "na     6149\n",
              "neg     154\n",
              "pos     288\n",
              "Name: tweet, dtype: int64"
            ]
          },
          "metadata": {
            "tags": []
          },
          "execution_count": 15
        }
      ]
    },
    {
      "cell_type": "markdown",
      "metadata": {
        "id": "YHC9GZjr-6Wv"
      },
      "source": [
        "Use -1, 0, 1 to denote label."
      ]
    },
    {
      "cell_type": "code",
      "metadata": {
        "colab": {
          "base_uri": "https://localhost:8080/",
          "height": 289
        },
        "id": "FQyw4Bkf-ri3",
        "outputId": "923f4e4a-2257-4381-8047-4ce57e796d55"
      },
      "source": [
        "sample = pd.merge(df, mini_tdf[['tweet','tweet_index']],\n",
        "         how = 'left',\n",
        "         left_on = ('tweet'),\n",
        "         right_on = ('tweet'))\n",
        "sample.tweet_index = sample.tweet_index.astype('int64')\n",
        "\n",
        "temp = sample.label.values\n",
        "label = []\n",
        "for i in temp:\n",
        "  if i == 'na':\n",
        "    label.append(0)\n",
        "  elif i == 'neg':\n",
        "    label.append(-1)\n",
        "  elif i == 'pos':\n",
        "    label.append(1)\n",
        "\n",
        "sample.label = label\n",
        "\n",
        "sample.head()"
      ],
      "execution_count": 19,
      "outputs": [
        {
          "output_type": "execute_result",
          "data": {
            "text/html": [
              "<div>\n",
              "<style scoped>\n",
              "    .dataframe tbody tr th:only-of-type {\n",
              "        vertical-align: middle;\n",
              "    }\n",
              "\n",
              "    .dataframe tbody tr th {\n",
              "        vertical-align: top;\n",
              "    }\n",
              "\n",
              "    .dataframe thead th {\n",
              "        text-align: right;\n",
              "    }\n",
              "</style>\n",
              "<table border=\"1\" class=\"dataframe\">\n",
              "  <thead>\n",
              "    <tr style=\"text-align: right;\">\n",
              "      <th></th>\n",
              "      <th>misconception_id</th>\n",
              "      <th>misconception</th>\n",
              "      <th>tweet</th>\n",
              "      <th>tweet_id</th>\n",
              "      <th>label</th>\n",
              "      <th>tweet_index</th>\n",
              "    </tr>\n",
              "  </thead>\n",
              "  <tbody>\n",
              "    <tr>\n",
              "      <th>0</th>\n",
              "      <td>3</td>\n",
              "      <td>Coronavirus is genetically engineered.</td>\n",
              "      <td>How the COVID-19 outbreak is changing global p...</td>\n",
              "      <td>1.233965e+18</td>\n",
              "      <td>0</td>\n",
              "      <td>3058</td>\n",
              "    </tr>\n",
              "    <tr>\n",
              "      <th>1</th>\n",
              "      <td>30</td>\n",
              "      <td>Blowing conch shells destroys coronavirus pote...</td>\n",
              "      <td>Getting coronavirus and then coughing on peopl...</td>\n",
              "      <td>1.233908e+18</td>\n",
              "      <td>0</td>\n",
              "      <td>193</td>\n",
              "    </tr>\n",
              "    <tr>\n",
              "      <th>2</th>\n",
              "      <td>57</td>\n",
              "      <td>Swans and dolphins swimming in Venice canals f...</td>\n",
              "      <td>Disturbing letter about life in COVID-19 ward ...</td>\n",
              "      <td>1.233910e+18</td>\n",
              "      <td>0</td>\n",
              "      <td>289</td>\n",
              "    </tr>\n",
              "    <tr>\n",
              "      <th>3</th>\n",
              "      <td>22</td>\n",
              "      <td>Cocaine cures coronavirus.</td>\n",
              "      <td>How to prevent corona virus?🤔 Use cowdung cake...</td>\n",
              "      <td>1.233948e+18</td>\n",
              "      <td>0</td>\n",
              "      <td>2233</td>\n",
              "    </tr>\n",
              "    <tr>\n",
              "      <th>4</th>\n",
              "      <td>32</td>\n",
              "      <td>Observing janata curfew will result in the red...</td>\n",
              "      <td>This is concerning - They must self-insure for...</td>\n",
              "      <td>1.233937e+18</td>\n",
              "      <td>0</td>\n",
              "      <td>1678</td>\n",
              "    </tr>\n",
              "  </tbody>\n",
              "</table>\n",
              "</div>"
            ],
            "text/plain": [
              "   misconception_id  ... tweet_index\n",
              "0                 3  ...        3058\n",
              "1                30  ...         193\n",
              "2                57  ...         289\n",
              "3                22  ...        2233\n",
              "4                32  ...        1678\n",
              "\n",
              "[5 rows x 6 columns]"
            ]
          },
          "metadata": {
            "tags": []
          },
          "execution_count": 19
        }
      ]
    },
    {
      "cell_type": "code",
      "metadata": {
        "id": "GhjBTq4IR7BE"
      },
      "source": [
        "from imblearn.over_sampling import SMOTE\n",
        "from imblearn.under_sampling import RandomUnderSampler\n",
        "from imblearn.pipeline import Pipeline\n",
        "over = SMOTE({-1:500,1:600})\n",
        "under = RandomUnderSampler({0:3000})\n",
        "resample = [('under',under),('over',over)]\n",
        "pipeline = Pipeline(steps=resample)"
      ],
      "execution_count": 95,
      "outputs": []
    },
    {
      "cell_type": "code",
      "metadata": {
        "id": "FLYSojbzRLCN",
        "colab": {
          "base_uri": "https://localhost:8080/"
        },
        "outputId": "5f1be319-9df6-4b48-9d22-8c4781525501"
      },
      "source": [
        "# oversampling data to reduce the impact of data imbalance\n",
        "labels = sample.label.values\n",
        "input_ids, _ = get_X_inputs_masks(sample, t_attention_mask, t_input_id, m_attention_mask, m_input_id)\n",
        "\n",
        "inputs, labels = pipeline.fit_resample(input_ids, labels)"
      ],
      "execution_count": 96,
      "outputs": [
        {
          "output_type": "stream",
          "text": [
            "/usr/local/lib/python3.7/dist-packages/sklearn/utils/deprecation.py:87: FutureWarning: Function safe_indexing is deprecated; safe_indexing is deprecated in version 0.22 and will be removed in version 0.24.\n",
            "  warnings.warn(msg, category=FutureWarning)\n",
            "/usr/local/lib/python3.7/dist-packages/sklearn/utils/deprecation.py:87: FutureWarning: Function safe_indexing is deprecated; safe_indexing is deprecated in version 0.22 and will be removed in version 0.24.\n",
            "  warnings.warn(msg, category=FutureWarning)\n",
            "/usr/local/lib/python3.7/dist-packages/sklearn/utils/deprecation.py:87: FutureWarning: Function safe_indexing is deprecated; safe_indexing is deprecated in version 0.22 and will be removed in version 0.24.\n",
            "  warnings.warn(msg, category=FutureWarning)\n"
          ],
          "name": "stderr"
        }
      ]
    },
    {
      "cell_type": "code",
      "metadata": {
        "colab": {
          "base_uri": "https://localhost:8080/"
        },
        "id": "n6QM-nGBC9fo",
        "outputId": "bc149b4d-7042-4d5a-879d-57cba67d6e9d"
      },
      "source": [
        "print(len(labels[labels==-1]),len(labels[labels==0]),len(labels[labels==1]))"
      ],
      "execution_count": 97,
      "outputs": [
        {
          "output_type": "stream",
          "text": [
            "500 3000 600\n"
          ],
          "name": "stdout"
        }
      ]
    },
    {
      "cell_type": "markdown",
      "metadata": {
        "id": "so24p9-QZOri"
      },
      "source": [
        "# Class Weight"
      ]
    },
    {
      "cell_type": "code",
      "metadata": {
        "colab": {
          "base_uri": "https://localhost:8080/"
        },
        "id": "oQ7Xwu1KaM-3",
        "outputId": "b25248d5-711b-4eb6-9431-77685d412ece"
      },
      "source": [
        "neg = len(labels[labels==-1])\n",
        "zero = len(labels[labels==0])\n",
        "pos = len(labels[labels==1])\n",
        "total = neg + zero + pos\n",
        "\n",
        "weight_for_zero = (1 / zero) * (total / 2.0)\n",
        "weight_for_neg = (1 / neg) * (total / 2.0)\n",
        "weight_for_pos = (1 / pos) * (total / 2.0)\n",
        "\n",
        "class_weight = {0: weight_for_zero, -1: weight_for_neg,1: weight_for_pos}\n",
        "\n",
        "print('Weight for class 0: {:.2f}'.format(weight_for_zero))\n",
        "print('Weight for class -1: {:.2f}'.format(weight_for_neg))\n",
        "print('Weight for class 1: {:.2f}'.format(weight_for_pos))"
      ],
      "execution_count": 98,
      "outputs": [
        {
          "output_type": "stream",
          "text": [
            "Weight for class 0: 0.68\n",
            "Weight for class -1: 4.10\n",
            "Weight for class 1: 3.42\n"
          ],
          "name": "stdout"
        }
      ]
    },
    {
      "cell_type": "markdown",
      "metadata": {
        "id": "7GWTty9QCP0r"
      },
      "source": [
        "# Single Classifier"
      ]
    },
    {
      "cell_type": "code",
      "metadata": {
        "id": "l_kYrw94Uf79"
      },
      "source": [
        "from sklearn.metrics import confusion_matrix, f1_score, accuracy_score, roc_auc_score\n",
        "\n",
        "def multi_eval(label, prediction):\n",
        "    acc = accuracy_score(label, prediction)\n",
        "    print('f1',f1_score(label, prediction, average='weighted'))\n",
        "    c_matrix = confusion_matrix(label, prediction)\n",
        "    print('confusion matrix', c_matrix)\n",
        "    sensitivity = c_matrix[2][2]/(c_matrix[2][0]+c_matrix[2][1]+c_matrix[2][2])\n",
        "    specificity = c_matrix[0][0]/(c_matrix[0][0]+c_matrix[0][1]+c_matrix[0][2])\n",
        "    print('')\n",
        "    return acc, sensitivity, specificity\n",
        "\n",
        "def clf_predict(X_val, model_name):\n",
        "    '''\n",
        "    comparing the return result with the Y_val\n",
        "    e.g.\n",
        "    from sklearn.metrics import accuracy_score\n",
        "    accuracy_score(Y_val, forest_prediction)\n",
        "    '''\n",
        "    clf = load(model_name)\n",
        "    pred = clf.predict(X_val)\n",
        "    return pred"
      ],
      "execution_count": 154,
      "outputs": []
    },
    {
      "cell_type": "markdown",
      "metadata": {
        "id": "sPNYz02-xurB"
      },
      "source": [
        "## KFold"
      ]
    },
    {
      "cell_type": "code",
      "metadata": {
        "id": "GpC5Wm0RaWap"
      },
      "source": [
        "from sklearn.model_selection import KFold\n",
        "def cv_split(X, Y, n_split=5):\n",
        "    kf = KFold(n_splits=n_split,shuffle=True,random_state=1)\n",
        "\n",
        "    X_trains = []\n",
        "    X_tests = []\n",
        "    for train,test in kf.split(X):\n",
        "        X_train = []\n",
        "        X_test = []\n",
        "        for i in train:\n",
        "            X_train.append(X[i])\n",
        "        for i in test:\n",
        "            X_test.append(X[i])\n",
        "        X_trains.append(X_train)\n",
        "        X_tests.append(X_test)\n",
        "\n",
        "    Y_trains = []\n",
        "    Y_tests = []\n",
        "    for train, test in kf.split(Y):\n",
        "        Y_train = []\n",
        "        Y_test = []\n",
        "        for i in train:\n",
        "            Y_train.append(Y[i])\n",
        "        for i in test:\n",
        "            Y_test.append(Y[i])\n",
        "        Y_trains.append(Y_train)\n",
        "        Y_tests.append(Y_test)\n",
        "\n",
        "    return X_trains, X_tests, Y_trains, Y_tests"
      ],
      "execution_count": 100,
      "outputs": []
    },
    {
      "cell_type": "code",
      "metadata": {
        "id": "aLDIGq5QgzMG"
      },
      "source": [
        "X_trains, X_tests, Y_trains, Y_tests = cv_split(inputs, labels)"
      ],
      "execution_count": 101,
      "outputs": []
    },
    {
      "cell_type": "markdown",
      "metadata": {
        "id": "2Jr5bP950pRR"
      },
      "source": [
        "## Random Forest"
      ]
    },
    {
      "cell_type": "code",
      "metadata": {
        "id": "1t4yX8eBWjjL"
      },
      "source": [
        "from sklearn.ensemble import RandomForestClassifier\n",
        "from joblib import dump, load\n",
        "\n",
        "def foresttrain(X_train, Y_train, model_name):\n",
        "    '''\n",
        "    Train the random forest classifier and save to local.\n",
        "    :param X_train:\n",
        "    :param Y_train:\n",
        "    '''\n",
        "    forest = RandomForestClassifier(n_estimators=100, oob_score=True, n_jobs=3, class_weight = class_weight) #n_job is n of CPU cores assigned\n",
        "    forest.fit(X_train, Y_train)\n",
        "    dump(forest, model_name)"
      ],
      "execution_count": 102,
      "outputs": []
    },
    {
      "cell_type": "code",
      "metadata": {
        "colab": {
          "base_uri": "https://localhost:8080/"
        },
        "id": "DMmCedcKcp49",
        "outputId": "433a30d3-b8a2-4950-fe04-b00706e1a1ab"
      },
      "source": [
        "forest_train_preds = []\n",
        "forest_preds = []\n",
        "forest_cv_result = {'scores':[],'sensitivity':[],'specificity':[]}\n",
        "\n",
        "for i in range(5):\n",
        "  X_train = X_trains[i]\n",
        "  X_test = X_tests[i]\n",
        "  Y_train = Y_trains[i]\n",
        "  Y_test = Y_tests[i]\n",
        "\n",
        "  foresttrain(X_train, Y_train, 'forest.joblib')\n",
        "  forest_train_preds.append(clf_predict(X_train,'forest.joblib'))\n",
        "  pred = clf_predict(X_test,'forest.joblib')\n",
        "  forest_preds.append(pred)\n",
        "\n",
        "  acc, sen, spe = multi_eval(Y_test, pred)\n",
        "  forest_cv_result['scores'].append(acc)\n",
        "  forest_cv_result['sensitivity'].append(sen)\n",
        "  forest_cv_result['specificity'].append(spe)"
      ],
      "execution_count": 155,
      "outputs": [
        {
          "output_type": "stream",
          "text": [
            "f1 0.8950954670712894\n",
            "confusion matrix [[ 74  28   1]\n",
            " [  5 604   7]\n",
            " [  4  36  61]]\n",
            "\n",
            "f1 0.8839409691419311\n",
            "confusion matrix [[ 72  29   2]\n",
            " [  3 598   4]\n",
            " [  4  46  62]]\n",
            "\n",
            "f1 0.8856418819259924\n",
            "confusion matrix [[ 76  23   1]\n",
            " [  0 582   6]\n",
            " [  6  51  75]]\n",
            "\n",
            "f1 0.9097374052539948\n",
            "confusion matrix [[ 78  16   1]\n",
            " [  4 590   4]\n",
            " [  4  41  82]]\n",
            "\n",
            "f1 0.8894735506861601\n",
            "confusion matrix [[ 74  24   1]\n",
            " [  3 584   6]\n",
            " [  4  47  77]]\n",
            "\n"
          ],
          "name": "stdout"
        }
      ]
    },
    {
      "cell_type": "code",
      "metadata": {
        "colab": {
          "base_uri": "https://localhost:8080/"
        },
        "id": "T1NQVlsdd8XH",
        "outputId": "9cd17e8d-602c-48fe-89f9-64339e7b2578"
      },
      "source": [
        "from statistics import mean\n",
        "\n",
        "print('Avg Scores:', mean(forest_cv_result['scores']), '\\n',\n",
        "   'Avg Sensitivity:', mean(forest_cv_result['sensitivity']), '\\n',\n",
        "   'Avg Sepcificity:', mean(forest_cv_result['specificity']))"
      ],
      "execution_count": 156,
      "outputs": [
        {
          "output_type": "stream",
          "text": [
            "Avg Scores: 0.8997560975609756 \n",
            " Avg Sensitivity: 0.5945890868262866 \n",
            " Avg Sepcificity: 0.749200621441807\n"
          ],
          "name": "stdout"
        }
      ]
    },
    {
      "cell_type": "markdown",
      "metadata": {
        "id": "C6ql9vg9PIYb"
      },
      "source": [
        "## SGD"
      ]
    },
    {
      "cell_type": "code",
      "metadata": {
        "id": "jc1ASXGjPJCV"
      },
      "source": [
        "from sklearn.linear_model import SGDClassifier\n",
        "\n",
        "def sgdtrain(X_train, Y_train, model_name):\n",
        "    '''\n",
        "    Train the Support Vector Machine classifer and save to local.\n",
        "    :param X_train:\n",
        "    :param Y_train:\n",
        "    :return:\n",
        "    '''\n",
        "    sgd = SGDClassifier(max_iter=1000, tol=1e-3, class_weight=class_weight)\n",
        "    sgd.fit(X_train, Y_train)\n",
        "    dump(sgd, model_name)"
      ],
      "execution_count": 106,
      "outputs": []
    },
    {
      "cell_type": "code",
      "metadata": {
        "colab": {
          "base_uri": "https://localhost:8080/"
        },
        "id": "xlkd51SWPpmQ",
        "outputId": "0ec32791-1a75-43d2-c9ef-b63ea16482a4"
      },
      "source": [
        "sgd_train_preds = []\n",
        "sgd_preds = []\n",
        "sgd_cv_result = {'scores':[],'sensitivity':[],'specificity':[]}\n",
        "\n",
        "for i in range(5):\n",
        "  X_train = X_trains[i]\n",
        "  X_test = X_tests[i]\n",
        "  Y_train = Y_trains[i]\n",
        "  Y_test = Y_tests[i]\n",
        "\n",
        "  sgdtrain(X_train, Y_train, 'sgd.joblib')\n",
        "  sgd_train_preds.append(clf_predict(X_train,'sgd.joblib'))\n",
        "  pred = clf_predict(X_test,'sgd.joblib')\n",
        "  sgd_preds.append(pred)\n",
        "\n",
        "  acc, sen, spe = multi_eval(Y_test, pred)\n",
        "  sgd_cv_result['scores'].append(acc)\n",
        "  sgd_cv_result['sensitivity'].append(sen)\n",
        "  sgd_cv_result['specificity'].append(spe)"
      ],
      "execution_count": 157,
      "outputs": [
        {
          "output_type": "stream",
          "text": [
            "f1 0.7314689414199831\n",
            "confusion matrix [[ 14  85   4]\n",
            " [  9 599   8]\n",
            " [  4  70  27]]\n",
            "\n",
            "f1 0.6404269434625574\n",
            "confusion matrix [[ 33  32  38]\n",
            " [ 19 368 218]\n",
            " [  3  15  94]]\n",
            "\n",
            "f1 0.7151299656002461\n",
            "confusion matrix [[ 44  21  35]\n",
            " [ 19 432 137]\n",
            " [  9  31  92]]\n",
            "\n",
            "f1 0.56907234709602\n",
            "confusion matrix [[ 59   5  31]\n",
            " [ 55 269 274]\n",
            " [  7  12 108]]\n",
            "\n",
            "f1 0.6535135211093696\n",
            "confusion matrix [[ 89  10   0]\n",
            " [158 413  22]\n",
            " [ 50  55  23]]\n",
            "\n"
          ],
          "name": "stdout"
        }
      ]
    },
    {
      "cell_type": "code",
      "metadata": {
        "colab": {
          "base_uri": "https://localhost:8080/"
        },
        "id": "i5VjLXa3mh0q",
        "outputId": "1a4e9220-ce71-4d92-a54c-88ac8bdb3789"
      },
      "source": [
        "from statistics import mean\n",
        "\n",
        "print('Avg Scores:', mean(sgd_cv_result['scores']), '\\n',\n",
        "   'Avg Sensitivity:', mean(sgd_cv_result['sensitivity']), '\\n',\n",
        "   'Avg Sepcificity:', mean(sgd_cv_result['specificity']))"
      ],
      "execution_count": 158,
      "outputs": [
        {
          "output_type": "stream",
          "text": [
            "Avg Scores: 0.6497560975609756 \n",
            " Avg Sensitivity: 0.5667326689432161 \n",
            " Avg Sepcificity: 0.4832706420360994\n"
          ],
          "name": "stdout"
        }
      ]
    },
    {
      "cell_type": "markdown",
      "metadata": {
        "id": "JHE-uvGi39AN"
      },
      "source": [
        "## Logistic Regression"
      ]
    },
    {
      "cell_type": "code",
      "metadata": {
        "id": "4f_NXv2Q3_gH"
      },
      "source": [
        "from sklearn.linear_model import LogisticRegression\n",
        "\n",
        "def lrtrain(X_train, Y_train, model_name):\n",
        "    lr = LogisticRegression(n_jobs=5,solver='liblinear',class_weight=class_weight)\n",
        "    lr.fit(X_train, Y_train)\n",
        "    dump(lr,model_name)"
      ],
      "execution_count": 159,
      "outputs": []
    },
    {
      "cell_type": "code",
      "metadata": {
        "id": "Pgtafh8q4PqD",
        "colab": {
          "base_uri": "https://localhost:8080/"
        },
        "outputId": "26ef0f93-585b-4839-dea7-d6e7dd5bd27c"
      },
      "source": [
        "lr_train_preds = []\n",
        "lr_preds = []\n",
        "lr_cv_result = {'scores':[],'sensitivity':[],'specificity':[]}\n",
        "\n",
        "for i in range(5):\n",
        "  X_train = X_trains[i]\n",
        "  X_test = X_tests[i]\n",
        "  Y_train = Y_trains[i]\n",
        "  Y_test = Y_tests[i]\n",
        "\n",
        "  lrtrain(X_train, Y_train, 'lr.joblib')\n",
        "  lr_train_preds.append(clf_predict(X_train,'lr.joblib'))\n",
        "  pred = clf_predict(X_test,'lr.joblib')\n",
        "  lr_preds.append(pred)\n",
        "\n",
        "  acc, sen, spe = multi_eval(Y_test, pred)\n",
        "  lr_cv_result['scores'].append(acc)\n",
        "  lr_cv_result['sensitivity'].append(sen)\n",
        "  lr_cv_result['specificity'].append(spe)"
      ],
      "execution_count": 160,
      "outputs": [
        {
          "output_type": "stream",
          "text": [
            "/usr/local/lib/python3.7/dist-packages/sklearn/linear_model/_logistic.py:1539: UserWarning: 'n_jobs' > 1 does not have any effect when 'solver' is set to 'liblinear'. Got 'n_jobs' = 5.\n",
            "  \" = {}.\".format(effective_n_jobs(self.n_jobs)))\n",
            "/usr/local/lib/python3.7/dist-packages/sklearn/svm/_base.py:947: ConvergenceWarning: Liblinear failed to converge, increase the number of iterations.\n",
            "  \"the number of iterations.\", ConvergenceWarning)\n",
            "/usr/local/lib/python3.7/dist-packages/sklearn/linear_model/_logistic.py:1539: UserWarning: 'n_jobs' > 1 does not have any effect when 'solver' is set to 'liblinear'. Got 'n_jobs' = 5.\n",
            "  \" = {}.\".format(effective_n_jobs(self.n_jobs)))\n"
          ],
          "name": "stderr"
        },
        {
          "output_type": "stream",
          "text": [
            "f1 0.815321654190655\n",
            "confusion matrix [[ 75  18  10]\n",
            " [ 29 517  70]\n",
            " [ 15  19  67]]\n",
            "\n"
          ],
          "name": "stdout"
        },
        {
          "output_type": "stream",
          "text": [
            "/usr/local/lib/python3.7/dist-packages/sklearn/svm/_base.py:947: ConvergenceWarning: Liblinear failed to converge, increase the number of iterations.\n",
            "  \"the number of iterations.\", ConvergenceWarning)\n",
            "/usr/local/lib/python3.7/dist-packages/sklearn/linear_model/_logistic.py:1539: UserWarning: 'n_jobs' > 1 does not have any effect when 'solver' is set to 'liblinear'. Got 'n_jobs' = 5.\n",
            "  \" = {}.\".format(effective_n_jobs(self.n_jobs)))\n"
          ],
          "name": "stderr"
        },
        {
          "output_type": "stream",
          "text": [
            "f1 0.7972917564052155\n",
            "confusion matrix [[ 67  26  10]\n",
            " [ 41 509  55]\n",
            " [ 17  24  71]]\n",
            "\n"
          ],
          "name": "stdout"
        },
        {
          "output_type": "stream",
          "text": [
            "/usr/local/lib/python3.7/dist-packages/sklearn/svm/_base.py:947: ConvergenceWarning: Liblinear failed to converge, increase the number of iterations.\n",
            "  \"the number of iterations.\", ConvergenceWarning)\n",
            "/usr/local/lib/python3.7/dist-packages/sklearn/linear_model/_logistic.py:1539: UserWarning: 'n_jobs' > 1 does not have any effect when 'solver' is set to 'liblinear'. Got 'n_jobs' = 5.\n",
            "  \" = {}.\".format(effective_n_jobs(self.n_jobs)))\n"
          ],
          "name": "stderr"
        },
        {
          "output_type": "stream",
          "text": [
            "f1 0.7806383762506826\n",
            "confusion matrix [[ 68  21  11]\n",
            " [ 37 500  51]\n",
            " [ 20  43  69]]\n",
            "\n"
          ],
          "name": "stdout"
        },
        {
          "output_type": "stream",
          "text": [
            "/usr/local/lib/python3.7/dist-packages/sklearn/svm/_base.py:947: ConvergenceWarning: Liblinear failed to converge, increase the number of iterations.\n",
            "  \"the number of iterations.\", ConvergenceWarning)\n",
            "/usr/local/lib/python3.7/dist-packages/sklearn/linear_model/_logistic.py:1539: UserWarning: 'n_jobs' > 1 does not have any effect when 'solver' is set to 'liblinear'. Got 'n_jobs' = 5.\n",
            "  \" = {}.\".format(effective_n_jobs(self.n_jobs)))\n"
          ],
          "name": "stderr"
        },
        {
          "output_type": "stream",
          "text": [
            "f1 0.7911099013164238\n",
            "confusion matrix [[ 69  17   9]\n",
            " [ 43 495  60]\n",
            " [ 20  30  77]]\n",
            "\n",
            "f1 0.781919079859695\n",
            "confusion matrix [[ 74  18   7]\n",
            " [ 41 497  55]\n",
            " [ 20  42  66]]\n",
            "\n"
          ],
          "name": "stdout"
        },
        {
          "output_type": "stream",
          "text": [
            "/usr/local/lib/python3.7/dist-packages/sklearn/svm/_base.py:947: ConvergenceWarning: Liblinear failed to converge, increase the number of iterations.\n",
            "  \"the number of iterations.\", ConvergenceWarning)\n"
          ],
          "name": "stderr"
        }
      ]
    },
    {
      "cell_type": "code",
      "metadata": {
        "colab": {
          "base_uri": "https://localhost:8080/"
        },
        "id": "1HLRP4Pgmqvu",
        "outputId": "6abb8541-111e-4d56-8aba-c0c1ea82c37d"
      },
      "source": [
        "from statistics import mean\n",
        "\n",
        "print('Avg Scores:', mean(lr_cv_result['scores']), '\\n',\n",
        "   'Avg Sensitivity:', mean(lr_cv_result['sensitivity']), '\\n',\n",
        "   'Avg Sepcificity:', mean(lr_cv_result['specificity']))"
      ],
      "execution_count": 161,
      "outputs": [
        {
          "output_type": "stream",
          "text": [
            "Avg Scores: 0.785609756097561 \n",
            " Avg Sensitivity: 0.5883892786775865 \n",
            " Avg Sepcificity: 0.7064862627294922\n"
          ],
          "name": "stdout"
        }
      ]
    },
    {
      "cell_type": "markdown",
      "metadata": {
        "id": "1rudq0iC3jjX"
      },
      "source": [
        "# Voting Emsemble"
      ]
    },
    {
      "cell_type": "markdown",
      "metadata": {
        "id": "yNFgluQ-5BA3"
      },
      "source": [
        "## Train Weight"
      ]
    },
    {
      "cell_type": "code",
      "metadata": {
        "id": "SsHSgDfI3jAw"
      },
      "source": [
        "def train_weight(preds, label, num=3):\n",
        "    forest_pre = preds['forest'].values\n",
        "    sgd_pre = preds['sgd'].values\n",
        "    lr_pre = preds['lr'].values\n",
        "\n",
        "    weight = [1]*num\n",
        "    for i in range(0,len(label)):\n",
        "        update = [0]*num\n",
        "        wrong = 0\n",
        "        \n",
        "        if forest_pre[i] == label[i]:\n",
        "            update[0] = 1\n",
        "        else:\n",
        "            wrong += 1\n",
        "\n",
        "        if sgd_pre[i] == label[i]:\n",
        "            update[1] = 1\n",
        "        else:\n",
        "            wrong += 1\n",
        "\n",
        "        if lr_pre[i] == label[i]:\n",
        "            update[2] = 1\n",
        "        else:\n",
        "            wrong += 1\n",
        "            \n",
        "        for j in range(0,num):\n",
        "            weight[j] += update[j] * wrong/num\n",
        "\n",
        "    total_weight = sum(weight)\n",
        "    for j in range(0, num):\n",
        "        weight[j] = weight[j]/total_weight\n",
        "    return weight"
      ],
      "execution_count": 162,
      "outputs": []
    },
    {
      "cell_type": "markdown",
      "metadata": {
        "id": "NtBhrF5Z52f9"
      },
      "source": [
        "## Self-defined Voting"
      ]
    },
    {
      "cell_type": "code",
      "metadata": {
        "id": "IgQOjfAO5tnP"
      },
      "source": [
        "def WMVEpredict(weight, preds, use_softmax=False):\n",
        "    softmax = torch.nn.Softmax()\n",
        "    result = []\n",
        "    forest_pre = preds['forest'].values\n",
        "    sgd_pre = preds['sgd'].values\n",
        "    lr_pre = preds['lr'].values\n",
        "\n",
        "    for i in range(0, len(forest_pre)):\n",
        "        labels = torch.FloatTensor([0,0,0])\n",
        "        labels[forest_pre[i]] += weight[0]\n",
        "        labels[sgd_pre[i]] += weight[1]\n",
        "        labels[lr_pre[i]] += weight[2]\n",
        "\n",
        "        if use_softmax:\n",
        "            votes = softmax(labels)\n",
        "        else:\n",
        "            votes = labels\n",
        "\n",
        "        if torch.argmax(votes)==0:\n",
        "            result.append(0)\n",
        "        elif torch.argmax(votes)==1:\n",
        "            result.append(1)\n",
        "        else:\n",
        "            result.append(-1)\n",
        "    return result"
      ],
      "execution_count": 130,
      "outputs": []
    },
    {
      "cell_type": "code",
      "metadata": {
        "colab": {
          "base_uri": "https://localhost:8080/"
        },
        "id": "_BNlfh1qaguk",
        "outputId": "5c7ed739-b0ed-4f5a-c701-c17625385e82"
      },
      "source": [
        "voting_preds = []\n",
        "voting_cv_result = {'scores':[],'sensitivity':[],'specificity':[]}\n",
        "for i in range(5):\n",
        "  X_train = X_trains[i]\n",
        "  X_test = X_tests[i]\n",
        "  Y_train = Y_trains[i]\n",
        "  Y_test = Y_tests[i]\n",
        "\n",
        "  classfiers_train_pred = pd.DataFrame({'forest': forest_train_preds[i], 'sgd': sgd_train_preds[i], 'lr': lr_train_preds[i]})\n",
        "  classfiers_val_pred = pd.DataFrame({'forest': forest_preds[i], 'sgd': sgd_preds[i], 'lr': lr_preds[i]})\n",
        "\n",
        "  weight = train_weight(classfiers_train_pred,Y_train)\n",
        "  print('weight', weight)\n",
        "\n",
        "  pred = WMVEpredict(weight, classfiers_val_pred, use_softmax=True)\n",
        "  voting_preds.append(pred)\n",
        "\n",
        "  acc, sen, spe = multi_eval(Y_test, pred)\n",
        "  voting_cv_result['scores'].append(acc)\n",
        "  voting_cv_result['sensitivity'].append(sen)\n",
        "  voting_cv_result['specificity'].append(spe)"
      ],
      "execution_count": 163,
      "outputs": [
        {
          "output_type": "stream",
          "text": [
            "weight [0.6473517428700766, 0.14848347668628326, 0.20416478044364023]\n",
            "f1 0.8950954670712894\n",
            "confusion matrix [[ 74  28   1]\n",
            " [  5 604   7]\n",
            " [  4  36  61]]\n",
            "\n",
            "weight [0.6671433678941703, 0.06042188058634243, 0.27243475151948726]\n",
            "f1 0.8839409691419311\n",
            "confusion matrix [[ 72  29   2]\n",
            " [  3 598   4]\n",
            " [  4  46  62]]\n",
            "\n",
            "weight [0.722828459188127, 0.05761676123963338, 0.21955477957223965]\n",
            "f1 0.8856418819259924\n",
            "confusion matrix [[ 76  23   1]\n",
            " [  0 582   6]\n",
            " [  6  51  75]]\n",
            "\n",
            "weight [0.6369482607424758, 0.04267757965507167, 0.32037415960245247]\n"
          ],
          "name": "stdout"
        },
        {
          "output_type": "stream",
          "text": [
            "/usr/local/lib/python3.7/dist-packages/ipykernel_launcher.py:15: UserWarning: Implicit dimension choice for softmax has been deprecated. Change the call to include dim=X as an argument.\n",
            "  from ipykernel import kernelapp as app\n"
          ],
          "name": "stderr"
        },
        {
          "output_type": "stream",
          "text": [
            "f1 0.9097374052539948\n",
            "confusion matrix [[ 78  16   1]\n",
            " [  4 590   4]\n",
            " [  4  41  82]]\n",
            "\n",
            "weight [0.6730123180291131, 0.06308324001493097, 0.26390444195595586]\n",
            "f1 0.8894735506861601\n",
            "confusion matrix [[ 74  24   1]\n",
            " [  3 584   6]\n",
            " [  4  47  77]]\n",
            "\n"
          ],
          "name": "stdout"
        }
      ]
    },
    {
      "cell_type": "code",
      "metadata": {
        "colab": {
          "base_uri": "https://localhost:8080/"
        },
        "id": "tFtNdBO0q0Zt",
        "outputId": "a52447f5-32bb-43e5-f9a8-048f54f4530c"
      },
      "source": [
        "from statistics import mean\n",
        "\n",
        "print('Avg Scores:', mean(voting_cv_result['scores']), '\\n',\n",
        "   'Avg Sensitivity:', mean(voting_cv_result['sensitivity']), '\\n',\n",
        "   'Avg Sepcificity:', mean(voting_cv_result['specificity']))"
      ],
      "execution_count": 164,
      "outputs": [
        {
          "output_type": "stream",
          "text": [
            "Avg Scores: 0.8997560975609756 \n",
            " Avg Sensitivity: 0.5945890868262866 \n",
            " Avg Sepcificity: 0.749200621441807\n"
          ],
          "name": "stdout"
        }
      ]
    },
    {
      "cell_type": "markdown",
      "metadata": {
        "id": "iQS49g6_r2uA"
      },
      "source": [
        "# Result Visualization"
      ]
    },
    {
      "cell_type": "code",
      "metadata": {
        "id": "IYz7N81ar2SF"
      },
      "source": [
        "import seaborn as sns\n",
        "import matplotlib.pyplot as plt\n",
        "\n",
        "clf = ['Random Forest']*5 + ['SGD']*5 + ['LR']*5 + ['Voting']*5\n",
        "\n",
        "sen = forest_cv_result['sensitivity']+sgd_cv_result['sensitivity']+lr_cv_result['sensitivity']+voting_cv_result['sensitivity']\n",
        "spe = forest_cv_result['specificity']+sgd_cv_result['specificity']+lr_cv_result['specificity']+voting_cv_result['specificity']\n",
        "scores = forest_cv_result['scores'] + sgd_cv_result['scores'] + lr_cv_result['scores'] + voting_cv_result['scores']\n",
        "\n",
        "df = pd.DataFrame({'Classifier':clf,\n",
        "                   'Accuracy Score':scores,\n",
        "                   'Sensitivity':sen,\n",
        "                   'Specificity':spe,\n",
        "                   'CV':[1,2,3,4,5]*4})"
      ],
      "execution_count": 138,
      "outputs": []
    },
    {
      "cell_type": "code",
      "metadata": {
        "colab": {
          "base_uri": "https://localhost:8080/",
          "height": 442
        },
        "id": "fMgMiykOtI6A",
        "outputId": "4f2ba094-1001-4e40-8142-166b85b91373"
      },
      "source": [
        "f, a = plt.subplots(1,1,figsize=(12,7))\n",
        "f = sns.lineplot(x='CV',y='Accuracy Score',hue='Classifier',data=df)\n",
        "plt.legend()\n",
        "plt.show()"
      ],
      "execution_count": 139,
      "outputs": [
        {
          "output_type": "display_data",
          "data": {
            "image/png": "[encoded data removed]",
            "text/plain": [
              "<Figure size 864x504 with 1 Axes>"
            ]
          },
          "metadata": {
            "tags": [],
            "needs_background": "light"
          }
        }
      ]
    },
    {
      "cell_type": "code",
      "metadata": {
        "colab": {
          "base_uri": "https://localhost:8080/",
          "height": 445
        },
        "id": "NuAOrVUzuu_n",
        "outputId": "862a4b73-863a-48dc-acdb-88a15137b5c1"
      },
      "source": [
        "f, a = plt.subplots(1,1,figsize=(12,7))\n",
        "f = sns.lineplot(x='CV',y='Sensitivity',hue='Classifier',data=df)\n",
        "plt.legend()\n",
        "plt.show()"
      ],
      "execution_count": 140,
      "outputs": [
        {
          "output_type": "display_data",
          "data": {
            "image/png": "[encoded data removed]",
            "text/plain": [
              "<Figure size 864x504 with 1 Axes>"
            ]
          },
          "metadata": {
            "tags": [],
            "needs_background": "light"
          }
        }
      ]
    },
    {
      "cell_type": "markdown",
      "metadata": {
        "id": "DBP4d8Xu3n3f"
      },
      "source": [
        "# Deep Learning"
      ]
    },
    {
      "cell_type": "code",
      "metadata": {
        "id": "7LhhcfiJHu1W"
      },
      "source": [
        "# changing the numpy arrays into tensors for working on GPU.\n",
        "train_inputs = torch.tensor(train_inputs)\n",
        "validation_inputs = torch.tensor(validation_inputs)\n",
        "\n",
        "train_labels = torch.tensor(train_labels)\n",
        "validation_labels = torch.tensor(validation_labels)\n",
        "\n",
        "train_masks = torch.tensor(train_masks)\n",
        "validation_masks = torch.tensor(validation_masks)\n",
        "\n",
        "# DataLoader for our training set.\n",
        "train_data = TensorDataset(train_inputs, train_masks, train_labels)\n",
        "train_sampler = RandomSampler(train_data)\n",
        "train_dataloader = DataLoader(train_data, sampler=train_sampler, batch_size=batch_size)\n",
        "\n",
        "# DataLoader for our validation(test) set.\n",
        "validation_data = TensorDataset(validation_inputs, validation_masks, validation_labels)\n",
        "validation_sampler = SequentialSampler(validation_data)\n",
        "validation_dataloader = DataLoader(validation_data, sampler=validation_sampler, batch_size=batch_size)\n",
        "\n",
        "class_weight = torch.FloatTensor([weight_for_0,weight_for_1])"
      ],
      "execution_count": null,
      "outputs": []
    },
    {
      "cell_type": "markdown",
      "metadata": {
        "id": "Fy1U2n12ZkD_"
      },
      "source": [
        "## Helper functions"
      ]
    },
    {
      "cell_type": "code",
      "metadata": {
        "id": "VDGSvcuX9fW2"
      },
      "source": [
        "from sklearn.metrics import confusion_matrix\n",
        "\n",
        "def format_time(elapsed):\n",
        "    '''\n",
        "    Takes a time in seconds and returns a string hh:mm:ss\n",
        "    '''\n",
        "    # Round to the nearest second.\n",
        "    elapsed_rounded = int(round((elapsed)))\n",
        "\n",
        "    # Format as hh:mm:ss\n",
        "    return str(datetime.timedelta(seconds=elapsed_rounded))\n",
        "\n",
        "# Function to calculate the accuracy of our predictions vs labels\n",
        "def flat_accuracy(preds, labels):\n",
        "    pred_flat = np.argmax(preds, axis=1).flatten()\n",
        "    labels_flat = labels.flatten()\n",
        "    return np.sum(pred_flat == labels_flat) / len(labels_flat)\n",
        "\n",
        "def flat_confusion_matrix(preds, labels):\n",
        "    pred_flat = np.argmax(preds, axis=1).flatten()\n",
        "    labels_flat = labels.flatten()\n",
        "    return confusion_matrix(pred_flat,labels_flat,[0,1])\n",
        "\n",
        "def plot_acc_loss(acc,loss):\n",
        "    x1 = range(0, epochs)\n",
        "    x2 = range(0, epochs)\n",
        "    y1 = acc\n",
        "    y2 = loss\n",
        "    plt.subplot(2, 1, 1)\n",
        "    plt.plot(x1, y1, 'o-')\n",
        "    plt.title('Test accuracy vs. epoches')\n",
        "    plt.ylabel('Test accuracy')\n",
        "    plt.subplot(2, 1, 2)\n",
        "    plt.plot(x2, y2, '.-')\n",
        "    plt.xlabel('Test loss vs. epoches')\n",
        "    plt.ylabel('Test loss')\n",
        "    plt.show()"
      ],
      "execution_count": null,
      "outputs": []
    },
    {
      "cell_type": "markdown",
      "metadata": {
        "id": "jstl6HRLZnIw"
      },
      "source": [
        "## Build Model"
      ]
    },
    {
      "cell_type": "code",
      "metadata": {
        "id": "iCpFwfAX88fj"
      },
      "source": [
        "def bertpretrain(train_dataloader, validation_dataloader):\n",
        "    \n",
        "    if save_model.exists():\n",
        "        model = torch.load(save_model)\n",
        "    else:\n",
        "        model = BertForSequenceClassification.from_pretrained(\n",
        "            \"bert-base-uncased\",\n",
        "            config = BertConfig()\n",
        "            )\n",
        "\n",
        "    # Running the model on GPU.\n",
        "    model.cuda()\n",
        "\n",
        "    # Running on GPU if available, otherwise on CPU\n",
        "    device = torch.device(\"cuda:0\" if torch.cuda.is_available() else \"cpu\")\n",
        "\n",
        "    optimizer = AdamW(model.parameters(),\n",
        "                      lr = 2e-5,\n",
        "                      eps = 1e-8\n",
        "                      )\n",
        "\n",
        "    total_steps = len(train_dataloader) * epochs\n",
        "\n",
        "    scheduler = get_linear_schedule_with_warmup(optimizer,\n",
        "                                                num_warmup_steps=0,  # Default value in run_glue.py\n",
        "                                                num_training_steps=total_steps)\n",
        "\n",
        "    # Set the seed value all over the place to make this reproducible.\n",
        "    random.seed(seed_val)\n",
        "    np.random.seed(seed_val)\n",
        "    torch.manual_seed(seed_val)\n",
        "    torch.cuda.manual_seed_all(seed_val)\n",
        "\n",
        "    # Store the average loss after each epoch so we can plot them.\n",
        "    loss_values = []\n",
        "\n",
        "    val_accuracy = []\n",
        "\n",
        "    # For each epoch...\n",
        "    for epoch in range(0, epochs):\n",
        "\n",
        "        # ========================================\n",
        "        #               Training\n",
        "        # ========================================\n",
        "        print(\"\")\n",
        "        print('======== Epoch {:} / {:} ========'.format(epoch + 1, epochs))\n",
        "        print('Training...')\n",
        "\n",
        "        # Measure how long the training epoch takes.\n",
        "        t0 = time.time()\n",
        "\n",
        "        # Reset the total loss for this epoch.\n",
        "        total_loss = 0\n",
        "\n",
        "        model.train() # switch to training mode\n",
        "\n",
        "        # For each batch of training data...\n",
        "        for step, batch in enumerate(train_dataloader):\n",
        "            # Progress update every 40 batches.\n",
        "            if step % 40 == 0 and not step == 0:\n",
        "                # Calculate elapsed time in minutes.\n",
        "                elapsed = format_time(time.time() - t0)\n",
        "\n",
        "                # Report progress.\n",
        "                print('  Batch {:>5,}  of  {:>5,}.    Elapsed: {:}.'.format(step, len(train_dataloader), elapsed))\n",
        "\n",
        "            # Unpack this training batch from our dataloader.\n",
        "            # `batch` contains three pytorch tensors:\n",
        "            #   [0]: input ids\n",
        "            #   [1]: attention masks\n",
        "            #   [2]: labels\n",
        "            b_input_ids = batch[0].to(device)\n",
        "            b_input_mask = batch[1].to(device)\n",
        "            b_labels = batch[2].to(device)\n",
        "\n",
        "            # Clear any previously calculated gradients before performing a backward pass.\n",
        "            model.zero_grad()\n",
        "\n",
        "            # Perform a forward pass (evaluate the model on this training batch).\n",
        "            outputs = model(b_input_ids,\n",
        "                     token_type_ids=None,\n",
        "                     attention_mask=b_input_mask,\n",
        "                     labels=b_labels)\n",
        "\n",
        "            # Pull the loss value out of the tuple.\n",
        "            #loss = outputs[0]\n",
        "            ce = torch.nn.CrossEntropyLoss(weight=class_weight.to(device))\n",
        "            loss = ce(outputs[1],b_labels)\n",
        "\n",
        "            # Accumulate the training loss over all of the batches so that we can\n",
        "            # calculate the average loss at the end.\n",
        "            total_loss += loss.item()\n",
        "\n",
        "            # Perform a backward pass to calculate the gradients.\n",
        "            loss.backward()\n",
        "\n",
        "            # Clip the norm of the gradients to 1.0.\n",
        "            # This is to help prevent the \"exploding gradients\" problem.\n",
        "            torch.nn.utils.clip_grad_norm_(model.parameters(), 1.0)\n",
        "\n",
        "            # Update parameters and take a step using the computed gradient.\n",
        "            # The optimizer dictates the \"update rule\"--how the parameters are\n",
        "            # modified based on their gradients, the learning rate, etc.\n",
        "            optimizer.step()\n",
        "\n",
        "            # Update the learning rate.\n",
        "            scheduler.step()\n",
        "\n",
        "        # Calculate the average loss over the training data.\n",
        "        avg_train_loss = total_loss / len(train_dataloader)\n",
        "\n",
        "        # Store the loss value for plotting the learning curve.\n",
        "        loss_values.append(avg_train_loss)\n",
        "\n",
        "        print(\"\")\n",
        "        print(\"  Average training loss: {0:.2f}\".format(avg_train_loss))\n",
        "        print(\"  Training epcoh took: {:}\".format(format_time(time.time() - t0)))\n",
        "\n",
        "\n",
        "        # ========================================\n",
        "        #         Validation\n",
        "        # ========================================\n",
        "\n",
        "        print(\"\")\n",
        "        print(\"Running Validation...\")\n",
        "\n",
        "        t0 = time.time() # Validation start time\n",
        "\n",
        "        # Put the model in evaluation mode\n",
        "        model.eval()\n",
        "\n",
        "        eval_loss, eval_accuracy = 0, 0\n",
        "        val_conf_matrix = [np.array([0,0]),np.array([0,0])]\n",
        "        nb_eval_steps, nb_eval_examples = 0, 0\n",
        "\n",
        "\n",
        "        # Evaluate data for one epoch\n",
        "        for batch in validation_dataloader:\n",
        "\n",
        "            batch = tuple(t.to(device) for t in batch)\n",
        "\n",
        "\n",
        "            b_input_ids, b_input_mask, b_labels = batch\n",
        "\n",
        "            # Telling the model not to compute or store gradients, saving memory and\n",
        "            # speeding up validation\n",
        "            with torch.no_grad():\n",
        "                outputs = model(b_input_ids,\n",
        "                         token_type_ids=None,\n",
        "                         attention_mask=b_input_mask)\n",
        "\n",
        "            # Get the \"logits\" output by the model. The \"logits\" are the output\n",
        "            # values prior to applying an activation function like the softmax.\n",
        "            logits = outputs[0]\n",
        "\n",
        "            # Move logits and labels to CPU\n",
        "            logits = logits.detach().cpu().numpy()\n",
        "            label_ids = b_labels.to('cpu').numpy()\n",
        "\n",
        "            # Calculate the accuracy for this batch of test sentences.\n",
        "            tmp_eval_accuracy = flat_accuracy(logits, label_ids)\n",
        "            tmp_confusion_matrix = flat_confusion_matrix(logits,label_ids)\n",
        "\n",
        "            # Accumulate the total accuracy.\n",
        "            eval_accuracy += tmp_eval_accuracy\n",
        "            val_conf_matrix += tmp_confusion_matrix\n",
        "\n",
        "            # Track the number of batches\n",
        "            nb_eval_steps += 1\n",
        "\n",
        "        # Report the final accuracy for this validation run.\n",
        "        val_accuracy.append(eval_accuracy / nb_eval_steps)\n",
        "        print(\"  Accuracy: {0:.2f}\".format(eval_accuracy / nb_eval_steps))\n",
        "        print(\"  Confusion matrix:\", val_conf_matrix)\n",
        "        print(\"  Validation took: {:}\".format(format_time(time.time() - t0)))\n",
        "\n",
        "        if epoch % checkpoint == 0:\n",
        "          torch.save(model,save_model)\n",
        " \n",
        "\n",
        "    print(\"Saving model...\")\n",
        "    torch.save(model, save_model)\n",
        "\n",
        "    print(\"\")\n",
        "    print(\"Training complete!\")\n",
        "\n",
        "    return val_accuracy, loss_values, val_conf_matrix\n"
      ],
      "execution_count": 136,
      "outputs": []
    },
    {
      "cell_type": "code",
      "metadata": {
        "id": "VDda8wH49fLV",
        "colab": {
          "base_uri": "https://localhost:8080/",
          "referenced_widgets": [
            "078e89a76f344e47a52d15afa585335a",
            "6189a40dd9d94240b677aceb9e6bc59b",
            "6cf18fc37743485791f90a848bc8063f",
            "879bb7cbd3864fb8a969bf8563e080e2",
            "a4afb5db57f84808bdcc7f3c6bb99213",
            "a676c89eea5244e09e76382919b46632",
            "895efcd536f14ff39d2e870b5c2a9184",
            "20ff3227d8de4ad7aae09834e46fb8d8"
          ]
        },
        "outputId": "a3f3c8f7-5fe3-451a-d54d-aa9298db73f4"
      },
      "source": [
        "val_accuracy, loss_values, val_conf_matrix = bertpretrain(train_dataloader, validation_dataloader)"
      ],
      "execution_count": null,
      "outputs": [
        {
          "output_type": "display_data",
          "data": {
            "application/vnd.jupyter.widget-view+json": {
              "model_id": "078e89a76f344e47a52d15afa585335a",
              "version_major": 2,
              "version_minor": 0
            },
            "text/plain": [
              "HBox(children=(FloatProgress(value=0.0, description='Downloading', max=440473133.0, style=ProgressStyle(descri…"
            ]
          },
          "metadata": {
            "tags": []
          }
        },
        {
          "output_type": "stream",
          "text": [
            "\n"
          ],
          "name": "stdout"
        },
        {
          "output_type": "stream",
          "text": [
            "Some weights of the model checkpoint at bert-base-uncased were not used when initializing BertForSequenceClassification: ['cls.seq_relationship.bias', 'cls.predictions.transform.LayerNorm.weight', 'cls.predictions.bias', 'cls.predictions.transform.dense.bias', 'cls.predictions.transform.dense.weight', 'cls.predictions.transform.LayerNorm.bias', 'cls.predictions.decoder.weight', 'cls.seq_relationship.weight']\n",
            "- This IS expected if you are initializing BertForSequenceClassification from the checkpoint of a model trained on another task or with another architecture (e.g. initializing a BertForSequenceClassification model from a BertForPreTraining model).\n",
            "- This IS NOT expected if you are initializing BertForSequenceClassification from the checkpoint of a model that you expect to be exactly identical (initializing a BertForSequenceClassification model from a BertForSequenceClassification model).\n",
            "Some weights of BertForSequenceClassification were not initialized from the model checkpoint at bert-base-uncased and are newly initialized: ['classifier.bias', 'classifier.weight']\n",
            "You should probably TRAIN this model on a down-stream task to be able to use it for predictions and inference.\n"
          ],
          "name": "stderr"
        },
        {
          "output_type": "stream",
          "text": [
            "\n",
            "======== Epoch 1 / 10 ========\n",
            "Training...\n",
            "  Batch    40  of  4,187.    Elapsed: 0:00:38.\n",
            "  Batch    80  of  4,187.    Elapsed: 0:01:18.\n",
            "  Batch   120  of  4,187.    Elapsed: 0:02:02.\n",
            "  Batch   160  of  4,187.    Elapsed: 0:02:45.\n",
            "  Batch   200  of  4,187.    Elapsed: 0:03:28.\n",
            "  Batch   240  of  4,187.    Elapsed: 0:04:12.\n",
            "  Batch   280  of  4,187.    Elapsed: 0:04:55.\n",
            "  Batch   320  of  4,187.    Elapsed: 0:05:38.\n",
            "  Batch   360  of  4,187.    Elapsed: 0:06:22.\n",
            "  Batch   400  of  4,187.    Elapsed: 0:07:05.\n",
            "  Batch   440  of  4,187.    Elapsed: 0:07:48.\n",
            "  Batch   480  of  4,187.    Elapsed: 0:08:31.\n",
            "  Batch   520  of  4,187.    Elapsed: 0:09:14.\n",
            "  Batch   560  of  4,187.    Elapsed: 0:09:57.\n",
            "  Batch   640  of  4,187.    Elapsed: 0:11:23.\n",
            "  Batch   680  of  4,187.    Elapsed: 0:12:06.\n",
            "  Batch   720  of  4,187.    Elapsed: 0:12:50.\n",
            "  Batch   760  of  4,187.    Elapsed: 0:13:33.\n",
            "  Batch   800  of  4,187.    Elapsed: 0:14:16.\n",
            "  Batch   840  of  4,187.    Elapsed: 0:15:00.\n",
            "  Batch   880  of  4,187.    Elapsed: 0:15:43.\n",
            "  Batch   920  of  4,187.    Elapsed: 0:16:26.\n",
            "  Batch   960  of  4,187.    Elapsed: 0:17:09.\n",
            "  Batch 1,000  of  4,187.    Elapsed: 0:17:53.\n"
          ],
          "name": "stdout"
        },
        {
          "output_type": "error",
          "ename": "KeyboardInterrupt",
          "evalue": "ignored",
          "traceback": [
            "\u001b[0;31m---------------------------------------------------------------------------\u001b[0m",
            "\u001b[0;31mKeyboardInterrupt\u001b[0m                         Traceback (most recent call last)",
            "\u001b[0;32m<ipython-input-20-66929d415712>\u001b[0m in \u001b[0;36m<module>\u001b[0;34m()\u001b[0m\n\u001b[0;32m----> 1\u001b[0;31m \u001b[0mval_accuracy\u001b[0m\u001b[0;34m,\u001b[0m \u001b[0mloss_values\u001b[0m\u001b[0;34m,\u001b[0m \u001b[0mval_conf_matrix\u001b[0m \u001b[0;34m=\u001b[0m \u001b[0mbertpretrain\u001b[0m\u001b[0;34m(\u001b[0m\u001b[0mtrain_dataloader\u001b[0m\u001b[0;34m,\u001b[0m \u001b[0mvalidation_dataloader\u001b[0m\u001b[0;34m)\u001b[0m\u001b[0;34m\u001b[0m\u001b[0;34m\u001b[0m\u001b[0m\n\u001b[0m",
            "\u001b[0;32m<ipython-input-19-99b1a34d2b63>\u001b[0m in \u001b[0;36mbertpretrain\u001b[0;34m(train_dataloader, validation_dataloader)\u001b[0m\n\u001b[1;32m     93\u001b[0m \u001b[0;34m\u001b[0m\u001b[0m\n\u001b[1;32m     94\u001b[0m             \u001b[0;31m# Perform a backward pass to calculate the gradients.\u001b[0m\u001b[0;34m\u001b[0m\u001b[0;34m\u001b[0m\u001b[0;34m\u001b[0m\u001b[0m\n\u001b[0;32m---> 95\u001b[0;31m             \u001b[0mloss\u001b[0m\u001b[0;34m.\u001b[0m\u001b[0mbackward\u001b[0m\u001b[0;34m(\u001b[0m\u001b[0;34m)\u001b[0m\u001b[0;34m\u001b[0m\u001b[0;34m\u001b[0m\u001b[0m\n\u001b[0m\u001b[1;32m     96\u001b[0m \u001b[0;34m\u001b[0m\u001b[0m\n\u001b[1;32m     97\u001b[0m             \u001b[0;31m# Clip the norm of the gradients to 1.0.\u001b[0m\u001b[0;34m\u001b[0m\u001b[0;34m\u001b[0m\u001b[0;34m\u001b[0m\u001b[0m\n",
            "\u001b[0;32m/usr/local/lib/python3.7/dist-packages/torch/tensor.py\u001b[0m in \u001b[0;36mbackward\u001b[0;34m(self, gradient, retain_graph, create_graph, inputs)\u001b[0m\n\u001b[1;32m    243\u001b[0m                 \u001b[0mcreate_graph\u001b[0m\u001b[0;34m=\u001b[0m\u001b[0mcreate_graph\u001b[0m\u001b[0;34m,\u001b[0m\u001b[0;34m\u001b[0m\u001b[0;34m\u001b[0m\u001b[0m\n\u001b[1;32m    244\u001b[0m                 inputs=inputs)\n\u001b[0;32m--> 245\u001b[0;31m         \u001b[0mtorch\u001b[0m\u001b[0;34m.\u001b[0m\u001b[0mautograd\u001b[0m\u001b[0;34m.\u001b[0m\u001b[0mbackward\u001b[0m\u001b[0;34m(\u001b[0m\u001b[0mself\u001b[0m\u001b[0;34m,\u001b[0m \u001b[0mgradient\u001b[0m\u001b[0;34m,\u001b[0m \u001b[0mretain_graph\u001b[0m\u001b[0;34m,\u001b[0m \u001b[0mcreate_graph\u001b[0m\u001b[0;34m,\u001b[0m \u001b[0minputs\u001b[0m\u001b[0;34m=\u001b[0m\u001b[0minputs\u001b[0m\u001b[0;34m)\u001b[0m\u001b[0;34m\u001b[0m\u001b[0;34m\u001b[0m\u001b[0m\n\u001b[0m\u001b[1;32m    246\u001b[0m \u001b[0;34m\u001b[0m\u001b[0m\n\u001b[1;32m    247\u001b[0m     \u001b[0;32mdef\u001b[0m \u001b[0mregister_hook\u001b[0m\u001b[0;34m(\u001b[0m\u001b[0mself\u001b[0m\u001b[0;34m,\u001b[0m \u001b[0mhook\u001b[0m\u001b[0;34m)\u001b[0m\u001b[0;34m:\u001b[0m\u001b[0;34m\u001b[0m\u001b[0;34m\u001b[0m\u001b[0m\n",
            "\u001b[0;32m/usr/local/lib/python3.7/dist-packages/torch/autograd/__init__.py\u001b[0m in \u001b[0;36mbackward\u001b[0;34m(tensors, grad_tensors, retain_graph, create_graph, grad_variables, inputs)\u001b[0m\n\u001b[1;32m    145\u001b[0m     Variable._execution_engine.run_backward(\n\u001b[1;32m    146\u001b[0m         \u001b[0mtensors\u001b[0m\u001b[0;34m,\u001b[0m \u001b[0mgrad_tensors_\u001b[0m\u001b[0;34m,\u001b[0m \u001b[0mretain_graph\u001b[0m\u001b[0;34m,\u001b[0m \u001b[0mcreate_graph\u001b[0m\u001b[0;34m,\u001b[0m \u001b[0minputs\u001b[0m\u001b[0;34m,\u001b[0m\u001b[0;34m\u001b[0m\u001b[0;34m\u001b[0m\u001b[0m\n\u001b[0;32m--> 147\u001b[0;31m         allow_unreachable=True, accumulate_grad=True)  # allow_unreachable flag\n\u001b[0m\u001b[1;32m    148\u001b[0m \u001b[0;34m\u001b[0m\u001b[0m\n\u001b[1;32m    149\u001b[0m \u001b[0;34m\u001b[0m\u001b[0m\n",
            "\u001b[0;31mKeyboardInterrupt\u001b[0m: "
          ]
        }
      ]
    },
    {
      "cell_type": "code",
      "metadata": {
        "colab": {
          "base_uri": "https://localhost:8080/"
        },
        "id": "W8it-uzGT-yj",
        "outputId": "8d32fda1-77cd-4c51-e8b8-7b2ccd72c06b"
      },
      "source": [
        "# oversampling 5\n",
        "train_conf_matrix "
      ],
      "execution_count": null,
      "outputs": [
        {
          "output_type": "execute_result",
          "data": {
            "text/plain": [
              "array([[614,  76],\n",
              "       [ 85,  50]])"
            ]
          },
          "metadata": {
            "tags": []
          },
          "execution_count": 95
        }
      ]
    },
    {
      "cell_type": "code",
      "metadata": {
        "colab": {
          "base_uri": "https://localhost:8080/"
        },
        "id": "1dwVQjh9UB13",
        "outputId": "74f61e08-1286-43a1-9e65-e7f5a3d4f4ed"
      },
      "source": [
        "# oversampling 5\n",
        "val_conf_matrix"
      ],
      "execution_count": null,
      "outputs": [
        {
          "output_type": "execute_result",
          "data": {
            "text/plain": [
              "array([[272,   6],\n",
              "       [ 93,   1]])"
            ]
          },
          "metadata": {
            "tags": []
          },
          "execution_count": 96
        }
      ]
    },
    {
      "cell_type": "code",
      "metadata": {
        "colab": {
          "base_uri": "https://localhost:8080/"
        },
        "id": "6E22JXRLTIaN",
        "outputId": "8312ddeb-e20d-43b7-bb49-dda2e44fd997"
      },
      "source": [
        "plot_acc_loss(val_accuracy,loss_values)"
      ],
      "execution_count": null,
      "outputs": [
        {
          "output_type": "display_data",
          "data": {
            "image/png": "[encoded data removed]",
            "text/plain": [
              "<Figure size 432x288 with 2 Axes>"
            ]
          },
          "metadata": {
            "tags": [],
            "needs_background": "light"
          }
        }
      ]
    },
    {
      "cell_type": "markdown",
      "metadata": {
        "id": "4oth3ltJUTTN"
      },
      "source": [
        "## Validation"
      ]
    },
    {
      "cell_type": "code",
      "metadata": {
        "id": "fToY73Tz9fOD"
      },
      "source": [
        "device = torch.device(\"cuda:0\" if torch.cuda.is_available() else \"cpu\")\n",
        "def bertpredict(model,inputs,masks):\n",
        "    bert_pred = model(inputs.to(device),\n",
        "              token_type_ids=None,\n",
        "              attention_mask=masks.to(device))[0].detach().cpu().numpy()\n",
        "    bertpred_class = np.argmax(bert_pred,axis=1).flatten()\n",
        "    return bertpred_class"
      ],
      "execution_count": null,
      "outputs": []
    },
    {
      "cell_type": "code",
      "metadata": {
        "id": "foISRd-xTTGh"
      },
      "source": [
        "bert = torch.load(save_model)\n",
        "\n",
        "result = bertpredict(bert, validation_inputs, validation_masks)\n",
        "binary_eval(validation_labels,result)"
      ],
      "execution_count": null,
      "outputs": []
    }
  ]
}